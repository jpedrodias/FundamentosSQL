{
  "cells": [
    {
      "cell_type": "markdown",
      "metadata": {
        "id": "fqFbOq6Q-qrD"
      },
      "source": [
        "# 1 - Configuração do ambiente e base de dados de desenvolvimento"
      ]
    },
    {
      "cell_type": "markdown",
      "metadata": {
        "id": "e2Jnb1_xs870"
      },
      "source": [
        "* Instalação do módulo jupysql"
      ]
    },
    {
      "cell_type": "code",
      "execution_count": null,
      "metadata": {
        "colab": {
          "base_uri": "https://localhost:8080/"
        },
        "collapsed": true,
        "id": "Z4-uEGpAAMki",
        "outputId": "67724b88-d688-4e10-a79d-1fb00fbb1331"
      },
      "outputs": [
        {
          "name": "stdout",
          "output_type": "stream",
          "text": [
            "Collecting jupysql\n",
            "  Downloading jupysql-0.11.1-py3-none-any.whl.metadata (5.9 kB)\n",
            "Requirement already satisfied: prettytable>=3.12.0 in /usr/local/lib/python3.11/dist-packages (from jupysql) (3.16.0)\n",
            "Requirement already satisfied: sqlalchemy in /usr/local/lib/python3.11/dist-packages (from jupysql) (2.0.41)\n",
            "Requirement already satisfied: sqlparse in /usr/local/lib/python3.11/dist-packages (from jupysql) (0.5.3)\n",
            "Requirement already satisfied: ipython-genutils>=0.1.0 in /usr/local/lib/python3.11/dist-packages (from jupysql) (0.2.0)\n",
            "Requirement already satisfied: jinja2 in /usr/local/lib/python3.11/dist-packages (from jupysql) (3.1.6)\n",
            "Requirement already satisfied: sqlglot>=11.3.7 in /usr/local/lib/python3.11/dist-packages (from jupysql) (25.20.2)\n",
            "Collecting jupysql-plugin>=0.4.2 (from jupysql)\n",
            "  Downloading jupysql_plugin-0.4.5-py3-none-any.whl.metadata (7.8 kB)\n",
            "Collecting ploomber-core>=0.2.7 (from jupysql)\n",
            "  Downloading ploomber_core-0.2.26-py3-none-any.whl.metadata (527 bytes)\n",
            "Requirement already satisfied: pyyaml in /usr/local/lib/python3.11/dist-packages (from ploomber-core>=0.2.7->jupysql) (6.0.2)\n",
            "Collecting posthog (from ploomber-core>=0.2.7->jupysql)\n",
            "  Downloading posthog-5.0.0-py3-none-any.whl.metadata (4.9 kB)\n",
            "Requirement already satisfied: wcwidth in /usr/local/lib/python3.11/dist-packages (from prettytable>=3.12.0->jupysql) (0.2.13)\n",
            "Requirement already satisfied: MarkupSafe>=2.0 in /usr/local/lib/python3.11/dist-packages (from jinja2->jupysql) (3.0.2)\n",
            "Requirement already satisfied: greenlet>=1 in /usr/local/lib/python3.11/dist-packages (from sqlalchemy->jupysql) (3.2.3)\n",
            "Requirement already satisfied: typing-extensions>=4.6.0 in /usr/local/lib/python3.11/dist-packages (from sqlalchemy->jupysql) (4.14.0)\n",
            "Requirement already satisfied: requests<3.0,>=2.7 in /usr/local/lib/python3.11/dist-packages (from posthog->ploomber-core>=0.2.7->jupysql) (2.32.3)\n",
            "Requirement already satisfied: six>=1.5 in /usr/local/lib/python3.11/dist-packages (from posthog->ploomber-core>=0.2.7->jupysql) (1.17.0)\n",
            "Requirement already satisfied: python-dateutil>=2.2 in /usr/local/lib/python3.11/dist-packages (from posthog->ploomber-core>=0.2.7->jupysql) (2.9.0.post0)\n",
            "Collecting backoff>=1.10.0 (from posthog->ploomber-core>=0.2.7->jupysql)\n",
            "  Downloading backoff-2.2.1-py3-none-any.whl.metadata (14 kB)\n",
            "Requirement already satisfied: distro>=1.5.0 in /usr/local/lib/python3.11/dist-packages (from posthog->ploomber-core>=0.2.7->jupysql) (1.9.0)\n",
            "Requirement already satisfied: charset-normalizer<4,>=2 in /usr/local/lib/python3.11/dist-packages (from requests<3.0,>=2.7->posthog->ploomber-core>=0.2.7->jupysql) (3.4.2)\n",
            "Requirement already satisfied: idna<4,>=2.5 in /usr/local/lib/python3.11/dist-packages (from requests<3.0,>=2.7->posthog->ploomber-core>=0.2.7->jupysql) (3.10)\n",
            "Requirement already satisfied: urllib3<3,>=1.21.1 in /usr/local/lib/python3.11/dist-packages (from requests<3.0,>=2.7->posthog->ploomber-core>=0.2.7->jupysql) (2.4.0)\n",
            "Requirement already satisfied: certifi>=2017.4.17 in /usr/local/lib/python3.11/dist-packages (from requests<3.0,>=2.7->posthog->ploomber-core>=0.2.7->jupysql) (2025.4.26)\n",
            "Downloading jupysql-0.11.1-py3-none-any.whl (95 kB)\n",
            "\u001b[2K   \u001b[90m━━━━━━━━━━━━━━━━━━━━━━━━━━━━━━━━━━━━━━━━\u001b[0m \u001b[32m95.1/95.1 kB\u001b[0m \u001b[31m2.5 MB/s\u001b[0m eta \u001b[36m0:00:00\u001b[0m\n",
            "\u001b[?25hDownloading jupysql_plugin-0.4.5-py3-none-any.whl (192 kB)\n",
            "\u001b[2K   \u001b[90m━━━━━━━━━━━━━━━━━━━━━━━━━━━━━━━━━━━━━━━━\u001b[0m \u001b[32m192.8/192.8 kB\u001b[0m \u001b[31m7.3 MB/s\u001b[0m eta \u001b[36m0:00:00\u001b[0m\n",
            "\u001b[?25hDownloading ploomber_core-0.2.26-py3-none-any.whl (22 kB)\n",
            "Downloading posthog-5.0.0-py3-none-any.whl (100 kB)\n",
            "\u001b[2K   \u001b[90m━━━━━━━━━━━━━━━━━━━━━━━━━━━━━━━━━━━━━━━━\u001b[0m \u001b[32m100.0/100.0 kB\u001b[0m \u001b[31m5.3 MB/s\u001b[0m eta \u001b[36m0:00:00\u001b[0m\n",
            "\u001b[?25hDownloading backoff-2.2.1-py3-none-any.whl (15 kB)\n",
            "Installing collected packages: backoff, posthog, ploomber-core, jupysql-plugin, jupysql\n",
            "Successfully installed backoff-2.2.1 jupysql-0.11.1 jupysql-plugin-0.4.5 ploomber-core-0.2.26 posthog-5.0.0\n"
          ]
        }
      ],
      "source": [
        "!pip install jupysql"
      ]
    },
    {
      "cell_type": "markdown",
      "metadata": {
        "id": "5XHl3GjcszS8"
      },
      "source": [
        "* Carregamento da extensão *sql*  "
      ]
    },
    {
      "cell_type": "code",
      "execution_count": null,
      "metadata": {
        "id": "oxp5rVxFAyo4"
      },
      "outputs": [],
      "source": [
        "%load_ext sql"
      ]
    },
    {
      "cell_type": "markdown",
      "metadata": {
        "id": "ojJ3fxWdYDL3"
      },
      "source": [
        "* Conexão à base base de dados(se não existir é criada):\n",
        "\n"
      ]
    },
    {
      "cell_type": "code",
      "execution_count": null,
      "metadata": {
        "colab": {
          "base_uri": "https://localhost:8080/",
          "height": 34
        },
        "id": "SJU7WWKMA-Uc",
        "outputId": "3f402088-6b3d-4ed5-e909-14996e26568c"
      },
      "outputs": [
        {
          "data": {
            "text/html": [
              "<span style=\"None\">Connecting to &#x27;sqlite:///Minha_BD_Testes.db&#x27;</span>"
            ],
            "text/plain": [
              "Connecting to 'sqlite:///Minha_BD_Testes.db'"
            ]
          },
          "metadata": {},
          "output_type": "display_data"
        }
      ],
      "source": [
        "%sql sqlite:///Minha_BD_Testes.db"
      ]
    },
    {
      "cell_type": "markdown",
      "metadata": {
        "id": "sfZRWidXPJP_"
      },
      "source": [
        "* Configurações"
      ]
    },
    {
      "cell_type": "code",
      "execution_count": null,
      "metadata": {
        "id": "FuSzgf4aPJcA"
      },
      "outputs": [],
      "source": [
        "%config SqlMagic.displaylimit = None\n",
        "%sql PRAGMA foreign_keys = ON"
      ]
    },
    {
      "cell_type": "markdown",
      "metadata": {
        "id": "dV7zMAeoFcMs"
      },
      "source": [
        "# 2 - Implementação do modelo de dados"
      ]
    },
    {
      "cell_type": "markdown",
      "metadata": {
        "id": "2w0rvmgAGQm_"
      },
      "source": [
        "## Tabela *Produtos*"
      ]
    },
    {
      "cell_type": "markdown",
      "metadata": {
        "id": "CJRfYGvfN0rY"
      },
      "source": [
        "\n",
        "a) Definição da tabela \"Clientes\"\n",
        "  \n",
        "*%%sql  \n",
        "CREATE TABLE IF NOT EXISTS produtos (  \n",
        "    id INTEGER PRIMARY KEY,  \n",
        "    nome TEXT ,  \n",
        "    preco REAL,  \n",
        "    unidades INTEGER  \n",
        ");*  \n",
        "  \n",
        "*DROP TABLE IF EXISTS produtos;*  \n",
        "\n",
        "No SQLite, o tipo TEXT pode armazenar até 2^31 - 1 bytes, ou seja, 2.147.483. 647 bytes (aproximadamente 2 GB) de dados.  "
      ]
    },
    {
      "cell_type": "markdown",
      "metadata": {
        "id": "NVG4pBCkn-cD"
      },
      "source": [
        "b) Verificar se a tabela existe na base de dados  \n",
        "  *SELECT name FROM sqlite_master WHERE type=\"produtos\";*    "
      ]
    },
    {
      "cell_type": "markdown",
      "metadata": {
        "id": "pcff0oNQcKOX"
      },
      "source": [
        "c) Popular a tabela \"Produtos\"(através da instrução *DML insert*)  \n",
        "*INSERT INTO produtos (id,nome, preco, unidades) VALUES (1,'Notebook', 3500.00, 10);  \n",
        "INSERT INTO produtos (id,nome, preco, unidades) VALUES (2,'Smartphone', 2500.00, 20);  \n",
        "INSERT INTO produtos (id,nome, preco, unidades) VALUES (3,'Mouse', 50.00, 100);  \n",
        "INSERT INTO produtos (id,nome, preco, unidades) VALUES (4,'Teclado', 120.00, 50);*  "
      ]
    },
    {
      "cell_type": "code",
      "execution_count": null,
      "metadata": {
        "colab": {
          "base_uri": "https://localhost:8080/",
          "height": 34
        },
        "id": "bbeCSNXufw4B",
        "outputId": "dc43be8b-bcd3-4a15-cec7-32393cdc96dc"
      },
      "outputs": [
        {
          "data": {
            "text/html": [
              "<span style=\"None\">Running query in &#x27;sqlite:///Minha_BD_Testes.db&#x27;</span>"
            ],
            "text/plain": [
              "Running query in 'sqlite:///Minha_BD_Testes.db'"
            ]
          },
          "metadata": {},
          "output_type": "display_data"
        },
        {
          "data": {
            "text/html": [
              "<table>\n",
              "    <thead>\n",
              "        <tr>\n",
              "        </tr>\n",
              "    </thead>\n",
              "    <tbody>\n",
              "    </tbody>\n",
              "</table>"
            ],
            "text/plain": [
              "++\n",
              "||\n",
              "++\n",
              "++"
            ]
          },
          "execution_count": 4,
          "metadata": {},
          "output_type": "execute_result"
        }
      ],
      "source": [
        "%%sql\n",
        "CREATE TABLE produtos (\n",
        "numero INTEGER,\n",
        "nome text ,\n",
        "preco real,\n",
        "unidades INteger\n",
        ")"
      ]
    },
    {
      "cell_type": "code",
      "execution_count": null,
      "metadata": {
        "colab": {
          "base_uri": "https://localhost:8080/",
          "height": 104
        },
        "id": "YsYFyJvDl6vF",
        "outputId": "0ba2a9d2-c168-4b10-cf02-153cea039b96"
      },
      "outputs": [
        {
          "data": {
            "text/html": [
              "<span style=\"None\">Running query in &#x27;sqlite:///Minha_BD_Testes.db&#x27;</span>"
            ],
            "text/plain": [
              "Running query in 'sqlite:///Minha_BD_Testes.db'"
            ]
          },
          "metadata": {},
          "output_type": "display_data"
        },
        {
          "data": {
            "text/html": [
              "<span style=\"color: green\">1 rows affected.</span>"
            ],
            "text/plain": [
              "1 rows affected."
            ]
          },
          "metadata": {},
          "output_type": "display_data"
        },
        {
          "data": {
            "text/html": [
              "<span style=\"color: green\">1 rows affected.</span>"
            ],
            "text/plain": [
              "1 rows affected."
            ]
          },
          "metadata": {},
          "output_type": "display_data"
        },
        {
          "data": {
            "text/html": [
              "<span style=\"color: green\">1 rows affected.</span>"
            ],
            "text/plain": [
              "1 rows affected."
            ]
          },
          "metadata": {},
          "output_type": "display_data"
        },
        {
          "data": {
            "text/html": [
              "<span style=\"color: green\">1 rows affected.</span>"
            ],
            "text/plain": [
              "1 rows affected."
            ]
          },
          "metadata": {},
          "output_type": "display_data"
        },
        {
          "data": {
            "text/html": [
              "<table>\n",
              "    <thead>\n",
              "        <tr>\n",
              "        </tr>\n",
              "    </thead>\n",
              "    <tbody>\n",
              "    </tbody>\n",
              "</table>"
            ],
            "text/plain": [
              "++\n",
              "||\n",
              "++\n",
              "++"
            ]
          },
          "execution_count": 8,
          "metadata": {},
          "output_type": "execute_result"
        }
      ],
      "source": [
        "%%sql\n",
        "INSERT INTO produtos (numero,nome, preco, unidades) VALUES (1,'Notebook',     3500.00, 10);\n",
        "INSERT INTO produtos (numero,nome, preco, unidades) VALUES (2,'Smartphone',   2500.00, 20);\n",
        "INSERT INTO produtos (numero,nome, preco, unidades) VALUES (3,'Mouse',          50.00, 100);\n",
        "INSERT INTO produtos (numero,nome, preco, unidades) VALUES (4,'Teclado',       120.00, 50);\n",
        "\n",
        "INSERT INTO produtos (numero,nome, preco, unidades) VALUES (5,'HardDosk SSS',     160,   0);\n",
        "INSERT INTO produtos (numero,nome, preco, unidades) VALUES (6,'SmartWatch',      null, 120);\n",
        "INSERT INTO produtos (numero,nome, preco, unidades) VALUES (7,'Monitor Y-Ultra',  480, 210);\n",
        "INSERT INTO produtos (numero, preco, unidades) VALUES (8, 780, 520);"
      ]
    },
    {
      "cell_type": "markdown",
      "metadata": {
        "id": "FJDqZ1k3giQ_"
      },
      "source": [
        "d) Efetuar uma consulta à tabela \"Produtos\""
      ]
    },
    {
      "cell_type": "code",
      "execution_count": null,
      "metadata": {
        "colab": {
          "base_uri": "https://localhost:8080/",
          "height": 229
        },
        "id": "hQJbRrxxgrEa",
        "outputId": "74b3c0cb-4705-41da-e08e-0d4e8ba86884"
      },
      "outputs": [
        {
          "data": {
            "text/html": [
              "<span style=\"None\">Running query in &#x27;sqlite:///Minha_BD_Testes.db&#x27;</span>"
            ],
            "text/plain": [
              "Running query in 'sqlite:///Minha_BD_Testes.db'"
            ]
          },
          "metadata": {},
          "output_type": "display_data"
        },
        {
          "data": {
            "text/html": [
              "<table>\n",
              "    <thead>\n",
              "        <tr>\n",
              "            <th>numero</th>\n",
              "            <th>nome</th>\n",
              "            <th>preco</th>\n",
              "            <th>unidades</th>\n",
              "        </tr>\n",
              "    </thead>\n",
              "    <tbody>\n",
              "        <tr>\n",
              "            <td>1</td>\n",
              "            <td>Notebook</td>\n",
              "            <td>3500.0</td>\n",
              "            <td>10</td>\n",
              "        </tr>\n",
              "        <tr>\n",
              "            <td>2</td>\n",
              "            <td>Smartphone</td>\n",
              "            <td>2500.0</td>\n",
              "            <td>20</td>\n",
              "        </tr>\n",
              "        <tr>\n",
              "            <td>3</td>\n",
              "            <td>Mouse</td>\n",
              "            <td>50.0</td>\n",
              "            <td>100</td>\n",
              "        </tr>\n",
              "        <tr>\n",
              "            <td>4</td>\n",
              "            <td>Teclado</td>\n",
              "            <td>120.0</td>\n",
              "            <td>50</td>\n",
              "        </tr>\n",
              "        <tr>\n",
              "            <td>1</td>\n",
              "            <td>Notebook</td>\n",
              "            <td>3500.0</td>\n",
              "            <td>10</td>\n",
              "        </tr>\n",
              "        <tr>\n",
              "            <td>2</td>\n",
              "            <td>Smartphone</td>\n",
              "            <td>2500.0</td>\n",
              "            <td>20</td>\n",
              "        </tr>\n",
              "        <tr>\n",
              "            <td>3</td>\n",
              "            <td>Mouse</td>\n",
              "            <td>50.0</td>\n",
              "            <td>100</td>\n",
              "        </tr>\n",
              "        <tr>\n",
              "            <td>4</td>\n",
              "            <td>Teclado</td>\n",
              "            <td>120.0</td>\n",
              "            <td>50</td>\n",
              "        </tr>\n",
              "    </tbody>\n",
              "</table>"
            ],
            "text/plain": [
              "+--------+------------+--------+----------+\n",
              "| numero |    nome    | preco  | unidades |\n",
              "+--------+------------+--------+----------+\n",
              "|   1    |  Notebook  | 3500.0 |    10    |\n",
              "|   2    | Smartphone | 2500.0 |    20    |\n",
              "|   3    |   Mouse    |  50.0  |   100    |\n",
              "|   4    |  Teclado   | 120.0  |    50    |\n",
              "|   1    |  Notebook  | 3500.0 |    10    |\n",
              "|   2    | Smartphone | 2500.0 |    20    |\n",
              "|   3    |   Mouse    |  50.0  |   100    |\n",
              "|   4    |  Teclado   | 120.0  |    50    |\n",
              "+--------+------------+--------+----------+"
            ]
          },
          "execution_count": 10,
          "metadata": {},
          "output_type": "execute_result"
        }
      ],
      "source": [
        "%%sql\n",
        "SELECT * FROM produtos"
      ]
    },
    {
      "cell_type": "markdown",
      "metadata": {
        "id": "kyMLN-Moyfbk"
      },
      "source": [
        "e) Através de uma consulta selecionar os produtos com preço igual a 50"
      ]
    },
    {
      "cell_type": "code",
      "execution_count": null,
      "metadata": {
        "colab": {
          "base_uri": "https://localhost:8080/",
          "height": 100
        },
        "id": "zAKEqmTLyy07",
        "outputId": "c7f9cd1e-7d33-415a-e4bb-2927107cc53a"
      },
      "outputs": [
        {
          "data": {
            "text/html": [
              "<span style=\"None\">Running query in &#x27;sqlite:///Minha_BD_Testes.db&#x27;</span>"
            ],
            "text/plain": [
              "Running query in 'sqlite:///Minha_BD_Testes.db'"
            ]
          },
          "metadata": {},
          "output_type": "display_data"
        },
        {
          "data": {
            "text/html": [
              "<table>\n",
              "    <thead>\n",
              "        <tr>\n",
              "            <th>numero</th>\n",
              "            <th>nome</th>\n",
              "            <th>preco</th>\n",
              "            <th>unidades</th>\n",
              "        </tr>\n",
              "    </thead>\n",
              "    <tbody>\n",
              "        <tr>\n",
              "            <td>3</td>\n",
              "            <td>Mouse</td>\n",
              "            <td>50.0</td>\n",
              "            <td>100</td>\n",
              "        </tr>\n",
              "        <tr>\n",
              "            <td>3</td>\n",
              "            <td>Mouse</td>\n",
              "            <td>50.0</td>\n",
              "            <td>100</td>\n",
              "        </tr>\n",
              "    </tbody>\n",
              "</table>"
            ],
            "text/plain": [
              "+--------+-------+-------+----------+\n",
              "| numero |  nome | preco | unidades |\n",
              "+--------+-------+-------+----------+\n",
              "|   3    | Mouse |  50.0 |   100    |\n",
              "|   3    | Mouse |  50.0 |   100    |\n",
              "+--------+-------+-------+----------+"
            ]
          },
          "execution_count": 13,
          "metadata": {},
          "output_type": "execute_result"
        }
      ],
      "source": [
        "%%sql\n",
        "SELECT *\n",
        "FROM produtos\n",
        "where preco=50"
      ]
    },
    {
      "cell_type": "markdown",
      "metadata": {
        "id": "G8rsEld6yy9N"
      },
      "source": [
        "f) Através de uma consulta selecionar os produtos com preço igual a 50 e com 100 unidades"
      ]
    },
    {
      "cell_type": "code",
      "execution_count": null,
      "metadata": {
        "colab": {
          "base_uri": "https://localhost:8080/",
          "height": 100
        },
        "id": "8rrvRTOky7Hh",
        "outputId": "46892ec2-c339-43fc-c0a7-f9831f12ef5d"
      },
      "outputs": [
        {
          "data": {
            "text/html": [
              "<span style=\"None\">Running query in &#x27;sqlite:///Minha_BD_Testes.db&#x27;</span>"
            ],
            "text/plain": [
              "Running query in 'sqlite:///Minha_BD_Testes.db'"
            ]
          },
          "metadata": {},
          "output_type": "display_data"
        },
        {
          "data": {
            "text/html": [
              "<table>\n",
              "    <thead>\n",
              "        <tr>\n",
              "            <th>numero</th>\n",
              "            <th>nome</th>\n",
              "            <th>preco</th>\n",
              "            <th>unidades</th>\n",
              "        </tr>\n",
              "    </thead>\n",
              "    <tbody>\n",
              "        <tr>\n",
              "            <td>3</td>\n",
              "            <td>Mouse</td>\n",
              "            <td>50.0</td>\n",
              "            <td>100</td>\n",
              "        </tr>\n",
              "        <tr>\n",
              "            <td>3</td>\n",
              "            <td>Mouse</td>\n",
              "            <td>50.0</td>\n",
              "            <td>100</td>\n",
              "        </tr>\n",
              "    </tbody>\n",
              "</table>"
            ],
            "text/plain": [
              "+--------+-------+-------+----------+\n",
              "| numero |  nome | preco | unidades |\n",
              "+--------+-------+-------+----------+\n",
              "|   3    | Mouse |  50.0 |   100    |\n",
              "|   3    | Mouse |  50.0 |   100    |\n",
              "+--------+-------+-------+----------+"
            ]
          },
          "execution_count": 11,
          "metadata": {},
          "output_type": "execute_result"
        }
      ],
      "source": [
        "%%sql\n",
        "SELECT *\n",
        "FROM produtos\n",
        "where preco=50\n",
        "AND unidades=100"
      ]
    },
    {
      "cell_type": "markdown",
      "metadata": {
        "id": "gj6OUhhKBwPx"
      },
      "source": [
        "g) Extrair o nome dos produtos que custam 10€, 20 € ou 50€ ?"
      ]
    },
    {
      "cell_type": "code",
      "execution_count": null,
      "metadata": {
        "id": "BmX5awp9DPKW"
      },
      "outputs": [],
      "source": []
    },
    {
      "cell_type": "markdown",
      "metadata": {
        "id": "1xUI4lCZDPVV"
      },
      "source": [
        "h) Determinar os vários preços que existem na tabela *Produtos*"
      ]
    },
    {
      "cell_type": "code",
      "execution_count": null,
      "metadata": {
        "id": "EiYiapb7D-uI"
      },
      "outputs": [],
      "source": []
    },
    {
      "cell_type": "markdown",
      "metadata": {
        "id": "zgCC_4XLD_Ht"
      },
      "source": [
        "i) Apresentar os atributos/campos: Nome e Unidades dos produtos com preço inferior a 100€ e a quantidade de unidades dísponiveis tem de ser superior a 10 e inferior a 100."
      ]
    },
    {
      "cell_type": "code",
      "execution_count": null,
      "metadata": {
        "id": "0tHqc795E4kc"
      },
      "outputs": [],
      "source": []
    },
    {
      "cell_type": "markdown",
      "metadata": {
        "id": "sIWKylIdFu7t"
      },
      "source": [
        "j) Apresentar o nome dos produtos sem preço definido"
      ]
    },
    {
      "cell_type": "code",
      "execution_count": null,
      "metadata": {
        "id": "8MqrjgsKF3OT"
      },
      "outputs": [],
      "source": []
    },
    {
      "cell_type": "markdown",
      "metadata": {
        "id": "ffRnW8izF3Wz"
      },
      "source": [
        "k) Apresentar o nome dos produtos com preço definido"
      ]
    },
    {
      "cell_type": "code",
      "execution_count": null,
      "metadata": {
        "id": "PEK5OvfVF6zP"
      },
      "outputs": [],
      "source": []
    },
    {
      "cell_type": "markdown",
      "metadata": {
        "id": "crLyzcZ2GecF"
      },
      "source": [
        "## Tabela *Produtos* com chave primária"
      ]
    },
    {
      "cell_type": "markdown",
      "metadata": {
        "id": "BkvHSfx8grrt"
      },
      "source": [
        "a) Eliminar a tabela \"Produtos\" da base de dados e recriar a tabela com as seguintes definições:     \n",
        "\n",
        "*DROP TABLE produtos;*  \n",
        "\n",
        "*CREATE TABLE IF NOT EXISTS produtos (  \n",
        "id INTEGER PRIMARY KEY AUTOINCREMENT,  \n",
        "nome TEXT NOT NULL,  \n",
        "preco REAL NOT NULL,  \n",
        "unidades INTEGER  \n",
        ");*    \n"
      ]
    },
    {
      "cell_type": "code",
      "execution_count": null,
      "metadata": {
        "id": "1cYEz5zgq1B5"
      },
      "outputs": [],
      "source": []
    },
    {
      "cell_type": "markdown",
      "metadata": {
        "id": "pSAAY8scq1Lp"
      },
      "source": [
        "b) Popular novamente a tabela \"Produtos\"  \n",
        "*INSERT INTO produtos (nome, preco, unidades) VALUES ('Notebook', 3500.00, 10);  \n",
        "INSERT INTO produtos (nome, preco, unidades) VALUES ('Smartphone', 2500.00, 20);  \n",
        "INSERT INTO produtos (nome, preco, unidades) VALUES ('Mouse', 50.00, 100);  \n",
        "INSERT INTO produtos (nome, preco, unidades) VALUES ('Teclado', 120.00, 50);  \n",
        "INSERT INTO produtos (nome, preco, unidades) VALUES ('HardDosk SSS', 160, 0);  \n",
        "INSERT INTO produtos (nome, preco, unidades) VALUES ('SmartWatch', null,120);  \n",
        "INSERT INTO produtos (nome, preco, unidades) VALUES ('Monitor Y-Ultra', 480,210);  \n",
        "INSERT INTO produtos (preco, unidades) VALUES (780, 520);*    "
      ]
    },
    {
      "cell_type": "code",
      "execution_count": null,
      "metadata": {
        "id": "0mMdJvDZIstS"
      },
      "outputs": [],
      "source": []
    },
    {
      "cell_type": "markdown",
      "metadata": {
        "id": "8V_n6FQvI7sB"
      },
      "source": [
        "## Tabela *Categorias*"
      ]
    },
    {
      "cell_type": "markdown",
      "metadata": {
        "id": "KLw-pMYPultF"
      },
      "source": [
        "a) Definir a tabela \"Categorias\"  "
      ]
    },
    {
      "cell_type": "code",
      "execution_count": null,
      "metadata": {
        "id": "0oVALrkzqr1R"
      },
      "outputs": [],
      "source": [
        "%%sql\n",
        "CREATE TABLE Categorias (\n",
        "    id_categoria INTEGER PRIMARY KEY AUTOINCREMENT,\n",
        "    nome TEXT NOT NULL\n",
        ");"
      ]
    },
    {
      "cell_type": "markdown",
      "metadata": {
        "id": "L1A4448QvZir"
      },
      "source": [
        "b) Popular a tabela \"Categorias\"     "
      ]
    },
    {
      "cell_type": "code",
      "execution_count": null,
      "metadata": {
        "id": "rdaeAVKpoLQ3"
      },
      "outputs": [],
      "source": [
        "%%sql\n",
        "INSERT INTO Categorias (nome) VALUES ('Eletrónica');\n",
        "INSERT INTO Categorias (nome) VALUES ('Roupa');\n",
        "INSERT INTO Categorias (nome) VALUES ('Calçado');\n",
        "INSERT INTO Categorias (nome) VALUES ('Móveis');\n"
      ]
    },
    {
      "cell_type": "code",
      "execution_count": null,
      "metadata": {
        "id": "Nv89Kr_seGQ_"
      },
      "outputs": [],
      "source": []
    },
    {
      "cell_type": "markdown",
      "metadata": {
        "id": "Ou6oTg3ELBoa"
      },
      "source": [
        "c) Determinar a quantidade de registos na tabela *Categorias*"
      ]
    },
    {
      "cell_type": "markdown",
      "metadata": {
        "id": "FemtIaERJjuu"
      },
      "source": [
        "## Tabela *Produtos* com chave estrangeira"
      ]
    },
    {
      "cell_type": "markdown",
      "metadata": {
        "id": "z_nAgGidgywf"
      },
      "source": [
        "a) Redefinir a tabela \"PRODUTOS\", agora com a nova coluna *ID_CATEGORIA*: chave estrangeira para \"CATEGORIA.ID_CATEGORIA\"\n",
        "\n",
        "*CREATE TABLE IF NOT EXISTS produtos (  \n",
        "id INTEGER PRIMARY KEY,  \n",
        "nome TEXT ,  \n",
        "preco REAL,  \n",
        "unidades INTEGER,  \n",
        "id_categoria INTEGER,  \n",
        "FOREIGN KEY (id_categoria) REFERENCES CATEGORIA(id_categoria)  \n",
        ");*  "
      ]
    },
    {
      "cell_type": "code",
      "execution_count": null,
      "metadata": {
        "id": "_UEJoz9en15Y"
      },
      "outputs": [],
      "source": []
    },
    {
      "cell_type": "markdown",
      "metadata": {
        "id": "rc8NR_ASnzK8"
      },
      "source": [
        "b) Popular a tabela \"PRODUTOS\" de acordo com a nova estrutura"
      ]
    },
    {
      "cell_type": "code",
      "execution_count": null,
      "metadata": {
        "id": "hSZTTY_mn0TY"
      },
      "outputs": [],
      "source": []
    },
    {
      "cell_type": "markdown",
      "metadata": {
        "id": "XTVfq4KgoAMv"
      },
      "source": [
        "c) Através de uma consulta apresentar o nome do produto e nome da categoria dos produtos com mais de 100 unidades em *stock*"
      ]
    },
    {
      "cell_type": "code",
      "execution_count": null,
      "metadata": {
        "id": "lNLq85uMoV-r"
      },
      "outputs": [],
      "source": []
    },
    {
      "cell_type": "markdown",
      "metadata": {
        "id": "D7h5oBplJywv"
      },
      "source": [
        "## Tabela *Fornecedores*"
      ]
    },
    {
      "cell_type": "markdown",
      "metadata": {
        "id": "hqxnq1YYHt8x"
      },
      "source": [
        "a) Definir a tabela \"Fornecedores\"  \n",
        "*CREATE TABLE Fornecedores (  \n",
        "    id_fornecedor INTEGER PRIMARY KEY AUTOINCREMENT,  \n",
        "    nome VARCHAR(50) NOT NULL,   \n",
        "    endereco VARCHAR(128),  \n",
        "    cidade VARCHAR(20),  \n",
        "    pais   VARCHAR(30),  \n",
        "    telefone VARCHAR(16),  \n",
        "    email VARCHAR(30)  \n",
        ");*  "
      ]
    },
    {
      "cell_type": "code",
      "execution_count": null,
      "metadata": {
        "id": "CET5tmuwKBYF"
      },
      "outputs": [],
      "source": []
    },
    {
      "cell_type": "markdown",
      "metadata": {
        "id": "UVIIm7KBHgoG"
      },
      "source": [
        "b) Popular a tabela \"Fornecedores\"  \n",
        "*INSERT INTO Fornecedores (nome, endereco, cidade, pais, telefone, email)   \n",
        "VALUES ('Tech Solutions', 'Av. Paulista, 1000', 'São Paulo', 'Brasil', '+55 11   98765-4321', 'contato@techsolutions.com');*  \n",
        "\n",
        "*INSERT INTO Fornecedores (nome, endereco, cidade, pais, telefone, email)   \n",
        "VALUES ('Global Supplies', '123 Main St', 'New York', 'EUA', '+1 212-555-7890',   'sales@globalsupplies.com');*    \n",
        "\n",
        "*INSERT INTO Fornecedores (nome, endereco, cidade, pais, telefone, email)   \n",
        "VALUES ('ElectroParts', 'Calle Mayor, 45', 'Madrid', 'Espanha', '+34 91 123   4567', 'info@electroparts.es');*    \n",
        "\n",
        "*INSERT INTO Fornecedores (nome, endereco, cidade, pais, telefone, email)   \n",
        "VALUES ('MegaCom', 'Rua das Flores, 500', 'Lisboa', 'Portugal', '+351 21 456   7890', 'support@megacom.pt');*    \n",
        "\n",
        "*INSERT INTO Fornecedores (nome, endereco, cidade, pais, telefone, email   \n",
        "VALUES ('Fast Logistics', 'Jalan Sudirman, 12', 'Jacarta', 'Indonésia', '+62 21   8765 4321', 'contact@fastlogistics.co.id');*  \n",
        "\n"
      ]
    },
    {
      "cell_type": "code",
      "execution_count": null,
      "metadata": {
        "id": "zNrshLN6Kr6H"
      },
      "outputs": [],
      "source": []
    },
    {
      "cell_type": "markdown",
      "metadata": {
        "id": "uIqIN8Mrnxwk"
      },
      "source": [
        "c) Redefinir a tabela \"PRODUTOS\", agora com a nova coluna *ID_FORNECEDOR*: chave estrangeira para \"FORNECEDORES.ID_FORNECEDOR\"  \n",
        "\n",
        "*CREATE TABLE IF NOT EXISTS produtos (  \n",
        "id INTEGER PRIMARY KEY,  \n",
        "nome TEXT ,  \n",
        "preco REAL,  \n",
        "unidades INTEGER,  \n",
        "id_categoria INTEGER,\n",
        "id_fornecedor INTEGER,  \n",
        "FOREIGN KEY (id_categoria) REFERENCES CATEGORIAS(id_categoria),  \n",
        "FOREIGN KEY (id_fornecedor) REFERENCES FORNECEDORES(id_fornecedor)    \n",
        ");*  "
      ]
    },
    {
      "cell_type": "code",
      "execution_count": null,
      "metadata": {
        "id": "ozgbdEPXoojn"
      },
      "outputs": [],
      "source": []
    },
    {
      "cell_type": "markdown",
      "metadata": {
        "id": "o6K7SfrRoyox"
      },
      "source": [
        "d) Popular a tabela \"PRODUTOS\" de acordo com a nova estrutura"
      ]
    },
    {
      "cell_type": "code",
      "execution_count": null,
      "metadata": {
        "id": "ugyfSGuKo0F6"
      },
      "outputs": [],
      "source": []
    },
    {
      "cell_type": "markdown",
      "metadata": {
        "id": "-Al7T70Qo0P6"
      },
      "source": [
        "e) Através de uma consulta apresentar o nome do produto e nome do fornecedor dos produtos em que o fornecedor reside na Indonésia"
      ]
    },
    {
      "cell_type": "code",
      "execution_count": null,
      "metadata": {
        "id": "jPh7F_q7pIHG"
      },
      "outputs": [],
      "source": []
    },
    {
      "cell_type": "code",
      "execution_count": null,
      "metadata": {
        "id": "qWN2WAM8H_pM"
      },
      "outputs": [],
      "source": []
    },
    {
      "cell_type": "markdown",
      "metadata": {
        "id": "v5fL_2SJH_8I"
      },
      "source": [
        "f) Através de uma consulta selecionar os fornecedores residentes na Espanha"
      ]
    },
    {
      "cell_type": "code",
      "execution_count": null,
      "metadata": {
        "id": "UEPubOl-IAUX"
      },
      "outputs": [],
      "source": []
    },
    {
      "cell_type": "markdown",
      "metadata": {
        "id": "hr1DByB_IDvj"
      },
      "source": [
        "g) Através de uma consulta selecionar os fornecedores residentes na Espanha e em Madrid"
      ]
    },
    {
      "cell_type": "code",
      "execution_count": null,
      "metadata": {
        "id": "OVkjtpwHIEDc"
      },
      "outputs": [],
      "source": []
    }
  ],
  "metadata": {
    "colab": {
      "provenance": []
    },
    "kernelspec": {
      "display_name": "Python 3",
      "name": "python3"
    },
    "language_info": {
      "name": "python"
    }
  },
  "nbformat": 4,
  "nbformat_minor": 0
}
