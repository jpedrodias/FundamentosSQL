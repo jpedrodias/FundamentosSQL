{
  "cells": [
    {
      "cell_type": "markdown",
      "metadata": {
        "id": "fqFbOq6Q-qrD"
      },
      "source": [
        "# 1 - Configuração do ambiente e base de dados de desenvolvimento"
      ]
    },
    {
      "cell_type": "markdown",
      "metadata": {
        "id": "e2Jnb1_xs870"
      },
      "source": [
        "* Instalação do módulo jupysql"
      ]
    },
    {
      "cell_type": "code",
      "execution_count": null,
      "metadata": {
        "colab": {
          "base_uri": "https://localhost:8080/"
        },
        "collapsed": true,
        "id": "Z4-uEGpAAMki",
        "outputId": "67724b88-d688-4e10-a79d-1fb00fbb1331"
      },
      "outputs": [],
      "source": [
        "INSTALL = False\n",
        "if INSTALL:\n",
        "    !pip install jupysql"
      ]
    },
    {
      "cell_type": "markdown",
      "metadata": {
        "id": "5XHl3GjcszS8"
      },
      "source": [
        "* Carregamento da extensão *sql*"
      ]
    },
    {
      "cell_type": "code",
      "execution_count": 47,
      "metadata": {
        "id": "oxp5rVxFAyo4"
      },
      "outputs": [
        {
          "name": "stdout",
          "output_type": "stream",
          "text": [
            "The sql extension is already loaded. To reload it, use:\n",
            "  %reload_ext sql\n"
          ]
        }
      ],
      "source": [
        "%load_ext sql"
      ]
    },
    {
      "cell_type": "markdown",
      "metadata": {
        "id": "ojJ3fxWdYDL3"
      },
      "source": [
        "* Conexão à base base de dados(se não existir é criada):\n",
        "\n"
      ]
    },
    {
      "cell_type": "code",
      "execution_count": 3,
      "metadata": {
        "colab": {
          "base_uri": "https://localhost:8080/",
          "height": 34
        },
        "id": "SJU7WWKMA-Uc",
        "outputId": "3f402088-6b3d-4ed5-e909-14996e26568c"
      },
      "outputs": [
        {
          "data": {
            "text/html": [
              "<span style=\"None\">Connecting to &#x27;sqlite:///Exercicio_Produtos.sqlite&#x27;</span>"
            ],
            "text/plain": [
              "Connecting to 'sqlite:///Exercicio_Produtos.sqlite'"
            ]
          },
          "metadata": {},
          "output_type": "display_data"
        }
      ],
      "source": [
        "%sql sqlite:///Exercicio_Produtos.sqlite"
      ]
    },
    {
      "cell_type": "markdown",
      "metadata": {},
      "source": [
        "* Configurações"
      ]
    },
    {
      "cell_type": "code",
      "execution_count": 46,
      "metadata": {},
      "outputs": [
        {
          "data": {
            "text/html": [
              "<span style=\"None\">displaylimit: Value None will be treated as 0 (no limit)</span>"
            ],
            "text/plain": [
              "displaylimit: Value None will be treated as 0 (no limit)"
            ]
          },
          "metadata": {},
          "output_type": "display_data"
        },
        {
          "data": {
            "text/html": [
              "<span style=\"None\">Running query in &#x27;sqlite:///Exercicio_Produtos.sqlite&#x27;</span>"
            ],
            "text/plain": [
              "Running query in 'sqlite:///Exercicio_Produtos.sqlite'"
            ]
          },
          "metadata": {},
          "output_type": "display_data"
        },
        {
          "data": {
            "text/html": [
              "<table>\n",
              "    <thead>\n",
              "        <tr>\n",
              "        </tr>\n",
              "    </thead>\n",
              "    <tbody>\n",
              "    </tbody>\n",
              "</table>"
            ],
            "text/plain": [
              "++\n",
              "||\n",
              "++\n",
              "++"
            ]
          },
          "execution_count": 46,
          "metadata": {},
          "output_type": "execute_result"
        }
      ],
      "source": [
        "%config SqlMagic.displaylimit = None\n",
        "%sql PRAGMA foreign_keys = ON"
      ]
    },
    {
      "cell_type": "markdown",
      "metadata": {
        "id": "dV7zMAeoFcMs"
      },
      "source": [
        "# 2 - Implementação do modelo de dados"
      ]
    },
    {
      "cell_type": "markdown",
      "metadata": {},
      "source": [
        "## Tabela *Produtos*"
      ]
    },
    {
      "cell_type": "markdown",
      "metadata": {
        "id": "CJRfYGvfN0rY"
      },
      "source": [
        "\n",
        "a) Definição da tabela `produtos`\n",
        "\n",
        "\n",
        "```sql\n",
        "DROP TABLE IF EXISTS produtos;\n",
        "```\n",
        "\n",
        "\n",
        "```sql  \n",
        "CREATE TABLE IF NOT EXISTS produtos (  \n",
        "    id INTEGER PRIMARY KEY,  \n",
        "    nome TEXT ,  \n",
        "    preco REAL,  \n",
        "    unidades INTEGER  \n",
        ");\n",
        "```\n",
        "\n",
        "No SQLite, o tipo TEXT pode armazenar até 2^31 - 1 bytes, ou seja, 2.147.483. 647 bytes (aproximadamente 2 GB) de dados.  "
      ]
    },
    {
      "cell_type": "markdown",
      "metadata": {
        "id": "NVG4pBCkn-cD"
      },
      "source": [
        "b) Verificar se a tabela existe na base de dados  \n",
        "```sql\n",
        "SELECT name FROM sqlite_master WHERE type=\"produtos\";\n",
        "```  "
      ]
    },
    {
      "cell_type": "markdown",
      "metadata": {
        "id": "pcff0oNQcKOX"
      },
      "source": [
        "c) Popular a tabela `produtos` (através da instrução *DML insert*)  \n",
        "\n",
        "```sql\n",
        "INSERT INTO produtos (numero,nome, preco, unidades) VALUES (1,'Notebook',     3500.00, 10);\n",
        "INSERT INTO produtos (numero,nome, preco, unidades) VALUES (2,'Smartphone',   2500.00, 20);\n",
        "INSERT INTO produtos (numero,nome, preco, unidades) VALUES (3,'Mouse',          50.00, 100);\n",
        "INSERT INTO produtos (numero,nome, preco, unidades) VALUES (4,'Teclado',       120.00, 50);\n",
        "\n",
        "INSERT INTO produtos (numero,nome, preco, unidades) VALUES (5,'HardDosk SSS',     160,   0);\n",
        "INSERT INTO produtos (numero,nome, preco, unidades) VALUES (6,'SmartWatch',      null, 120);\n",
        "INSERT INTO produtos (numero,nome, preco, unidades) VALUES (7,'Monitor Y-Ultra',  480, 210);\n",
        "INSERT INTO produtos (numero, preco, unidades)      VALUES (8, 780, 520);\n",
        "```"
      ]
    },
    {
      "cell_type": "code",
      "execution_count": 5,
      "metadata": {},
      "outputs": [
        {
          "data": {
            "text/html": [
              "<span style=\"None\">Running query in &#x27;sqlite:///Exercicio_Produtos.sqlite&#x27;</span>"
            ],
            "text/plain": [
              "Running query in 'sqlite:///Exercicio_Produtos.sqlite'"
            ]
          },
          "metadata": {},
          "output_type": "display_data"
        },
        {
          "data": {
            "text/html": [
              "<table>\n",
              "    <thead>\n",
              "        <tr>\n",
              "        </tr>\n",
              "    </thead>\n",
              "    <tbody>\n",
              "    </tbody>\n",
              "</table>"
            ],
            "text/plain": [
              "++\n",
              "||\n",
              "++\n",
              "++"
            ]
          },
          "execution_count": 5,
          "metadata": {},
          "output_type": "execute_result"
        }
      ],
      "source": [
        "%%sql\n",
        "DROP TABLE IF EXISTS produtos;"
      ]
    },
    {
      "cell_type": "code",
      "execution_count": 6,
      "metadata": {
        "colab": {
          "base_uri": "https://localhost:8080/",
          "height": 34
        },
        "id": "bbeCSNXufw4B",
        "outputId": "dc43be8b-bcd3-4a15-cec7-32393cdc96dc"
      },
      "outputs": [
        {
          "data": {
            "text/html": [
              "<span style=\"None\">Running query in &#x27;sqlite:///Exercicio_Produtos.sqlite&#x27;</span>"
            ],
            "text/plain": [
              "Running query in 'sqlite:///Exercicio_Produtos.sqlite'"
            ]
          },
          "metadata": {},
          "output_type": "display_data"
        },
        {
          "data": {
            "text/html": [
              "<table>\n",
              "    <thead>\n",
              "        <tr>\n",
              "        </tr>\n",
              "    </thead>\n",
              "    <tbody>\n",
              "    </tbody>\n",
              "</table>"
            ],
            "text/plain": [
              "++\n",
              "||\n",
              "++\n",
              "++"
            ]
          },
          "execution_count": 6,
          "metadata": {},
          "output_type": "execute_result"
        }
      ],
      "source": [
        "%%sql\n",
        "CREATE TABLE produtos (\n",
        "    numero INTEGER,\n",
        "    nome text ,\n",
        "    preco real,\n",
        "    unidades INteger\n",
        ")"
      ]
    },
    {
      "cell_type": "code",
      "execution_count": 7,
      "metadata": {
        "colab": {
          "base_uri": "https://localhost:8080/",
          "height": 104
        },
        "id": "YsYFyJvDl6vF",
        "outputId": "0ee3d6c7-bb33-4a6c-9682-0a1b607b5581"
      },
      "outputs": [
        {
          "data": {
            "text/html": [
              "<span style=\"None\">Running query in &#x27;sqlite:///Exercicio_Produtos.sqlite&#x27;</span>"
            ],
            "text/plain": [
              "Running query in 'sqlite:///Exercicio_Produtos.sqlite'"
            ]
          },
          "metadata": {},
          "output_type": "display_data"
        },
        {
          "data": {
            "text/html": [
              "<span style=\"color: green\">1 rows affected.</span>"
            ],
            "text/plain": [
              "1 rows affected."
            ]
          },
          "metadata": {},
          "output_type": "display_data"
        },
        {
          "data": {
            "text/html": [
              "<span style=\"color: green\">1 rows affected.</span>"
            ],
            "text/plain": [
              "1 rows affected."
            ]
          },
          "metadata": {},
          "output_type": "display_data"
        },
        {
          "data": {
            "text/html": [
              "<span style=\"color: green\">1 rows affected.</span>"
            ],
            "text/plain": [
              "1 rows affected."
            ]
          },
          "metadata": {},
          "output_type": "display_data"
        },
        {
          "data": {
            "text/html": [
              "<span style=\"color: green\">1 rows affected.</span>"
            ],
            "text/plain": [
              "1 rows affected."
            ]
          },
          "metadata": {},
          "output_type": "display_data"
        },
        {
          "data": {
            "text/html": [
              "<span style=\"color: green\">1 rows affected.</span>"
            ],
            "text/plain": [
              "1 rows affected."
            ]
          },
          "metadata": {},
          "output_type": "display_data"
        },
        {
          "data": {
            "text/html": [
              "<span style=\"color: green\">1 rows affected.</span>"
            ],
            "text/plain": [
              "1 rows affected."
            ]
          },
          "metadata": {},
          "output_type": "display_data"
        },
        {
          "data": {
            "text/html": [
              "<span style=\"color: green\">1 rows affected.</span>"
            ],
            "text/plain": [
              "1 rows affected."
            ]
          },
          "metadata": {},
          "output_type": "display_data"
        },
        {
          "data": {
            "text/html": [
              "<span style=\"color: green\">1 rows affected.</span>"
            ],
            "text/plain": [
              "1 rows affected."
            ]
          },
          "metadata": {},
          "output_type": "display_data"
        },
        {
          "data": {
            "text/html": [
              "<table>\n",
              "    <thead>\n",
              "        <tr>\n",
              "        </tr>\n",
              "    </thead>\n",
              "    <tbody>\n",
              "    </tbody>\n",
              "</table>"
            ],
            "text/plain": [
              "++\n",
              "||\n",
              "++\n",
              "++"
            ]
          },
          "execution_count": 7,
          "metadata": {},
          "output_type": "execute_result"
        }
      ],
      "source": [
        "%%sql\n",
        "INSERT INTO produtos (numero,nome, preco, unidades) VALUES (1,'Notebook', 3500.00, 10);\n",
        "INSERT INTO produtos (numero,nome, preco, unidades) VALUES (2,'Smartphone', 2500.00, 20);\n",
        "INSERT INTO produtos (numero,nome, preco, unidades) VALUES (3,'Mouse', 50.00, 100);\n",
        "INSERT INTO produtos (numero,nome, preco, unidades) VALUES (4,'Teclado', 120.00, 50);\n",
        "\n",
        "INSERT INTO produtos (numero,nome, preco, unidades) VALUES (5,'HardDosk SSS', 160, 0);\n",
        "INSERT INTO produtos (numero,nome, preco, unidades) VALUES (6,'SmartWatch', null,120);\n",
        "INSERT INTO produtos (numero,nome, preco, unidades) VALUES (7,'Monitor Y-Ultra', 480, 210);\n",
        "INSERT INTO produtos (numero, preco, unidades) VALUES (8, 780, 520);\n"
      ]
    },
    {
      "cell_type": "markdown",
      "metadata": {
        "id": "FJDqZ1k3giQ_"
      },
      "source": [
        "d) Efetuar uma consulta à tabela `produtos`"
      ]
    },
    {
      "cell_type": "code",
      "execution_count": 8,
      "metadata": {
        "colab": {
          "base_uri": "https://localhost:8080/",
          "height": 143
        },
        "id": "hQJbRrxxgrEa",
        "outputId": "308aad27-c925-4914-d6bb-fbf222de96f9"
      },
      "outputs": [
        {
          "data": {
            "text/html": [
              "<span style=\"None\">Running query in &#x27;sqlite:///Exercicio_Produtos.sqlite&#x27;</span>"
            ],
            "text/plain": [
              "Running query in 'sqlite:///Exercicio_Produtos.sqlite'"
            ]
          },
          "metadata": {},
          "output_type": "display_data"
        },
        {
          "data": {
            "text/html": [
              "<table>\n",
              "    <thead>\n",
              "        <tr>\n",
              "            <th>numero</th>\n",
              "            <th>nome</th>\n",
              "            <th>preco</th>\n",
              "            <th>unidades</th>\n",
              "        </tr>\n",
              "    </thead>\n",
              "    <tbody>\n",
              "        <tr>\n",
              "            <td>1</td>\n",
              "            <td>Notebook</td>\n",
              "            <td>3500.0</td>\n",
              "            <td>10</td>\n",
              "        </tr>\n",
              "        <tr>\n",
              "            <td>2</td>\n",
              "            <td>Smartphone</td>\n",
              "            <td>2500.0</td>\n",
              "            <td>20</td>\n",
              "        </tr>\n",
              "        <tr>\n",
              "            <td>3</td>\n",
              "            <td>Mouse</td>\n",
              "            <td>50.0</td>\n",
              "            <td>100</td>\n",
              "        </tr>\n",
              "        <tr>\n",
              "            <td>4</td>\n",
              "            <td>Teclado</td>\n",
              "            <td>120.0</td>\n",
              "            <td>50</td>\n",
              "        </tr>\n",
              "        <tr>\n",
              "            <td>5</td>\n",
              "            <td>HardDosk SSS</td>\n",
              "            <td>160.0</td>\n",
              "            <td>0</td>\n",
              "        </tr>\n",
              "        <tr>\n",
              "            <td>6</td>\n",
              "            <td>SmartWatch</td>\n",
              "            <td>None</td>\n",
              "            <td>120</td>\n",
              "        </tr>\n",
              "        <tr>\n",
              "            <td>7</td>\n",
              "            <td>Monitor Y-Ultra</td>\n",
              "            <td>480.0</td>\n",
              "            <td>210</td>\n",
              "        </tr>\n",
              "        <tr>\n",
              "            <td>8</td>\n",
              "            <td>None</td>\n",
              "            <td>780.0</td>\n",
              "            <td>520</td>\n",
              "        </tr>\n",
              "    </tbody>\n",
              "</table>"
            ],
            "text/plain": [
              "+--------+-----------------+--------+----------+\n",
              "| numero |       nome      | preco  | unidades |\n",
              "+--------+-----------------+--------+----------+\n",
              "|   1    |     Notebook    | 3500.0 |    10    |\n",
              "|   2    |    Smartphone   | 2500.0 |    20    |\n",
              "|   3    |      Mouse      |  50.0  |   100    |\n",
              "|   4    |     Teclado     | 120.0  |    50    |\n",
              "|   5    |   HardDosk SSS  | 160.0  |    0     |\n",
              "|   6    |    SmartWatch   |  None  |   120    |\n",
              "|   7    | Monitor Y-Ultra | 480.0  |   210    |\n",
              "|   8    |       None      | 780.0  |   520    |\n",
              "+--------+-----------------+--------+----------+"
            ]
          },
          "execution_count": 8,
          "metadata": {},
          "output_type": "execute_result"
        }
      ],
      "source": [
        "%%sql\n",
        "SELECT * FROM produtos;"
      ]
    },
    {
      "cell_type": "markdown",
      "metadata": {
        "id": "kyMLN-Moyfbk"
      },
      "source": [
        "e) Através de uma consulta selecionar os produtos com preço igual a 50"
      ]
    },
    {
      "cell_type": "code",
      "execution_count": 9,
      "metadata": {
        "id": "zAKEqmTLyy07"
      },
      "outputs": [
        {
          "data": {
            "text/html": [
              "<span style=\"None\">Running query in &#x27;sqlite:///Exercicio_Produtos.sqlite&#x27;</span>"
            ],
            "text/plain": [
              "Running query in 'sqlite:///Exercicio_Produtos.sqlite'"
            ]
          },
          "metadata": {},
          "output_type": "display_data"
        },
        {
          "data": {
            "text/html": [
              "<table>\n",
              "    <thead>\n",
              "        <tr>\n",
              "            <th>numero</th>\n",
              "            <th>nome</th>\n",
              "            <th>preco</th>\n",
              "            <th>unidades</th>\n",
              "        </tr>\n",
              "    </thead>\n",
              "    <tbody>\n",
              "        <tr>\n",
              "            <td>4</td>\n",
              "            <td>Teclado</td>\n",
              "            <td>120.0</td>\n",
              "            <td>50</td>\n",
              "        </tr>\n",
              "    </tbody>\n",
              "</table>"
            ],
            "text/plain": [
              "+--------+---------+-------+----------+\n",
              "| numero |   nome  | preco | unidades |\n",
              "+--------+---------+-------+----------+\n",
              "|   4    | Teclado | 120.0 |    50    |\n",
              "+--------+---------+-------+----------+"
            ]
          },
          "execution_count": 9,
          "metadata": {},
          "output_type": "execute_result"
        }
      ],
      "source": [
        "%%sql\n",
        "SELECT * \n",
        "FROM produtos \n",
        "WHERE unidades = 50;"
      ]
    },
    {
      "cell_type": "markdown",
      "metadata": {
        "id": "G8rsEld6yy9N"
      },
      "source": [
        "f) Através de uma consulta selecionar os produtos com preço igual a 50 e com 100 unidades"
      ]
    },
    {
      "cell_type": "code",
      "execution_count": 11,
      "metadata": {
        "id": "8rrvRTOky7Hh"
      },
      "outputs": [
        {
          "data": {
            "text/html": [
              "<span style=\"None\">Running query in &#x27;sqlite:///Exercicio_Produtos.sqlite&#x27;</span>"
            ],
            "text/plain": [
              "Running query in 'sqlite:///Exercicio_Produtos.sqlite'"
            ]
          },
          "metadata": {},
          "output_type": "display_data"
        },
        {
          "data": {
            "text/html": [
              "<table>\n",
              "    <thead>\n",
              "        <tr>\n",
              "            <th>numero</th>\n",
              "            <th>nome</th>\n",
              "            <th>preco</th>\n",
              "            <th>unidades</th>\n",
              "        </tr>\n",
              "    </thead>\n",
              "    <tbody>\n",
              "        <tr>\n",
              "            <td>3</td>\n",
              "            <td>Mouse</td>\n",
              "            <td>50.0</td>\n",
              "            <td>100</td>\n",
              "        </tr>\n",
              "    </tbody>\n",
              "</table>"
            ],
            "text/plain": [
              "+--------+-------+-------+----------+\n",
              "| numero |  nome | preco | unidades |\n",
              "+--------+-------+-------+----------+\n",
              "|   3    | Mouse |  50.0 |   100    |\n",
              "+--------+-------+-------+----------+"
            ]
          },
          "execution_count": 11,
          "metadata": {},
          "output_type": "execute_result"
        }
      ],
      "source": [
        "%%sql\n",
        "SELECT *\n",
        "FROM produtos\n",
        "WHERE preco = 50\n",
        "AND unidades = 100"
      ]
    },
    {
      "cell_type": "markdown",
      "metadata": {},
      "source": [
        "g) Extrair o nome dos produtos que custam 10€, 20€ ou 50€ ?"
      ]
    },
    {
      "cell_type": "code",
      "execution_count": 12,
      "metadata": {},
      "outputs": [
        {
          "data": {
            "text/html": [
              "<span style=\"None\">Running query in &#x27;sqlite:///Exercicio_Produtos.sqlite&#x27;</span>"
            ],
            "text/plain": [
              "Running query in 'sqlite:///Exercicio_Produtos.sqlite'"
            ]
          },
          "metadata": {},
          "output_type": "display_data"
        },
        {
          "data": {
            "text/html": [
              "<table>\n",
              "    <thead>\n",
              "        <tr>\n",
              "            <th>nome</th>\n",
              "        </tr>\n",
              "    </thead>\n",
              "    <tbody>\n",
              "        <tr>\n",
              "            <td>Mouse</td>\n",
              "        </tr>\n",
              "    </tbody>\n",
              "</table>"
            ],
            "text/plain": [
              "+-------+\n",
              "|  nome |\n",
              "+-------+\n",
              "| Mouse |\n",
              "+-------+"
            ]
          },
          "execution_count": 12,
          "metadata": {},
          "output_type": "execute_result"
        }
      ],
      "source": [
        "%%sql\n",
        "SELECT nome\n",
        "FROM produtos\n",
        "WHERE preco IN (10, 20, 50)"
      ]
    },
    {
      "cell_type": "markdown",
      "metadata": {},
      "source": [
        "g.2) Extrair o nome dos produtos que não custam 10€, 20 € ou 50€ ?"
      ]
    },
    {
      "cell_type": "code",
      "execution_count": 13,
      "metadata": {},
      "outputs": [
        {
          "data": {
            "text/html": [
              "<span style=\"None\">Running query in &#x27;sqlite:///Exercicio_Produtos.sqlite&#x27;</span>"
            ],
            "text/plain": [
              "Running query in 'sqlite:///Exercicio_Produtos.sqlite'"
            ]
          },
          "metadata": {},
          "output_type": "display_data"
        },
        {
          "data": {
            "text/html": [
              "<table>\n",
              "    <thead>\n",
              "        <tr>\n",
              "            <th>nome</th>\n",
              "        </tr>\n",
              "    </thead>\n",
              "    <tbody>\n",
              "        <tr>\n",
              "            <td>Notebook</td>\n",
              "        </tr>\n",
              "        <tr>\n",
              "            <td>Smartphone</td>\n",
              "        </tr>\n",
              "        <tr>\n",
              "            <td>Teclado</td>\n",
              "        </tr>\n",
              "        <tr>\n",
              "            <td>HardDosk SSS</td>\n",
              "        </tr>\n",
              "        <tr>\n",
              "            <td>Monitor Y-Ultra</td>\n",
              "        </tr>\n",
              "        <tr>\n",
              "            <td>None</td>\n",
              "        </tr>\n",
              "    </tbody>\n",
              "</table>"
            ],
            "text/plain": [
              "+-----------------+\n",
              "|       nome      |\n",
              "+-----------------+\n",
              "|     Notebook    |\n",
              "|    Smartphone   |\n",
              "|     Teclado     |\n",
              "|   HardDosk SSS  |\n",
              "| Monitor Y-Ultra |\n",
              "|       None      |\n",
              "+-----------------+"
            ]
          },
          "execution_count": 13,
          "metadata": {},
          "output_type": "execute_result"
        }
      ],
      "source": [
        "%%sql\n",
        "SELECT nome\n",
        "FROM produtos\n",
        "WHERE preco NOT IN (10, 20, 50)"
      ]
    },
    {
      "cell_type": "markdown",
      "metadata": {},
      "source": [
        "g.3) Extrair o nome dos produtos que custam entre 10€ e 50€ ?"
      ]
    },
    {
      "cell_type": "code",
      "execution_count": 14,
      "metadata": {},
      "outputs": [
        {
          "data": {
            "text/html": [
              "<span style=\"None\">Running query in &#x27;sqlite:///Exercicio_Produtos.sqlite&#x27;</span>"
            ],
            "text/plain": [
              "Running query in 'sqlite:///Exercicio_Produtos.sqlite'"
            ]
          },
          "metadata": {},
          "output_type": "display_data"
        },
        {
          "data": {
            "text/html": [
              "<table>\n",
              "    <thead>\n",
              "        <tr>\n",
              "            <th>nome</th>\n",
              "        </tr>\n",
              "    </thead>\n",
              "    <tbody>\n",
              "        <tr>\n",
              "            <td>Mouse</td>\n",
              "        </tr>\n",
              "    </tbody>\n",
              "</table>"
            ],
            "text/plain": [
              "+-------+\n",
              "|  nome |\n",
              "+-------+\n",
              "| Mouse |\n",
              "+-------+"
            ]
          },
          "execution_count": 14,
          "metadata": {},
          "output_type": "execute_result"
        }
      ],
      "source": [
        "%%sql\n",
        "SELECT nome\n",
        "FROM produtos\n",
        "WHERE preco BETWEEN 10 AND 50;"
      ]
    },
    {
      "cell_type": "markdown",
      "metadata": {},
      "source": [
        "h) Determinar os vários preços que existem na tabela `produtos`"
      ]
    },
    {
      "cell_type": "code",
      "execution_count": 15,
      "metadata": {},
      "outputs": [
        {
          "data": {
            "text/html": [
              "<span style=\"None\">Running query in &#x27;sqlite:///Exercicio_Produtos.sqlite&#x27;</span>"
            ],
            "text/plain": [
              "Running query in 'sqlite:///Exercicio_Produtos.sqlite'"
            ]
          },
          "metadata": {},
          "output_type": "display_data"
        },
        {
          "data": {
            "text/html": [
              "<table>\n",
              "    <thead>\n",
              "        <tr>\n",
              "            <th>preco</th>\n",
              "            <th>nome</th>\n",
              "        </tr>\n",
              "    </thead>\n",
              "    <tbody>\n",
              "        <tr>\n",
              "            <td>3500.0</td>\n",
              "            <td>Notebook</td>\n",
              "        </tr>\n",
              "        <tr>\n",
              "            <td>2500.0</td>\n",
              "            <td>Smartphone</td>\n",
              "        </tr>\n",
              "        <tr>\n",
              "            <td>780.0</td>\n",
              "            <td>None</td>\n",
              "        </tr>\n",
              "        <tr>\n",
              "            <td>480.0</td>\n",
              "            <td>Monitor Y-Ultra</td>\n",
              "        </tr>\n",
              "        <tr>\n",
              "            <td>160.0</td>\n",
              "            <td>HardDosk SSS</td>\n",
              "        </tr>\n",
              "        <tr>\n",
              "            <td>120.0</td>\n",
              "            <td>Teclado</td>\n",
              "        </tr>\n",
              "        <tr>\n",
              "            <td>50.0</td>\n",
              "            <td>Mouse</td>\n",
              "        </tr>\n",
              "        <tr>\n",
              "            <td>None</td>\n",
              "            <td>SmartWatch</td>\n",
              "        </tr>\n",
              "    </tbody>\n",
              "</table>"
            ],
            "text/plain": [
              "+--------+-----------------+\n",
              "| preco  |       nome      |\n",
              "+--------+-----------------+\n",
              "| 3500.0 |     Notebook    |\n",
              "| 2500.0 |    Smartphone   |\n",
              "| 780.0  |       None      |\n",
              "| 480.0  | Monitor Y-Ultra |\n",
              "| 160.0  |   HardDosk SSS  |\n",
              "| 120.0  |     Teclado     |\n",
              "|  50.0  |      Mouse      |\n",
              "|  None  |    SmartWatch   |\n",
              "+--------+-----------------+"
            ]
          },
          "execution_count": 15,
          "metadata": {},
          "output_type": "execute_result"
        }
      ],
      "source": [
        "%%sql\n",
        "SELECT DISTINCT preco, nome FROM produtos ORDER BY preco DESC;"
      ]
    },
    {
      "cell_type": "markdown",
      "metadata": {},
      "source": [
        "---"
      ]
    },
    {
      "cell_type": "markdown",
      "metadata": {},
      "source": [
        "## Tabela *Produtos* com chave primária"
      ]
    },
    {
      "cell_type": "markdown",
      "metadata": {
        "id": "BkvHSfx8grrt"
      },
      "source": [
        "a) Eliminar a tabela `produtos` da base de dados e recriar a tabela com as seguintes definições:     \n",
        "```sql\n",
        "CREATE TABLE IF NOT EXISTS produtos (  \n",
        "    id INTEGER PRIMARY KEY AUTOINCREMENT,  \n",
        "    nome TEXT NOT NULL,  \n",
        "    preco REAL NOT NULL,  \n",
        "    unidades INTEGER  \n",
        ");\n",
        "```"
      ]
    },
    {
      "cell_type": "code",
      "execution_count": 16,
      "metadata": {},
      "outputs": [
        {
          "data": {
            "text/html": [
              "<span style=\"None\">Running query in &#x27;sqlite:///Exercicio_Produtos.sqlite&#x27;</span>"
            ],
            "text/plain": [
              "Running query in 'sqlite:///Exercicio_Produtos.sqlite'"
            ]
          },
          "metadata": {},
          "output_type": "display_data"
        },
        {
          "data": {
            "text/html": [
              "<table>\n",
              "    <thead>\n",
              "        <tr>\n",
              "        </tr>\n",
              "    </thead>\n",
              "    <tbody>\n",
              "    </tbody>\n",
              "</table>"
            ],
            "text/plain": [
              "++\n",
              "||\n",
              "++\n",
              "++"
            ]
          },
          "execution_count": 16,
          "metadata": {},
          "output_type": "execute_result"
        }
      ],
      "source": [
        "%%sql\n",
        "DROP TABLE produtos;"
      ]
    },
    {
      "cell_type": "code",
      "execution_count": 17,
      "metadata": {
        "id": "1cYEz5zgq1B5"
      },
      "outputs": [
        {
          "data": {
            "text/html": [
              "<span style=\"None\">Running query in &#x27;sqlite:///Exercicio_Produtos.sqlite&#x27;</span>"
            ],
            "text/plain": [
              "Running query in 'sqlite:///Exercicio_Produtos.sqlite'"
            ]
          },
          "metadata": {},
          "output_type": "display_data"
        },
        {
          "data": {
            "text/html": [
              "<table>\n",
              "    <thead>\n",
              "        <tr>\n",
              "        </tr>\n",
              "    </thead>\n",
              "    <tbody>\n",
              "    </tbody>\n",
              "</table>"
            ],
            "text/plain": [
              "++\n",
              "||\n",
              "++\n",
              "++"
            ]
          },
          "execution_count": 17,
          "metadata": {},
          "output_type": "execute_result"
        }
      ],
      "source": [
        "%%sql\n",
        "CREATE TABLE IF NOT EXISTS produtos (  \n",
        "    id INTEGER PRIMARY KEY AUTOINCREMENT,  \n",
        "    nome TEXT NOT NULL,\n",
        "    preco REAL NOT NULL,\n",
        "    unidades INTEGER  \n",
        ");"
      ]
    },
    {
      "cell_type": "markdown",
      "metadata": {
        "id": "pSAAY8scq1Lp"
      },
      "source": [
        "h) Popular novamente a tabela `produtos`  \n",
        "```sql\n",
        "INSERT INTO produtos (nome, preco, unidades) VALUES ('Notebook', 3500.00, 10);  \n",
        "INSERT INTO produtos (nome, preco, unidades) VALUES ('Smartphone', 2500.00, 20);  \n",
        "INSERT INTO produtos (nome, preco, unidades) VALUES ('Mouse', 50.00, 100);  \n",
        "INSERT INTO produtos (nome, preco, unidades) VALUES ('Teclado', 120.00, 50);  \n",
        "INSERT INTO produtos (nome, preco, unidades) VALUES ('HardDosk SSS', 160, 0);  \n",
        "INSERT INTO produtos (nome, preco, unidades) VALUES ('SmartWatch', null,120);  \n",
        "INSERT INTO produtos (nome, preco, unidades) VALUES ('Monitor Y-Ultra', 480,210);  \n",
        "INSERT INTO produtos (preco, unidades) VALUES (780, 520);\n",
        "```  "
      ]
    },
    {
      "cell_type": "code",
      "execution_count": 18,
      "metadata": {},
      "outputs": [
        {
          "data": {
            "text/html": [
              "<span style=\"None\">Running query in &#x27;sqlite:///Exercicio_Produtos.sqlite&#x27;</span>"
            ],
            "text/plain": [
              "Running query in 'sqlite:///Exercicio_Produtos.sqlite'"
            ]
          },
          "metadata": {},
          "output_type": "display_data"
        },
        {
          "data": {
            "text/html": [
              "<span style=\"color: green\">1 rows affected.</span>"
            ],
            "text/plain": [
              "1 rows affected."
            ]
          },
          "metadata": {},
          "output_type": "display_data"
        },
        {
          "data": {
            "text/html": [
              "<span style=\"color: green\">1 rows affected.</span>"
            ],
            "text/plain": [
              "1 rows affected."
            ]
          },
          "metadata": {},
          "output_type": "display_data"
        },
        {
          "data": {
            "text/html": [
              "<span style=\"color: green\">1 rows affected.</span>"
            ],
            "text/plain": [
              "1 rows affected."
            ]
          },
          "metadata": {},
          "output_type": "display_data"
        },
        {
          "data": {
            "text/html": [
              "<span style=\"color: green\">1 rows affected.</span>"
            ],
            "text/plain": [
              "1 rows affected."
            ]
          },
          "metadata": {},
          "output_type": "display_data"
        },
        {
          "data": {
            "text/html": [
              "<span style=\"color: green\">1 rows affected.</span>"
            ],
            "text/plain": [
              "1 rows affected."
            ]
          },
          "metadata": {},
          "output_type": "display_data"
        },
        {
          "data": {
            "text/html": [
              "<span style=\"color: green\">1 rows affected.</span>"
            ],
            "text/plain": [
              "1 rows affected."
            ]
          },
          "metadata": {},
          "output_type": "display_data"
        },
        {
          "data": {
            "text/html": [
              "<table>\n",
              "    <thead>\n",
              "        <tr>\n",
              "        </tr>\n",
              "    </thead>\n",
              "    <tbody>\n",
              "    </tbody>\n",
              "</table>"
            ],
            "text/plain": [
              "++\n",
              "||\n",
              "++\n",
              "++"
            ]
          },
          "execution_count": 18,
          "metadata": {},
          "output_type": "execute_result"
        }
      ],
      "source": [
        "%%sql\n",
        "INSERT INTO produtos (nome, preco, unidades) VALUES ('Notebook', 3500.00, 10);  \n",
        "INSERT INTO produtos (nome, preco, unidades) VALUES ('Smartphone', 2500.00, 20);  \n",
        "INSERT INTO produtos (nome, preco, unidades) VALUES ('Mouse', 50.00, 100);  \n",
        "INSERT INTO produtos (nome, preco, unidades) VALUES ('Teclado', 120.00, 50);  \n",
        "INSERT INTO produtos (nome, preco, unidades) VALUES ('HardDosk SSS', 160, 0);  \n",
        "-- INSERT INTO produtos (nome, preco, unidades) VALUES ('SmartWatch', null,120);  \n",
        "INSERT INTO produtos (nome, preco, unidades) VALUES ('Monitor Y-Ultra', 480,210);  \n",
        "-- INSERT INTO produtos (preco, unidades) VALUES (780, 520);"
      ]
    },
    {
      "cell_type": "markdown",
      "metadata": {},
      "source": [
        "---"
      ]
    },
    {
      "cell_type": "markdown",
      "metadata": {},
      "source": [
        "## Tabela *Categorias*"
      ]
    },
    {
      "cell_type": "markdown",
      "metadata": {
        "id": "KLw-pMYPultF"
      },
      "source": [
        "a) Definir a tabela `categorias`"
      ]
    },
    {
      "cell_type": "code",
      "execution_count": 19,
      "metadata": {},
      "outputs": [
        {
          "data": {
            "text/html": [
              "<span style=\"None\">Running query in &#x27;sqlite:///Exercicio_Produtos.sqlite&#x27;</span>"
            ],
            "text/plain": [
              "Running query in 'sqlite:///Exercicio_Produtos.sqlite'"
            ]
          },
          "metadata": {},
          "output_type": "display_data"
        },
        {
          "data": {
            "text/html": [
              "<table>\n",
              "    <thead>\n",
              "        <tr>\n",
              "        </tr>\n",
              "    </thead>\n",
              "    <tbody>\n",
              "    </tbody>\n",
              "</table>"
            ],
            "text/plain": [
              "++\n",
              "||\n",
              "++\n",
              "++"
            ]
          },
          "execution_count": 19,
          "metadata": {},
          "output_type": "execute_result"
        }
      ],
      "source": [
        "%%sql\n",
        "DROP TABLE IF EXISTS categorias;"
      ]
    },
    {
      "cell_type": "code",
      "execution_count": 20,
      "metadata": {
        "colab": {
          "base_uri": "https://localhost:8080/",
          "height": 34
        },
        "id": "0oVALrkzqr1R",
        "outputId": "fa1bab7b-aa70-462d-c0be-7494f26734ae"
      },
      "outputs": [
        {
          "data": {
            "text/html": [
              "<span style=\"None\">Running query in &#x27;sqlite:///Exercicio_Produtos.sqlite&#x27;</span>"
            ],
            "text/plain": [
              "Running query in 'sqlite:///Exercicio_Produtos.sqlite'"
            ]
          },
          "metadata": {},
          "output_type": "display_data"
        },
        {
          "data": {
            "text/html": [
              "<table>\n",
              "    <thead>\n",
              "        <tr>\n",
              "        </tr>\n",
              "    </thead>\n",
              "    <tbody>\n",
              "    </tbody>\n",
              "</table>"
            ],
            "text/plain": [
              "++\n",
              "||\n",
              "++\n",
              "++"
            ]
          },
          "execution_count": 20,
          "metadata": {},
          "output_type": "execute_result"
        }
      ],
      "source": [
        "%%sql\n",
        "CREATE TABLE categorias (\n",
        "    id_categoria INTEGER PRIMARY KEY AUTOINCREMENT,\n",
        "    nome TEXT NOT NULL\n",
        ");"
      ]
    },
    {
      "cell_type": "markdown",
      "metadata": {
        "id": "L1A4448QvZir"
      },
      "source": [
        "b) Popular a tabela `categorias`"
      ]
    },
    {
      "cell_type": "code",
      "execution_count": 21,
      "metadata": {
        "colab": {
          "base_uri": "https://localhost:8080/",
          "height": 104
        },
        "id": "rdaeAVKpoLQ3",
        "outputId": "bee3d3cc-2e13-496b-c19c-ce5359b56be4"
      },
      "outputs": [
        {
          "data": {
            "text/html": [
              "<span style=\"None\">Running query in &#x27;sqlite:///Exercicio_Produtos.sqlite&#x27;</span>"
            ],
            "text/plain": [
              "Running query in 'sqlite:///Exercicio_Produtos.sqlite'"
            ]
          },
          "metadata": {},
          "output_type": "display_data"
        },
        {
          "data": {
            "text/html": [
              "<span style=\"color: green\">1 rows affected.</span>"
            ],
            "text/plain": [
              "1 rows affected."
            ]
          },
          "metadata": {},
          "output_type": "display_data"
        },
        {
          "data": {
            "text/html": [
              "<span style=\"color: green\">1 rows affected.</span>"
            ],
            "text/plain": [
              "1 rows affected."
            ]
          },
          "metadata": {},
          "output_type": "display_data"
        },
        {
          "data": {
            "text/html": [
              "<span style=\"color: green\">1 rows affected.</span>"
            ],
            "text/plain": [
              "1 rows affected."
            ]
          },
          "metadata": {},
          "output_type": "display_data"
        },
        {
          "data": {
            "text/html": [
              "<span style=\"color: green\">1 rows affected.</span>"
            ],
            "text/plain": [
              "1 rows affected."
            ]
          },
          "metadata": {},
          "output_type": "display_data"
        },
        {
          "data": {
            "text/html": [
              "<table>\n",
              "    <thead>\n",
              "        <tr>\n",
              "        </tr>\n",
              "    </thead>\n",
              "    <tbody>\n",
              "    </tbody>\n",
              "</table>"
            ],
            "text/plain": [
              "++\n",
              "||\n",
              "++\n",
              "++"
            ]
          },
          "execution_count": 21,
          "metadata": {},
          "output_type": "execute_result"
        }
      ],
      "source": [
        "%%sql\n",
        "INSERT INTO categorias (nome) VALUES ('Eletrónica');\n",
        "INSERT INTO categorias (nome) VALUES ('Roupa');\n",
        "INSERT INTO categorias (nome) VALUES ('Calçado');\n",
        "INSERT INTO categorias (nome) VALUES ('Móveis');"
      ]
    },
    {
      "cell_type": "markdown",
      "metadata": {},
      "source": [
        "c) Determinar a quantidade de registos na tabela `categorias`"
      ]
    },
    {
      "cell_type": "code",
      "execution_count": 22,
      "metadata": {},
      "outputs": [
        {
          "data": {
            "text/html": [
              "<span style=\"None\">Running query in &#x27;sqlite:///Exercicio_Produtos.sqlite&#x27;</span>"
            ],
            "text/plain": [
              "Running query in 'sqlite:///Exercicio_Produtos.sqlite'"
            ]
          },
          "metadata": {},
          "output_type": "display_data"
        },
        {
          "data": {
            "text/html": [
              "<table>\n",
              "    <thead>\n",
              "        <tr>\n",
              "            <th>número de categorias</th>\n",
              "        </tr>\n",
              "    </thead>\n",
              "    <tbody>\n",
              "        <tr>\n",
              "            <td>4</td>\n",
              "        </tr>\n",
              "    </tbody>\n",
              "</table>"
            ],
            "text/plain": [
              "+----------------------+\n",
              "| número de categorias |\n",
              "+----------------------+\n",
              "|          4           |\n",
              "+----------------------+"
            ]
          },
          "execution_count": 22,
          "metadata": {},
          "output_type": "execute_result"
        }
      ],
      "source": [
        "%%sql\n",
        "SELECT COUNT(*) as \"número de categorias\" FROM categorias;"
      ]
    },
    {
      "cell_type": "markdown",
      "metadata": {},
      "source": [
        "## Tabela `produtos` com chave estrangeira"
      ]
    },
    {
      "cell_type": "markdown",
      "metadata": {},
      "source": [
        "a) Redefinir a tabela `produtos`, agora com a nova coluna `id_categoria`: chave estrangeira para \"`categoria.id_categoria`\"\n",
        "\n",
        "```sql\n",
        "CREATE TABLE IF NOT EXISTS produtos (  \n",
        "    id INTEGER PRIMARY KEY,  \n",
        "    nome TEXT ,  \n",
        "    preco REAL,  \n",
        "    unidades INTEGER,  \n",
        "    id_categoria INTEGER,  \n",
        "    FOREIGN KEY (id_categoria) REFERENCES CATEGORIA(id_categoria)  \n",
        ");\n",
        "```\n"
      ]
    },
    {
      "cell_type": "code",
      "execution_count": 24,
      "metadata": {},
      "outputs": [
        {
          "data": {
            "text/html": [
              "<span style=\"None\">Running query in &#x27;sqlite:///Exercicio_Produtos.sqlite&#x27;</span>"
            ],
            "text/plain": [
              "Running query in 'sqlite:///Exercicio_Produtos.sqlite'"
            ]
          },
          "metadata": {},
          "output_type": "display_data"
        },
        {
          "data": {
            "text/html": [
              "<table>\n",
              "    <thead>\n",
              "        <tr>\n",
              "        </tr>\n",
              "    </thead>\n",
              "    <tbody>\n",
              "    </tbody>\n",
              "</table>"
            ],
            "text/plain": [
              "++\n",
              "||\n",
              "++\n",
              "++"
            ]
          },
          "execution_count": 24,
          "metadata": {},
          "output_type": "execute_result"
        }
      ],
      "source": [
        "%%sql\n",
        "DROP TABLE IF EXISTS produtos;"
      ]
    },
    {
      "cell_type": "code",
      "execution_count": 25,
      "metadata": {},
      "outputs": [
        {
          "data": {
            "text/html": [
              "<span style=\"None\">Running query in &#x27;sqlite:///Exercicio_Produtos.sqlite&#x27;</span>"
            ],
            "text/plain": [
              "Running query in 'sqlite:///Exercicio_Produtos.sqlite'"
            ]
          },
          "metadata": {},
          "output_type": "display_data"
        },
        {
          "data": {
            "text/html": [
              "<table>\n",
              "    <thead>\n",
              "        <tr>\n",
              "        </tr>\n",
              "    </thead>\n",
              "    <tbody>\n",
              "    </tbody>\n",
              "</table>"
            ],
            "text/plain": [
              "++\n",
              "||\n",
              "++\n",
              "++"
            ]
          },
          "execution_count": 25,
          "metadata": {},
          "output_type": "execute_result"
        }
      ],
      "source": [
        "%%sql\n",
        "CREATE TABLE IF NOT EXISTS produtos (  \n",
        "    id INTEGER PRIMARY KEY,  \n",
        "    nome TEXT ,  \n",
        "    preco REAL,  \n",
        "    unidades INTEGER,  \n",
        "    id_categoria INTEGER,  \n",
        "    FOREIGN KEY (id_categoria) REFERENCES categorias(id_categoria)  \n",
        ");"
      ]
    },
    {
      "cell_type": "markdown",
      "metadata": {},
      "source": [
        "b) Popular a tabela `produtos` de acordo com a nova estrutura"
      ]
    },
    {
      "cell_type": "code",
      "execution_count": 26,
      "metadata": {},
      "outputs": [
        {
          "data": {
            "text/html": [
              "<span style=\"None\">Running query in &#x27;sqlite:///Exercicio_Produtos.sqlite&#x27;</span>"
            ],
            "text/plain": [
              "Running query in 'sqlite:///Exercicio_Produtos.sqlite'"
            ]
          },
          "metadata": {},
          "output_type": "display_data"
        },
        {
          "data": {
            "text/html": [
              "<table>\n",
              "    <thead>\n",
              "        <tr>\n",
              "            <th>id_categoria</th>\n",
              "            <th>nome</th>\n",
              "        </tr>\n",
              "    </thead>\n",
              "    <tbody>\n",
              "        <tr>\n",
              "            <td>1</td>\n",
              "            <td>Eletrónica</td>\n",
              "        </tr>\n",
              "        <tr>\n",
              "            <td>2</td>\n",
              "            <td>Roupa</td>\n",
              "        </tr>\n",
              "        <tr>\n",
              "            <td>3</td>\n",
              "            <td>Calçado</td>\n",
              "        </tr>\n",
              "        <tr>\n",
              "            <td>4</td>\n",
              "            <td>Móveis</td>\n",
              "        </tr>\n",
              "    </tbody>\n",
              "</table>"
            ],
            "text/plain": [
              "+--------------+------------+\n",
              "| id_categoria |    nome    |\n",
              "+--------------+------------+\n",
              "|      1       | Eletrónica |\n",
              "|      2       |   Roupa    |\n",
              "|      3       |  Calçado   |\n",
              "|      4       |   Móveis   |\n",
              "+--------------+------------+"
            ]
          },
          "execution_count": 26,
          "metadata": {},
          "output_type": "execute_result"
        }
      ],
      "source": [
        "%%sql\n",
        "SELECT * FROM categorias;"
      ]
    },
    {
      "cell_type": "code",
      "execution_count": 27,
      "metadata": {},
      "outputs": [
        {
          "data": {
            "text/html": [
              "<span style=\"None\">Running query in &#x27;sqlite:///Exercicio_Produtos.sqlite&#x27;</span>"
            ],
            "text/plain": [
              "Running query in 'sqlite:///Exercicio_Produtos.sqlite'"
            ]
          },
          "metadata": {},
          "output_type": "display_data"
        },
        {
          "data": {
            "text/html": [
              "<span style=\"color: green\">1 rows affected.</span>"
            ],
            "text/plain": [
              "1 rows affected."
            ]
          },
          "metadata": {},
          "output_type": "display_data"
        },
        {
          "data": {
            "text/html": [
              "<span style=\"color: green\">1 rows affected.</span>"
            ],
            "text/plain": [
              "1 rows affected."
            ]
          },
          "metadata": {},
          "output_type": "display_data"
        },
        {
          "data": {
            "text/html": [
              "<span style=\"color: green\">1 rows affected.</span>"
            ],
            "text/plain": [
              "1 rows affected."
            ]
          },
          "metadata": {},
          "output_type": "display_data"
        },
        {
          "data": {
            "text/html": [
              "<span style=\"color: green\">1 rows affected.</span>"
            ],
            "text/plain": [
              "1 rows affected."
            ]
          },
          "metadata": {},
          "output_type": "display_data"
        },
        {
          "data": {
            "text/html": [
              "<span style=\"color: green\">1 rows affected.</span>"
            ],
            "text/plain": [
              "1 rows affected."
            ]
          },
          "metadata": {},
          "output_type": "display_data"
        },
        {
          "data": {
            "text/html": [
              "<span style=\"color: green\">1 rows affected.</span>"
            ],
            "text/plain": [
              "1 rows affected."
            ]
          },
          "metadata": {},
          "output_type": "display_data"
        },
        {
          "data": {
            "text/html": [
              "<span style=\"color: green\">1 rows affected.</span>"
            ],
            "text/plain": [
              "1 rows affected."
            ]
          },
          "metadata": {},
          "output_type": "display_data"
        },
        {
          "data": {
            "text/html": [
              "<span style=\"color: green\">1 rows affected.</span>"
            ],
            "text/plain": [
              "1 rows affected."
            ]
          },
          "metadata": {},
          "output_type": "display_data"
        },
        {
          "data": {
            "text/html": [
              "<table>\n",
              "    <thead>\n",
              "        <tr>\n",
              "        </tr>\n",
              "    </thead>\n",
              "    <tbody>\n",
              "    </tbody>\n",
              "</table>"
            ],
            "text/plain": [
              "++\n",
              "||\n",
              "++\n",
              "++"
            ]
          },
          "execution_count": 27,
          "metadata": {},
          "output_type": "execute_result"
        }
      ],
      "source": [
        "%%sql\n",
        "INSERT INTO produtos (nome, preco, unidades, id_categoria) VALUES ('Notebook',   3500.00, 10, 1);  \n",
        "INSERT INTO produtos (nome, preco, unidades, id_categoria) VALUES ('Smartphone', 2500.00, 20, 1);  \n",
        "INSERT INTO produtos (nome, preco, unidades, id_categoria) VALUES ('Mouse',        50.00, 100, 1);  \n",
        "INSERT INTO produtos (nome, preco, unidades, id_categoria) VALUES ('Teclado',     120.00, 50, 1);  \n",
        "INSERT INTO produtos (nome, preco, unidades, id_categoria) VALUES ('HardDosk SSS', 160, 0, 1);  \n",
        "INSERT INTO produtos (nome, preco, unidades, id_categoria) VALUES ('SmartWatch', 350, 120, 1);  \n",
        "INSERT INTO produtos (nome, preco, unidades, id_categoria) VALUES ('Monitor Y-Ultra', 480, 210, 1);  \n",
        "INSERT INTO produtos (nome, preco, unidades, id_categoria) VALUES ('Smart Glasses', 780, 2, 1);"
      ]
    },
    {
      "cell_type": "markdown",
      "metadata": {},
      "source": [
        "c) Através de uma consulta apresentar o nome do produto e nome da categoria dos produtos com mais de 100 unidades em stock"
      ]
    },
    {
      "cell_type": "code",
      "execution_count": 32,
      "metadata": {},
      "outputs": [
        {
          "data": {
            "text/html": [
              "<span style=\"None\">Running query in &#x27;sqlite:///Exercicio_Produtos.sqlite&#x27;</span>"
            ],
            "text/plain": [
              "Running query in 'sqlite:///Exercicio_Produtos.sqlite'"
            ]
          },
          "metadata": {},
          "output_type": "display_data"
        },
        {
          "data": {
            "text/html": [
              "<table>\n",
              "    <thead>\n",
              "        <tr>\n",
              "            <th>produto</th>\n",
              "            <th>preco</th>\n",
              "            <th>categoria</th>\n",
              "        </tr>\n",
              "    </thead>\n",
              "    <tbody>\n",
              "        <tr>\n",
              "            <td>SmartWatch</td>\n",
              "            <td>350.0</td>\n",
              "            <td>Eletrónica</td>\n",
              "        </tr>\n",
              "        <tr>\n",
              "            <td>Monitor Y-Ultra</td>\n",
              "            <td>480.0</td>\n",
              "            <td>Eletrónica</td>\n",
              "        </tr>\n",
              "    </tbody>\n",
              "</table>"
            ],
            "text/plain": [
              "+-----------------+-------+------------+\n",
              "|     produto     | preco | categoria  |\n",
              "+-----------------+-------+------------+\n",
              "|    SmartWatch   | 350.0 | Eletrónica |\n",
              "| Monitor Y-Ultra | 480.0 | Eletrónica |\n",
              "+-----------------+-------+------------+"
            ]
          },
          "execution_count": 32,
          "metadata": {},
          "output_type": "execute_result"
        }
      ],
      "source": [
        "%%sql\n",
        "SELECT \n",
        "    produtos.nome AS produto, produtos.preco, categorias.nome AS categoria\n",
        "    \n",
        "FROM produtos, categorias\n",
        "\n",
        "WHERE \n",
        "    produtos.id_categoria = categorias.id_categoria AND\n",
        "    produtos.unidades > 100"
      ]
    },
    {
      "cell_type": "code",
      "execution_count": 33,
      "metadata": {},
      "outputs": [
        {
          "data": {
            "text/html": [
              "<span style=\"None\">Running query in &#x27;sqlite:///Exercicio_Produtos.sqlite&#x27;</span>"
            ],
            "text/plain": [
              "Running query in 'sqlite:///Exercicio_Produtos.sqlite'"
            ]
          },
          "metadata": {},
          "output_type": "display_data"
        },
        {
          "data": {
            "text/html": [
              "<table>\n",
              "    <thead>\n",
              "        <tr>\n",
              "            <th>produto</th>\n",
              "            <th>categoria</th>\n",
              "        </tr>\n",
              "    </thead>\n",
              "    <tbody>\n",
              "        <tr>\n",
              "            <td>SmartWatch</td>\n",
              "            <td>Eletrónica</td>\n",
              "        </tr>\n",
              "        <tr>\n",
              "            <td>Monitor Y-Ultra</td>\n",
              "            <td>Eletrónica</td>\n",
              "        </tr>\n",
              "    </tbody>\n",
              "</table>"
            ],
            "text/plain": [
              "+-----------------+------------+\n",
              "|     produto     | categoria  |\n",
              "+-----------------+------------+\n",
              "|    SmartWatch   | Eletrónica |\n",
              "| Monitor Y-Ultra | Eletrónica |\n",
              "+-----------------+------------+"
            ]
          },
          "execution_count": 33,
          "metadata": {},
          "output_type": "execute_result"
        }
      ],
      "source": [
        "%%sql\n",
        "SELECT produtos.nome AS produto, categorias.nome AS categoria\n",
        "FROM produtos\n",
        "JOIN categorias ON produtos.id_categoria = categorias.id_categoria\n",
        "WHERE produtos.unidades > 100"
      ]
    },
    {
      "cell_type": "markdown",
      "metadata": {},
      "source": [
        "## Tabela `fornecedores`"
      ]
    },
    {
      "cell_type": "markdown",
      "metadata": {
        "id": "mCJSfp7m0iKo"
      },
      "source": [
        "a) Definir a tabela `fornecedores`  \n",
        "```sql\n",
        "CREATE TABLE fornecedores (  \n",
        "    id_fornecedor INTEGER PRIMARY KEY AUTOINCREMENT,  \n",
        "    nome VARCHAR(50) NOT NULL,   \n",
        "    endereco VARCHAR(128),  \n",
        "    cidade VARCHAR(20),  \n",
        "    pais   VARCHAR(30),  \n",
        "    telefone VARCHAR(16),  \n",
        "    email VARCHAR(30)  \n",
        ");\n",
        "```"
      ]
    },
    {
      "cell_type": "code",
      "execution_count": 34,
      "metadata": {},
      "outputs": [
        {
          "data": {
            "text/html": [
              "<span style=\"None\">Running query in &#x27;sqlite:///Exercicio_Produtos.sqlite&#x27;</span>"
            ],
            "text/plain": [
              "Running query in 'sqlite:///Exercicio_Produtos.sqlite'"
            ]
          },
          "metadata": {},
          "output_type": "display_data"
        },
        {
          "data": {
            "text/html": [
              "<table>\n",
              "    <thead>\n",
              "        <tr>\n",
              "        </tr>\n",
              "    </thead>\n",
              "    <tbody>\n",
              "    </tbody>\n",
              "</table>"
            ],
            "text/plain": [
              "++\n",
              "||\n",
              "++\n",
              "++"
            ]
          },
          "execution_count": 34,
          "metadata": {},
          "output_type": "execute_result"
        }
      ],
      "source": [
        "%%sql\n",
        "DROP TABLE IF EXISTS fornecedores;"
      ]
    },
    {
      "cell_type": "code",
      "execution_count": 35,
      "metadata": {
        "id": "N491mDyO0q_G"
      },
      "outputs": [
        {
          "data": {
            "text/html": [
              "<span style=\"None\">Running query in &#x27;sqlite:///Exercicio_Produtos.sqlite&#x27;</span>"
            ],
            "text/plain": [
              "Running query in 'sqlite:///Exercicio_Produtos.sqlite'"
            ]
          },
          "metadata": {},
          "output_type": "display_data"
        },
        {
          "data": {
            "text/html": [
              "<table>\n",
              "    <thead>\n",
              "        <tr>\n",
              "        </tr>\n",
              "    </thead>\n",
              "    <tbody>\n",
              "    </tbody>\n",
              "</table>"
            ],
            "text/plain": [
              "++\n",
              "||\n",
              "++\n",
              "++"
            ]
          },
          "execution_count": 35,
          "metadata": {},
          "output_type": "execute_result"
        }
      ],
      "source": [
        "%%sql\n",
        "CREATE TABLE Fornecedores (  \n",
        "    id_fornecedor INTEGER PRIMARY KEY AUTOINCREMENT,  \n",
        "    nome VARCHAR(50) NOT NULL,   \n",
        "    endereco VARCHAR(128),  \n",
        "    cidade VARCHAR(20),  \n",
        "    pais   VARCHAR(30),  \n",
        "    telefone VARCHAR(16),  \n",
        "    email VARCHAR(30)  \n",
        ");"
      ]
    },
    {
      "cell_type": "markdown",
      "metadata": {
        "id": "Eu9DwETRWctS"
      },
      "source": [
        "b) Popular a tabela `fornecedores` \n",
        "\n",
        "```sql\n",
        "INSERT INTO Fornecedores (nome, endereco, cidade, pais, telefone, email)\n",
        "VALUES ('Tech Solutions', 'Av. Paulista, 1000', 'São Paulo', 'Brasil', '+55 11   98765-4321', 'contato@techsolutions.com');\n",
        "\n",
        "INSERT INTO Fornecedores (nome, endereco, cidade, pais, telefone, email)\n",
        "VALUES ('Global Supplies', '123 Main St', 'New York', 'EUA', '+1 212-555-7890',   'sales@globalsupplies.com');\n",
        "\n",
        "INSERT INTO Fornecedores (nome, endereco, cidade, pais, telefone, email)\n",
        "VALUES ('ElectroParts', 'Calle Mayor, 45', 'Madrid', 'Espanha', '+34 91 123   4567', 'info@electroparts.es');\n",
        "\n",
        "INSERT INTO Fornecedores (nome, endereco, cidade, pais, telefone, email)\n",
        "VALUES ('MegaCom', 'Rua das Flores, 500', 'Lisboa', 'Portugal', '+351 21 456   7890', 'support@megacom.pt');\n",
        "\n",
        "INSERT INTO Fornecedores (nome, endereco, cidade, pais, telefone, email)\n",
        "VALUES ('Fast Logistics', 'Jalan Sudirman, 12', 'Jacarta', 'Indonésia', '+62 21   8765 4321', 'contact@fastlogistics.co.id');\n",
        "```"
      ]
    },
    {
      "cell_type": "code",
      "execution_count": 36,
      "metadata": {
        "id": "wcT1pF8-Wjz_"
      },
      "outputs": [
        {
          "data": {
            "text/html": [
              "<span style=\"None\">Running query in &#x27;sqlite:///Exercicio_Produtos.sqlite&#x27;</span>"
            ],
            "text/plain": [
              "Running query in 'sqlite:///Exercicio_Produtos.sqlite'"
            ]
          },
          "metadata": {},
          "output_type": "display_data"
        },
        {
          "data": {
            "text/html": [
              "<span style=\"color: green\">1 rows affected.</span>"
            ],
            "text/plain": [
              "1 rows affected."
            ]
          },
          "metadata": {},
          "output_type": "display_data"
        },
        {
          "data": {
            "text/html": [
              "<span style=\"color: green\">1 rows affected.</span>"
            ],
            "text/plain": [
              "1 rows affected."
            ]
          },
          "metadata": {},
          "output_type": "display_data"
        },
        {
          "data": {
            "text/html": [
              "<span style=\"color: green\">1 rows affected.</span>"
            ],
            "text/plain": [
              "1 rows affected."
            ]
          },
          "metadata": {},
          "output_type": "display_data"
        },
        {
          "data": {
            "text/html": [
              "<span style=\"color: green\">1 rows affected.</span>"
            ],
            "text/plain": [
              "1 rows affected."
            ]
          },
          "metadata": {},
          "output_type": "display_data"
        },
        {
          "data": {
            "text/html": [
              "<span style=\"color: green\">1 rows affected.</span>"
            ],
            "text/plain": [
              "1 rows affected."
            ]
          },
          "metadata": {},
          "output_type": "display_data"
        },
        {
          "data": {
            "text/html": [
              "<table>\n",
              "    <thead>\n",
              "        <tr>\n",
              "        </tr>\n",
              "    </thead>\n",
              "    <tbody>\n",
              "    </tbody>\n",
              "</table>"
            ],
            "text/plain": [
              "++\n",
              "||\n",
              "++\n",
              "++"
            ]
          },
          "execution_count": 36,
          "metadata": {},
          "output_type": "execute_result"
        }
      ],
      "source": [
        "%%sql\n",
        "INSERT INTO Fornecedores (nome, endereco, cidade, pais, telefone, email)\n",
        "VALUES ('Tech Solutions', 'Av. Paulista, 1000', 'São Paulo', 'Brasil', '+55 11   98765-4321', 'contato@techsolutions.com');\n",
        "\n",
        "INSERT INTO Fornecedores (nome, endereco, cidade, pais, telefone, email)   \n",
        "VALUES ('Global Supplies', '123 Main St', 'New York', 'EUA', '+1 212-555-7890',   'sales@globalsupplies.com');\n",
        "\n",
        "INSERT INTO Fornecedores (nome, endereco, cidade, pais, telefone, email)   \n",
        "VALUES ('ElectroParts', 'Calle Mayor, 45', 'Madrid', 'Espanha', '+34 91 123   4567', 'info@electroparts.es');\n",
        "\n",
        "INSERT INTO Fornecedores (nome, endereco, cidade, pais, telefone, email)   \n",
        "VALUES ('MegaCom', 'Rua das Flores, 500', 'Lisboa', 'Portugal', '+351 21 456   7890', 'support@megacom.pt');\n",
        "\n",
        "INSERT INTO Fornecedores (nome, endereco, cidade, pais, telefone, email)\n",
        "VALUES ('Fast Logistics', 'Jalan Sudirman, 12', 'Jacarta', 'Indonésia', '+62 21   8765 4321', 'contact@fastlogistics.co.id');"
      ]
    },
    {
      "cell_type": "markdown",
      "metadata": {
        "id": "uIqIN8Mrnxwk"
      },
      "source": [
        "c) Redefinir a tabela `produtos`, agora com a nova coluna `id_fornecedor`: chave estrangeira para `fornecedores.id_fornecedor`  \n",
        "\n",
        "```sql\n",
        "DROP TABLE IF EXISTS produtos;\n",
        "\n",
        "CREATE TABLE IF NOT EXISTS produtos (  \n",
        "    id INTEGER PRIMARY KEY,  \n",
        "    nome TEXT ,  \n",
        "    preco REAL,  \n",
        "    unidades INTEGER,  \n",
        "    id_categoria INTEGER,\n",
        "    id_fornecedor INTEGER,  \n",
        "    FOREIGN KEY (id_categoria) REFERENCES CATEGORIAS(id_categoria),  \n",
        "    FOREIGN KEY (id_fornecedor) REFERENCES FORNECEDORES(id_fornecedor)    \n",
        ");\n",
        "```"
      ]
    },
    {
      "cell_type": "code",
      "execution_count": 37,
      "metadata": {
        "id": "ozgbdEPXoojn"
      },
      "outputs": [
        {
          "data": {
            "text/html": [
              "<span style=\"None\">Running query in &#x27;sqlite:///Exercicio_Produtos.sqlite&#x27;</span>"
            ],
            "text/plain": [
              "Running query in 'sqlite:///Exercicio_Produtos.sqlite'"
            ]
          },
          "metadata": {},
          "output_type": "display_data"
        },
        {
          "data": {
            "text/html": [
              "<table>\n",
              "    <thead>\n",
              "        <tr>\n",
              "        </tr>\n",
              "    </thead>\n",
              "    <tbody>\n",
              "    </tbody>\n",
              "</table>"
            ],
            "text/plain": [
              "++\n",
              "||\n",
              "++\n",
              "++"
            ]
          },
          "execution_count": 37,
          "metadata": {},
          "output_type": "execute_result"
        }
      ],
      "source": [
        "%%sql\n",
        "DROP TABLE produtos;"
      ]
    },
    {
      "cell_type": "code",
      "execution_count": 38,
      "metadata": {},
      "outputs": [
        {
          "data": {
            "text/html": [
              "<span style=\"None\">Running query in &#x27;sqlite:///Exercicio_Produtos.sqlite&#x27;</span>"
            ],
            "text/plain": [
              "Running query in 'sqlite:///Exercicio_Produtos.sqlite'"
            ]
          },
          "metadata": {},
          "output_type": "display_data"
        },
        {
          "data": {
            "text/html": [
              "<table>\n",
              "    <thead>\n",
              "        <tr>\n",
              "        </tr>\n",
              "    </thead>\n",
              "    <tbody>\n",
              "    </tbody>\n",
              "</table>"
            ],
            "text/plain": [
              "++\n",
              "||\n",
              "++\n",
              "++"
            ]
          },
          "execution_count": 38,
          "metadata": {},
          "output_type": "execute_result"
        }
      ],
      "source": [
        "%%sql\n",
        "CREATE TABLE IF NOT EXISTS produtos (  \n",
        "    id INTEGER PRIMARY KEY,  \n",
        "    nome TEXT ,  \n",
        "    preco REAL,  \n",
        "    unidades INTEGER,  \n",
        "    id_categoria INTEGER,\n",
        "    id_fornecedor INTEGER,  \n",
        "    FOREIGN KEY (id_categoria) REFERENCES CATEGORIAS(id_categoria),  \n",
        "    FOREIGN KEY (id_fornecedor) REFERENCES FORNECEDORES(id_fornecedor)    \n",
        ");"
      ]
    },
    {
      "cell_type": "markdown",
      "metadata": {
        "id": "o6K7SfrRoyox"
      },
      "source": [
        "d) Popular a tabela `produtos` de acordo com a nova estrutura"
      ]
    },
    {
      "cell_type": "code",
      "execution_count": 39,
      "metadata": {
        "id": "ugyfSGuKo0F6"
      },
      "outputs": [
        {
          "data": {
            "text/html": [
              "<span style=\"None\">Running query in &#x27;sqlite:///Exercicio_Produtos.sqlite&#x27;</span>"
            ],
            "text/plain": [
              "Running query in 'sqlite:///Exercicio_Produtos.sqlite'"
            ]
          },
          "metadata": {},
          "output_type": "display_data"
        },
        {
          "data": {
            "text/html": [
              "<table>\n",
              "    <thead>\n",
              "        <tr>\n",
              "            <th>id_fornecedor</th>\n",
              "            <th>nome</th>\n",
              "            <th>pais</th>\n",
              "        </tr>\n",
              "    </thead>\n",
              "    <tbody>\n",
              "        <tr>\n",
              "            <td>1</td>\n",
              "            <td>Tech Solutions</td>\n",
              "            <td>Brasil</td>\n",
              "        </tr>\n",
              "        <tr>\n",
              "            <td>2</td>\n",
              "            <td>Global Supplies</td>\n",
              "            <td>EUA</td>\n",
              "        </tr>\n",
              "        <tr>\n",
              "            <td>3</td>\n",
              "            <td>ElectroParts</td>\n",
              "            <td>Espanha</td>\n",
              "        </tr>\n",
              "        <tr>\n",
              "            <td>4</td>\n",
              "            <td>MegaCom</td>\n",
              "            <td>Portugal</td>\n",
              "        </tr>\n",
              "        <tr>\n",
              "            <td>5</td>\n",
              "            <td>Fast Logistics</td>\n",
              "            <td>Indonésia</td>\n",
              "        </tr>\n",
              "    </tbody>\n",
              "</table>"
            ],
            "text/plain": [
              "+---------------+-----------------+-----------+\n",
              "| id_fornecedor |       nome      |    pais   |\n",
              "+---------------+-----------------+-----------+\n",
              "|       1       |  Tech Solutions |   Brasil  |\n",
              "|       2       | Global Supplies |    EUA    |\n",
              "|       3       |   ElectroParts  |  Espanha  |\n",
              "|       4       |     MegaCom     |  Portugal |\n",
              "|       5       |  Fast Logistics | Indonésia |\n",
              "+---------------+-----------------+-----------+"
            ]
          },
          "execution_count": 39,
          "metadata": {},
          "output_type": "execute_result"
        }
      ],
      "source": [
        "%%sql\n",
        "SELECT id_fornecedor, nome, pais FROM fornecedores;"
      ]
    },
    {
      "cell_type": "code",
      "execution_count": 40,
      "metadata": {},
      "outputs": [
        {
          "data": {
            "text/html": [
              "<span style=\"None\">Running query in &#x27;sqlite:///Exercicio_Produtos.sqlite&#x27;</span>"
            ],
            "text/plain": [
              "Running query in 'sqlite:///Exercicio_Produtos.sqlite'"
            ]
          },
          "metadata": {},
          "output_type": "display_data"
        },
        {
          "data": {
            "text/html": [
              "<table>\n",
              "    <thead>\n",
              "        <tr>\n",
              "            <th>id_categoria</th>\n",
              "            <th>nome</th>\n",
              "        </tr>\n",
              "    </thead>\n",
              "    <tbody>\n",
              "        <tr>\n",
              "            <td>1</td>\n",
              "            <td>Eletrónica</td>\n",
              "        </tr>\n",
              "        <tr>\n",
              "            <td>2</td>\n",
              "            <td>Roupa</td>\n",
              "        </tr>\n",
              "        <tr>\n",
              "            <td>3</td>\n",
              "            <td>Calçado</td>\n",
              "        </tr>\n",
              "        <tr>\n",
              "            <td>4</td>\n",
              "            <td>Móveis</td>\n",
              "        </tr>\n",
              "    </tbody>\n",
              "</table>"
            ],
            "text/plain": [
              "+--------------+------------+\n",
              "| id_categoria |    nome    |\n",
              "+--------------+------------+\n",
              "|      1       | Eletrónica |\n",
              "|      2       |   Roupa    |\n",
              "|      3       |  Calçado   |\n",
              "|      4       |   Móveis   |\n",
              "+--------------+------------+"
            ]
          },
          "execution_count": 40,
          "metadata": {},
          "output_type": "execute_result"
        }
      ],
      "source": [
        "%%sql\n",
        "SELECT id_categoria,nome FROM categorias;"
      ]
    },
    {
      "cell_type": "code",
      "execution_count": 41,
      "metadata": {},
      "outputs": [
        {
          "data": {
            "text/html": [
              "<span style=\"None\">Running query in &#x27;sqlite:///Exercicio_Produtos.sqlite&#x27;</span>"
            ],
            "text/plain": [
              "Running query in 'sqlite:///Exercicio_Produtos.sqlite'"
            ]
          },
          "metadata": {},
          "output_type": "display_data"
        },
        {
          "data": {
            "text/html": [
              "<span style=\"color: green\">1 rows affected.</span>"
            ],
            "text/plain": [
              "1 rows affected."
            ]
          },
          "metadata": {},
          "output_type": "display_data"
        },
        {
          "data": {
            "text/html": [
              "<span style=\"color: green\">1 rows affected.</span>"
            ],
            "text/plain": [
              "1 rows affected."
            ]
          },
          "metadata": {},
          "output_type": "display_data"
        },
        {
          "data": {
            "text/html": [
              "<span style=\"color: green\">1 rows affected.</span>"
            ],
            "text/plain": [
              "1 rows affected."
            ]
          },
          "metadata": {},
          "output_type": "display_data"
        },
        {
          "data": {
            "text/html": [
              "<span style=\"color: green\">1 rows affected.</span>"
            ],
            "text/plain": [
              "1 rows affected."
            ]
          },
          "metadata": {},
          "output_type": "display_data"
        },
        {
          "data": {
            "text/html": [
              "<span style=\"color: green\">1 rows affected.</span>"
            ],
            "text/plain": [
              "1 rows affected."
            ]
          },
          "metadata": {},
          "output_type": "display_data"
        },
        {
          "data": {
            "text/html": [
              "<span style=\"color: green\">1 rows affected.</span>"
            ],
            "text/plain": [
              "1 rows affected."
            ]
          },
          "metadata": {},
          "output_type": "display_data"
        },
        {
          "data": {
            "text/html": [
              "<span style=\"color: green\">1 rows affected.</span>"
            ],
            "text/plain": [
              "1 rows affected."
            ]
          },
          "metadata": {},
          "output_type": "display_data"
        },
        {
          "data": {
            "text/html": [
              "<span style=\"color: green\">1 rows affected.</span>"
            ],
            "text/plain": [
              "1 rows affected."
            ]
          },
          "metadata": {},
          "output_type": "display_data"
        },
        {
          "data": {
            "text/html": [
              "<table>\n",
              "    <thead>\n",
              "        <tr>\n",
              "        </tr>\n",
              "    </thead>\n",
              "    <tbody>\n",
              "    </tbody>\n",
              "</table>"
            ],
            "text/plain": [
              "++\n",
              "||\n",
              "++\n",
              "++"
            ]
          },
          "execution_count": 41,
          "metadata": {},
          "output_type": "execute_result"
        }
      ],
      "source": [
        "%%sql\n",
        "INSERT INTO produtos (nome, preco, unidades, id_categoria, id_fornecedor)\n",
        "VALUES ('Notebook', 3500.00, 10    , 1, 1);\n",
        "\n",
        "INSERT INTO produtos (nome, preco, unidades, id_categoria, id_fornecedor) \n",
        "VALUES ('Smartphone', 2500.00, 20  , 1, 2);  \n",
        "\n",
        "INSERT INTO produtos (nome, preco, unidades, id_categoria, id_fornecedor) \n",
        "VALUES ('Mouse', 50.00, 100        , 1, 3);  \n",
        "\n",
        "INSERT INTO produtos (nome, preco, unidades, id_categoria, id_fornecedor) \n",
        "VALUES ('Teclado', 120.00, 50      , 1, 5);\n",
        "\n",
        "INSERT INTO produtos (nome, preco, unidades, id_categoria, id_fornecedor) \n",
        "VALUES ('HardDosk SSS', 160, 0, 1, 4);\n",
        "\n",
        "INSERT INTO produtos (nome, preco, unidades, id_categoria, id_fornecedor)\n",
        "VALUES ('SmartWatch', 350, 120, 1, 4);\n",
        "\n",
        "INSERT INTO produtos (nome, preco, unidades, id_categoria, id_fornecedor)\n",
        "VALUES ('Monitor Y-Ultra', 480, 210, 1, 4);\n",
        "INSERT INTO produtos (nome, preco, unidades, id_categoria, id_fornecedor)\n",
        "VALUES ('Smart Glasses', 780, 2, 1, 4);"
      ]
    },
    {
      "cell_type": "markdown",
      "metadata": {
        "id": "-Al7T70Qo0P6"
      },
      "source": [
        "e) Através de uma consulta apresentar o nome do produto e nome do fornecedor dos produtos em que o fornecedor reside na Indonésia"
      ]
    },
    {
      "cell_type": "code",
      "execution_count": 42,
      "metadata": {},
      "outputs": [
        {
          "data": {
            "text/html": [
              "<span style=\"None\">Running query in &#x27;sqlite:///Exercicio_Produtos.sqlite&#x27;</span>"
            ],
            "text/plain": [
              "Running query in 'sqlite:///Exercicio_Produtos.sqlite'"
            ]
          },
          "metadata": {},
          "output_type": "display_data"
        },
        {
          "data": {
            "text/html": [
              "<table>\n",
              "    <thead>\n",
              "        <tr>\n",
              "            <th>produto</th>\n",
              "            <th>fornecedor</th>\n",
              "            <th>pais</th>\n",
              "        </tr>\n",
              "    </thead>\n",
              "    <tbody>\n",
              "        <tr>\n",
              "            <td>Teclado</td>\n",
              "            <td>Fast Logistics</td>\n",
              "            <td>Indonésia</td>\n",
              "        </tr>\n",
              "        <tr>\n",
              "            <td>Teclado</td>\n",
              "            <td>Fast Logistics</td>\n",
              "            <td>Indonésia</td>\n",
              "        </tr>\n",
              "        <tr>\n",
              "            <td>Teclado</td>\n",
              "            <td>Fast Logistics</td>\n",
              "            <td>Indonésia</td>\n",
              "        </tr>\n",
              "        <tr>\n",
              "            <td>Teclado</td>\n",
              "            <td>Fast Logistics</td>\n",
              "            <td>Indonésia</td>\n",
              "        </tr>\n",
              "    </tbody>\n",
              "</table>"
            ],
            "text/plain": [
              "+---------+----------------+-----------+\n",
              "| produto |   fornecedor   |    pais   |\n",
              "+---------+----------------+-----------+\n",
              "| Teclado | Fast Logistics | Indonésia |\n",
              "| Teclado | Fast Logistics | Indonésia |\n",
              "| Teclado | Fast Logistics | Indonésia |\n",
              "| Teclado | Fast Logistics | Indonésia |\n",
              "+---------+----------------+-----------+"
            ]
          },
          "execution_count": 42,
          "metadata": {},
          "output_type": "execute_result"
        }
      ],
      "source": [
        "%%sql\n",
        "SELECT\n",
        "    produtos.nome AS produto,\n",
        "    fornecedores.nome AS fornecedor,\n",
        "    fornecedores.pais AS pais\n",
        "\n",
        "FROM \n",
        "    produtos, categorias, fornecedores\n",
        "\n",
        "WHERE \n",
        "    produtos.id_fornecedor = fornecedores.id_fornecedor AND\n",
        "    fornecedores.pais = 'Indonésia';"
      ]
    },
    {
      "cell_type": "code",
      "execution_count": 43,
      "metadata": {},
      "outputs": [
        {
          "data": {
            "text/html": [
              "<span style=\"None\">Running query in &#x27;sqlite:///Exercicio_Produtos.sqlite&#x27;</span>"
            ],
            "text/plain": [
              "Running query in 'sqlite:///Exercicio_Produtos.sqlite'"
            ]
          },
          "metadata": {},
          "output_type": "display_data"
        },
        {
          "data": {
            "text/html": [
              "<table>\n",
              "    <thead>\n",
              "        <tr>\n",
              "            <th>produto</th>\n",
              "            <th>categoria</th>\n",
              "            <th>fornecedor</th>\n",
              "            <th>pais</th>\n",
              "        </tr>\n",
              "    </thead>\n",
              "    <tbody>\n",
              "        <tr>\n",
              "            <td>Teclado</td>\n",
              "            <td>Eletrónica</td>\n",
              "            <td>Fast Logistics</td>\n",
              "            <td>Indonésia</td>\n",
              "        </tr>\n",
              "    </tbody>\n",
              "</table>"
            ],
            "text/plain": [
              "+---------+------------+----------------+-----------+\n",
              "| produto | categoria  |   fornecedor   |    pais   |\n",
              "+---------+------------+----------------+-----------+\n",
              "| Teclado | Eletrónica | Fast Logistics | Indonésia |\n",
              "+---------+------------+----------------+-----------+"
            ]
          },
          "execution_count": 43,
          "metadata": {},
          "output_type": "execute_result"
        }
      ],
      "source": [
        "%%sql\n",
        "SELECT\n",
        "    produtos.nome AS produto,\n",
        "    categorias.nome AS categoria,\n",
        "    fornecedores.nome AS fornecedor,\n",
        "    fornecedores.pais AS pais\n",
        "\n",
        "FROM \n",
        "    produtos, categorias, fornecedores\n",
        "\n",
        "WHERE \n",
        "    produtos.id_categoria = categorias.id_categoria AND\n",
        "    produtos.id_fornecedor = fornecedores.id_fornecedor AND\n",
        "    fornecedores.pais = 'Indonésia';"
      ]
    },
    {
      "cell_type": "markdown",
      "metadata": {},
      "source": [
        "f) Através de uma consulta selecionar os fornecedores residentes na Espanha"
      ]
    },
    {
      "cell_type": "code",
      "execution_count": 44,
      "metadata": {},
      "outputs": [
        {
          "data": {
            "text/html": [
              "<span style=\"None\">Running query in &#x27;sqlite:///Exercicio_Produtos.sqlite&#x27;</span>"
            ],
            "text/plain": [
              "Running query in 'sqlite:///Exercicio_Produtos.sqlite'"
            ]
          },
          "metadata": {},
          "output_type": "display_data"
        },
        {
          "data": {
            "text/html": [
              "<table>\n",
              "    <thead>\n",
              "        <tr>\n",
              "            <th>nome</th>\n",
              "            <th>pais</th>\n",
              "        </tr>\n",
              "    </thead>\n",
              "    <tbody>\n",
              "        <tr>\n",
              "            <td>Fast Logistics</td>\n",
              "            <td>Indonésia</td>\n",
              "        </tr>\n",
              "    </tbody>\n",
              "</table>"
            ],
            "text/plain": [
              "+----------------+-----------+\n",
              "|      nome      |    pais   |\n",
              "+----------------+-----------+\n",
              "| Fast Logistics | Indonésia |\n",
              "+----------------+-----------+"
            ]
          },
          "execution_count": 44,
          "metadata": {},
          "output_type": "execute_result"
        }
      ],
      "source": [
        "%%sql\n",
        "SELECT nome, pais FROM fornecedores WHERE pais = 'Indonésia';"
      ]
    },
    {
      "cell_type": "markdown",
      "metadata": {},
      "source": [
        "g) Através de uma consulta selecionar os fornecedores residentes na Espanha e em Madrid"
      ]
    },
    {
      "cell_type": "code",
      "execution_count": 45,
      "metadata": {},
      "outputs": [
        {
          "data": {
            "text/html": [
              "<span style=\"None\">Running query in &#x27;sqlite:///Exercicio_Produtos.sqlite&#x27;</span>"
            ],
            "text/plain": [
              "Running query in 'sqlite:///Exercicio_Produtos.sqlite'"
            ]
          },
          "metadata": {},
          "output_type": "display_data"
        },
        {
          "data": {
            "text/html": [
              "<table>\n",
              "    <thead>\n",
              "        <tr>\n",
              "            <th>nome</th>\n",
              "            <th>pais</th>\n",
              "        </tr>\n",
              "    </thead>\n",
              "    <tbody>\n",
              "        <tr>\n",
              "            <td>ElectroParts</td>\n",
              "            <td>Espanha</td>\n",
              "        </tr>\n",
              "    </tbody>\n",
              "</table>"
            ],
            "text/plain": [
              "+--------------+---------+\n",
              "|     nome     |   pais  |\n",
              "+--------------+---------+\n",
              "| ElectroParts | Espanha |\n",
              "+--------------+---------+"
            ]
          },
          "execution_count": 45,
          "metadata": {},
          "output_type": "execute_result"
        }
      ],
      "source": [
        "%%sql\n",
        "SELECT nome, pais FROM fornecedores WHERE pais = 'Espanha' and cidade = 'Madrid';"
      ]
    },
    {
      "cell_type": "markdown",
      "metadata": {},
      "source": [
        "***\n",
        "# end of doc"
      ]
    }
  ],
  "metadata": {
    "colab": {
      "provenance": [],
      "toc_visible": true
    },
    "kernelspec": {
      "display_name": "FundamentosSQL",
      "language": "python",
      "name": "python3"
    },
    "language_info": {
      "codemirror_mode": {
        "name": "ipython",
        "version": 3
      },
      "file_extension": ".py",
      "mimetype": "text/x-python",
      "name": "python",
      "nbconvert_exporter": "python",
      "pygments_lexer": "ipython3",
      "version": "3.13.5"
    }
  },
  "nbformat": 4,
  "nbformat_minor": 0
}
