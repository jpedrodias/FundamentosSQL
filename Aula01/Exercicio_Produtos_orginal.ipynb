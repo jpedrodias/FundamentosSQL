{
  "cells": [
    {
      "cell_type": "markdown",
      "metadata": {
        "id": "fqFbOq6Q-qrD"
      },
      "source": [
        "# 1 - Configuração do ambiente e base de dados de desenvolvimento"
      ]
    },
    {
      "cell_type": "markdown",
      "metadata": {
        "id": "e2Jnb1_xs870"
      },
      "source": [
        "* Instalação do módulo jupysql"
      ]
    },
    {
      "cell_type": "code",
      "execution_count": null,
      "metadata": {
        "colab": {
          "base_uri": "https://localhost:8080/"
        },
        "collapsed": true,
        "id": "Z4-uEGpAAMki",
        "outputId": "67724b88-d688-4e10-a79d-1fb00fbb1331"
      },
      "outputs": [],
      "source": [
        "!pip install jupysql"
      ]
    },
    {
      "cell_type": "markdown",
      "metadata": {
        "id": "5XHl3GjcszS8"
      },
      "source": [
        "* Carregamento da extensão *sql*  "
      ]
    },
    {
      "cell_type": "code",
      "execution_count": null,
      "metadata": {
        "id": "oxp5rVxFAyo4"
      },
      "outputs": [],
      "source": [
        "%load_ext sql"
      ]
    },
    {
      "cell_type": "markdown",
      "metadata": {
        "id": "ojJ3fxWdYDL3"
      },
      "source": [
        "* Conexão à base base de dados(se não existir é criada):\n",
        "\n"
      ]
    },
    {
      "cell_type": "code",
      "execution_count": null,
      "metadata": {
        "colab": {
          "base_uri": "https://localhost:8080/",
          "height": 34
        },
        "id": "SJU7WWKMA-Uc",
        "outputId": "3f402088-6b3d-4ed5-e909-14996e26568c"
      },
      "outputs": [],
      "source": [
        "%sql sqlite:///Minha_BD_Testes.db"
      ]
    },
    {
      "cell_type": "markdown",
      "metadata": {
        "id": "dV7zMAeoFcMs"
      },
      "source": [
        "# 2 - Implementação do modelo de dados"
      ]
    },
    {
      "cell_type": "markdown",
      "metadata": {
        "id": "CJRfYGvfN0rY"
      },
      "source": [
        "\n",
        "a) Definição da tabela \"Clientes\"\n",
        "```sql\n",
        "%%sql  \n",
        "CREATE TABLE IF NOT EXISTS produtos (  \n",
        "    id INTEGER PRIMARY KEY,  \n",
        "    nome TEXT ,  \n",
        "    preco REAL,  \n",
        "    unidades INTEGER  \n",
        ");\n",
        "```\n",
        "\n",
        "\n",
        "```sql \n",
        "DROP TABLE IF EXISTS produtos;\n",
        "```\n",
        "\n",
        "No SQLite, o tipo TEXT pode armazenar até 2^31 - 1 bytes, ou seja, 2.147.483. 647 bytes (aproximadamente 2 GB) de dados.  "
      ]
    },
    {
      "cell_type": "markdown",
      "metadata": {
        "id": "NVG4pBCkn-cD"
      },
      "source": [
        "b) Verificar se a tabela existe na base de dados  \n",
        "```sql\n",
        "SELECT name FROM sqlite_master WHERE type=\"produtos\";\n",
        "```  "
      ]
    },
    {
      "cell_type": "markdown",
      "metadata": {
        "id": "pcff0oNQcKOX"
      },
      "source": [
        "c) Popular a tabela \"Produtos\"(através da instrução *DML insert*)  \n",
        "```sql\n",
        "INSERT INTO produtos (id,nome, preco, unidades) VALUES (1,'Notebook', 3500.00, 10);  \n",
        "INSERT INTO produtos (id,nome, preco, unidades) VALUES (2,'Smartphone', 2500.00, 20);  \n",
        "INSERT INTO produtos (id,nome, preco, unidades) VALUES (3,'Mouse', 50.00, 100);  \n",
        "INSERT INTO produtos (id,nome, preco, unidades) VALUES (4,'Teclado', 120.00, 50);\n",
        "```"
      ]
    },
    {
      "cell_type": "code",
      "execution_count": null,
      "metadata": {
        "colab": {
          "base_uri": "https://localhost:8080/",
          "height": 34
        },
        "id": "bbeCSNXufw4B",
        "outputId": "dc43be8b-bcd3-4a15-cec7-32393cdc96dc"
      },
      "outputs": [],
      "source": [
        "%%sql\n",
        "CREATE TABLE produtos (\n",
        "    numero INTEGER,\n",
        "    nome text ,\n",
        "    preco real,\n",
        "    unidades INteger\n",
        ")"
      ]
    },
    {
      "cell_type": "code",
      "execution_count": null,
      "metadata": {
        "colab": {
          "base_uri": "https://localhost:8080/",
          "height": 104
        },
        "id": "YsYFyJvDl6vF",
        "outputId": "0ee3d6c7-bb33-4a6c-9682-0a1b607b5581"
      },
      "outputs": [],
      "source": [
        "%%sql\n",
        "INSERT INTO produtos (numero,nome, preco, unidades) VALUES (1,'Notebook', 3500.00, 10);\n",
        "INSERT INTO produtos (numero,nome, preco, unidades) VALUES (2,'Smartphone', 2500.00, 20);\n",
        "INSERT INTO produtos (numero,nome, preco, unidades) VALUES (3,'Mouse', 50.00, 100);\n",
        "INSERT INTO produtos (numero,nome, preco, unidades) VALUES (4,'Teclado', 120.00, 50);"
      ]
    },
    {
      "cell_type": "markdown",
      "metadata": {
        "id": "FJDqZ1k3giQ_"
      },
      "source": [
        "d) Efetuar uma consulta à tabela `Produtos`"
      ]
    },
    {
      "cell_type": "code",
      "execution_count": null,
      "metadata": {
        "colab": {
          "base_uri": "https://localhost:8080/",
          "height": 143
        },
        "id": "hQJbRrxxgrEa",
        "outputId": "308aad27-c925-4914-d6bb-fbf222de96f9"
      },
      "outputs": [],
      "source": [
        "%%sql\n",
        "SELECT * FROM produtos"
      ]
    },
    {
      "cell_type": "markdown",
      "metadata": {
        "id": "kyMLN-Moyfbk"
      },
      "source": [
        "e) Através de uma consulta selecionar os produtos com preço igual a 50"
      ]
    },
    {
      "cell_type": "code",
      "execution_count": null,
      "metadata": {
        "id": "zAKEqmTLyy07"
      },
      "outputs": [],
      "source": []
    },
    {
      "cell_type": "markdown",
      "metadata": {
        "id": "G8rsEld6yy9N"
      },
      "source": [
        "f) Através de uma consulta selecionar os produtos com preço igual a 50 e com 100 unidades"
      ]
    },
    {
      "cell_type": "code",
      "execution_count": null,
      "metadata": {
        "id": "8rrvRTOky7Hh"
      },
      "outputs": [],
      "source": []
    },
    {
      "cell_type": "markdown",
      "metadata": {
        "id": "BkvHSfx8grrt"
      },
      "source": [
        "g) Eliminar a tabela `Produtos` da base de dados e recriar a tabela com as seguintes definições:     \n",
        "```sql\n",
        "CREATE TABLE IF NOT EXISTS produtos (  \n",
        "    id INTEGER PRIMARY KEY AUTOINCREMENT,  \n",
        "    nome TEXT NOT NULL,  \n",
        "    preco REAL NOT NULL,  \n",
        "    unidades INTEGER  \n",
        ");\n",
        "```"
      ]
    },
    {
      "cell_type": "code",
      "execution_count": null,
      "metadata": {
        "id": "1cYEz5zgq1B5"
      },
      "outputs": [],
      "source": []
    },
    {
      "cell_type": "markdown",
      "metadata": {
        "id": "pSAAY8scq1Lp"
      },
      "source": [
        "h) Popular novamente a tabela `Produtos`  \n",
        "```sql\n",
        "INSERT INTO produtos (nome, preco, unidades) VALUES ('Notebook', 3500.00, 10);  \n",
        "INSERT INTO produtos (nome, preco, unidades) VALUES ('Smartphone', 2500.00, 20);  \n",
        "INSERT INTO produtos (nome, preco, unidades) VALUES ('Mouse', 50.00, 100);  \n",
        "INSERT INTO produtos (nome, preco, unidades) VALUES ('Teclado', 120.00, 50);\n",
        "```"
      ]
    },
    {
      "cell_type": "markdown",
      "metadata": {
        "id": "KLw-pMYPultF"
      },
      "source": [
        "i) Definir a tabela `Categorias`  "
      ]
    },
    {
      "cell_type": "code",
      "execution_count": null,
      "metadata": {
        "colab": {
          "base_uri": "https://localhost:8080/",
          "height": 34
        },
        "id": "0oVALrkzqr1R",
        "outputId": "fa1bab7b-aa70-462d-c0be-7494f26734ae"
      },
      "outputs": [],
      "source": [
        "%%sql\n",
        "CREATE TABLE Categorias (\n",
        "    id_categoria INTEGER PRIMARY KEY AUTOINCREMENT,\n",
        "    nome TEXT NOT NULL\n",
        ");"
      ]
    },
    {
      "cell_type": "markdown",
      "metadata": {
        "id": "L1A4448QvZir"
      },
      "source": [
        "j) Popular a tabela `Categorias`     "
      ]
    },
    {
      "cell_type": "code",
      "execution_count": null,
      "metadata": {
        "colab": {
          "base_uri": "https://localhost:8080/",
          "height": 104
        },
        "id": "rdaeAVKpoLQ3",
        "outputId": "bee3d3cc-2e13-496b-c19c-ce5359b56be4"
      },
      "outputs": [],
      "source": [
        "%%sql\n",
        "INSERT INTO Categorias (nome) VALUES ('Eletrónica');\n",
        "INSERT INTO Categorias (nome) VALUES ('Roupa');\n",
        "INSERT INTO Categorias (nome) VALUES ('Calçado');\n",
        "INSERT INTO Categorias (nome) VALUES ('Móveis');"
      ]
    },
    {
      "cell_type": "code",
      "execution_count": null,
      "metadata": {
        "id": "0lpApbHwt3iO"
      },
      "outputs": [],
      "source": []
    },
    {
      "cell_type": "markdown",
      "metadata": {
        "id": "mCJSfp7m0iKo"
      },
      "source": [
        "k) Definir a tabela \"Fornecedores\"  \n",
        "```sql\n",
        "CREATE TABLE Fornecedores (  \n",
        "    id_fornecedor INTEGER PRIMARY KEY AUTOINCREMENT,  \n",
        "    nome VARCHAR(50) NOT NULL,   \n",
        "    endereco VARCHAR(128),  \n",
        "    cidade VARCHAR(20),  \n",
        "    pais   VARCHAR(30),  \n",
        "    telefone VARCHAR(16),  \n",
        "    email VARCHAR(30)  \n",
        ");\n",
        "```"
      ]
    },
    {
      "cell_type": "code",
      "execution_count": null,
      "metadata": {
        "id": "N491mDyO0q_G"
      },
      "outputs": [],
      "source": []
    },
    {
      "cell_type": "markdown",
      "metadata": {
        "id": "Eu9DwETRWctS"
      },
      "source": [
        "l) Popular a tabela `Fornecedores`  \n",
        "```sql\n",
        "INSERT INTO Fornecedores (nome, endereco, cidade, pais, telefone, email)\n",
        "VALUES ('Tech Solutions', 'Av. Paulista, 1000', 'São Paulo', 'Brasil', '+55 11   98765-4321', 'contato@techsolutions.com');\n",
        "\n",
        "INSERT INTO Fornecedores (nome, endereco, cidade, pais, telefone, email)\n",
        "VALUES ('Global Supplies', '123 Main St', 'New York', 'EUA', '+1 212-555-7890',   'sales@globalsupplies.com');\n",
        "\n",
        "INSERT INTO Fornecedores (nome, endereco, cidade, pais, telefone, email)\n",
        "VALUES ('ElectroParts', 'Calle Mayor, 45', 'Madrid', 'Espanha', '+34 91 123   4567', 'info@electroparts.es');\n",
        "\n",
        "INSERT INTO Fornecedores (nome, endereco, cidade, pais, telefone, email)\n",
        "VALUES ('MegaCom', 'Rua das Flores, 500', 'Lisboa', 'Portugal', '+351 21 456   7890', 'support@megacom.pt');\n",
        "\n",
        "INSERT INTO Fornecedores (nome, endereco, cidade, pais, telefone, email)\n",
        "VALUES ('Fast Logistics', 'Jalan Sudirman, 12', 'Jacarta', 'Indonésia', '+62 21   8765 4321', 'contact@fastlogistics.co.id');\n",
        "```"
      ]
    },
    {
      "cell_type": "code",
      "execution_count": null,
      "metadata": {
        "id": "wcT1pF8-Wjz_"
      },
      "outputs": [],
      "source": []
    },
    {
      "cell_type": "markdown",
      "metadata": {
        "id": "EnAjz-2jc3dr"
      },
      "source": [
        "m) Através de uma consulta selecionar os fornecedores residentes na Espanha"
      ]
    },
    {
      "cell_type": "code",
      "execution_count": null,
      "metadata": {
        "id": "kvqBdWqldA1p"
      },
      "outputs": [],
      "source": []
    },
    {
      "cell_type": "markdown",
      "metadata": {
        "id": "hDR-WzlbdFZI"
      },
      "source": [
        "n) Através de uma consulta selecionar os fornecedores residentes na Espanha e em Madrid"
      ]
    },
    {
      "cell_type": "code",
      "execution_count": null,
      "metadata": {
        "id": "W2J14Sm8eF4B"
      },
      "outputs": [],
      "source": []
    },
    {
      "cell_type": "code",
      "execution_count": null,
      "metadata": {
        "id": "Nv89Kr_seGQ_"
      },
      "outputs": [],
      "source": []
    },
    {
      "cell_type": "markdown",
      "metadata": {
        "id": "z_nAgGidgywf"
      },
      "source": [
        "o) Redefinir a tabela `PRODUTOS`, agora com a nova coluna `ID_CATEGORIA`: chave estrangeira para `CATEGORIA.ID_CATEGORIA`\n",
        "```sql\n",
        "CREATE TABLE IF NOT EXISTS produtos (  \n",
        "    id INTEGER PRIMARY KEY,  \n",
        "    nome TEXT ,  \n",
        "    preco REAL,  \n",
        "    unidades INTEGER,  \n",
        "    id_categoria INTEGER,  \n",
        "    FOREIGN KEY (id_categoria) REFERENCES CATEGORIA(id_categoria)  \n",
        ");\n",
        "```"
      ]
    },
    {
      "cell_type": "code",
      "execution_count": null,
      "metadata": {
        "id": "_UEJoz9en15Y"
      },
      "outputs": [],
      "source": []
    },
    {
      "cell_type": "markdown",
      "metadata": {
        "id": "rc8NR_ASnzK8"
      },
      "source": [
        "p) Popular a tabela `PRODUTOS` de acordo com a nova estrutura"
      ]
    },
    {
      "cell_type": "code",
      "execution_count": null,
      "metadata": {
        "id": "hSZTTY_mn0TY"
      },
      "outputs": [],
      "source": []
    },
    {
      "cell_type": "markdown",
      "metadata": {
        "id": "XTVfq4KgoAMv"
      },
      "source": [
        "q) Através de uma consulta apresentar o nome do produto e nome da categoria dos produtos com mais de 100 unidades em *stock*"
      ]
    },
    {
      "cell_type": "code",
      "execution_count": null,
      "metadata": {
        "id": "lNLq85uMoV-r"
      },
      "outputs": [],
      "source": []
    },
    {
      "cell_type": "markdown",
      "metadata": {
        "id": "uIqIN8Mrnxwk"
      },
      "source": [
        "r) Redefinir a tabela `\"PRODUTOS\"`, agora com a nova coluna `ID_FORNECEDOR`: chave estrangeira para `FORNECEDORES.ID_FORNECEDOR`  \n",
        "\n",
        "```sql\n",
        "CREATE TABLE IF NOT EXISTS produtos (  \n",
        "    id INTEGER PRIMARY KEY,  \n",
        "    nome TEXT ,  \n",
        "    preco REAL,  \n",
        "    unidades INTEGER,  \n",
        "    id_categoria INTEGER,\n",
        "    id_fornecedor INTEGER,  \n",
        "    FOREIGN KEY (id_categoria) REFERENCES CATEGORIAS(id_categoria),  \n",
        "    FOREIGN KEY (id_fornecedor) REFERENCES FORNECEDORES(id_fornecedor)    \n",
        ");\n",
        "```"
      ]
    },
    {
      "cell_type": "code",
      "execution_count": null,
      "metadata": {
        "id": "ozgbdEPXoojn"
      },
      "outputs": [],
      "source": []
    },
    {
      "cell_type": "markdown",
      "metadata": {
        "id": "o6K7SfrRoyox"
      },
      "source": [
        "s) Popular a tabela `PRODUTOS` de acordo com a nova estrutura"
      ]
    },
    {
      "cell_type": "code",
      "execution_count": null,
      "metadata": {
        "id": "ugyfSGuKo0F6"
      },
      "outputs": [],
      "source": []
    },
    {
      "cell_type": "markdown",
      "metadata": {
        "id": "-Al7T70Qo0P6"
      },
      "source": [
        "t) Através de uma consulta apresentar o nome do produto e nome do fornecedor dos produtos em que o fornecedor reside na Indonésia"
      ]
    },
    {
      "cell_type": "code",
      "execution_count": null,
      "metadata": {
        "id": "jPh7F_q7pIHG"
      },
      "outputs": [],
      "source": []
    }
  ],
  "metadata": {
    "colab": {
      "provenance": [],
      "toc_visible": true
    },
    "kernelspec": {
      "display_name": "Python 3",
      "name": "python3"
    },
    "language_info": {
      "name": "python"
    }
  },
  "nbformat": 4,
  "nbformat_minor": 0
}
