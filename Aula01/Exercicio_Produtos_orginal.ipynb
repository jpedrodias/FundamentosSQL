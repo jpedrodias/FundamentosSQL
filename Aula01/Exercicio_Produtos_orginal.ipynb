{
  "nbformat": 4,
  "nbformat_minor": 0,
  "metadata": {
    "colab": {
      "provenance": [],
      "toc_visible": true
    },
    "kernelspec": {
      "name": "python3",
      "display_name": "Python 3"
    },
    "language_info": {
      "name": "python"
    }
  },
  "cells": [
    {
      "cell_type": "markdown",
      "source": [
        "# 1 - Configuração do ambiente e base de dados de desenvolvimento"
      ],
      "metadata": {
        "id": "fqFbOq6Q-qrD"
      }
    },
    {
      "cell_type": "markdown",
      "source": [
        "* Instalação do módulo jupysql"
      ],
      "metadata": {
        "id": "e2Jnb1_xs870"
      }
    },
    {
      "cell_type": "code",
      "execution_count": 1,
      "metadata": {
        "colab": {
          "base_uri": "https://localhost:8080/"
        },
        "collapsed": true,
        "id": "Z4-uEGpAAMki",
        "outputId": "67724b88-d688-4e10-a79d-1fb00fbb1331"
      },
      "outputs": [
        {
          "output_type": "stream",
          "name": "stdout",
          "text": [
            "Collecting jupysql\n",
            "  Downloading jupysql-0.11.1-py3-none-any.whl.metadata (5.9 kB)\n",
            "Requirement already satisfied: prettytable>=3.12.0 in /usr/local/lib/python3.11/dist-packages (from jupysql) (3.16.0)\n",
            "Requirement already satisfied: sqlalchemy in /usr/local/lib/python3.11/dist-packages (from jupysql) (2.0.41)\n",
            "Requirement already satisfied: sqlparse in /usr/local/lib/python3.11/dist-packages (from jupysql) (0.5.3)\n",
            "Requirement already satisfied: ipython-genutils>=0.1.0 in /usr/local/lib/python3.11/dist-packages (from jupysql) (0.2.0)\n",
            "Requirement already satisfied: jinja2 in /usr/local/lib/python3.11/dist-packages (from jupysql) (3.1.6)\n",
            "Requirement already satisfied: sqlglot>=11.3.7 in /usr/local/lib/python3.11/dist-packages (from jupysql) (25.20.2)\n",
            "Collecting jupysql-plugin>=0.4.2 (from jupysql)\n",
            "  Downloading jupysql_plugin-0.4.5-py3-none-any.whl.metadata (7.8 kB)\n",
            "Collecting ploomber-core>=0.2.7 (from jupysql)\n",
            "  Downloading ploomber_core-0.2.26-py3-none-any.whl.metadata (527 bytes)\n",
            "Requirement already satisfied: pyyaml in /usr/local/lib/python3.11/dist-packages (from ploomber-core>=0.2.7->jupysql) (6.0.2)\n",
            "Collecting posthog (from ploomber-core>=0.2.7->jupysql)\n",
            "  Downloading posthog-5.0.0-py3-none-any.whl.metadata (4.9 kB)\n",
            "Requirement already satisfied: wcwidth in /usr/local/lib/python3.11/dist-packages (from prettytable>=3.12.0->jupysql) (0.2.13)\n",
            "Requirement already satisfied: MarkupSafe>=2.0 in /usr/local/lib/python3.11/dist-packages (from jinja2->jupysql) (3.0.2)\n",
            "Requirement already satisfied: greenlet>=1 in /usr/local/lib/python3.11/dist-packages (from sqlalchemy->jupysql) (3.2.3)\n",
            "Requirement already satisfied: typing-extensions>=4.6.0 in /usr/local/lib/python3.11/dist-packages (from sqlalchemy->jupysql) (4.14.0)\n",
            "Requirement already satisfied: requests<3.0,>=2.7 in /usr/local/lib/python3.11/dist-packages (from posthog->ploomber-core>=0.2.7->jupysql) (2.32.3)\n",
            "Requirement already satisfied: six>=1.5 in /usr/local/lib/python3.11/dist-packages (from posthog->ploomber-core>=0.2.7->jupysql) (1.17.0)\n",
            "Requirement already satisfied: python-dateutil>=2.2 in /usr/local/lib/python3.11/dist-packages (from posthog->ploomber-core>=0.2.7->jupysql) (2.9.0.post0)\n",
            "Collecting backoff>=1.10.0 (from posthog->ploomber-core>=0.2.7->jupysql)\n",
            "  Downloading backoff-2.2.1-py3-none-any.whl.metadata (14 kB)\n",
            "Requirement already satisfied: distro>=1.5.0 in /usr/local/lib/python3.11/dist-packages (from posthog->ploomber-core>=0.2.7->jupysql) (1.9.0)\n",
            "Requirement already satisfied: charset-normalizer<4,>=2 in /usr/local/lib/python3.11/dist-packages (from requests<3.0,>=2.7->posthog->ploomber-core>=0.2.7->jupysql) (3.4.2)\n",
            "Requirement already satisfied: idna<4,>=2.5 in /usr/local/lib/python3.11/dist-packages (from requests<3.0,>=2.7->posthog->ploomber-core>=0.2.7->jupysql) (3.10)\n",
            "Requirement already satisfied: urllib3<3,>=1.21.1 in /usr/local/lib/python3.11/dist-packages (from requests<3.0,>=2.7->posthog->ploomber-core>=0.2.7->jupysql) (2.4.0)\n",
            "Requirement already satisfied: certifi>=2017.4.17 in /usr/local/lib/python3.11/dist-packages (from requests<3.0,>=2.7->posthog->ploomber-core>=0.2.7->jupysql) (2025.4.26)\n",
            "Downloading jupysql-0.11.1-py3-none-any.whl (95 kB)\n",
            "\u001b[2K   \u001b[90m━━━━━━━━━━━━━━━━━━━━━━━━━━━━━━━━━━━━━━━━\u001b[0m \u001b[32m95.1/95.1 kB\u001b[0m \u001b[31m2.5 MB/s\u001b[0m eta \u001b[36m0:00:00\u001b[0m\n",
            "\u001b[?25hDownloading jupysql_plugin-0.4.5-py3-none-any.whl (192 kB)\n",
            "\u001b[2K   \u001b[90m━━━━━━━━━━━━━━━━━━━━━━━━━━━━━━━━━━━━━━━━\u001b[0m \u001b[32m192.8/192.8 kB\u001b[0m \u001b[31m7.3 MB/s\u001b[0m eta \u001b[36m0:00:00\u001b[0m\n",
            "\u001b[?25hDownloading ploomber_core-0.2.26-py3-none-any.whl (22 kB)\n",
            "Downloading posthog-5.0.0-py3-none-any.whl (100 kB)\n",
            "\u001b[2K   \u001b[90m━━━━━━━━━━━━━━━━━━━━━━━━━━━━━━━━━━━━━━━━\u001b[0m \u001b[32m100.0/100.0 kB\u001b[0m \u001b[31m5.3 MB/s\u001b[0m eta \u001b[36m0:00:00\u001b[0m\n",
            "\u001b[?25hDownloading backoff-2.2.1-py3-none-any.whl (15 kB)\n",
            "Installing collected packages: backoff, posthog, ploomber-core, jupysql-plugin, jupysql\n",
            "Successfully installed backoff-2.2.1 jupysql-0.11.1 jupysql-plugin-0.4.5 ploomber-core-0.2.26 posthog-5.0.0\n"
          ]
        }
      ],
      "source": [
        "!pip install jupysql"
      ]
    },
    {
      "cell_type": "markdown",
      "source": [
        "* Carregamento da extensão *sql*  "
      ],
      "metadata": {
        "id": "5XHl3GjcszS8"
      }
    },
    {
      "cell_type": "code",
      "source": [
        "%load_ext sql"
      ],
      "metadata": {
        "id": "oxp5rVxFAyo4"
      },
      "execution_count": 2,
      "outputs": []
    },
    {
      "cell_type": "markdown",
      "source": [
        "* Conexão à base base de dados(se não existir é criada):\n",
        "\n"
      ],
      "metadata": {
        "id": "ojJ3fxWdYDL3"
      }
    },
    {
      "cell_type": "code",
      "source": [
        "%sql sqlite:///Minha_BD_Testes.db"
      ],
      "metadata": {
        "id": "SJU7WWKMA-Uc",
        "colab": {
          "base_uri": "https://localhost:8080/",
          "height": 34
        },
        "outputId": "3f402088-6b3d-4ed5-e909-14996e26568c"
      },
      "execution_count": 3,
      "outputs": [
        {
          "output_type": "display_data",
          "data": {
            "text/plain": [
              "Connecting to 'sqlite:///Minha_BD_Testes.db'"
            ],
            "text/html": [
              "<span style=\"None\">Connecting to &#x27;sqlite:///Minha_BD_Testes.db&#x27;</span>"
            ]
          },
          "metadata": {}
        }
      ]
    },
    {
      "cell_type": "markdown",
      "source": [
        "# 2 - Implementação do modelo de dados"
      ],
      "metadata": {
        "id": "dV7zMAeoFcMs"
      }
    },
    {
      "cell_type": "markdown",
      "source": [
        "\n",
        "a) Definição da tabela \"Clientes\"\n",
        "  \n",
        "*%%sql  \n",
        "CREATE TABLE IF NOT EXISTS produtos (  \n",
        "    id INTEGER PRIMARY KEY,  \n",
        "    nome TEXT ,  \n",
        "    preco REAL,  \n",
        "    unidades INTEGER  \n",
        ");*  \n",
        "  \n",
        "*DROP TABLE IF EXISTS produtos;*  \n",
        "\n",
        "No SQLite, o tipo TEXT pode armazenar até 2^31 - 1 bytes, ou seja, 2.147.483. 647 bytes (aproximadamente 2 GB) de dados.  "
      ],
      "metadata": {
        "id": "CJRfYGvfN0rY"
      }
    },
    {
      "cell_type": "markdown",
      "source": [
        "b) Verificar se a tabela existe na base de dados  \n",
        "  *SELECT name FROM sqlite_master WHERE type=\"produtos\";*    "
      ],
      "metadata": {
        "id": "NVG4pBCkn-cD"
      }
    },
    {
      "cell_type": "markdown",
      "source": [
        "c) Popular a tabela \"Produtos\"(através da instrução *DML insert*)  \n",
        "*INSERT INTO produtos (id,nome, preco, unidades) VALUES (1,'Notebook', 3500.00, 10);  \n",
        "INSERT INTO produtos (id,nome, preco, unidades) VALUES (2,'Smartphone', 2500.00, 20);  \n",
        "INSERT INTO produtos (id,nome, preco, unidades) VALUES (3,'Mouse', 50.00, 100);  \n",
        "INSERT INTO produtos (id,nome, preco, unidades) VALUES (4,'Teclado', 120.00, 50);*  "
      ],
      "metadata": {
        "id": "pcff0oNQcKOX"
      }
    },
    {
      "cell_type": "code",
      "source": [
        "%%sql\n",
        "CREATE TABLE produtos (\n",
        "numero INTEGER,\n",
        "nome text ,\n",
        "preco real,\n",
        "unidades INteger\n",
        ")"
      ],
      "metadata": {
        "id": "bbeCSNXufw4B",
        "colab": {
          "base_uri": "https://localhost:8080/",
          "height": 34
        },
        "outputId": "dc43be8b-bcd3-4a15-cec7-32393cdc96dc"
      },
      "execution_count": 4,
      "outputs": [
        {
          "output_type": "display_data",
          "data": {
            "text/plain": [
              "Running query in 'sqlite:///Minha_BD_Testes.db'"
            ],
            "text/html": [
              "<span style=\"None\">Running query in &#x27;sqlite:///Minha_BD_Testes.db&#x27;</span>"
            ]
          },
          "metadata": {}
        },
        {
          "output_type": "execute_result",
          "data": {
            "text/plain": [
              "++\n",
              "||\n",
              "++\n",
              "++"
            ],
            "text/html": [
              "<table>\n",
              "    <thead>\n",
              "        <tr>\n",
              "        </tr>\n",
              "    </thead>\n",
              "    <tbody>\n",
              "    </tbody>\n",
              "</table>"
            ]
          },
          "metadata": {},
          "execution_count": 4
        }
      ]
    },
    {
      "cell_type": "code",
      "source": [
        "%%sql\n",
        "INSERT INTO produtos (numero,nome, preco, unidades) VALUES (1,'Notebook', 3500.00, 10);\n",
        "INSERT INTO produtos (numero,nome, preco, unidades) VALUES (2,'Smartphone', 2500.00, 20);\n",
        "INSERT INTO produtos (numero,nome, preco, unidades) VALUES (3,'Mouse', 50.00, 100);\n",
        "INSERT INTO produtos (numero,nome, preco, unidades) VALUES (4,'Teclado', 120.00, 50);"
      ],
      "metadata": {
        "colab": {
          "base_uri": "https://localhost:8080/",
          "height": 104
        },
        "id": "YsYFyJvDl6vF",
        "outputId": "0ee3d6c7-bb33-4a6c-9682-0a1b607b5581"
      },
      "execution_count": 6,
      "outputs": [
        {
          "output_type": "display_data",
          "data": {
            "text/plain": [
              "Running query in 'sqlite:///Minha_BD_Testes.db'"
            ],
            "text/html": [
              "<span style=\"None\">Running query in &#x27;sqlite:///Minha_BD_Testes.db&#x27;</span>"
            ]
          },
          "metadata": {}
        },
        {
          "output_type": "display_data",
          "data": {
            "text/plain": [
              "1 rows affected."
            ],
            "text/html": [
              "<span style=\"color: green\">1 rows affected.</span>"
            ]
          },
          "metadata": {}
        },
        {
          "output_type": "display_data",
          "data": {
            "text/plain": [
              "1 rows affected."
            ],
            "text/html": [
              "<span style=\"color: green\">1 rows affected.</span>"
            ]
          },
          "metadata": {}
        },
        {
          "output_type": "display_data",
          "data": {
            "text/plain": [
              "1 rows affected."
            ],
            "text/html": [
              "<span style=\"color: green\">1 rows affected.</span>"
            ]
          },
          "metadata": {}
        },
        {
          "output_type": "display_data",
          "data": {
            "text/plain": [
              "1 rows affected."
            ],
            "text/html": [
              "<span style=\"color: green\">1 rows affected.</span>"
            ]
          },
          "metadata": {}
        },
        {
          "output_type": "execute_result",
          "data": {
            "text/plain": [
              "++\n",
              "||\n",
              "++\n",
              "++"
            ],
            "text/html": [
              "<table>\n",
              "    <thead>\n",
              "        <tr>\n",
              "        </tr>\n",
              "    </thead>\n",
              "    <tbody>\n",
              "    </tbody>\n",
              "</table>"
            ]
          },
          "metadata": {},
          "execution_count": 6
        }
      ]
    },
    {
      "cell_type": "markdown",
      "source": [
        "d) Efetuar uma consulta à tabela \"Produtos\""
      ],
      "metadata": {
        "id": "FJDqZ1k3giQ_"
      }
    },
    {
      "cell_type": "code",
      "source": [
        "%%sql\n",
        "SELECT * FROM produtos"
      ],
      "metadata": {
        "id": "hQJbRrxxgrEa",
        "colab": {
          "base_uri": "https://localhost:8080/",
          "height": 143
        },
        "outputId": "308aad27-c925-4914-d6bb-fbf222de96f9"
      },
      "execution_count": 7,
      "outputs": [
        {
          "output_type": "display_data",
          "data": {
            "text/plain": [
              "Running query in 'sqlite:///Minha_BD_Testes.db'"
            ],
            "text/html": [
              "<span style=\"None\">Running query in &#x27;sqlite:///Minha_BD_Testes.db&#x27;</span>"
            ]
          },
          "metadata": {}
        },
        {
          "output_type": "execute_result",
          "data": {
            "text/plain": [
              "+--------+------------+--------+----------+\n",
              "| numero |    nome    | preco  | unidades |\n",
              "+--------+------------+--------+----------+\n",
              "|   1    |  Notebook  | 3500.0 |    10    |\n",
              "|   2    | Smartphone | 2500.0 |    20    |\n",
              "|   3    |   Mouse    |  50.0  |   100    |\n",
              "|   4    |  Teclado   | 120.0  |    50    |\n",
              "+--------+------------+--------+----------+"
            ],
            "text/html": [
              "<table>\n",
              "    <thead>\n",
              "        <tr>\n",
              "            <th>numero</th>\n",
              "            <th>nome</th>\n",
              "            <th>preco</th>\n",
              "            <th>unidades</th>\n",
              "        </tr>\n",
              "    </thead>\n",
              "    <tbody>\n",
              "        <tr>\n",
              "            <td>1</td>\n",
              "            <td>Notebook</td>\n",
              "            <td>3500.0</td>\n",
              "            <td>10</td>\n",
              "        </tr>\n",
              "        <tr>\n",
              "            <td>2</td>\n",
              "            <td>Smartphone</td>\n",
              "            <td>2500.0</td>\n",
              "            <td>20</td>\n",
              "        </tr>\n",
              "        <tr>\n",
              "            <td>3</td>\n",
              "            <td>Mouse</td>\n",
              "            <td>50.0</td>\n",
              "            <td>100</td>\n",
              "        </tr>\n",
              "        <tr>\n",
              "            <td>4</td>\n",
              "            <td>Teclado</td>\n",
              "            <td>120.0</td>\n",
              "            <td>50</td>\n",
              "        </tr>\n",
              "    </tbody>\n",
              "</table>"
            ]
          },
          "metadata": {},
          "execution_count": 7
        }
      ]
    },
    {
      "cell_type": "markdown",
      "source": [
        "e) Através de uma consulta selecionar os produtos com preço igual a 50"
      ],
      "metadata": {
        "id": "kyMLN-Moyfbk"
      }
    },
    {
      "cell_type": "code",
      "source": [],
      "metadata": {
        "id": "zAKEqmTLyy07"
      },
      "execution_count": null,
      "outputs": []
    },
    {
      "cell_type": "markdown",
      "source": [
        "f) Através de uma consulta selecionar os produtos com preço igual a 50 e com 100 unidades"
      ],
      "metadata": {
        "id": "G8rsEld6yy9N"
      }
    },
    {
      "cell_type": "code",
      "source": [],
      "metadata": {
        "id": "8rrvRTOky7Hh"
      },
      "execution_count": null,
      "outputs": []
    },
    {
      "cell_type": "markdown",
      "source": [
        "g) Eliminar a tabela \"Produtos\" da base de dados e recriar a tabela com as seguintes definições:     \n",
        "*CREATE TABLE IF NOT EXISTS produtos (  \n",
        "id INTEGER PRIMARY KEY AUTOINCREMENT,  \n",
        "nome TEXT NOT NULL,  \n",
        "preco REAL NOT NULL,  \n",
        "unidades INTEGER  \n",
        ");*    \n"
      ],
      "metadata": {
        "id": "BkvHSfx8grrt"
      }
    },
    {
      "cell_type": "code",
      "source": [],
      "metadata": {
        "id": "1cYEz5zgq1B5"
      },
      "execution_count": null,
      "outputs": []
    },
    {
      "cell_type": "markdown",
      "source": [
        "h) Popular novamente a tabela \"Produtos\"  \n",
        "*INSERT INTO produtos (nome, preco, unidades) VALUES ('Notebook', 3500.00, 10);  \n",
        "INSERT INTO produtos (nome, preco, unidades) VALUES ('Smartphone', 2500.00, 20);  \n",
        "INSERT INTO produtos (nome, preco, unidades) VALUES ('Mouse', 50.00, 100);  \n",
        "INSERT INTO produtos (nome, preco, unidades) VALUES ('Teclado', 120.00, 50);*    "
      ],
      "metadata": {
        "id": "pSAAY8scq1Lp"
      }
    },
    {
      "cell_type": "markdown",
      "source": [
        "i) Definir a tabela \"Categorias\"  "
      ],
      "metadata": {
        "id": "KLw-pMYPultF"
      }
    },
    {
      "cell_type": "code",
      "source": [
        "%%sql\n",
        "CREATE TABLE Categorias (\n",
        "    id_categoria INTEGER PRIMARY KEY AUTOINCREMENT,\n",
        "    nome TEXT NOT NULL\n",
        ");"
      ],
      "metadata": {
        "colab": {
          "base_uri": "https://localhost:8080/",
          "height": 34
        },
        "id": "0oVALrkzqr1R",
        "outputId": "fa1bab7b-aa70-462d-c0be-7494f26734ae"
      },
      "execution_count": null,
      "outputs": [
        {
          "output_type": "display_data",
          "data": {
            "text/plain": [
              "Running query in 'sqlite:///Minha_BD_Testes.db'"
            ],
            "text/html": [
              "<span style=\"None\">Running query in &#x27;sqlite:///Minha_BD_Testes.db&#x27;</span>"
            ]
          },
          "metadata": {}
        },
        {
          "output_type": "execute_result",
          "data": {
            "text/plain": [
              "++\n",
              "||\n",
              "++\n",
              "++"
            ],
            "text/html": [
              "<table>\n",
              "    <thead>\n",
              "        <tr>\n",
              "        </tr>\n",
              "    </thead>\n",
              "    <tbody>\n",
              "    </tbody>\n",
              "</table>"
            ]
          },
          "metadata": {},
          "execution_count": 11
        }
      ]
    },
    {
      "cell_type": "markdown",
      "source": [
        "j) Popular a tabela \"Categorias\"     "
      ],
      "metadata": {
        "id": "L1A4448QvZir"
      }
    },
    {
      "cell_type": "code",
      "source": [
        "%%sql\n",
        "INSERT INTO Categorias (nome) VALUES ('Eletrónica');\n",
        "INSERT INTO Categorias (nome) VALUES ('Roupa');\n",
        "INSERT INTO Categorias (nome) VALUES ('Calçado');\n",
        "INSERT INTO Categorias (nome) VALUES ('Móveis');"
      ],
      "metadata": {
        "colab": {
          "base_uri": "https://localhost:8080/",
          "height": 104
        },
        "id": "rdaeAVKpoLQ3",
        "outputId": "bee3d3cc-2e13-496b-c19c-ce5359b56be4"
      },
      "execution_count": null,
      "outputs": [
        {
          "output_type": "display_data",
          "data": {
            "text/plain": [
              "Running query in 'sqlite:///Minha_BD_Testes.db'"
            ],
            "text/html": [
              "<span style=\"None\">Running query in &#x27;sqlite:///Minha_BD_Testes.db&#x27;</span>"
            ]
          },
          "metadata": {}
        },
        {
          "output_type": "display_data",
          "data": {
            "text/plain": [
              "1 rows affected."
            ],
            "text/html": [
              "<span style=\"color: green\">1 rows affected.</span>"
            ]
          },
          "metadata": {}
        },
        {
          "output_type": "display_data",
          "data": {
            "text/plain": [
              "1 rows affected."
            ],
            "text/html": [
              "<span style=\"color: green\">1 rows affected.</span>"
            ]
          },
          "metadata": {}
        },
        {
          "output_type": "display_data",
          "data": {
            "text/plain": [
              "1 rows affected."
            ],
            "text/html": [
              "<span style=\"color: green\">1 rows affected.</span>"
            ]
          },
          "metadata": {}
        },
        {
          "output_type": "display_data",
          "data": {
            "text/plain": [
              "1 rows affected."
            ],
            "text/html": [
              "<span style=\"color: green\">1 rows affected.</span>"
            ]
          },
          "metadata": {}
        },
        {
          "output_type": "execute_result",
          "data": {
            "text/plain": [
              "++\n",
              "||\n",
              "++\n",
              "++"
            ],
            "text/html": [
              "<table>\n",
              "    <thead>\n",
              "        <tr>\n",
              "        </tr>\n",
              "    </thead>\n",
              "    <tbody>\n",
              "    </tbody>\n",
              "</table>"
            ]
          },
          "metadata": {},
          "execution_count": 13
        }
      ]
    },
    {
      "cell_type": "code",
      "source": [],
      "metadata": {
        "id": "0lpApbHwt3iO"
      },
      "execution_count": null,
      "outputs": []
    },
    {
      "cell_type": "markdown",
      "source": [
        "k) Definir a tabela \"Fornecedores\"  \n",
        "*CREATE TABLE Fornecedores (  \n",
        "    id_fornecedor INTEGER PRIMARY KEY AUTOINCREMENT,  \n",
        "    nome VARCHAR(50) NOT NULL,   \n",
        "    endereco VARCHAR(128),  \n",
        "    cidade VARCHAR(20),  \n",
        "    pais   VARCHAR(30),  \n",
        "    telefone VARCHAR(16),  \n",
        "    email VARCHAR(30)  \n",
        ");*  "
      ],
      "metadata": {
        "id": "mCJSfp7m0iKo"
      }
    },
    {
      "cell_type": "code",
      "source": [],
      "metadata": {
        "id": "N491mDyO0q_G"
      },
      "execution_count": null,
      "outputs": []
    },
    {
      "cell_type": "markdown",
      "source": [
        "l) Popular a tabela \"Fornecedores\"  \n",
        "*INSERT INTO Fornecedores (nome, endereco, cidade, pais, telefone, email)   \n",
        "VALUES ('Tech Solutions', 'Av. Paulista, 1000', 'São Paulo', 'Brasil', '+55 11   98765-4321', 'contato@techsolutions.com');*  \n",
        "\n",
        "*INSERT INTO Fornecedores (nome, endereco, cidade, pais, telefone, email)   \n",
        "VALUES ('Global Supplies', '123 Main St', 'New York', 'EUA', '+1 212-555-7890',   'sales@globalsupplies.com');*    \n",
        "\n",
        "*INSERT INTO Fornecedores (nome, endereco, cidade, pais, telefone, email)   \n",
        "VALUES ('ElectroParts', 'Calle Mayor, 45', 'Madrid', 'Espanha', '+34 91 123   4567', 'info@electroparts.es');*    \n",
        "\n",
        "*INSERT INTO Fornecedores (nome, endereco, cidade, pais, telefone, email)   \n",
        "VALUES ('MegaCom', 'Rua das Flores, 500', 'Lisboa', 'Portugal', '+351 21 456   7890', 'support@megacom.pt');*    \n",
        "\n",
        "*INSERT INTO Fornecedores (nome, endereco, cidade, pais, telefone, email   \n",
        "VALUES ('Fast Logistics', 'Jalan Sudirman, 12', 'Jacarta', 'Indonésia', '+62 21   8765 4321', 'contact@fastlogistics.co.id');*  "
      ],
      "metadata": {
        "id": "Eu9DwETRWctS"
      }
    },
    {
      "cell_type": "code",
      "source": [],
      "metadata": {
        "id": "wcT1pF8-Wjz_"
      },
      "execution_count": null,
      "outputs": []
    },
    {
      "cell_type": "markdown",
      "source": [],
      "metadata": {
        "id": "6zTq0tvFWkvR"
      }
    },
    {
      "cell_type": "markdown",
      "source": [
        "m) Através de uma consulta selecionar os fornecedores residentes na Espanha"
      ],
      "metadata": {
        "id": "EnAjz-2jc3dr"
      }
    },
    {
      "cell_type": "code",
      "source": [],
      "metadata": {
        "id": "kvqBdWqldA1p"
      },
      "execution_count": null,
      "outputs": []
    },
    {
      "cell_type": "markdown",
      "source": [
        "n) Através de uma consulta selecionar os fornecedores residentes na Espanha e em Madrid"
      ],
      "metadata": {
        "id": "hDR-WzlbdFZI"
      }
    },
    {
      "cell_type": "code",
      "source": [],
      "metadata": {
        "id": "W2J14Sm8eF4B"
      },
      "execution_count": null,
      "outputs": []
    },
    {
      "cell_type": "code",
      "source": [],
      "metadata": {
        "id": "Nv89Kr_seGQ_"
      },
      "execution_count": null,
      "outputs": []
    },
    {
      "cell_type": "markdown",
      "source": [
        "o) Redefinir a tabela \"PRODUTOS\", agora com a nova coluna *ID_CATEGORIA*: chave estrangeira para \"CATEGORIA.ID_CATEGORIA\"\n",
        "\n",
        "*CREATE TABLE IF NOT EXISTS produtos (  \n",
        "id INTEGER PRIMARY KEY,  \n",
        "nome TEXT ,  \n",
        "preco REAL,  \n",
        "unidades INTEGER,  \n",
        "id_categoria INTEGER,  \n",
        "FOREIGN KEY (id_categoria) REFERENCES CATEGORIA(id_categoria)  \n",
        ");*  "
      ],
      "metadata": {
        "id": "z_nAgGidgywf"
      }
    },
    {
      "cell_type": "code",
      "source": [],
      "metadata": {
        "id": "_UEJoz9en15Y"
      },
      "execution_count": null,
      "outputs": []
    },
    {
      "cell_type": "markdown",
      "source": [
        "p) Popular a tabela \"PRODUTOS\" de acordo com a nova estrutura"
      ],
      "metadata": {
        "id": "rc8NR_ASnzK8"
      }
    },
    {
      "cell_type": "code",
      "source": [],
      "metadata": {
        "id": "hSZTTY_mn0TY"
      },
      "execution_count": null,
      "outputs": []
    },
    {
      "cell_type": "markdown",
      "source": [
        "q) Através de uma consulta apresentar o nome do produto e nome da categoria dos produtos com mais de 100 unidades em *stock*"
      ],
      "metadata": {
        "id": "XTVfq4KgoAMv"
      }
    },
    {
      "cell_type": "code",
      "source": [],
      "metadata": {
        "id": "lNLq85uMoV-r"
      },
      "execution_count": null,
      "outputs": []
    },
    {
      "cell_type": "markdown",
      "source": [
        "r) Redefinir a tabela \"PRODUTOS\", agora com a nova coluna *ID_FORNECEDOR*: chave estrangeira para \"FORNECEDORES.ID_FORNECEDOR\"  \n",
        "\n",
        "*CREATE TABLE IF NOT EXISTS produtos (  \n",
        "id INTEGER PRIMARY KEY,  \n",
        "nome TEXT ,  \n",
        "preco REAL,  \n",
        "unidades INTEGER,  \n",
        "id_categoria INTEGER,\n",
        "id_fornecedor INTEGER,  \n",
        "FOREIGN KEY (id_categoria) REFERENCES CATEGORIAS(id_categoria),  \n",
        "FOREIGN KEY (id_fornecedor) REFERENCES FORNECEDORES(id_fornecedor)    \n",
        ");*  "
      ],
      "metadata": {
        "id": "uIqIN8Mrnxwk"
      }
    },
    {
      "cell_type": "code",
      "source": [],
      "metadata": {
        "id": "ozgbdEPXoojn"
      },
      "execution_count": null,
      "outputs": []
    },
    {
      "cell_type": "markdown",
      "source": [
        "s) Popular a tabela \"PRODUTOS\" de acordo com a nova estrutura"
      ],
      "metadata": {
        "id": "o6K7SfrRoyox"
      }
    },
    {
      "cell_type": "code",
      "source": [],
      "metadata": {
        "id": "ugyfSGuKo0F6"
      },
      "execution_count": null,
      "outputs": []
    },
    {
      "cell_type": "markdown",
      "source": [
        "t) Através de uma consulta apresentar o nome do produto e nome do fornecedor dos produtos em que o fornecedor reside na Indonésia"
      ],
      "metadata": {
        "id": "-Al7T70Qo0P6"
      }
    },
    {
      "cell_type": "code",
      "source": [],
      "metadata": {
        "id": "jPh7F_q7pIHG"
      },
      "execution_count": null,
      "outputs": []
    }
  ]
}