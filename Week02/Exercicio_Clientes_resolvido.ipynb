{
  "cells": [
    {
      "cell_type": "markdown",
      "metadata": {
        "id": "fqFbOq6Q-qrD"
      },
      "source": [
        "# 1 - Configuração do ambiente e base de dados de desenvolvimento"
      ]
    },
    {
      "cell_type": "markdown",
      "metadata": {
        "id": "e2Jnb1_xs870"
      },
      "source": [
        "* Instalação do módulo jupysql"
      ]
    },
    {
      "cell_type": "code",
      "execution_count": null,
      "metadata": {
        "colab": {
          "base_uri": "https://localhost:8080/"
        },
        "id": "OyhukFtUy5_-",
        "outputId": "dc207d21-25d6-4fd9-b642-f9c4625a9705"
      },
      "outputs": [],
      "source": [
        "!pip install jupysql"
      ]
    },
    {
      "cell_type": "markdown",
      "metadata": {
        "id": "5XHl3GjcszS8"
      },
      "source": [
        "* Carregamento da extensão *sql*  "
      ]
    },
    {
      "cell_type": "code",
      "execution_count": null,
      "metadata": {
        "id": "oxp5rVxFAyo4"
      },
      "outputs": [],
      "source": [
        "%load_ext sql"
      ]
    },
    {
      "cell_type": "markdown",
      "metadata": {
        "id": "ojJ3fxWdYDL3"
      },
      "source": [
        "* Conexão à base base de dados(se não existir é criada):\n",
        "\n"
      ]
    },
    {
      "cell_type": "code",
      "execution_count": null,
      "metadata": {
        "colab": {
          "base_uri": "https://localhost:8080/",
          "height": 34
        },
        "id": "SJU7WWKMA-Uc",
        "outputId": "9103be52-495c-45c4-b45b-4bbf0cd7e2cf"
      },
      "outputs": [],
      "source": [
        "%sql sqlite:///Exercicio_Clientes.db"
      ]
    },
    {
      "cell_type": "markdown",
      "metadata": {
        "id": "dV7zMAeoFcMs"
      },
      "source": [
        "# 2 - Implementação do modelo de dados \"Clientes\""
      ]
    },
    {
      "cell_type": "markdown",
      "metadata": {
        "id": "Wka6QxoRLbjn"
      },
      "source": [
        "## Tabela \"Clientes\""
      ]
    },
    {
      "cell_type": "markdown",
      "metadata": {
        "id": "CJRfYGvfN0rY"
      },
      "source": [
        "\n",
        "a) Definição da tabela \"Clientes\"\n",
        "\n",
        "```sql\n",
        "DROP TABLE IF EXISTS clientes;\n",
        "```\n",
        "\n",
        "```sql\n",
        "%%sql  \n",
        "CREATE TABLE clientes (  \n",
        "    id INTEGER PRIMARY KEY AUTOINCREMENT,  \n",
        "    nome VARCHAR(128) NOT NULL,  \n",
        "    email VARCHAR(128),  \n",
        "    telefone VARCHAR(16),  \n",
        "    morada VARCHAR(128),  \n",
        "    cidade VARCHAR(32),  \n",
        "    codigo_postal VARCHAR(10),  \n",
        "    pais VARCHAR(32),  \n",
        "    data_registo DATE DEFAULT CURRENT_DATE  \n",
        ");\n",
        "```\n"
      ]
    },
    {
      "cell_type": "code",
      "execution_count": null,
      "metadata": {
        "colab": {
          "base_uri": "https://localhost:8080/",
          "height": 34
        },
        "id": "P8zag95JMDsp",
        "outputId": "d65e1dc3-fc6f-414a-eccf-e53d544f5909"
      },
      "outputs": [],
      "source": [
        "%%sql\n",
        "CREATE TABLE clientes (\n",
        "    id INTEGER PRIMARY KEY AUTOINCREMENT,\n",
        "    nome VARCHAR(128) NOT NULL,\n",
        "    email VARCHAR(128),\n",
        "    telefone VARCHAR(16),\n",
        "    morada VARCHAR(128),\n",
        "    cidade VARCHAR(32),\n",
        "    codigo_postal VARCHAR(10),\n",
        "    pais VARCHAR(32),\n",
        "    data_registo DATE DEFAULT CURRENT_DATE\n",
        ");"
      ]
    },
    {
      "cell_type": "code",
      "execution_count": null,
      "metadata": {
        "colab": {
          "base_uri": "https://localhost:8080/",
          "height": 58
        },
        "id": "_x57pu6Lek_t",
        "outputId": "f119c829-cec7-4af2-8374-b262d729703a"
      },
      "outputs": [],
      "source": [
        "%%sql\n",
        "select * from clientes"
      ]
    },
    {
      "cell_type": "markdown",
      "metadata": {
        "id": "NVG4pBCkn-cD"
      },
      "source": [
        "b) Verificar se a tabela existe na base de dados  \n",
        "  *SELECT name FROM sqlite_master WHERE type=\"clientes\";*    "
      ]
    },
    {
      "cell_type": "code",
      "execution_count": null,
      "metadata": {
        "colab": {
          "base_uri": "https://localhost:8080/",
          "height": 253
        },
        "id": "uNVUFqetfF6G",
        "outputId": "12727460-de9e-4998-f629-008c1579a245"
      },
      "outputs": [],
      "source": [
        "%%sql\n",
        "SELECT * FROM sqlite_master where name='clientes'"
      ]
    },
    {
      "cell_type": "markdown",
      "metadata": {
        "id": "JP5RcFHXIue3"
      },
      "source": [
        "c) Inserir a informação abaixo no tabela \"Clientes\"  \n",
        "INSERT INTO clientes (nome, email, telefone, morada, cidade, codigo_postal, pais)  \n",
        "VALUES ('Ana Silva', 'ana.silva@email.com', '912345678', 'Rua das Flores, 123', 'Madrid', '1000-001', 'Portugal');  \n",
        "  \n",
        "INSERT INTO clientes (nome, email, telefone, morada, cidade, codigo_postal, pais)  \n",
        "VALUES ('Carlos Mendes', 'carlos.mendes@email.com', '913456789', 'Av. Central, 45', 'Porto', '4000-200', 'Portugal');  \n",
        "  \n",
        "INSERT INTO clientes (nome, email, telefone, morada, cidade, codigo_postal, pais)  \n",
        "VALUES ('Mariana Rocha', 'mariana.rocha@email.com', '914567890', 'Travessa do Sol, 78', 'Coimbra', '3000-150', 'Portugal');  \n",
        "  \n",
        "INSERT INTO clientes (nome, email, telefone, morada, cidade, codigo_postal, pais)  \n",
        "VALUES ('João Costa', 'joao.costa@email.com', '915678901', 'Rua do Mar, 32', 'Faro', '8000-250', 'Portugal');  \n",
        "  \n",
        "INSERT INTO clientes (nome, email, telefone, morada, cidade, codigo_postal, pais)  \n",
        "VALUES ('Beatriz Almeida', 'beatriz.almeida@email.com', '916789012', 'Estrada Nacional 1, Km 12', 'Braga', '4700-000', 'Portugal');  \n",
        "  \n",
        "INSERT INTO clientes (nome, email, telefone, morada, cidade, codigo_postal, pais)  \n",
        "VALUES ('Ricardo Fonseca', 'ricardo.fonseca@email.com', '917890123', 'Rua das Oliveiras, 56', 'Viseu', '3500-123', 'Portugal');  \n",
        "  \n",
        "INSERT INTO clientes (nome, email, telefone, morada, cidade, codigo_postal, pais)  \n",
        "VALUES ('Sofia Matos', 'sofia.matos@email.com', null, 'Largo da Paz, 10', 'Setúbal', '2900-456', 'Portugal');  \n",
        "  \n",
        "INSERT INTO clientes (nome, email, telefone, morada, cidade, codigo_postal, pais)  \n",
        "VALUES ('Tiago Carvalho', 'tiago.carvalho@email.com', '919012345', 'Rua do Comércio, 89', 'Aveiro', '3800-789', 'Portugal');  \n",
        "  \n",
        "INSERT INTO clientes (nome, email, telefone, morada, cidade, codigo_postal, pais)  \n",
        "VALUES ('Inês Ribeiro', 'ines.ribeiro@email.com', '911234567', 'Alameda dos Oceanos, 101', 'Madrid', '1990-123', 'Portugal');  \n",
        "  \n",
        "INSERT INTO Clientes (nome, email, telefone, morada, cidade, codigo_postal, pais)  \n",
        "VALUES ('Pedro Santos', null, '912345678', 'Rua Nova da Estação, 45', 'Leiria', '2400-100', 'Portugal');  \n",
        "  \n",
        "INSERT INTO clientes (nome, email, telefone, morada, cidade, codigo_postal, pais)  \n",
        "VALUES ('Laura Costa', 'laura.costa@email.com', '913456789', 'Av. da Liberdade, 321', 'Guimarães', '4835-123', 'Portugal');  \n",
        "  \n",
        "INSERT INTO clientes (nome, email, telefone, morada, cidade, codigo_postal, pais)  \n",
        "VALUES ('Diego Marquez', 'diego21.marque<@email.com', '974567890', 'Calle XXV, 77', 'Barcelona', '989-768', 'Espanha');  \n",
        "  \n",
        "INSERT INTO clientes (nome, email, telefone, morada, cidade, codigo_postal, pais)  \n",
        "VALUES ('Helena Duarte', 'helena.duarte@email.com', '915112233', 'Rua do Limoeiro, 8', null, '2750-642', 'Portugal');  \n",
        "  \n",
        "INSERT INTO clientes (nome, email, telefone, morada, codigo_postal, pais)\n",
        "VALUES  \n",
        "('André Lopes', 'andre.lopes@email.com', '916223344', 'Rua da Escola, 34', '7800-123', 'Portugal');  \n",
        "\n",
        "INSERT INTO clientes (nome, email, telefone, morada, cidade, codigo_postal, pais)  \n",
        "VALUES ('Cláudia Nunes', 'claudia.nunes@email.com', '917334455', 'Av. dos Descobrimentos, 56', null, '9000-100', 'Portugal');  "
      ]
    },
    {
      "cell_type": "code",
      "execution_count": null,
      "metadata": {
        "colab": {
          "base_uri": "https://localhost:8080/",
          "height": 295
        },
        "id": "lh9aGQ2ofnu5",
        "outputId": "628b194f-807a-4fce-e65c-b74ac5cb7257"
      },
      "outputs": [],
      "source": [
        "%%sql\n",
        "INSERT INTO clientes (nome, email, telefone, morada, cidade, codigo_postal, pais)\n",
        "VALUES ('Ana Silva', 'ana.silva@email.com', '912345678', 'Rua das Flores, 123', 'Madrid', '1000-001', 'Portugal');\n",
        "\n",
        "INSERT INTO clientes (nome, email, telefone, morada, cidade, codigo_postal, pais)\n",
        "VALUES ('Carlos Mendes', 'carlos.mendes@email.com', '913456789', 'Av. Central, 45', 'Porto', '4000-200', 'Portugal');\n",
        "\n",
        "INSERT INTO clientes (nome, email, telefone, morada, cidade, codigo_postal, pais)\n",
        "VALUES ('Mariana Rocha', 'mariana.rocha@email.com', '914567890', 'Travessa do Sol, 78', 'Coimbra', '3000-150', 'Portugal');\n",
        "\n",
        "INSERT INTO clientes (nome, email, telefone, morada, cidade, codigo_postal, pais)\n",
        "VALUES ('João Costa', 'joao.costa@email.com', '915678901', 'Rua do Mar, 32', 'Faro', '8000-250', 'Portugal');\n",
        "\n",
        "INSERT INTO clientes (nome, email, telefone, morada, cidade, codigo_postal, pais)\n",
        "VALUES ('Beatriz Almeida', 'beatriz.almeida@email.com', '916789012', 'Estrada Nacional 1, Km 12', 'Braga', '4700-000', 'Portugal');\n",
        "\n",
        "INSERT INTO clientes (nome, email, telefone, morada, cidade, codigo_postal, pais)\n",
        "VALUES ('Ricardo Fonseca', 'ricardo.fonseca@email.com', '917890123', 'Rua das Oliveiras, 56', 'Viseu', '3500-123', 'Portugal');\n",
        "\n",
        "INSERT INTO clientes (nome, email, telefone, morada, cidade, codigo_postal, pais)\n",
        "VALUES ('Sofia Matos', 'sofia.matos@email.com', null, 'Largo da Paz, 10', 'Setúbal', '2900-456', 'Portugal');\n",
        "\n",
        "INSERT INTO clientes (nome, email, telefone, morada, cidade, codigo_postal, pais)\n",
        "VALUES ('Tiago Carvalho', 'tiago.carvalho@email.com', '919012345', 'Rua do Comércio, 89', 'Aveiro', '3800-789', 'Portugal');\n",
        "\n",
        "INSERT INTO clientes (nome, email, telefone, morada, cidade, codigo_postal, pais)\n",
        "VALUES ('Inês Ribeiro', 'ines.ribeiro@email.com', '911234567', 'Alameda dos Oceanos, 101', 'Madrid', '1990-123', 'Portugal');\n",
        "\n",
        "INSERT INTO Clientes (nome, email, telefone, morada, cidade, codigo_postal, pais)\n",
        "VALUES ('Pedro Santos', null, '912345678', 'Rua Nova da Estação, 45', 'Leiria', '2400-100', 'Portugal');\n",
        "\n",
        "INSERT INTO clientes (nome, email, telefone, morada, cidade, codigo_postal, pais)\n",
        "VALUES ('Laura Costa', 'laura.costa@email.com', '913456789', 'Av. da Liberdade, 321', 'Guimarães', '4835-123', 'Portugal');\n",
        "\n",
        "INSERT INTO clientes (nome, email, telefone, morada, cidade, codigo_postal, pais)\n",
        "VALUES ('Diego Marquez', 'diego21.marque<@email.com', '974567890', 'Calle XXV, 77', 'Barcelona', '989-768', 'Espanha');\n",
        "\n",
        "INSERT INTO clientes (nome, email, telefone, morada, cidade, codigo_postal, pais)\n",
        "VALUES ('Helena Duarte', 'helena.duarte@email.com', '915112233', 'Rua do Limoeiro, 8', null, '2750-642', 'Portugal');\n",
        "\n",
        "INSERT INTO clientes (nome, email, telefone, morada, codigo_postal, pais) VALUES\n",
        "('André Lopes', 'andre.lopes@email.com', '916223344', 'Rua da Escola, 34', '7800-123', 'Portugal');\n",
        "\n",
        "INSERT INTO clientes (nome, email, telefone, morada, cidade, codigo_postal, pais)\n",
        "VALUES ('Cláudia Nunes', 'claudia.nunes@email.com', '917334455', 'Av. dos Descobrimentos, 56', null, '9000-100', 'Portugal');\n",
        "\n",
        "\n"
      ]
    },
    {
      "cell_type": "code",
      "execution_count": null,
      "metadata": {
        "colab": {
          "base_uri": "https://localhost:8080/",
          "height": 289
        },
        "id": "tDrmlcLzItPA",
        "outputId": "c524154b-ad5e-4d0c-df2f-68f72f0b5276"
      },
      "outputs": [],
      "source": [
        "%%sql\n",
        "SELECT * FROM clientes"
      ]
    },
    {
      "cell_type": "markdown",
      "metadata": {
        "id": "TMbdPCrzIt-T"
      },
      "source": [
        "d) Atualizar o campo cidade para \"Lisboa\" nos registos que apresentam o valor \"Madrid\" neste mesmo campo  "
      ]
    },
    {
      "cell_type": "code",
      "execution_count": null,
      "metadata": {
        "colab": {
          "base_uri": "https://localhost:8080/",
          "height": 52
        },
        "id": "14EzKy5MKCLR",
        "outputId": "4d97bd4b-3a21-499c-d9fd-139bee05e1d1"
      },
      "outputs": [],
      "source": [
        "\n"
      ]
    },
    {
      "cell_type": "markdown",
      "metadata": {
        "id": "bMWXjY4SKPDc"
      },
      "source": [
        "e) Eliminar os registos apresentam o valor \"Barcelona\" no campo cidade ou não têm qualquer valor no campo cidade"
      ]
    },
    {
      "cell_type": "code",
      "execution_count": null,
      "metadata": {
        "id": "XMMQRPpCLCFH"
      },
      "outputs": [],
      "source": []
    },
    {
      "cell_type": "code",
      "execution_count": null,
      "metadata": {
        "colab": {
          "base_uri": "https://localhost:8080/",
          "height": 34
        },
        "id": "CK37PF5bzYcA",
        "outputId": "26a6cb79-181a-42fa-e099-0dd8dc0642c1"
      },
      "outputs": [],
      "source": [
        "%config SqlMagic.displaylimit = None"
      ]
    },
    {
      "cell_type": "code",
      "execution_count": null,
      "metadata": {
        "id": "eLCofOstl7TL"
      },
      "outputs": [],
      "source": [
        "%%sql\n",
        "INSERT INTO clientes (nome, email, telefone, morada, cidade, codigo_postal, pais)\n",
        "VALUES ('Diego Marquez', 'diego21.marque<@email.com', '974567890', 'Calle XXV, 77', 'Barcelona', '989-768', 'Espanha');\n",
        "\n",
        "INSERT INTO clientes (nome, email, telefone, morada, cidade, codigo_postal, pais)\n",
        "VALUES ('Helena Duarte', 'helena.duarte@email.com', '915112233', 'Rua do Limoeiro, 8', null, '2750-642', 'Portugal');\n",
        "\n",
        "INSERT INTO clientes (nome, email, telefone, morada, codigo_postal, pais) VALUES\n",
        "('André Lopes', 'andre.lopes@email.com', '916223344', 'Rua da Escola, 34', '7800-123', 'Portugal');\n",
        "\n",
        "INSERT INTO clientes (nome, email, telefone, morada, cidade, codigo_postal, pais)\n",
        "VALUES ('Cláudia Nunes', 'claudia.nunes@email.com', '917334455', 'Av. dos Descobrimentos, 56', null, '9000-100', 'Portugal');"
      ]
    },
    {
      "cell_type": "markdown",
      "metadata": {
        "id": "nPoppzrWLl0h"
      },
      "source": [
        "f) Listar o identificador e nome dos clientes que residem em Leiria"
      ]
    },
    {
      "cell_type": "code",
      "execution_count": null,
      "metadata": {
        "id": "JYl-kJhgL1OP"
      },
      "outputs": [],
      "source": []
    },
    {
      "cell_type": "markdown",
      "metadata": {
        "id": "ETF-TxReNDUC"
      },
      "source": [
        "g) Listar o nome dos clientes que não têm email ou telefone definidos"
      ]
    },
    {
      "cell_type": "code",
      "execution_count": null,
      "metadata": {
        "id": "Oa7TkER5NLpq"
      },
      "outputs": [],
      "source": []
    },
    {
      "cell_type": "markdown",
      "metadata": {
        "id": "3kB4PIh5NRar"
      },
      "source": [
        "h) Listar o numero, nome e cidades dos clientes que têm apelido \"Silva\"  "
      ]
    },
    {
      "cell_type": "code",
      "execution_count": null,
      "metadata": {
        "id": "GuImWuQEwMQ1"
      },
      "outputs": [],
      "source": []
    },
    {
      "cell_type": "markdown",
      "metadata": {
        "id": "ChztS2K25mi7"
      },
      "source": [
        "g) Calcular a quantidade de clientes que residem em Madrid"
      ]
    },
    {
      "cell_type": "code",
      "execution_count": null,
      "metadata": {
        "id": "UhKCyJsw57KK"
      },
      "outputs": [],
      "source": []
    },
    {
      "cell_type": "markdown",
      "metadata": {
        "id": "MVLU8R2T57V7"
      },
      "source": [
        "h) Calcular a quantidade de clientes de Portugal"
      ]
    },
    {
      "cell_type": "code",
      "execution_count": null,
      "metadata": {
        "id": "9ls0trm46Es5"
      },
      "outputs": [],
      "source": []
    },
    {
      "cell_type": "markdown",
      "metadata": {
        "id": "zkOC23C66E3J"
      },
      "source": [
        "i) Calcular a quantidade de clientes cujo código postal começa por \"9\""
      ]
    },
    {
      "cell_type": "code",
      "execution_count": null,
      "metadata": {
        "id": "JZxhrt6e6NcV"
      },
      "outputs": [],
      "source": []
    },
    {
      "cell_type": "code",
      "execution_count": null,
      "metadata": {
        "id": "ImGg524orIt5"
      },
      "outputs": [],
      "source": []
    },
    {
      "cell_type": "markdown",
      "metadata": {
        "id": "g4JH38u1lQSL"
      },
      "source": [
        "j) Inserir o seguinte registo na tabela \"Clientes\".\n",
        "INSERT INTO clientes (nome, email, telefone, morada, cidade, codigo_postal, pais)\n",
        "VALUES ('Roberto Abreu', 'ro.ab@email.com', '921234567', 'Av. Principal, 101B', null, '5400-100', 'Portugal');\n"
      ]
    },
    {
      "cell_type": "code",
      "execution_count": null,
      "metadata": {
        "id": "gCB4sFWZl0sT"
      },
      "outputs": [],
      "source": []
    },
    {
      "cell_type": "markdown",
      "metadata": {
        "id": "7Ikchxmjl087"
      },
      "source": [
        "k) Alterar a cidade no registo anterior para \"Chaves\""
      ]
    },
    {
      "cell_type": "code",
      "execution_count": null,
      "metadata": {
        "id": "XEhF8iRTl6p5"
      },
      "outputs": [],
      "source": []
    },
    {
      "cell_type": "markdown",
      "metadata": {
        "id": "tPsSqwPdl609"
      },
      "source": [
        "l) Eliminar todos os registos da tabela \"Clientes\" com a cidade \"Chaves\""
      ]
    },
    {
      "cell_type": "code",
      "execution_count": null,
      "metadata": {
        "id": "NrIsCh-kmL-8"
      },
      "outputs": [],
      "source": []
    },
    {
      "cell_type": "markdown",
      "metadata": {
        "id": "JU23BxoJeTGu"
      },
      "source": [
        "m) Determinar a quantidade de clientes de cada país"
      ]
    },
    {
      "cell_type": "code",
      "execution_count": null,
      "metadata": {
        "id": "CYx6TQkRenUB"
      },
      "outputs": [],
      "source": []
    },
    {
      "cell_type": "markdown",
      "metadata": {
        "id": "5E8B_Hv4entz"
      },
      "source": [
        "n) Determinar a quantidade de clientes de cada cidade e ordenar pela contagem efetuada(colocando as cidades com mais clientes no inicio dos resultados)"
      ]
    },
    {
      "cell_type": "code",
      "execution_count": null,
      "metadata": {
        "id": "4uUqBcaufcPn"
      },
      "outputs": [],
      "source": []
    },
    {
      "cell_type": "markdown",
      "metadata": {
        "id": "TqPGXbKEfciW"
      },
      "source": []
    },
    {
      "cell_type": "markdown",
      "metadata": {
        "id": "qp5lAWp9wMcE"
      },
      "source": [
        "## Tabela \"Vendas\""
      ]
    },
    {
      "cell_type": "markdown",
      "metadata": {
        "id": "-SrBsYSpNLya"
      },
      "source": [
        "a) Definição da tabela \"Vendas\"  \n",
        "  \n",
        "    >Ativar a opção das chaves estrangeiras:\n",
        "      PRAGMA foreign_keys = ON;\n",
        "\n",
        "    > Criar a tabela \"Produtos\" caso ainda não exista\n",
        "\n",
        "    > %%sql CREATE TABLE vendas (  \n",
        "    id INTEGER PRIMARY KEY AUTOINCREMENT,  \n",
        "    cliente_id INTEGER,  \n",
        "    produto_id INTEGER,  \n",
        "    quantidade INTEGER NOT NULL,      \n",
        "    data_venda DATE DEFAULT CURRENT_DATE,  \n",
        "    FOREIGN KEY (cliente_id) REFERENCES clientes(id)  \n",
        "    );  "
      ]
    },
    {
      "cell_type": "code",
      "execution_count": null,
      "metadata": {
        "id": "_BIObq4t0i34"
      },
      "outputs": [],
      "source": []
    },
    {
      "cell_type": "markdown",
      "metadata": {
        "id": "mfsKngF4zjpz"
      },
      "source": [
        "b) Inserir a informação abaixo na tabela \"Vendas\"  \n",
        "INSERT INTO vendas (cliente_id, produto_id, quantidade) VALUES  \n",
        "(1, 1, 2),    \n",
        "(2, 3, 1),    \n",
        "(3, 5, 3),  \n",
        "(4, 7, 1),  \n",
        "(5, 8, 2),  \n",
        "(6, 9, 1),  \n",
        "(6, 1, 1),     \n",
        "(7, 10, 5),   \n",
        "(8, 12, 4),  \n",
        "(9, 13, 3),  \n",
        "(10, 2, 2);  \n",
        "(10, 1, 5);  "
      ]
    },
    {
      "cell_type": "markdown",
      "metadata": {
        "id": "aIHmAlef0DrC"
      },
      "source": [
        "CREATE TABLE IF NOT EXISTS produtos (  \n",
        "id INTEGER PRIMARY KEY,  \n",
        "nome TEXT ,  \n",
        "preco REAL,  \n",
        "unidades INTEGER,  \n",
        "id_categoria INTEGER NOT NULL,   \n",
        "id_fornecedor INTEGER NOT NULL,  \n",
        "FOREIGN KEY (id_categoria) REFERENCES categorias(Id),  \n",
        "FOREIGN KEY (id_fornecedor) REFERENCES Fornecedores(id_fornecedor)  \n",
        ");  \n",
        "\n",
        "insert into PRODUTOS (nome, preco, unidades, id_categoria,id_fornecedor) values ('Sandálias Verão', 39.90, 50, 1,2);  \n",
        "insert into PRODUTOS (nome, preco, unidades, id_categoria,id_fornecedor) values ('T-Shirt básica', 14.99, 100, 2,3);  \n",
        "insert into PRODUTOS (nome, preco, unidades, id_categoria,id_fornecedor) values ('Calças Jeans', 49.90, 40, 2,3);  \n",
        "insert into PRODUTOS (nome, preco, unidades, id_categoria,id_fornecedor) values ('Casaco de Inverno', 89.00, 25, 2,4);  \n",
        "insert into PRODUTOS (nome, preco, unidades, id_categoria,id_fornecedor) values ('Televisão 50\"', 499.99, 10, 3,4);  \n",
        "insert into PRODUTOS (nome, preco, unidades, id_categoria,id_fornecedor) values ('Sistema de Som', 259.00, 20, 3,4);  \n",
        "insert into PRODUTOS (nome, preco, unidades, id_categoria,id_fornecedor) values ('Coluna Bluetooth', 69.90, 35, 3,4);  \n",
        "insert into PRODUTOS (nome, preco, unidades, id_categoria,id_fornecedor) values ('Portátil Dell', 899.00, 12, 4,1);  \n",
        "insert into PRODUTOS (nome, preco, unidades, id_categoria,id_fornecedor) values ('Rato Sem Fios', 24.50, 60, 4,2);  \n",
        "insert into PRODUTOS (nome, preco, unidades, id_categoria,id_fornecedor) values ('Monitor 27\"', 199.90, 18, 4,5);  \n",
        "insert into PRODUTOS (nome, preco, unidades, id_categoria,id_fornecedor) values ('iPhone 14', 1149.00, 8, 5,1);  \n",
        "insert into PRODUTOS (nome, preco, unidades, id_categoria,id_fornecedor) values ('Samsung Galaxy S23', 999.00, 10, 5,1);  \n",
        "insert into PRODUTOS (nome, preco, unidades, id_categoria,id_fornecedor) values ('Xiaomi Redmi Note 12', 249.90, 25, 5,4);  \n",
        "insert into PRODUTOS (nome, preco, unidades, id_categoria,id_fornecedor) values ('Ténis Adidas', 79.99, 30, 1,4);  \n",
        "insert into PRODUTOS (nome, preco, unidades, id_categoria,id_fornecedor) values ('Botas de Couro', 129.50, 15, 1,2);  \n",
        "insert into PRODUTOS (nome, preco, unidades, id_categoria,id_fornecedor) values ('Sandálias Verão', 39.90, 50, 1,1);  \n",
        "insert into PRODUTOS (nome, preco, unidades, id_categoria,id_fornecedor) values ('T-Shirt básica', 14.99, 100, 2,1);  \n",
        "insert into PRODUTOS (nome, preco, unidades, id_categoria,id_fornecedor) values ('Calças Jeans', 49.90, 40, 2,1);  \n",
        "insert into PRODUTOS (nome, preco, unidades, id_categoria,id_fornecedor) values ('Casaco de Inverno', 89.00, 25, 2,3);  \n",
        "insert into PRODUTOS (nome, preco, unidades, id_categoria,id_fornecedor) values ('Televisão 50\"', 499.99, 10, 3,4);  \n",
        "insert into PRODUTOS (nome, preco, unidades, id_categoria,id_fornecedor) values ('Sistema de Som', 259.00, 20, 3,4);  \n",
        "insert into PRODUTOS (nome, preco, unidades, id_categoria,id_fornecedor) values ('Coluna Bluetooth', 69.90, 35, 3,1);  \n",
        "insert into PRODUTOS (nome, preco, unidades, id_categoria,id_fornecedor) values ('Portátil Dell', 899.00, 12, 4,5);  \n",
        "insert into PRODUTOS (nome, preco, unidades, id_categoria,id_fornecedor) values ('Rato Sem Fios', 24.50, 60, 4,5);  \n",
        "insert into PRODUTOS (nome, preco, unidades, id_categoria,id_fornecedor) values ('Monitor 27\"', 199.90, 18, 4,5);  \n",
        "insert into PRODUTOS (nome, preco, unidades, id_categoria,id_fornecedor) values ('iPhone 14', 1149.00, 8, 5,1);  \n",
        "insert into PRODUTOS (nome, preco, unidades, id_categoria,id_fornecedor) values ('Samsung Galaxy S23', 999.00, 10, 5,4);  \n",
        "insert into PRODUTOS (nome, preco, unidades, id_categoria,id_fornecedor) values ('Xiaomi Redmi Note 12', 249.90, 25, 5,3);  "
      ]
    },
    {
      "cell_type": "code",
      "execution_count": null,
      "metadata": {
        "id": "Sx3SzEYx0kYn"
      },
      "outputs": [],
      "source": []
    },
    {
      "cell_type": "markdown",
      "metadata": {
        "id": "iXe7hYDg0u8f"
      },
      "source": [
        "c) Calcular quantas vendas efetuou o cliente nº1"
      ]
    },
    {
      "cell_type": "code",
      "execution_count": null,
      "metadata": {
        "id": "tzh92mSx03YD"
      },
      "outputs": [],
      "source": []
    },
    {
      "cell_type": "markdown",
      "metadata": {
        "id": "vRr4N_Lm03f2"
      },
      "source": [
        "d) Determinar os nomes dos clientes que compraram o produto com o id \"1\""
      ]
    },
    {
      "cell_type": "code",
      "execution_count": null,
      "metadata": {
        "id": "EHcn5gxY1XC2"
      },
      "outputs": [],
      "source": []
    },
    {
      "cell_type": "markdown",
      "metadata": {
        "id": "FgMKt3Q7m-Ht"
      },
      "source": [
        "e) Determinar os nomes dos produtos comprados pelo cliente com o id \"1\""
      ]
    },
    {
      "cell_type": "code",
      "execution_count": null,
      "metadata": {
        "id": "3vVoGd-pnTeO"
      },
      "outputs": [],
      "source": []
    },
    {
      "cell_type": "markdown",
      "metadata": {
        "id": "xfDhhGOR1WKC"
      },
      "source": [
        "\n",
        "f) Determinar os países  dos clientes que compraram o produto \"Calças Jeans\""
      ]
    },
    {
      "cell_type": "code",
      "execution_count": null,
      "metadata": {
        "id": "60NHpklr1f83"
      },
      "outputs": [],
      "source": []
    },
    {
      "cell_type": "markdown",
      "metadata": {
        "id": "3Zgjwur4njwo"
      },
      "source": [
        "g) Determinar o *id* do produto com mais vendas"
      ]
    },
    {
      "cell_type": "code",
      "execution_count": null,
      "metadata": {
        "id": "lx2Rq_iCn0DY"
      },
      "outputs": [],
      "source": []
    },
    {
      "cell_type": "markdown",
      "metadata": {
        "id": "K2tj_JpwomU-"
      },
      "source": [
        "h) Determinar o *id* do produto com maiores quantidades vendidas"
      ]
    },
    {
      "cell_type": "code",
      "execution_count": null,
      "metadata": {
        "id": "fHC5tkpSpsL4"
      },
      "outputs": [],
      "source": []
    },
    {
      "cell_type": "markdown",
      "metadata": {
        "id": "uwKVGD5_pxWv"
      },
      "source": [
        "i) Calcular o número de compras de cada cliente"
      ]
    },
    {
      "cell_type": "code",
      "execution_count": null,
      "metadata": {
        "id": "FVkotqNIp6wQ"
      },
      "outputs": [],
      "source": []
    },
    {
      "cell_type": "markdown",
      "metadata": {
        "id": "Fc484jGGLiOF"
      },
      "source": [
        "j) Apresentar o número de compras de cada cliente, mas só apresentar os clientes com mais de 2 compras"
      ]
    },
    {
      "cell_type": "code",
      "execution_count": null,
      "metadata": {
        "id": "h2FNiwv1M2oo"
      },
      "outputs": [],
      "source": []
    },
    {
      "cell_type": "markdown",
      "metadata": {
        "id": "EiJs3XOgMY6C"
      },
      "source": [
        "k) Determinar o número de vendas dos produtos vendidos"
      ]
    },
    {
      "cell_type": "code",
      "execution_count": null,
      "metadata": {
        "id": "-EaWRt7lMm7T"
      },
      "outputs": [],
      "source": []
    },
    {
      "cell_type": "markdown",
      "metadata": {
        "id": "tRVxxvSSMnJu"
      },
      "source": [
        "l) Determinar o número de vendas dos produtos vendidos, mas só apresentar os produtos com mais de 4 vendas"
      ]
    },
    {
      "cell_type": "code",
      "execution_count": null,
      "metadata": {
        "id": "sKpY-lVlM4dr"
      },
      "outputs": [],
      "source": []
    }
  ],
  "metadata": {
    "colab": {
      "provenance": [],
      "toc_visible": true
    },
    "kernelspec": {
      "display_name": "Python 3",
      "name": "python3"
    },
    "language_info": {
      "name": "python"
    }
  },
  "nbformat": 4,
  "nbformat_minor": 0
}
