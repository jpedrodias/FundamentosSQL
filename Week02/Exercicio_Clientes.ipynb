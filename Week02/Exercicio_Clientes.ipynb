{
  "nbformat": 4,
  "nbformat_minor": 0,
  "metadata": {
    "colab": {
      "provenance": [],
      "toc_visible": true
    },
    "kernelspec": {
      "name": "python3",
      "display_name": "Python 3"
    },
    "language_info": {
      "name": "python"
    }
  },
  "cells": [
    {
      "cell_type": "markdown",
      "source": [
        "# 1 - Configuração do ambiente e base de dados de desenvolvimento"
      ],
      "metadata": {
        "id": "fqFbOq6Q-qrD"
      }
    },
    {
      "cell_type": "markdown",
      "source": [
        "* Instalação do módulo jupysql"
      ],
      "metadata": {
        "id": "e2Jnb1_xs870"
      }
    },
    {
      "cell_type": "code",
      "source": [
        "!pip install jupysql"
      ],
      "metadata": {
        "id": "OyhukFtUy5_-",
        "colab": {
          "base_uri": "https://localhost:8080/"
        },
        "outputId": "dc207d21-25d6-4fd9-b642-f9c4625a9705"
      },
      "execution_count": null,
      "outputs": [
        {
          "output_type": "stream",
          "name": "stdout",
          "text": [
            "Collecting jupysql\n",
            "  Downloading jupysql-0.11.1-py3-none-any.whl.metadata (5.9 kB)\n",
            "Requirement already satisfied: prettytable>=3.12.0 in /usr/local/lib/python3.11/dist-packages (from jupysql) (3.16.0)\n",
            "Requirement already satisfied: sqlalchemy in /usr/local/lib/python3.11/dist-packages (from jupysql) (2.0.40)\n",
            "Requirement already satisfied: sqlparse in /usr/local/lib/python3.11/dist-packages (from jupysql) (0.5.3)\n",
            "Requirement already satisfied: ipython-genutils>=0.1.0 in /usr/local/lib/python3.11/dist-packages (from jupysql) (0.2.0)\n",
            "Requirement already satisfied: jinja2 in /usr/local/lib/python3.11/dist-packages (from jupysql) (3.1.6)\n",
            "Requirement already satisfied: sqlglot>=11.3.7 in /usr/local/lib/python3.11/dist-packages (from jupysql) (25.20.2)\n",
            "Collecting jupysql-plugin>=0.4.2 (from jupysql)\n",
            "  Downloading jupysql_plugin-0.4.5-py3-none-any.whl.metadata (7.8 kB)\n",
            "Collecting ploomber-core>=0.2.7 (from jupysql)\n",
            "  Downloading ploomber_core-0.2.26-py3-none-any.whl.metadata (527 bytes)\n",
            "Requirement already satisfied: pyyaml in /usr/local/lib/python3.11/dist-packages (from ploomber-core>=0.2.7->jupysql) (6.0.2)\n",
            "Collecting posthog (from ploomber-core>=0.2.7->jupysql)\n",
            "  Downloading posthog-3.24.0-py2.py3-none-any.whl.metadata (3.0 kB)\n",
            "Requirement already satisfied: wcwidth in /usr/local/lib/python3.11/dist-packages (from prettytable>=3.12.0->jupysql) (0.2.13)\n",
            "Requirement already satisfied: MarkupSafe>=2.0 in /usr/local/lib/python3.11/dist-packages (from jinja2->jupysql) (3.0.2)\n",
            "Requirement already satisfied: greenlet>=1 in /usr/local/lib/python3.11/dist-packages (from sqlalchemy->jupysql) (3.1.1)\n",
            "Requirement already satisfied: typing-extensions>=4.6.0 in /usr/local/lib/python3.11/dist-packages (from sqlalchemy->jupysql) (4.13.1)\n",
            "Requirement already satisfied: requests<3.0,>=2.7 in /usr/local/lib/python3.11/dist-packages (from posthog->ploomber-core>=0.2.7->jupysql) (2.32.3)\n",
            "Requirement already satisfied: six>=1.5 in /usr/local/lib/python3.11/dist-packages (from posthog->ploomber-core>=0.2.7->jupysql) (1.17.0)\n",
            "Collecting monotonic>=1.5 (from posthog->ploomber-core>=0.2.7->jupysql)\n",
            "  Downloading monotonic-1.6-py2.py3-none-any.whl.metadata (1.5 kB)\n",
            "Collecting backoff>=1.10.0 (from posthog->ploomber-core>=0.2.7->jupysql)\n",
            "  Downloading backoff-2.2.1-py3-none-any.whl.metadata (14 kB)\n",
            "Requirement already satisfied: python-dateutil>2.1 in /usr/local/lib/python3.11/dist-packages (from posthog->ploomber-core>=0.2.7->jupysql) (2.8.2)\n",
            "Requirement already satisfied: distro>=1.5.0 in /usr/local/lib/python3.11/dist-packages (from posthog->ploomber-core>=0.2.7->jupysql) (1.9.0)\n",
            "Requirement already satisfied: charset-normalizer<4,>=2 in /usr/local/lib/python3.11/dist-packages (from requests<3.0,>=2.7->posthog->ploomber-core>=0.2.7->jupysql) (3.4.1)\n",
            "Requirement already satisfied: idna<4,>=2.5 in /usr/local/lib/python3.11/dist-packages (from requests<3.0,>=2.7->posthog->ploomber-core>=0.2.7->jupysql) (3.10)\n",
            "Requirement already satisfied: urllib3<3,>=1.21.1 in /usr/local/lib/python3.11/dist-packages (from requests<3.0,>=2.7->posthog->ploomber-core>=0.2.7->jupysql) (2.3.0)\n",
            "Requirement already satisfied: certifi>=2017.4.17 in /usr/local/lib/python3.11/dist-packages (from requests<3.0,>=2.7->posthog->ploomber-core>=0.2.7->jupysql) (2025.1.31)\n",
            "Downloading jupysql-0.11.1-py3-none-any.whl (95 kB)\n",
            "\u001b[2K   \u001b[90m━━━━━━━━━━━━━━━━━━━━━━━━━━━━━━━━━━━━━━━━\u001b[0m \u001b[32m95.1/95.1 kB\u001b[0m \u001b[31m2.3 MB/s\u001b[0m eta \u001b[36m0:00:00\u001b[0m\n",
            "\u001b[?25hDownloading jupysql_plugin-0.4.5-py3-none-any.whl (192 kB)\n",
            "\u001b[2K   \u001b[90m━━━━━━━━━━━━━━━━━━━━━━━━━━━━━━━━━━━━━━━━\u001b[0m \u001b[32m192.8/192.8 kB\u001b[0m \u001b[31m5.8 MB/s\u001b[0m eta \u001b[36m0:00:00\u001b[0m\n",
            "\u001b[?25hDownloading ploomber_core-0.2.26-py3-none-any.whl (22 kB)\n",
            "Downloading posthog-3.24.0-py2.py3-none-any.whl (85 kB)\n",
            "\u001b[2K   \u001b[90m━━━━━━━━━━━━━━━━━━━━━━━━━━━━━━━━━━━━━━━━\u001b[0m \u001b[32m85.2/85.2 kB\u001b[0m \u001b[31m3.7 MB/s\u001b[0m eta \u001b[36m0:00:00\u001b[0m\n",
            "\u001b[?25hDownloading backoff-2.2.1-py3-none-any.whl (15 kB)\n",
            "Downloading monotonic-1.6-py2.py3-none-any.whl (8.2 kB)\n",
            "Installing collected packages: monotonic, backoff, posthog, ploomber-core, jupysql-plugin, jupysql\n",
            "Successfully installed backoff-2.2.1 jupysql-0.11.1 jupysql-plugin-0.4.5 monotonic-1.6 ploomber-core-0.2.26 posthog-3.24.0\n"
          ]
        }
      ]
    },
    {
      "cell_type": "markdown",
      "source": [
        "* Carregamento da extensão *sql*  "
      ],
      "metadata": {
        "id": "5XHl3GjcszS8"
      }
    },
    {
      "cell_type": "code",
      "source": [
        "%load_ext sql"
      ],
      "metadata": {
        "id": "oxp5rVxFAyo4"
      },
      "execution_count": null,
      "outputs": []
    },
    {
      "cell_type": "markdown",
      "source": [
        "* Conexão à base base de dados(se não existir é criada):\n",
        "\n"
      ],
      "metadata": {
        "id": "ojJ3fxWdYDL3"
      }
    },
    {
      "cell_type": "code",
      "source": [
        "%sql sqlite:///Clientes.db"
      ],
      "metadata": {
        "id": "SJU7WWKMA-Uc",
        "colab": {
          "base_uri": "https://localhost:8080/",
          "height": 34
        },
        "outputId": "9103be52-495c-45c4-b45b-4bbf0cd7e2cf"
      },
      "execution_count": null,
      "outputs": [
        {
          "output_type": "display_data",
          "data": {
            "text/plain": [
              "Connecting to 'sqlite:///Clientes.db'"
            ],
            "text/html": [
              "<span style=\"None\">Connecting to &#x27;sqlite:///Clientes.db&#x27;</span>"
            ]
          },
          "metadata": {}
        }
      ]
    },
    {
      "cell_type": "markdown",
      "source": [
        "# 2 - Implementação do modelo de dados \"Clientes\""
      ],
      "metadata": {
        "id": "dV7zMAeoFcMs"
      }
    },
    {
      "cell_type": "markdown",
      "source": [
        "## Tabela \"Clientes\""
      ],
      "metadata": {
        "id": "Wka6QxoRLbjn"
      }
    },
    {
      "cell_type": "markdown",
      "source": [
        "\n",
        "a) Definição da tabela \"Clientes\"\n",
        "  \n",
        "*%%sql  \n",
        "CREATE TABLE clientes (  \n",
        "    id INTEGER PRIMARY KEY AUTOINCREMENT,  \n",
        "    nome VARCHAR(128) NOT NULL,  \n",
        "    email VARCHAR(128),  \n",
        "    telefone VARCHAR(16),  \n",
        "    morada VARCHAR(128),  \n",
        "    cidade VARCHAR(32),  \n",
        "    codigo_postal VARCHAR(10),  \n",
        "    pais VARCHAR(32),  \n",
        "    data_registo DATE DEFAULT CURRENT_DATE  \n",
        ");*  \n",
        "  \n",
        "*DROP TABLE IF EXISTS clientes;*  \n"
      ],
      "metadata": {
        "id": "CJRfYGvfN0rY"
      }
    },
    {
      "cell_type": "code",
      "source": [
        "%%sql\n",
        "CREATE TABLE clientes (\n",
        "    id INTEGER PRIMARY KEY AUTOINCREMENT,\n",
        "    nome VARCHAR(128) NOT NULL,\n",
        "    email VARCHAR(128),\n",
        "    telefone VARCHAR(16),\n",
        "    morada VARCHAR(128),\n",
        "    cidade VARCHAR(32),\n",
        "    codigo_postal VARCHAR(10),\n",
        "    pais VARCHAR(32),\n",
        "    data_registo DATE DEFAULT CURRENT_DATE\n",
        ");"
      ],
      "metadata": {
        "id": "P8zag95JMDsp",
        "colab": {
          "base_uri": "https://localhost:8080/",
          "height": 34
        },
        "outputId": "d65e1dc3-fc6f-414a-eccf-e53d544f5909"
      },
      "execution_count": null,
      "outputs": [
        {
          "output_type": "display_data",
          "data": {
            "text/plain": [
              "Running query in 'sqlite:///Clientes.db'"
            ],
            "text/html": [
              "<span style=\"None\">Running query in &#x27;sqlite:///Clientes.db&#x27;</span>"
            ]
          },
          "metadata": {}
        },
        {
          "output_type": "execute_result",
          "data": {
            "text/plain": [
              "++\n",
              "||\n",
              "++\n",
              "++"
            ],
            "text/html": [
              "<table>\n",
              "    <thead>\n",
              "        <tr>\n",
              "        </tr>\n",
              "    </thead>\n",
              "    <tbody>\n",
              "    </tbody>\n",
              "</table>"
            ]
          },
          "metadata": {},
          "execution_count": 4
        }
      ]
    },
    {
      "cell_type": "code",
      "source": [
        "%%sql\n",
        "select * from clientes"
      ],
      "metadata": {
        "colab": {
          "base_uri": "https://localhost:8080/",
          "height": 58
        },
        "id": "_x57pu6Lek_t",
        "outputId": "f119c829-cec7-4af2-8374-b262d729703a"
      },
      "execution_count": null,
      "outputs": [
        {
          "output_type": "display_data",
          "data": {
            "text/plain": [
              "Running query in 'sqlite:///Clientes.db'"
            ],
            "text/html": [
              "<span style=\"None\">Running query in &#x27;sqlite:///Clientes.db&#x27;</span>"
            ]
          },
          "metadata": {}
        },
        {
          "output_type": "execute_result",
          "data": {
            "text/plain": [
              "+----+------+-------+----------+--------+--------+---------------+------+--------------+\n",
              "| id | nome | email | telefone | morada | cidade | codigo_postal | pais | data_registo |\n",
              "+----+------+-------+----------+--------+--------+---------------+------+--------------+\n",
              "+----+------+-------+----------+--------+--------+---------------+------+--------------+"
            ],
            "text/html": [
              "<table>\n",
              "    <thead>\n",
              "        <tr>\n",
              "            <th>id</th>\n",
              "            <th>nome</th>\n",
              "            <th>email</th>\n",
              "            <th>telefone</th>\n",
              "            <th>morada</th>\n",
              "            <th>cidade</th>\n",
              "            <th>codigo_postal</th>\n",
              "            <th>pais</th>\n",
              "            <th>data_registo</th>\n",
              "        </tr>\n",
              "    </thead>\n",
              "    <tbody>\n",
              "    </tbody>\n",
              "</table>"
            ]
          },
          "metadata": {},
          "execution_count": 8
        }
      ]
    },
    {
      "cell_type": "markdown",
      "source": [
        "b) Verificar se a tabela existe na base de dados  \n",
        "  *SELECT name FROM sqlite_master WHERE type=\"clientes\";*    "
      ],
      "metadata": {
        "id": "NVG4pBCkn-cD"
      }
    },
    {
      "cell_type": "code",
      "source": [
        "%%sql\n",
        "SELECT * FROM sqlite_master where name='clientes'"
      ],
      "metadata": {
        "colab": {
          "base_uri": "https://localhost:8080/",
          "height": 253
        },
        "id": "uNVUFqetfF6G",
        "outputId": "12727460-de9e-4998-f629-008c1579a245"
      },
      "execution_count": null,
      "outputs": [
        {
          "output_type": "display_data",
          "data": {
            "text/plain": [
              "Running query in 'sqlite:///Clientes.db'"
            ],
            "text/html": [
              "<span style=\"None\">Running query in &#x27;sqlite:///Clientes.db&#x27;</span>"
            ]
          },
          "metadata": {}
        },
        {
          "output_type": "execute_result",
          "data": {
            "text/plain": [
              "+-------+----------+----------+----------+--------------------------------------------+\n",
              "|  type |   name   | tbl_name | rootpage |                    sql                     |\n",
              "+-------+----------+----------+----------+--------------------------------------------+\n",
              "| table | clientes | clientes |    2     |          CREATE TABLE clientes (           |\n",
              "|       |          |          |          |     id INTEGER PRIMARY KEY AUTOINCREMENT,  |\n",
              "|       |          |          |          |          nome VARCHAR(128) NOT NULL,       |\n",
              "|       |          |          |          |              email VARCHAR(128),           |\n",
              "|       |          |          |          |             telefone VARCHAR(16),          |\n",
              "|       |          |          |          |              morada VARCHAR(128),          |\n",
              "|       |          |          |          |              cidade VARCHAR(32),           |\n",
              "|       |          |          |          |           codigo_postal VARCHAR(10),       |\n",
              "|       |          |          |          |               pais VARCHAR(32),            |\n",
              "|       |          |          |          |     data_registo DATE DEFAULT CURRENT_DATE |\n",
              "|       |          |          |          |                     )                      |\n",
              "+-------+----------+----------+----------+--------------------------------------------+"
            ],
            "text/html": [
              "<table>\n",
              "    <thead>\n",
              "        <tr>\n",
              "            <th>type</th>\n",
              "            <th>name</th>\n",
              "            <th>tbl_name</th>\n",
              "            <th>rootpage</th>\n",
              "            <th>sql</th>\n",
              "        </tr>\n",
              "    </thead>\n",
              "    <tbody>\n",
              "        <tr>\n",
              "            <td>table</td>\n",
              "            <td>clientes</td>\n",
              "            <td>clientes</td>\n",
              "            <td>2</td>\n",
              "            <td>CREATE TABLE clientes (<br>    id INTEGER PRIMARY KEY AUTOINCREMENT,<br>    nome VARCHAR(128) NOT NULL,<br>    email VARCHAR(128),<br>    telefone VARCHAR(16),<br>    morada VARCHAR(128),<br>    cidade VARCHAR(32),<br>    codigo_postal VARCHAR(10),<br>    pais VARCHAR(32),<br>    data_registo DATE DEFAULT CURRENT_DATE<br>)</td>\n",
              "        </tr>\n",
              "    </tbody>\n",
              "</table>"
            ]
          },
          "metadata": {},
          "execution_count": 12
        }
      ]
    },
    {
      "cell_type": "markdown",
      "source": [
        "c) Inserir a informação abaixo no tabela \"Clientes\"  \n",
        "INSERT INTO clientes (nome, email, telefone, morada, cidade, codigo_postal, pais)  \n",
        "VALUES ('Ana Silva', 'ana.silva@email.com', '912345678', 'Rua das Flores, 123', 'Madrid', '1000-001', 'Portugal');  \n",
        "  \n",
        "INSERT INTO clientes (nome, email, telefone, morada, cidade, codigo_postal, pais)  \n",
        "VALUES ('Carlos Mendes', 'carlos.mendes@email.com', '913456789', 'Av. Central, 45', 'Porto', '4000-200', 'Portugal');  \n",
        "  \n",
        "INSERT INTO clientes (nome, email, telefone, morada, cidade, codigo_postal, pais)  \n",
        "VALUES ('Mariana Rocha', 'mariana.rocha@email.com', '914567890', 'Travessa do Sol, 78', 'Coimbra', '3000-150', 'Portugal');  \n",
        "  \n",
        "INSERT INTO clientes (nome, email, telefone, morada, cidade, codigo_postal, pais)  \n",
        "VALUES ('João Costa', 'joao.costa@email.com', '915678901', 'Rua do Mar, 32', 'Faro', '8000-250', 'Portugal');  \n",
        "  \n",
        "INSERT INTO clientes (nome, email, telefone, morada, cidade, codigo_postal, pais)  \n",
        "VALUES ('Beatriz Almeida', 'beatriz.almeida@email.com', '916789012', 'Estrada Nacional 1, Km 12', 'Braga', '4700-000', 'Portugal');  \n",
        "  \n",
        "INSERT INTO clientes (nome, email, telefone, morada, cidade, codigo_postal, pais)  \n",
        "VALUES ('Ricardo Fonseca', 'ricardo.fonseca@email.com', '917890123', 'Rua das Oliveiras, 56', 'Viseu', '3500-123', 'Portugal');  \n",
        "  \n",
        "INSERT INTO clientes (nome, email, telefone, morada, cidade, codigo_postal, pais)  \n",
        "VALUES ('Sofia Matos', 'sofia.matos@email.com', null, 'Largo da Paz, 10', 'Setúbal', '2900-456', 'Portugal');  \n",
        "  \n",
        "INSERT INTO clientes (nome, email, telefone, morada, cidade, codigo_postal, pais)  \n",
        "VALUES ('Tiago Carvalho', 'tiago.carvalho@email.com', '919012345', 'Rua do Comércio, 89', 'Aveiro', '3800-789', 'Portugal');  \n",
        "  \n",
        "INSERT INTO clientes (nome, email, telefone, morada, cidade, codigo_postal, pais)  \n",
        "VALUES ('Inês Ribeiro', 'ines.ribeiro@email.com', '911234567', 'Alameda dos Oceanos, 101', 'Madrid', '1990-123', 'Portugal');  \n",
        "  \n",
        "INSERT INTO Clientes (nome, email, telefone, morada, cidade, codigo_postal, pais)  \n",
        "VALUES ('Pedro Santos', null, '912345678', 'Rua Nova da Estação, 45', 'Leiria', '2400-100', 'Portugal');  \n",
        "  \n",
        "INSERT INTO clientes (nome, email, telefone, morada, cidade, codigo_postal, pais)  \n",
        "VALUES ('Laura Costa', 'laura.costa@email.com', '913456789', 'Av. da Liberdade, 321', 'Guimarães', '4835-123', 'Portugal');  \n",
        "  \n",
        "INSERT INTO clientes (nome, email, telefone, morada, cidade, codigo_postal, pais)  \n",
        "VALUES ('Diego Marquez', 'diego21.marque<@email.com', '974567890', 'Calle XXV, 77', 'Barcelona', '989-768', 'Espanha');  \n",
        "  \n",
        "INSERT INTO clientes (nome, email, telefone, morada, cidade, codigo_postal, pais)  \n",
        "VALUES ('Helena Duarte', 'helena.duarte@email.com', '915112233', 'Rua do Limoeiro, 8', null, '2750-642', 'Portugal');  \n",
        "  \n",
        "INSERT INTO clientes (nome, email, telefone, morada, codigo_postal, pais)\n",
        "VALUES  \n",
        "('André Lopes', 'andre.lopes@email.com', '916223344', 'Rua da Escola, 34', '7800-123', 'Portugal');  \n",
        "\n",
        "INSERT INTO clientes (nome, email, telefone, morada, cidade, codigo_postal, pais)  \n",
        "VALUES ('Cláudia Nunes', 'claudia.nunes@email.com', '917334455', 'Av. dos Descobrimentos, 56', null, '9000-100', 'Portugal');  "
      ],
      "metadata": {
        "id": "JP5RcFHXIue3"
      }
    },
    {
      "cell_type": "code",
      "source": [
        "%%sql\n",
        "INSERT INTO clientes (nome, email, telefone, morada, cidade, codigo_postal, pais)\n",
        "VALUES ('Ana Silva', 'ana.silva@email.com', '912345678', 'Rua das Flores, 123', 'Madrid', '1000-001', 'Portugal');\n",
        "\n",
        "INSERT INTO clientes (nome, email, telefone, morada, cidade, codigo_postal, pais)\n",
        "VALUES ('Carlos Mendes', 'carlos.mendes@email.com', '913456789', 'Av. Central, 45', 'Porto', '4000-200', 'Portugal');\n",
        "\n",
        "INSERT INTO clientes (nome, email, telefone, morada, cidade, codigo_postal, pais)\n",
        "VALUES ('Mariana Rocha', 'mariana.rocha@email.com', '914567890', 'Travessa do Sol, 78', 'Coimbra', '3000-150', 'Portugal');\n",
        "\n",
        "INSERT INTO clientes (nome, email, telefone, morada, cidade, codigo_postal, pais)\n",
        "VALUES ('João Costa', 'joao.costa@email.com', '915678901', 'Rua do Mar, 32', 'Faro', '8000-250', 'Portugal');\n",
        "\n",
        "INSERT INTO clientes (nome, email, telefone, morada, cidade, codigo_postal, pais)\n",
        "VALUES ('Beatriz Almeida', 'beatriz.almeida@email.com', '916789012', 'Estrada Nacional 1, Km 12', 'Braga', '4700-000', 'Portugal');\n",
        "\n",
        "INSERT INTO clientes (nome, email, telefone, morada, cidade, codigo_postal, pais)\n",
        "VALUES ('Ricardo Fonseca', 'ricardo.fonseca@email.com', '917890123', 'Rua das Oliveiras, 56', 'Viseu', '3500-123', 'Portugal');\n",
        "\n",
        "INSERT INTO clientes (nome, email, telefone, morada, cidade, codigo_postal, pais)\n",
        "VALUES ('Sofia Matos', 'sofia.matos@email.com', null, 'Largo da Paz, 10', 'Setúbal', '2900-456', 'Portugal');\n",
        "\n",
        "INSERT INTO clientes (nome, email, telefone, morada, cidade, codigo_postal, pais)\n",
        "VALUES ('Tiago Carvalho', 'tiago.carvalho@email.com', '919012345', 'Rua do Comércio, 89', 'Aveiro', '3800-789', 'Portugal');\n",
        "\n",
        "INSERT INTO clientes (nome, email, telefone, morada, cidade, codigo_postal, pais)\n",
        "VALUES ('Inês Ribeiro', 'ines.ribeiro@email.com', '911234567', 'Alameda dos Oceanos, 101', 'Madrid', '1990-123', 'Portugal');\n",
        "\n",
        "INSERT INTO Clientes (nome, email, telefone, morada, cidade, codigo_postal, pais)\n",
        "VALUES ('Pedro Santos', null, '912345678', 'Rua Nova da Estação, 45', 'Leiria', '2400-100', 'Portugal');\n",
        "\n",
        "INSERT INTO clientes (nome, email, telefone, morada, cidade, codigo_postal, pais)\n",
        "VALUES ('Laura Costa', 'laura.costa@email.com', '913456789', 'Av. da Liberdade, 321', 'Guimarães', '4835-123', 'Portugal');\n",
        "\n",
        "INSERT INTO clientes (nome, email, telefone, morada, cidade, codigo_postal, pais)\n",
        "VALUES ('Diego Marquez', 'diego21.marque<@email.com', '974567890', 'Calle XXV, 77', 'Barcelona', '989-768', 'Espanha');\n",
        "\n",
        "INSERT INTO clientes (nome, email, telefone, morada, cidade, codigo_postal, pais)\n",
        "VALUES ('Helena Duarte', 'helena.duarte@email.com', '915112233', 'Rua do Limoeiro, 8', null, '2750-642', 'Portugal');\n",
        "\n",
        "INSERT INTO clientes (nome, email, telefone, morada, codigo_postal, pais) VALUES\n",
        "('André Lopes', 'andre.lopes@email.com', '916223344', 'Rua da Escola, 34', '7800-123', 'Portugal');\n",
        "\n",
        "INSERT INTO clientes (nome, email, telefone, morada, cidade, codigo_postal, pais)\n",
        "VALUES ('Cláudia Nunes', 'claudia.nunes@email.com', '917334455', 'Av. dos Descobrimentos, 56', null, '9000-100', 'Portugal');\n",
        "\n",
        "\n"
      ],
      "metadata": {
        "colab": {
          "base_uri": "https://localhost:8080/",
          "height": 295
        },
        "id": "lh9aGQ2ofnu5",
        "outputId": "628b194f-807a-4fce-e65c-b74ac5cb7257"
      },
      "execution_count": null,
      "outputs": [
        {
          "output_type": "display_data",
          "data": {
            "text/plain": [
              "Running query in 'sqlite:///Clientes.db'"
            ],
            "text/html": [
              "<span style=\"None\">Running query in &#x27;sqlite:///Clientes.db&#x27;</span>"
            ]
          },
          "metadata": {}
        },
        {
          "output_type": "display_data",
          "data": {
            "text/plain": [
              "1 rows affected."
            ],
            "text/html": [
              "<span style=\"color: green\">1 rows affected.</span>"
            ]
          },
          "metadata": {}
        },
        {
          "output_type": "display_data",
          "data": {
            "text/plain": [
              "1 rows affected."
            ],
            "text/html": [
              "<span style=\"color: green\">1 rows affected.</span>"
            ]
          },
          "metadata": {}
        },
        {
          "output_type": "display_data",
          "data": {
            "text/plain": [
              "1 rows affected."
            ],
            "text/html": [
              "<span style=\"color: green\">1 rows affected.</span>"
            ]
          },
          "metadata": {}
        },
        {
          "output_type": "display_data",
          "data": {
            "text/plain": [
              "1 rows affected."
            ],
            "text/html": [
              "<span style=\"color: green\">1 rows affected.</span>"
            ]
          },
          "metadata": {}
        },
        {
          "output_type": "display_data",
          "data": {
            "text/plain": [
              "1 rows affected."
            ],
            "text/html": [
              "<span style=\"color: green\">1 rows affected.</span>"
            ]
          },
          "metadata": {}
        },
        {
          "output_type": "display_data",
          "data": {
            "text/plain": [
              "1 rows affected."
            ],
            "text/html": [
              "<span style=\"color: green\">1 rows affected.</span>"
            ]
          },
          "metadata": {}
        },
        {
          "output_type": "display_data",
          "data": {
            "text/plain": [
              "1 rows affected."
            ],
            "text/html": [
              "<span style=\"color: green\">1 rows affected.</span>"
            ]
          },
          "metadata": {}
        },
        {
          "output_type": "display_data",
          "data": {
            "text/plain": [
              "1 rows affected."
            ],
            "text/html": [
              "<span style=\"color: green\">1 rows affected.</span>"
            ]
          },
          "metadata": {}
        },
        {
          "output_type": "display_data",
          "data": {
            "text/plain": [
              "1 rows affected."
            ],
            "text/html": [
              "<span style=\"color: green\">1 rows affected.</span>"
            ]
          },
          "metadata": {}
        },
        {
          "output_type": "display_data",
          "data": {
            "text/plain": [
              "1 rows affected."
            ],
            "text/html": [
              "<span style=\"color: green\">1 rows affected.</span>"
            ]
          },
          "metadata": {}
        },
        {
          "output_type": "display_data",
          "data": {
            "text/plain": [
              "1 rows affected."
            ],
            "text/html": [
              "<span style=\"color: green\">1 rows affected.</span>"
            ]
          },
          "metadata": {}
        },
        {
          "output_type": "display_data",
          "data": {
            "text/plain": [
              "1 rows affected."
            ],
            "text/html": [
              "<span style=\"color: green\">1 rows affected.</span>"
            ]
          },
          "metadata": {}
        },
        {
          "output_type": "display_data",
          "data": {
            "text/plain": [
              "1 rows affected."
            ],
            "text/html": [
              "<span style=\"color: green\">1 rows affected.</span>"
            ]
          },
          "metadata": {}
        },
        {
          "output_type": "display_data",
          "data": {
            "text/plain": [
              "1 rows affected."
            ],
            "text/html": [
              "<span style=\"color: green\">1 rows affected.</span>"
            ]
          },
          "metadata": {}
        },
        {
          "output_type": "display_data",
          "data": {
            "text/plain": [
              "1 rows affected."
            ],
            "text/html": [
              "<span style=\"color: green\">1 rows affected.</span>"
            ]
          },
          "metadata": {}
        },
        {
          "output_type": "execute_result",
          "data": {
            "text/plain": [
              "++\n",
              "||\n",
              "++\n",
              "++"
            ],
            "text/html": [
              "<table>\n",
              "    <thead>\n",
              "        <tr>\n",
              "        </tr>\n",
              "    </thead>\n",
              "    <tbody>\n",
              "    </tbody>\n",
              "</table>"
            ]
          },
          "metadata": {},
          "execution_count": 13
        }
      ]
    },
    {
      "cell_type": "code",
      "source": [
        "%%sql\n",
        "SELECT * FROM clientes"
      ],
      "metadata": {
        "id": "tDrmlcLzItPA",
        "colab": {
          "base_uri": "https://localhost:8080/",
          "height": 289
        },
        "outputId": "c524154b-ad5e-4d0c-df2f-68f72f0b5276"
      },
      "execution_count": null,
      "outputs": [
        {
          "output_type": "display_data",
          "data": {
            "text/plain": [
              "Running query in 'sqlite:///Clientes.db'"
            ],
            "text/html": [
              "<span style=\"None\">Running query in &#x27;sqlite:///Clientes.db&#x27;</span>"
            ]
          },
          "metadata": {}
        },
        {
          "output_type": "execute_result",
          "data": {
            "text/plain": [
              "+----+-----------------+---------------------------+-----------+---------------------------+---------+---------------+----------+--------------+\n",
              "| id |       nome      |           email           |  telefone |           morada          |  cidade | codigo_postal |   pais   | data_registo |\n",
              "+----+-----------------+---------------------------+-----------+---------------------------+---------+---------------+----------+--------------+\n",
              "| 1  |    Ana Silva    |    ana.silva@email.com    | 912345678 |    Rua das Flores, 123    |  Lisboa |    1000-001   | Portugal |  2025-04-10  |\n",
              "| 2  |  Carlos Mendes  |  carlos.mendes@email.com  | 913456789 |      Av. Central, 45      |  Porto  |    4000-200   | Portugal |  2025-04-10  |\n",
              "| 3  |  Mariana Rocha  |  mariana.rocha@email.com  | 914567890 |    Travessa do Sol, 78    | Coimbra |    3000-150   | Portugal |  2025-04-10  |\n",
              "| 4  |    João Costa   |    joao.costa@email.com   | 915678901 |       Rua do Mar, 32      |   Faro  |    8000-250   | Portugal |  2025-04-10  |\n",
              "| 5  | Beatriz Almeida | beatriz.almeida@email.com | 916789012 | Estrada Nacional 1, Km 12 |  Braga  |    4700-000   | Portugal |  2025-04-10  |\n",
              "| 6  | Ricardo Fonseca | ricardo.fonseca@email.com | 917890123 |   Rua das Oliveiras, 56   |  Viseu  |    3500-123   | Portugal |  2025-04-10  |\n",
              "| 7  |   Sofia Matos   |   sofia.matos@email.com   |    None   |      Largo da Paz, 10     | Setúbal |    2900-456   | Portugal |  2025-04-10  |\n",
              "| 8  |  Tiago Carvalho |  tiago.carvalho@email.com | 919012345 |    Rua do Comércio, 89    |  Aveiro |    3800-789   | Portugal |  2025-04-10  |\n",
              "| 9  |   Inês Ribeiro  |   ines.ribeiro@email.com  | 911234567 |  Alameda dos Oceanos, 101 |  Lisboa |    1990-123   | Portugal |  2025-04-10  |\n",
              "| 10 |   Pedro Santos  |            None           | 912345678 |  Rua Nova da Estação, 45  |  Leiria |    2400-100   | Portugal |  2025-04-10  |\n",
              "+----+-----------------+---------------------------+-----------+---------------------------+---------+---------------+----------+--------------+\n",
              "Truncated to displaylimit of 10."
            ],
            "text/html": [
              "<table>\n",
              "    <thead>\n",
              "        <tr>\n",
              "            <th>id</th>\n",
              "            <th>nome</th>\n",
              "            <th>email</th>\n",
              "            <th>telefone</th>\n",
              "            <th>morada</th>\n",
              "            <th>cidade</th>\n",
              "            <th>codigo_postal</th>\n",
              "            <th>pais</th>\n",
              "            <th>data_registo</th>\n",
              "        </tr>\n",
              "    </thead>\n",
              "    <tbody>\n",
              "        <tr>\n",
              "            <td>1</td>\n",
              "            <td>Ana Silva</td>\n",
              "            <td>ana.silva@email.com</td>\n",
              "            <td>912345678</td>\n",
              "            <td>Rua das Flores, 123</td>\n",
              "            <td>Lisboa</td>\n",
              "            <td>1000-001</td>\n",
              "            <td>Portugal</td>\n",
              "            <td>2025-04-10</td>\n",
              "        </tr>\n",
              "        <tr>\n",
              "            <td>2</td>\n",
              "            <td>Carlos Mendes</td>\n",
              "            <td>carlos.mendes@email.com</td>\n",
              "            <td>913456789</td>\n",
              "            <td>Av. Central, 45</td>\n",
              "            <td>Porto</td>\n",
              "            <td>4000-200</td>\n",
              "            <td>Portugal</td>\n",
              "            <td>2025-04-10</td>\n",
              "        </tr>\n",
              "        <tr>\n",
              "            <td>3</td>\n",
              "            <td>Mariana Rocha</td>\n",
              "            <td>mariana.rocha@email.com</td>\n",
              "            <td>914567890</td>\n",
              "            <td>Travessa do Sol, 78</td>\n",
              "            <td>Coimbra</td>\n",
              "            <td>3000-150</td>\n",
              "            <td>Portugal</td>\n",
              "            <td>2025-04-10</td>\n",
              "        </tr>\n",
              "        <tr>\n",
              "            <td>4</td>\n",
              "            <td>João Costa</td>\n",
              "            <td>joao.costa@email.com</td>\n",
              "            <td>915678901</td>\n",
              "            <td>Rua do Mar, 32</td>\n",
              "            <td>Faro</td>\n",
              "            <td>8000-250</td>\n",
              "            <td>Portugal</td>\n",
              "            <td>2025-04-10</td>\n",
              "        </tr>\n",
              "        <tr>\n",
              "            <td>5</td>\n",
              "            <td>Beatriz Almeida</td>\n",
              "            <td>beatriz.almeida@email.com</td>\n",
              "            <td>916789012</td>\n",
              "            <td>Estrada Nacional 1, Km 12</td>\n",
              "            <td>Braga</td>\n",
              "            <td>4700-000</td>\n",
              "            <td>Portugal</td>\n",
              "            <td>2025-04-10</td>\n",
              "        </tr>\n",
              "        <tr>\n",
              "            <td>6</td>\n",
              "            <td>Ricardo Fonseca</td>\n",
              "            <td>ricardo.fonseca@email.com</td>\n",
              "            <td>917890123</td>\n",
              "            <td>Rua das Oliveiras, 56</td>\n",
              "            <td>Viseu</td>\n",
              "            <td>3500-123</td>\n",
              "            <td>Portugal</td>\n",
              "            <td>2025-04-10</td>\n",
              "        </tr>\n",
              "        <tr>\n",
              "            <td>7</td>\n",
              "            <td>Sofia Matos</td>\n",
              "            <td>sofia.matos@email.com</td>\n",
              "            <td>None</td>\n",
              "            <td>Largo da Paz, 10</td>\n",
              "            <td>Setúbal</td>\n",
              "            <td>2900-456</td>\n",
              "            <td>Portugal</td>\n",
              "            <td>2025-04-10</td>\n",
              "        </tr>\n",
              "        <tr>\n",
              "            <td>8</td>\n",
              "            <td>Tiago Carvalho</td>\n",
              "            <td>tiago.carvalho@email.com</td>\n",
              "            <td>919012345</td>\n",
              "            <td>Rua do Comércio, 89</td>\n",
              "            <td>Aveiro</td>\n",
              "            <td>3800-789</td>\n",
              "            <td>Portugal</td>\n",
              "            <td>2025-04-10</td>\n",
              "        </tr>\n",
              "        <tr>\n",
              "            <td>9</td>\n",
              "            <td>Inês Ribeiro</td>\n",
              "            <td>ines.ribeiro@email.com</td>\n",
              "            <td>911234567</td>\n",
              "            <td>Alameda dos Oceanos, 101</td>\n",
              "            <td>Lisboa</td>\n",
              "            <td>1990-123</td>\n",
              "            <td>Portugal</td>\n",
              "            <td>2025-04-10</td>\n",
              "        </tr>\n",
              "        <tr>\n",
              "            <td>10</td>\n",
              "            <td>Pedro Santos</td>\n",
              "            <td>None</td>\n",
              "            <td>912345678</td>\n",
              "            <td>Rua Nova da Estação, 45</td>\n",
              "            <td>Leiria</td>\n",
              "            <td>2400-100</td>\n",
              "            <td>Portugal</td>\n",
              "            <td>2025-04-10</td>\n",
              "        </tr>\n",
              "    </tbody>\n",
              "</table>\n",
              "<span style=\"font-style:italic;text-align:center;\">Truncated to <a href=\"https://jupysql.ploomber.io/en/latest/api/configuration.html#displaylimit\">displaylimit</a> of 10.</span>"
            ]
          },
          "metadata": {},
          "execution_count": 29
        }
      ]
    },
    {
      "cell_type": "markdown",
      "source": [
        "d) Atualizar o campo cidade para \"Lisboa\" nos registos que apresentam o valor \"Madrid\" neste mesmo campo  "
      ],
      "metadata": {
        "id": "TMbdPCrzIt-T"
      }
    },
    {
      "cell_type": "code",
      "source": [
        "\n"
      ],
      "metadata": {
        "id": "14EzKy5MKCLR",
        "colab": {
          "base_uri": "https://localhost:8080/",
          "height": 52
        },
        "outputId": "4d97bd4b-3a21-499c-d9fd-139bee05e1d1"
      },
      "execution_count": null,
      "outputs": [
        {
          "output_type": "display_data",
          "data": {
            "text/plain": [
              "Running query in 'sqlite:///Clientes.db'"
            ],
            "text/html": [
              "<span style=\"None\">Running query in &#x27;sqlite:///Clientes.db&#x27;</span>"
            ]
          },
          "metadata": {}
        },
        {
          "output_type": "display_data",
          "data": {
            "text/plain": [
              "2 rows affected."
            ],
            "text/html": [
              "<span style=\"color: green\">2 rows affected.</span>"
            ]
          },
          "metadata": {}
        },
        {
          "output_type": "execute_result",
          "data": {
            "text/plain": [
              "++\n",
              "||\n",
              "++\n",
              "++"
            ],
            "text/html": [
              "<table>\n",
              "    <thead>\n",
              "        <tr>\n",
              "        </tr>\n",
              "    </thead>\n",
              "    <tbody>\n",
              "    </tbody>\n",
              "</table>"
            ]
          },
          "metadata": {},
          "execution_count": 28
        }
      ]
    },
    {
      "cell_type": "markdown",
      "source": [
        "e) Eliminar os registos apresentam o valor \"Barcelona\" no campo cidade ou não têm qualquer valor no campo cidade"
      ],
      "metadata": {
        "id": "bMWXjY4SKPDc"
      }
    },
    {
      "cell_type": "code",
      "source": [],
      "metadata": {
        "id": "XMMQRPpCLCFH"
      },
      "execution_count": null,
      "outputs": []
    },
    {
      "cell_type": "code",
      "source": [
        "%config SqlMagic.displaylimit = None"
      ],
      "metadata": {
        "colab": {
          "base_uri": "https://localhost:8080/",
          "height": 34
        },
        "id": "CK37PF5bzYcA",
        "outputId": "26a6cb79-181a-42fa-e099-0dd8dc0642c1"
      },
      "execution_count": null,
      "outputs": [
        {
          "output_type": "display_data",
          "data": {
            "text/plain": [
              "displaylimit: Value None will be treated as 0 (no limit)"
            ],
            "text/html": [
              "<span style=\"None\">displaylimit: Value None will be treated as 0 (no limit)</span>"
            ]
          },
          "metadata": {}
        }
      ]
    },
    {
      "cell_type": "code",
      "source": [
        "%%sql\n",
        "INSERT INTO clientes (nome, email, telefone, morada, cidade, codigo_postal, pais)\n",
        "VALUES ('Diego Marquez', 'diego21.marque<@email.com', '974567890', 'Calle XXV, 77', 'Barcelona', '989-768', 'Espanha');\n",
        "\n",
        "INSERT INTO clientes (nome, email, telefone, morada, cidade, codigo_postal, pais)\n",
        "VALUES ('Helena Duarte', 'helena.duarte@email.com', '915112233', 'Rua do Limoeiro, 8', null, '2750-642', 'Portugal');\n",
        "\n",
        "INSERT INTO clientes (nome, email, telefone, morada, codigo_postal, pais) VALUES\n",
        "('André Lopes', 'andre.lopes@email.com', '916223344', 'Rua da Escola, 34', '7800-123', 'Portugal');\n",
        "\n",
        "INSERT INTO clientes (nome, email, telefone, morada, cidade, codigo_postal, pais)\n",
        "VALUES ('Cláudia Nunes', 'claudia.nunes@email.com', '917334455', 'Av. dos Descobrimentos, 56', null, '9000-100', 'Portugal');"
      ],
      "metadata": {
        "id": "eLCofOstl7TL"
      },
      "execution_count": null,
      "outputs": []
    },
    {
      "cell_type": "markdown",
      "source": [
        "f) Listar o identificador e nome dos clientes que residem em Leiria"
      ],
      "metadata": {
        "id": "nPoppzrWLl0h"
      }
    },
    {
      "cell_type": "code",
      "source": [],
      "metadata": {
        "id": "JYl-kJhgL1OP"
      },
      "execution_count": null,
      "outputs": []
    },
    {
      "cell_type": "markdown",
      "source": [
        "g) Listar o nome dos clientes que não têm email ou telefone definidos"
      ],
      "metadata": {
        "id": "ETF-TxReNDUC"
      }
    },
    {
      "cell_type": "code",
      "source": [],
      "metadata": {
        "id": "Oa7TkER5NLpq"
      },
      "execution_count": null,
      "outputs": []
    },
    {
      "cell_type": "markdown",
      "source": [
        "h) Listar o numero, nome e cidades dos clientes que têm apelido \"Silva\"  "
      ],
      "metadata": {
        "id": "3kB4PIh5NRar"
      }
    },
    {
      "cell_type": "code",
      "source": [],
      "metadata": {
        "id": "GuImWuQEwMQ1"
      },
      "execution_count": null,
      "outputs": []
    },
    {
      "cell_type": "markdown",
      "source": [
        "g) Calcular a quantidade de clientes que residem em Madrid"
      ],
      "metadata": {
        "id": "ChztS2K25mi7"
      }
    },
    {
      "cell_type": "code",
      "source": [],
      "metadata": {
        "id": "UhKCyJsw57KK"
      },
      "execution_count": null,
      "outputs": []
    },
    {
      "cell_type": "markdown",
      "source": [
        "h) Calcular a quantidade de clientes de Portugal"
      ],
      "metadata": {
        "id": "MVLU8R2T57V7"
      }
    },
    {
      "cell_type": "code",
      "source": [],
      "metadata": {
        "id": "9ls0trm46Es5"
      },
      "execution_count": null,
      "outputs": []
    },
    {
      "cell_type": "markdown",
      "source": [
        "i) Calcular a quantidade de clientes cujo código postal começa por \"9\""
      ],
      "metadata": {
        "id": "zkOC23C66E3J"
      }
    },
    {
      "cell_type": "code",
      "source": [],
      "metadata": {
        "id": "JZxhrt6e6NcV"
      },
      "execution_count": null,
      "outputs": []
    },
    {
      "cell_type": "code",
      "source": [],
      "metadata": {
        "id": "ImGg524orIt5"
      },
      "execution_count": null,
      "outputs": []
    },
    {
      "cell_type": "markdown",
      "source": [
        "j) Inserir o seguinte registo na tabela \"Clientes\".\n",
        "INSERT INTO clientes (nome, email, telefone, morada, cidade, codigo_postal, pais)\n",
        "VALUES ('Roberto Abreu', 'ro.ab@email.com', '921234567', 'Av. Principal, 101B', null, '5400-100', 'Portugal');\n"
      ],
      "metadata": {
        "id": "g4JH38u1lQSL"
      }
    },
    {
      "cell_type": "code",
      "source": [],
      "metadata": {
        "id": "gCB4sFWZl0sT"
      },
      "execution_count": null,
      "outputs": []
    },
    {
      "cell_type": "markdown",
      "source": [
        "k) Alterar a cidade no registo anterior para \"Chaves\""
      ],
      "metadata": {
        "id": "7Ikchxmjl087"
      }
    },
    {
      "cell_type": "code",
      "source": [],
      "metadata": {
        "id": "XEhF8iRTl6p5"
      },
      "execution_count": null,
      "outputs": []
    },
    {
      "cell_type": "markdown",
      "source": [
        "l) Eliminar todos os registos da tabela \"Clientes\" com a cidade \"Chaves\""
      ],
      "metadata": {
        "id": "tPsSqwPdl609"
      }
    },
    {
      "cell_type": "code",
      "source": [],
      "metadata": {
        "id": "NrIsCh-kmL-8"
      },
      "execution_count": null,
      "outputs": []
    },
    {
      "cell_type": "markdown",
      "source": [
        "m) Determinar a quantidade de clientes de cada país"
      ],
      "metadata": {
        "id": "JU23BxoJeTGu"
      }
    },
    {
      "cell_type": "code",
      "source": [],
      "metadata": {
        "id": "CYx6TQkRenUB"
      },
      "execution_count": null,
      "outputs": []
    },
    {
      "cell_type": "markdown",
      "source": [
        "n) Determinar a quantidade de clientes de cada cidade e ordenar pela contagem efetuada(colocando as cidades com mais clientes no inicio dos resultados)"
      ],
      "metadata": {
        "id": "5E8B_Hv4entz"
      }
    },
    {
      "cell_type": "code",
      "source": [],
      "metadata": {
        "id": "4uUqBcaufcPn"
      },
      "execution_count": null,
      "outputs": []
    },
    {
      "cell_type": "markdown",
      "source": [],
      "metadata": {
        "id": "TqPGXbKEfciW"
      }
    },
    {
      "cell_type": "markdown",
      "source": [
        "## Tabela \"Vendas\""
      ],
      "metadata": {
        "id": "qp5lAWp9wMcE"
      }
    },
    {
      "cell_type": "markdown",
      "source": [
        "a) Definição da tabela \"Vendas\"  \n",
        "  \n",
        "    >Ativar a opção das chaves estrangeiras:\n",
        "      PRAGMA foreign_keys = ON;\n",
        "\n",
        "    > Criar a tabela \"Produtos\" caso ainda não exista\n",
        "\n",
        "    > %%sql CREATE TABLE vendas (  \n",
        "    id INTEGER PRIMARY KEY AUTOINCREMENT,  \n",
        "    cliente_id INTEGER,  \n",
        "    produto_id INTEGER,  \n",
        "    quantidade INTEGER NOT NULL,      \n",
        "    data_venda DATE DEFAULT CURRENT_DATE,  \n",
        "    FOREIGN KEY (cliente_id) REFERENCES clientes(id)  \n",
        "    );  "
      ],
      "metadata": {
        "id": "-SrBsYSpNLya"
      }
    },
    {
      "cell_type": "code",
      "source": [],
      "metadata": {
        "id": "_BIObq4t0i34"
      },
      "execution_count": null,
      "outputs": []
    },
    {
      "cell_type": "markdown",
      "source": [
        "b) Inserir a informação abaixo na tabela \"Vendas\"  \n",
        "INSERT INTO vendas (cliente_id, produto_id, quantidade) VALUES  \n",
        "(1, 1, 2),    \n",
        "(2, 3, 1),    \n",
        "(3, 5, 3),  \n",
        "(4, 7, 1),  \n",
        "(5, 8, 2),  \n",
        "(6, 9, 1),  \n",
        "(6, 1, 1),     \n",
        "(7, 10, 5),   \n",
        "(8, 12, 4),  \n",
        "(9, 13, 3),  \n",
        "(10, 2, 2);  \n",
        "(10, 1, 5);  "
      ],
      "metadata": {
        "id": "mfsKngF4zjpz"
      }
    },
    {
      "cell_type": "markdown",
      "source": [
        "CREATE TABLE IF NOT EXISTS produtos (  \n",
        "id INTEGER PRIMARY KEY,  \n",
        "nome TEXT ,  \n",
        "preco REAL,  \n",
        "unidades INTEGER,  \n",
        "id_categoria INTEGER NOT NULL,   \n",
        "id_fornecedor INTEGER NOT NULL,  \n",
        "FOREIGN KEY (id_categoria) REFERENCES categorias(Id),  \n",
        "FOREIGN KEY (id_fornecedor) REFERENCES Fornecedores(id_fornecedor)  \n",
        ");  \n",
        "\n",
        "insert into PRODUTOS (nome, preco, unidades, id_categoria,id_fornecedor) values ('Sandálias Verão', 39.90, 50, 1,2);  \n",
        "insert into PRODUTOS (nome, preco, unidades, id_categoria,id_fornecedor) values ('T-Shirt básica', 14.99, 100, 2,3);  \n",
        "insert into PRODUTOS (nome, preco, unidades, id_categoria,id_fornecedor) values ('Calças Jeans', 49.90, 40, 2,3);  \n",
        "insert into PRODUTOS (nome, preco, unidades, id_categoria,id_fornecedor) values ('Casaco de Inverno', 89.00, 25, 2,4);  \n",
        "insert into PRODUTOS (nome, preco, unidades, id_categoria,id_fornecedor) values ('Televisão 50\"', 499.99, 10, 3,4);  \n",
        "insert into PRODUTOS (nome, preco, unidades, id_categoria,id_fornecedor) values ('Sistema de Som', 259.00, 20, 3,4);  \n",
        "insert into PRODUTOS (nome, preco, unidades, id_categoria,id_fornecedor) values ('Coluna Bluetooth', 69.90, 35, 3,4);  \n",
        "insert into PRODUTOS (nome, preco, unidades, id_categoria,id_fornecedor) values ('Portátil Dell', 899.00, 12, 4,1);  \n",
        "insert into PRODUTOS (nome, preco, unidades, id_categoria,id_fornecedor) values ('Rato Sem Fios', 24.50, 60, 4,2);  \n",
        "insert into PRODUTOS (nome, preco, unidades, id_categoria,id_fornecedor) values ('Monitor 27\"', 199.90, 18, 4,5);  \n",
        "insert into PRODUTOS (nome, preco, unidades, id_categoria,id_fornecedor) values ('iPhone 14', 1149.00, 8, 5,1);  \n",
        "insert into PRODUTOS (nome, preco, unidades, id_categoria,id_fornecedor) values ('Samsung Galaxy S23', 999.00, 10, 5,1);  \n",
        "insert into PRODUTOS (nome, preco, unidades, id_categoria,id_fornecedor) values ('Xiaomi Redmi Note 12', 249.90, 25, 5,4);  \n",
        "insert into PRODUTOS (nome, preco, unidades, id_categoria,id_fornecedor) values ('Ténis Adidas', 79.99, 30, 1,4);  \n",
        "insert into PRODUTOS (nome, preco, unidades, id_categoria,id_fornecedor) values ('Botas de Couro', 129.50, 15, 1,2);  \n",
        "insert into PRODUTOS (nome, preco, unidades, id_categoria,id_fornecedor) values ('Sandálias Verão', 39.90, 50, 1,1);  \n",
        "insert into PRODUTOS (nome, preco, unidades, id_categoria,id_fornecedor) values ('T-Shirt básica', 14.99, 100, 2,1);  \n",
        "insert into PRODUTOS (nome, preco, unidades, id_categoria,id_fornecedor) values ('Calças Jeans', 49.90, 40, 2,1);  \n",
        "insert into PRODUTOS (nome, preco, unidades, id_categoria,id_fornecedor) values ('Casaco de Inverno', 89.00, 25, 2,3);  \n",
        "insert into PRODUTOS (nome, preco, unidades, id_categoria,id_fornecedor) values ('Televisão 50\"', 499.99, 10, 3,4);  \n",
        "insert into PRODUTOS (nome, preco, unidades, id_categoria,id_fornecedor) values ('Sistema de Som', 259.00, 20, 3,4);  \n",
        "insert into PRODUTOS (nome, preco, unidades, id_categoria,id_fornecedor) values ('Coluna Bluetooth', 69.90, 35, 3,1);  \n",
        "insert into PRODUTOS (nome, preco, unidades, id_categoria,id_fornecedor) values ('Portátil Dell', 899.00, 12, 4,5);  \n",
        "insert into PRODUTOS (nome, preco, unidades, id_categoria,id_fornecedor) values ('Rato Sem Fios', 24.50, 60, 4,5);  \n",
        "insert into PRODUTOS (nome, preco, unidades, id_categoria,id_fornecedor) values ('Monitor 27\"', 199.90, 18, 4,5);  \n",
        "insert into PRODUTOS (nome, preco, unidades, id_categoria,id_fornecedor) values ('iPhone 14', 1149.00, 8, 5,1);  \n",
        "insert into PRODUTOS (nome, preco, unidades, id_categoria,id_fornecedor) values ('Samsung Galaxy S23', 999.00, 10, 5,4);  \n",
        "insert into PRODUTOS (nome, preco, unidades, id_categoria,id_fornecedor) values ('Xiaomi Redmi Note 12', 249.90, 25, 5,3);  "
      ],
      "metadata": {
        "id": "aIHmAlef0DrC"
      }
    },
    {
      "cell_type": "code",
      "source": [],
      "metadata": {
        "id": "Sx3SzEYx0kYn"
      },
      "execution_count": null,
      "outputs": []
    },
    {
      "cell_type": "markdown",
      "source": [
        "c) Calcular quantas vendas efetuou o cliente nº1"
      ],
      "metadata": {
        "id": "iXe7hYDg0u8f"
      }
    },
    {
      "cell_type": "code",
      "source": [],
      "metadata": {
        "id": "tzh92mSx03YD"
      },
      "execution_count": null,
      "outputs": []
    },
    {
      "cell_type": "markdown",
      "source": [
        "d) Determinar os nomes dos clientes que compraram o produto com o id \"1\""
      ],
      "metadata": {
        "id": "vRr4N_Lm03f2"
      }
    },
    {
      "cell_type": "code",
      "source": [],
      "metadata": {
        "id": "EHcn5gxY1XC2"
      },
      "execution_count": null,
      "outputs": []
    },
    {
      "cell_type": "markdown",
      "source": [
        "e) Determinar os nomes dos produtos comprados pelo cliente com o id \"1\""
      ],
      "metadata": {
        "id": "FgMKt3Q7m-Ht"
      }
    },
    {
      "cell_type": "code",
      "source": [],
      "metadata": {
        "id": "3vVoGd-pnTeO"
      },
      "execution_count": null,
      "outputs": []
    },
    {
      "cell_type": "markdown",
      "source": [
        "\n",
        "f) Determinar os países  dos clientes que compraram o produto \"Calças Jeans\""
      ],
      "metadata": {
        "id": "xfDhhGOR1WKC"
      }
    },
    {
      "cell_type": "code",
      "source": [],
      "metadata": {
        "id": "60NHpklr1f83"
      },
      "execution_count": null,
      "outputs": []
    },
    {
      "cell_type": "markdown",
      "source": [
        "g) Determinar o *id* do produto com mais vendas"
      ],
      "metadata": {
        "id": "3Zgjwur4njwo"
      }
    },
    {
      "cell_type": "code",
      "source": [],
      "metadata": {
        "id": "lx2Rq_iCn0DY"
      },
      "execution_count": null,
      "outputs": []
    },
    {
      "cell_type": "markdown",
      "source": [
        "h) Determinar o *id* do produto com maiores quantidades vendidas"
      ],
      "metadata": {
        "id": "K2tj_JpwomU-"
      }
    },
    {
      "cell_type": "code",
      "source": [],
      "metadata": {
        "id": "fHC5tkpSpsL4"
      },
      "execution_count": null,
      "outputs": []
    },
    {
      "cell_type": "markdown",
      "source": [
        "i) Calcular o número de compras de cada cliente"
      ],
      "metadata": {
        "id": "uwKVGD5_pxWv"
      }
    },
    {
      "cell_type": "code",
      "source": [],
      "metadata": {
        "id": "FVkotqNIp6wQ"
      },
      "execution_count": null,
      "outputs": []
    },
    {
      "cell_type": "markdown",
      "source": [
        "j) Apresentar o número de compras de cada cliente, mas só apresentar os clientes com mais de 2 compras"
      ],
      "metadata": {
        "id": "Fc484jGGLiOF"
      }
    },
    {
      "cell_type": "code",
      "source": [],
      "metadata": {
        "id": "h2FNiwv1M2oo"
      },
      "execution_count": null,
      "outputs": []
    },
    {
      "cell_type": "markdown",
      "source": [
        "k) Determinar o número de vendas dos produtos vendidos"
      ],
      "metadata": {
        "id": "EiJs3XOgMY6C"
      }
    },
    {
      "cell_type": "code",
      "source": [],
      "metadata": {
        "id": "-EaWRt7lMm7T"
      },
      "execution_count": null,
      "outputs": []
    },
    {
      "cell_type": "markdown",
      "source": [
        "l) Determinar o número de vendas dos produtos vendidos, mas só apresentar os produtos com mais de 4 vendas"
      ],
      "metadata": {
        "id": "tRVxxvSSMnJu"
      }
    },
    {
      "cell_type": "code",
      "source": [],
      "metadata": {
        "id": "sKpY-lVlM4dr"
      },
      "execution_count": null,
      "outputs": []
    }
  ]
}