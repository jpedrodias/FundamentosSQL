{
  "cells": [
    {
      "cell_type": "markdown",
      "metadata": {},
      "source": [
        "# Clientes (continuação)"
      ]
    },
    {
      "cell_type": "markdown",
      "metadata": {
        "id": "fqFbOq6Q-qrD"
      },
      "source": [
        "## 1 - Configuração do ambiente e base de dados de desenvolvimento"
      ]
    },
    {
      "cell_type": "markdown",
      "metadata": {
        "id": "e2Jnb1_xs870"
      },
      "source": [
        "* Instalação do módulo jupysql"
      ]
    },
    {
      "cell_type": "code",
      "execution_count": 2,
      "metadata": {
        "colab": {
          "base_uri": "https://localhost:8080/"
        },
        "id": "OyhukFtUy5_-",
        "outputId": "dc207d21-25d6-4fd9-b642-f9c4625a9705"
      },
      "outputs": [
        {
          "name": "stdout",
          "output_type": "stream",
          "text": [
            "Note: you may need to restart the kernel to use updated packages.\n"
          ]
        }
      ],
      "source": [
        "INSTALL = True\n",
        "if INSTALL:\n",
        "    %pip install jupysql --quiet"
      ]
    },
    {
      "cell_type": "markdown",
      "metadata": {
        "id": "5XHl3GjcszS8"
      },
      "source": [
        "* Carregamento da extensão *sql*  "
      ]
    },
    {
      "cell_type": "code",
      "execution_count": 3,
      "metadata": {
        "id": "oxp5rVxFAyo4"
      },
      "outputs": [],
      "source": [
        "%load_ext sql"
      ]
    },
    {
      "cell_type": "markdown",
      "metadata": {
        "id": "ojJ3fxWdYDL3"
      },
      "source": [
        "* Conexão à base base de dados(se não existir é criada):\n",
        "\n"
      ]
    },
    {
      "cell_type": "code",
      "execution_count": 4,
      "metadata": {
        "colab": {
          "base_uri": "https://localhost:8080/",
          "height": 34
        },
        "id": "SJU7WWKMA-Uc",
        "outputId": "9103be52-495c-45c4-b45b-4bbf0cd7e2cf"
      },
      "outputs": [
        {
          "data": {
            "text/html": [
              "<span style=\"None\">Connecting to &#x27;sqlite:///Exercicio_Clientes.sqlite&#x27;</span>"
            ],
            "text/plain": [
              "Connecting to 'sqlite:///Exercicio_Clientes.sqlite'"
            ]
          },
          "metadata": {},
          "output_type": "display_data"
        }
      ],
      "source": [
        "%sql sqlite:///Exercicio_Clientes.sqlite"
      ]
    },
    {
      "cell_type": "code",
      "execution_count": 5,
      "metadata": {},
      "outputs": [
        {
          "data": {
            "text/html": [
              "<span style=\"None\">Running query in &#x27;sqlite:///Exercicio_Clientes.sqlite&#x27;</span>"
            ],
            "text/plain": [
              "Running query in 'sqlite:///Exercicio_Clientes.sqlite'"
            ]
          },
          "metadata": {},
          "output_type": "display_data"
        },
        {
          "data": {
            "text/html": [
              "<table>\n",
              "    <thead>\n",
              "        <tr>\n",
              "        </tr>\n",
              "    </thead>\n",
              "    <tbody>\n",
              "    </tbody>\n",
              "</table>"
            ],
            "text/plain": [
              "++\n",
              "||\n",
              "++\n",
              "++"
            ]
          },
          "execution_count": 5,
          "metadata": {},
          "output_type": "execute_result"
        }
      ],
      "source": [
        "%config SqlMagic.displaylimit = 0\n",
        "%sql PRAGMA foreign_keys = ON"
      ]
    },
    {
      "cell_type": "code",
      "execution_count": 6,
      "metadata": {},
      "outputs": [
        {
          "data": {
            "text/html": [
              "<span style=\"None\">Running query in &#x27;sqlite:///Exercicio_Clientes.sqlite&#x27;</span>"
            ],
            "text/plain": [
              "Running query in 'sqlite:///Exercicio_Clientes.sqlite'"
            ]
          },
          "metadata": {},
          "output_type": "display_data"
        },
        {
          "data": {
            "text/html": [
              "<table>\n",
              "    <thead>\n",
              "        <tr>\n",
              "        </tr>\n",
              "    </thead>\n",
              "    <tbody>\n",
              "    </tbody>\n",
              "</table>"
            ],
            "text/plain": [
              "++\n",
              "||\n",
              "++\n",
              "++"
            ]
          },
          "execution_count": 6,
          "metadata": {},
          "output_type": "execute_result"
        }
      ],
      "source": [
        "%%sql\n",
        "--\n",
        "DROP TABLE IF EXISTS vendas;\n",
        "DROP TABLE IF EXISTS produtos;\n",
        "DROP TABLE IF EXISTS categorias;\n",
        "DROP TABLE IF EXISTS fornecedores;\n",
        "DROP TABLE IF EXISTS clientes;"
      ]
    },
    {
      "cell_type": "markdown",
      "metadata": {
        "id": "dV7zMAeoFcMs"
      },
      "source": [
        "# 2 - Implementação do modelo de dados \"Clientes\""
      ]
    },
    {
      "cell_type": "markdown",
      "metadata": {
        "id": "Wka6QxoRLbjn"
      },
      "source": [
        "## Tabela \"Clientes\""
      ]
    },
    {
      "cell_type": "markdown",
      "metadata": {
        "id": "CJRfYGvfN0rY"
      },
      "source": [
        "\n",
        "a) Definição da tabela \"Clientes\"\n",
        "```sql\n",
        "DROP TABLE IF EXISTS clientes;\n",
        "\n",
        "CREATE TABLE clientes (  \n",
        "    id INTEGER PRIMARY KEY AUTOINCREMENT,  \n",
        "    nome VARCHAR(128) NOT NULL,  \n",
        "    email VARCHAR(128),  \n",
        "    telefone VARCHAR(16),  \n",
        "    morada VARCHAR(128),  \n",
        "    cidade VARCHAR(32),  \n",
        "    codigo_postal VARCHAR(10),  \n",
        "    pais VARCHAR(32),  \n",
        "    data_registo DATE DEFAULT CURRENT_DATE  \n",
        ");\n",
        "```\n"
      ]
    },
    {
      "cell_type": "code",
      "execution_count": 7,
      "metadata": {
        "colab": {
          "base_uri": "https://localhost:8080/",
          "height": 34
        },
        "id": "P8zag95JMDsp",
        "outputId": "d65e1dc3-fc6f-414a-eccf-e53d544f5909"
      },
      "outputs": [
        {
          "data": {
            "text/html": [
              "<span style=\"None\">Running query in &#x27;sqlite:///Exercicio_Clientes.sqlite&#x27;</span>"
            ],
            "text/plain": [
              "Running query in 'sqlite:///Exercicio_Clientes.sqlite'"
            ]
          },
          "metadata": {},
          "output_type": "display_data"
        },
        {
          "data": {
            "text/html": [
              "<table>\n",
              "    <thead>\n",
              "        <tr>\n",
              "        </tr>\n",
              "    </thead>\n",
              "    <tbody>\n",
              "    </tbody>\n",
              "</table>"
            ],
            "text/plain": [
              "++\n",
              "||\n",
              "++\n",
              "++"
            ]
          },
          "execution_count": 7,
          "metadata": {},
          "output_type": "execute_result"
        }
      ],
      "source": [
        "%%sql\n",
        "DROP TABLE IF EXISTS clientes;\n",
        "\n",
        "CREATE TABLE clientes (\n",
        "    id INTEGER PRIMARY KEY AUTOINCREMENT,\n",
        "    nome VARCHAR(128) NOT NULL,\n",
        "    email VARCHAR(128),\n",
        "    telefone VARCHAR(16),\n",
        "    morada VARCHAR(128),\n",
        "    cidade VARCHAR(32),\n",
        "    codigo_postal VARCHAR(10),\n",
        "    pais VARCHAR(32),\n",
        "    data_registo DATE DEFAULT CURRENT_DATE\n",
        ");"
      ]
    },
    {
      "cell_type": "markdown",
      "metadata": {
        "id": "NVG4pBCkn-cD"
      },
      "source": [
        "b) Verificar se a tabela existe na base de dados\n",
        "```sql\n",
        "SELECT * FROM sqlite_master;\n",
        "```\n",
        "\n",
        "```sql\n",
        "SELECT name FROM sqlite_master WHERE type=\"clientes\";\n",
        "```\n"
      ]
    },
    {
      "cell_type": "code",
      "execution_count": 8,
      "metadata": {
        "colab": {
          "base_uri": "https://localhost:8080/",
          "height": 253
        },
        "id": "uNVUFqetfF6G",
        "outputId": "12727460-de9e-4998-f629-008c1579a245"
      },
      "outputs": [
        {
          "data": {
            "text/html": [
              "<span style=\"None\">Running query in &#x27;sqlite:///Exercicio_Clientes.sqlite&#x27;</span>"
            ],
            "text/plain": [
              "Running query in 'sqlite:///Exercicio_Clientes.sqlite'"
            ]
          },
          "metadata": {},
          "output_type": "display_data"
        },
        {
          "data": {
            "text/html": [
              "<table>\n",
              "    <thead>\n",
              "        <tr>\n",
              "            <th>type</th>\n",
              "            <th>name</th>\n",
              "            <th>tbl_name</th>\n",
              "            <th>rootpage</th>\n",
              "            <th>sql</th>\n",
              "        </tr>\n",
              "    </thead>\n",
              "    <tbody>\n",
              "        <tr>\n",
              "            <td>table</td>\n",
              "            <td>clientes</td>\n",
              "            <td>clientes</td>\n",
              "            <td>2</td>\n",
              "            <td>CREATE TABLE clientes (<br>    id INTEGER PRIMARY KEY AUTOINCREMENT,<br>    nome VARCHAR(128) NOT NULL,<br>    email VARCHAR(128),<br>    telefone VARCHAR(16),<br>    morada VARCHAR(128),<br>    cidade VARCHAR(32),<br>    codigo_postal VARCHAR(10),<br>    pais VARCHAR(32),<br>    data_registo DATE DEFAULT CURRENT_DATE<br>)</td>\n",
              "        </tr>\n",
              "    </tbody>\n",
              "</table>"
            ],
            "text/plain": [
              "+-------+----------+----------+----------+--------------------------------------------+\n",
              "|  type |   name   | tbl_name | rootpage |                    sql                     |\n",
              "+-------+----------+----------+----------+--------------------------------------------+\n",
              "| table | clientes | clientes |    2     |          CREATE TABLE clientes (           |\n",
              "|       |          |          |          |     id INTEGER PRIMARY KEY AUTOINCREMENT,  |\n",
              "|       |          |          |          |          nome VARCHAR(128) NOT NULL,       |\n",
              "|       |          |          |          |              email VARCHAR(128),           |\n",
              "|       |          |          |          |             telefone VARCHAR(16),          |\n",
              "|       |          |          |          |              morada VARCHAR(128),          |\n",
              "|       |          |          |          |              cidade VARCHAR(32),           |\n",
              "|       |          |          |          |           codigo_postal VARCHAR(10),       |\n",
              "|       |          |          |          |               pais VARCHAR(32),            |\n",
              "|       |          |          |          |     data_registo DATE DEFAULT CURRENT_DATE |\n",
              "|       |          |          |          |                     )                      |\n",
              "+-------+----------+----------+----------+--------------------------------------------+"
            ]
          },
          "execution_count": 8,
          "metadata": {},
          "output_type": "execute_result"
        }
      ],
      "source": [
        "%%sql\n",
        "SELECT * FROM sqlite_master where name='clientes';"
      ]
    },
    {
      "cell_type": "markdown",
      "metadata": {
        "id": "JP5RcFHXIue3"
      },
      "source": [
        "c) Inserir a informação abaixo no tabela \"clientes\"\n",
        "```sql \n",
        "INSERT INTO clientes (nome, email, telefone, morada, cidade, codigo_postal, pais)\n",
        "VALUES ('Ana Silva', 'ana.silva@email.com', '912345678', 'Rua das Flores, 123', 'Madrid', '1000-001', 'Portugal');\n",
        "\n",
        "INSERT INTO clientes (nome, email, telefone, morada, cidade, codigo_postal, pais)\n",
        "VALUES ('Carlos Mendes', 'carlos.mendes@email.com', '913456789', 'Av. Central, 45', 'Porto', '4000-200', 'Portugal');\n",
        "\n",
        "INSERT INTO clientes (nome, email, telefone, morada, cidade, codigo_postal, pais)\n",
        "VALUES ('Mariana Rocha', 'mariana.rocha@email.com', '914567890', 'Travessa do Sol, 78', 'Coimbra', '3000-150', 'Portugal');\n",
        "\n",
        "INSERT INTO clientes (nome, email, telefone, morada, cidade, codigo_postal, pais)\n",
        "VALUES ('João Costa', 'joao.costa@email.com', '915678901', 'Rua do Mar, 32', 'Faro', '8000-250', 'Portugal');\n",
        "\n",
        "INSERT INTO clientes (nome, email, telefone, morada, cidade, codigo_postal, pais)\n",
        "VALUES ('Beatriz Almeida', 'beatriz.almeida@email.com', '916789012', 'Estrada Nacional 1, Km 12', 'Braga', '4700-000', 'Portugal');\n",
        "\n",
        "INSERT INTO clientes (nome, email, telefone, morada, cidade, codigo_postal, pais)\n",
        "VALUES ('Ricardo Fonseca', 'ricardo.fonseca@email.com', '917890123', 'Rua das Oliveiras, 56', 'Viseu', '3500-123', 'Portugal');\n",
        "\n",
        "INSERT INTO clientes (nome, email, telefone, morada, cidade, codigo_postal, pais)\n",
        "VALUES ('Sofia Matos', 'sofia.matos@email.com', null, 'Largo da Paz, 10', 'Setúbal', '2900-456', 'Portugal');\n",
        "\n",
        "INSERT INTO clientes (nome, email, telefone, morada, cidade, codigo_postal, pais)\n",
        "VALUES ('Tiago Carvalho', 'tiago.carvalho@email.com', '919012345', 'Rua do Comércio, 89', 'Aveiro', '3800-789', 'Portugal');\n",
        "\n",
        "INSERT INTO clientes (nome, email, telefone, morada, cidade, codigo_postal, pais)\n",
        "VALUES ('Inês Ribeiro', 'ines.ribeiro@email.com', '911234567', 'Alameda dos Oceanos, 101', 'Madrid', '1990-123', 'Portugal');\n",
        "\n",
        "INSERT INTO Clientes (nome, email, telefone, morada, cidade, codigo_postal, pais)\n",
        "VALUES ('Pedro Santos', null, '912345678', 'Rua Nova da Estação, 45', 'Leiria', '2400-100', 'Portugal');\n",
        "\n",
        "INSERT INTO clientes (nome, email, telefone, morada, cidade, codigo_postal, pais)\n",
        "VALUES ('Laura Costa', 'laura.costa@email.com', '913456789', 'Av. da Liberdade, 321', 'Guimarães', '4835-123', 'Portugal');\n",
        "\n",
        "INSERT INTO clientes (nome, email, telefone, morada, cidade, codigo_postal, pais)\n",
        "VALUES ('Diego Marquez', 'diego21.marque<@email.com', '974567890', 'Calle XXV, 77', 'Barcelona', '989-768', 'Espanha');\n",
        "\n",
        "INSERT INTO clientes (nome, email, telefone, morada, cidade, codigo_postal, pais)\n",
        "VALUES ('Helena Duarte', 'helena.duarte@email.com', '915112233', 'Rua do Limoeiro, 8', null, '2750-642', 'Portugal');\n",
        "\n",
        "INSERT INTO clientes (nome, email, telefone, morada, codigo_postal, pais) VALUES\n",
        "('André Lopes', 'andre.lopes@email.com', '916223344', 'Rua da Escola, 34', '7800-123', 'Portugal');\n",
        "\n",
        "INSERT INTO clientes (nome, email, telefone, morada, cidade, codigo_postal, pais)\n",
        "VALUES ('Cláudia Nunes', 'claudia.nunes@email.com', '917334455', 'Av. dos Descobrimentos, 56', null, '9000-100', 'Portugal');\n",
        "```"
      ]
    },
    {
      "cell_type": "code",
      "execution_count": 9,
      "metadata": {
        "colab": {
          "base_uri": "https://localhost:8080/",
          "height": 295
        },
        "id": "lh9aGQ2ofnu5",
        "outputId": "628b194f-807a-4fce-e65c-b74ac5cb7257"
      },
      "outputs": [
        {
          "data": {
            "text/html": [
              "<span style=\"None\">Running query in &#x27;sqlite:///Exercicio_Clientes.sqlite&#x27;</span>"
            ],
            "text/plain": [
              "Running query in 'sqlite:///Exercicio_Clientes.sqlite'"
            ]
          },
          "metadata": {},
          "output_type": "display_data"
        },
        {
          "data": {
            "text/html": [
              "<span style=\"color: green\">1 rows affected.</span>"
            ],
            "text/plain": [
              "1 rows affected."
            ]
          },
          "metadata": {},
          "output_type": "display_data"
        },
        {
          "data": {
            "text/html": [
              "<span style=\"color: green\">1 rows affected.</span>"
            ],
            "text/plain": [
              "1 rows affected."
            ]
          },
          "metadata": {},
          "output_type": "display_data"
        },
        {
          "data": {
            "text/html": [
              "<span style=\"color: green\">1 rows affected.</span>"
            ],
            "text/plain": [
              "1 rows affected."
            ]
          },
          "metadata": {},
          "output_type": "display_data"
        },
        {
          "data": {
            "text/html": [
              "<span style=\"color: green\">1 rows affected.</span>"
            ],
            "text/plain": [
              "1 rows affected."
            ]
          },
          "metadata": {},
          "output_type": "display_data"
        },
        {
          "data": {
            "text/html": [
              "<span style=\"color: green\">1 rows affected.</span>"
            ],
            "text/plain": [
              "1 rows affected."
            ]
          },
          "metadata": {},
          "output_type": "display_data"
        },
        {
          "data": {
            "text/html": [
              "<span style=\"color: green\">1 rows affected.</span>"
            ],
            "text/plain": [
              "1 rows affected."
            ]
          },
          "metadata": {},
          "output_type": "display_data"
        },
        {
          "data": {
            "text/html": [
              "<span style=\"color: green\">1 rows affected.</span>"
            ],
            "text/plain": [
              "1 rows affected."
            ]
          },
          "metadata": {},
          "output_type": "display_data"
        },
        {
          "data": {
            "text/html": [
              "<span style=\"color: green\">1 rows affected.</span>"
            ],
            "text/plain": [
              "1 rows affected."
            ]
          },
          "metadata": {},
          "output_type": "display_data"
        },
        {
          "data": {
            "text/html": [
              "<span style=\"color: green\">1 rows affected.</span>"
            ],
            "text/plain": [
              "1 rows affected."
            ]
          },
          "metadata": {},
          "output_type": "display_data"
        },
        {
          "data": {
            "text/html": [
              "<span style=\"color: green\">1 rows affected.</span>"
            ],
            "text/plain": [
              "1 rows affected."
            ]
          },
          "metadata": {},
          "output_type": "display_data"
        },
        {
          "data": {
            "text/html": [
              "<span style=\"color: green\">1 rows affected.</span>"
            ],
            "text/plain": [
              "1 rows affected."
            ]
          },
          "metadata": {},
          "output_type": "display_data"
        },
        {
          "data": {
            "text/html": [
              "<span style=\"color: green\">1 rows affected.</span>"
            ],
            "text/plain": [
              "1 rows affected."
            ]
          },
          "metadata": {},
          "output_type": "display_data"
        },
        {
          "data": {
            "text/html": [
              "<span style=\"color: green\">1 rows affected.</span>"
            ],
            "text/plain": [
              "1 rows affected."
            ]
          },
          "metadata": {},
          "output_type": "display_data"
        },
        {
          "data": {
            "text/html": [
              "<span style=\"color: green\">1 rows affected.</span>"
            ],
            "text/plain": [
              "1 rows affected."
            ]
          },
          "metadata": {},
          "output_type": "display_data"
        },
        {
          "data": {
            "text/html": [
              "<span style=\"color: green\">1 rows affected.</span>"
            ],
            "text/plain": [
              "1 rows affected."
            ]
          },
          "metadata": {},
          "output_type": "display_data"
        },
        {
          "data": {
            "text/html": [
              "<table>\n",
              "    <thead>\n",
              "        <tr>\n",
              "        </tr>\n",
              "    </thead>\n",
              "    <tbody>\n",
              "    </tbody>\n",
              "</table>"
            ],
            "text/plain": [
              "++\n",
              "||\n",
              "++\n",
              "++"
            ]
          },
          "execution_count": 9,
          "metadata": {},
          "output_type": "execute_result"
        }
      ],
      "source": [
        "%%sql\n",
        "INSERT INTO clientes (nome, email, telefone, morada, cidade, codigo_postal, pais)\n",
        "VALUES ('Ana Silva', 'ana.silva@email.com', '912345678', 'Rua das Flores, 123', 'Madrid', '1000-001', 'Portugal');\n",
        "\n",
        "INSERT INTO clientes (nome, email, telefone, morada, cidade, codigo_postal, pais)\n",
        "VALUES ('Carlos Mendes', 'carlos.mendes@email.com', '913456789', 'Av. Central, 45', 'Porto', '4000-200', 'Portugal');\n",
        "\n",
        "INSERT INTO clientes (nome, email, telefone, morada, cidade, codigo_postal, pais)\n",
        "VALUES ('Mariana Rocha', 'mariana.rocha@email.com', '914567890', 'Travessa do Sol, 78', 'Coimbra', '3000-150', 'Portugal');\n",
        "\n",
        "INSERT INTO clientes (nome, email, telefone, morada, cidade, codigo_postal, pais)\n",
        "VALUES ('João Costa', 'joao.costa@email.com', '915678901', 'Rua do Mar, 32', 'Faro', '8000-250', 'Portugal');\n",
        "\n",
        "INSERT INTO clientes (nome, email, telefone, morada, cidade, codigo_postal, pais)\n",
        "VALUES ('Beatriz Almeida', 'beatriz.almeida@email.com', '916789012', 'Estrada Nacional 1, Km 12', 'Braga', '4700-000', 'Portugal');\n",
        "\n",
        "INSERT INTO clientes (nome, email, telefone, morada, cidade, codigo_postal, pais)\n",
        "VALUES ('Ricardo Fonseca', 'ricardo.fonseca@email.com', '917890123', 'Rua das Oliveiras, 56', 'Viseu', '3500-123', 'Portugal');\n",
        "\n",
        "INSERT INTO clientes (nome, email, telefone, morada, cidade, codigo_postal, pais)\n",
        "VALUES ('Sofia Matos', 'sofia.matos@email.com', null, 'Largo da Paz, 10', 'Setúbal', '2900-456', 'Portugal');\n",
        "\n",
        "INSERT INTO clientes (nome, email, telefone, morada, cidade, codigo_postal, pais)\n",
        "VALUES ('Tiago Carvalho', 'tiago.carvalho@email.com', '919012345', 'Rua do Comércio, 89', 'Aveiro', '3800-789', 'Portugal');\n",
        "\n",
        "INSERT INTO clientes (nome, email, telefone, morada, cidade, codigo_postal, pais)\n",
        "VALUES ('Inês Ribeiro', 'ines.ribeiro@email.com', '911234567', 'Alameda dos Oceanos, 101', 'Madrid', '1990-123', 'Portugal');\n",
        "\n",
        "INSERT INTO Clientes (nome, email, telefone, morada, cidade, codigo_postal, pais)\n",
        "VALUES ('Pedro Santos', null, '912345678', 'Rua Nova da Estação, 45', 'Leiria', '2400-100', 'Portugal');\n",
        "\n",
        "INSERT INTO clientes (nome, email, telefone, morada, cidade, codigo_postal, pais)\n",
        "VALUES ('Laura Costa', 'laura.costa@email.com', '913456789', 'Av. da Liberdade, 321', 'Guimarães', '4835-123', 'Portugal');\n",
        "\n",
        "INSERT INTO clientes (nome, email, telefone, morada, cidade, codigo_postal, pais)\n",
        "VALUES ('Diego Marquez', 'diego21.marque<@email.com', '974567890', 'Calle XXV, 77', 'Barcelona', '989-768', 'Espanha');\n",
        "\n",
        "INSERT INTO clientes (nome, email, telefone, morada, cidade, codigo_postal, pais)\n",
        "VALUES ('Helena Duarte', 'helena.duarte@email.com', '915112233', 'Rua do Limoeiro, 8', null, '2750-642', 'Portugal');\n",
        "\n",
        "INSERT INTO clientes (nome, email, telefone, morada, codigo_postal, pais) VALUES\n",
        "('André Lopes', 'andre.lopes@email.com', '916223344', 'Rua da Escola, 34', '7800-123', 'Portugal');\n",
        "\n",
        "INSERT INTO clientes (nome, email, telefone, morada, cidade, codigo_postal, pais)\n",
        "VALUES ('Cláudia Nunes', 'claudia.nunes@email.com', '917334455', 'Av. dos Descobrimentos, 56', null, '9000-100', 'Portugal');"
      ]
    },
    {
      "cell_type": "code",
      "execution_count": 10,
      "metadata": {
        "colab": {
          "base_uri": "https://localhost:8080/",
          "height": 289
        },
        "id": "tDrmlcLzItPA",
        "outputId": "c524154b-ad5e-4d0c-df2f-68f72f0b5276"
      },
      "outputs": [
        {
          "data": {
            "text/html": [
              "<span style=\"None\">Running query in &#x27;sqlite:///Exercicio_Clientes.sqlite&#x27;</span>"
            ],
            "text/plain": [
              "Running query in 'sqlite:///Exercicio_Clientes.sqlite'"
            ]
          },
          "metadata": {},
          "output_type": "display_data"
        },
        {
          "data": {
            "text/html": [
              "<table>\n",
              "    <thead>\n",
              "        <tr>\n",
              "            <th>id</th>\n",
              "            <th>nome</th>\n",
              "            <th>email</th>\n",
              "            <th>telefone</th>\n",
              "            <th>morada</th>\n",
              "            <th>cidade</th>\n",
              "            <th>codigo_postal</th>\n",
              "            <th>pais</th>\n",
              "            <th>data_registo</th>\n",
              "        </tr>\n",
              "    </thead>\n",
              "    <tbody>\n",
              "        <tr>\n",
              "            <td>1</td>\n",
              "            <td>Ana Silva</td>\n",
              "            <td>ana.silva@email.com</td>\n",
              "            <td>912345678</td>\n",
              "            <td>Rua das Flores, 123</td>\n",
              "            <td>Madrid</td>\n",
              "            <td>1000-001</td>\n",
              "            <td>Portugal</td>\n",
              "            <td>2025-06-30</td>\n",
              "        </tr>\n",
              "        <tr>\n",
              "            <td>2</td>\n",
              "            <td>Carlos Mendes</td>\n",
              "            <td>carlos.mendes@email.com</td>\n",
              "            <td>913456789</td>\n",
              "            <td>Av. Central, 45</td>\n",
              "            <td>Porto</td>\n",
              "            <td>4000-200</td>\n",
              "            <td>Portugal</td>\n",
              "            <td>2025-06-30</td>\n",
              "        </tr>\n",
              "        <tr>\n",
              "            <td>3</td>\n",
              "            <td>Mariana Rocha</td>\n",
              "            <td>mariana.rocha@email.com</td>\n",
              "            <td>914567890</td>\n",
              "            <td>Travessa do Sol, 78</td>\n",
              "            <td>Coimbra</td>\n",
              "            <td>3000-150</td>\n",
              "            <td>Portugal</td>\n",
              "            <td>2025-06-30</td>\n",
              "        </tr>\n",
              "        <tr>\n",
              "            <td>4</td>\n",
              "            <td>João Costa</td>\n",
              "            <td>joao.costa@email.com</td>\n",
              "            <td>915678901</td>\n",
              "            <td>Rua do Mar, 32</td>\n",
              "            <td>Faro</td>\n",
              "            <td>8000-250</td>\n",
              "            <td>Portugal</td>\n",
              "            <td>2025-06-30</td>\n",
              "        </tr>\n",
              "        <tr>\n",
              "            <td>5</td>\n",
              "            <td>Beatriz Almeida</td>\n",
              "            <td>beatriz.almeida@email.com</td>\n",
              "            <td>916789012</td>\n",
              "            <td>Estrada Nacional 1, Km 12</td>\n",
              "            <td>Braga</td>\n",
              "            <td>4700-000</td>\n",
              "            <td>Portugal</td>\n",
              "            <td>2025-06-30</td>\n",
              "        </tr>\n",
              "        <tr>\n",
              "            <td>6</td>\n",
              "            <td>Ricardo Fonseca</td>\n",
              "            <td>ricardo.fonseca@email.com</td>\n",
              "            <td>917890123</td>\n",
              "            <td>Rua das Oliveiras, 56</td>\n",
              "            <td>Viseu</td>\n",
              "            <td>3500-123</td>\n",
              "            <td>Portugal</td>\n",
              "            <td>2025-06-30</td>\n",
              "        </tr>\n",
              "        <tr>\n",
              "            <td>7</td>\n",
              "            <td>Sofia Matos</td>\n",
              "            <td>sofia.matos@email.com</td>\n",
              "            <td>None</td>\n",
              "            <td>Largo da Paz, 10</td>\n",
              "            <td>Setúbal</td>\n",
              "            <td>2900-456</td>\n",
              "            <td>Portugal</td>\n",
              "            <td>2025-06-30</td>\n",
              "        </tr>\n",
              "        <tr>\n",
              "            <td>8</td>\n",
              "            <td>Tiago Carvalho</td>\n",
              "            <td>tiago.carvalho@email.com</td>\n",
              "            <td>919012345</td>\n",
              "            <td>Rua do Comércio, 89</td>\n",
              "            <td>Aveiro</td>\n",
              "            <td>3800-789</td>\n",
              "            <td>Portugal</td>\n",
              "            <td>2025-06-30</td>\n",
              "        </tr>\n",
              "        <tr>\n",
              "            <td>9</td>\n",
              "            <td>Inês Ribeiro</td>\n",
              "            <td>ines.ribeiro@email.com</td>\n",
              "            <td>911234567</td>\n",
              "            <td>Alameda dos Oceanos, 101</td>\n",
              "            <td>Madrid</td>\n",
              "            <td>1990-123</td>\n",
              "            <td>Portugal</td>\n",
              "            <td>2025-06-30</td>\n",
              "        </tr>\n",
              "        <tr>\n",
              "            <td>10</td>\n",
              "            <td>Pedro Santos</td>\n",
              "            <td>None</td>\n",
              "            <td>912345678</td>\n",
              "            <td>Rua Nova da Estação, 45</td>\n",
              "            <td>Leiria</td>\n",
              "            <td>2400-100</td>\n",
              "            <td>Portugal</td>\n",
              "            <td>2025-06-30</td>\n",
              "        </tr>\n",
              "        <tr>\n",
              "            <td>11</td>\n",
              "            <td>Laura Costa</td>\n",
              "            <td>laura.costa@email.com</td>\n",
              "            <td>913456789</td>\n",
              "            <td>Av. da Liberdade, 321</td>\n",
              "            <td>Guimarães</td>\n",
              "            <td>4835-123</td>\n",
              "            <td>Portugal</td>\n",
              "            <td>2025-06-30</td>\n",
              "        </tr>\n",
              "        <tr>\n",
              "            <td>12</td>\n",
              "            <td>Diego Marquez</td>\n",
              "            <td>diego21.marque<@email.com</td>\n",
              "            <td>974567890</td>\n",
              "            <td>Calle XXV, 77</td>\n",
              "            <td>Barcelona</td>\n",
              "            <td>989-768</td>\n",
              "            <td>Espanha</td>\n",
              "            <td>2025-06-30</td>\n",
              "        </tr>\n",
              "        <tr>\n",
              "            <td>13</td>\n",
              "            <td>Helena Duarte</td>\n",
              "            <td>helena.duarte@email.com</td>\n",
              "            <td>915112233</td>\n",
              "            <td>Rua do Limoeiro, 8</td>\n",
              "            <td>None</td>\n",
              "            <td>2750-642</td>\n",
              "            <td>Portugal</td>\n",
              "            <td>2025-06-30</td>\n",
              "        </tr>\n",
              "        <tr>\n",
              "            <td>14</td>\n",
              "            <td>André Lopes</td>\n",
              "            <td>andre.lopes@email.com</td>\n",
              "            <td>916223344</td>\n",
              "            <td>Rua da Escola, 34</td>\n",
              "            <td>None</td>\n",
              "            <td>7800-123</td>\n",
              "            <td>Portugal</td>\n",
              "            <td>2025-06-30</td>\n",
              "        </tr>\n",
              "        <tr>\n",
              "            <td>15</td>\n",
              "            <td>Cláudia Nunes</td>\n",
              "            <td>claudia.nunes@email.com</td>\n",
              "            <td>917334455</td>\n",
              "            <td>Av. dos Descobrimentos, 56</td>\n",
              "            <td>None</td>\n",
              "            <td>9000-100</td>\n",
              "            <td>Portugal</td>\n",
              "            <td>2025-06-30</td>\n",
              "        </tr>\n",
              "    </tbody>\n",
              "</table>"
            ],
            "text/plain": [
              "+----+-----------------+---------------------------+-----------+----------------------------+-----------+---------------+----------+--------------+\n",
              "| id |       nome      |           email           |  telefone |           morada           |   cidade  | codigo_postal |   pais   | data_registo |\n",
              "+----+-----------------+---------------------------+-----------+----------------------------+-----------+---------------+----------+--------------+\n",
              "| 1  |    Ana Silva    |    ana.silva@email.com    | 912345678 |    Rua das Flores, 123     |   Madrid  |    1000-001   | Portugal |  2025-06-30  |\n",
              "| 2  |  Carlos Mendes  |  carlos.mendes@email.com  | 913456789 |      Av. Central, 45       |   Porto   |    4000-200   | Portugal |  2025-06-30  |\n",
              "| 3  |  Mariana Rocha  |  mariana.rocha@email.com  | 914567890 |    Travessa do Sol, 78     |  Coimbra  |    3000-150   | Portugal |  2025-06-30  |\n",
              "| 4  |    João Costa   |    joao.costa@email.com   | 915678901 |       Rua do Mar, 32       |    Faro   |    8000-250   | Portugal |  2025-06-30  |\n",
              "| 5  | Beatriz Almeida | beatriz.almeida@email.com | 916789012 | Estrada Nacional 1, Km 12  |   Braga   |    4700-000   | Portugal |  2025-06-30  |\n",
              "| 6  | Ricardo Fonseca | ricardo.fonseca@email.com | 917890123 |   Rua das Oliveiras, 56    |   Viseu   |    3500-123   | Portugal |  2025-06-30  |\n",
              "| 7  |   Sofia Matos   |   sofia.matos@email.com   |    None   |      Largo da Paz, 10      |  Setúbal  |    2900-456   | Portugal |  2025-06-30  |\n",
              "| 8  |  Tiago Carvalho |  tiago.carvalho@email.com | 919012345 |    Rua do Comércio, 89     |   Aveiro  |    3800-789   | Portugal |  2025-06-30  |\n",
              "| 9  |   Inês Ribeiro  |   ines.ribeiro@email.com  | 911234567 |  Alameda dos Oceanos, 101  |   Madrid  |    1990-123   | Portugal |  2025-06-30  |\n",
              "| 10 |   Pedro Santos  |            None           | 912345678 |  Rua Nova da Estação, 45   |   Leiria  |    2400-100   | Portugal |  2025-06-30  |\n",
              "| 11 |   Laura Costa   |   laura.costa@email.com   | 913456789 |   Av. da Liberdade, 321    | Guimarães |    4835-123   | Portugal |  2025-06-30  |\n",
              "| 12 |  Diego Marquez  | diego21.marque<@email.com | 974567890 |       Calle XXV, 77        | Barcelona |    989-768    | Espanha  |  2025-06-30  |\n",
              "| 13 |  Helena Duarte  |  helena.duarte@email.com  | 915112233 |     Rua do Limoeiro, 8     |    None   |    2750-642   | Portugal |  2025-06-30  |\n",
              "| 14 |   André Lopes   |   andre.lopes@email.com   | 916223344 |     Rua da Escola, 34      |    None   |    7800-123   | Portugal |  2025-06-30  |\n",
              "| 15 |  Cláudia Nunes  |  claudia.nunes@email.com  | 917334455 | Av. dos Descobrimentos, 56 |    None   |    9000-100   | Portugal |  2025-06-30  |\n",
              "+----+-----------------+---------------------------+-----------+----------------------------+-----------+---------------+----------+--------------+"
            ]
          },
          "execution_count": 10,
          "metadata": {},
          "output_type": "execute_result"
        }
      ],
      "source": [
        "%%sql\n",
        "SELECT * FROM clientes"
      ]
    },
    {
      "cell_type": "markdown",
      "metadata": {
        "id": "TMbdPCrzIt-T"
      },
      "source": [
        "d) Atualizar o campo cidade para \"Lisboa\" nos registos que apresentam o valor \"Madrid\" neste mesmo campo  "
      ]
    },
    {
      "cell_type": "code",
      "execution_count": 11,
      "metadata": {},
      "outputs": [
        {
          "data": {
            "text/html": [
              "<span style=\"None\">Running query in &#x27;sqlite:///Exercicio_Clientes.sqlite&#x27;</span>"
            ],
            "text/plain": [
              "Running query in 'sqlite:///Exercicio_Clientes.sqlite'"
            ]
          },
          "metadata": {},
          "output_type": "display_data"
        },
        {
          "data": {
            "text/html": [
              "<table>\n",
              "    <thead>\n",
              "        <tr>\n",
              "            <th>Clientes Madrid</th>\n",
              "        </tr>\n",
              "    </thead>\n",
              "    <tbody>\n",
              "        <tr>\n",
              "            <td>2</td>\n",
              "        </tr>\n",
              "    </tbody>\n",
              "</table>"
            ],
            "text/plain": [
              "+-----------------+\n",
              "| Clientes Madrid |\n",
              "+-----------------+\n",
              "|        2        |\n",
              "+-----------------+"
            ]
          },
          "execution_count": 11,
          "metadata": {},
          "output_type": "execute_result"
        }
      ],
      "source": [
        "%%sql\n",
        "-- Contar o número de clientes na cidade de Madrid\n",
        "SELECT COUNT(*) AS \"Clientes Madrid\"\n",
        "FROM clientes\n",
        "WHERE cidade='Madrid'"
      ]
    },
    {
      "cell_type": "code",
      "execution_count": 12,
      "metadata": {
        "colab": {
          "base_uri": "https://localhost:8080/",
          "height": 52
        },
        "id": "14EzKy5MKCLR",
        "outputId": "4d97bd4b-3a21-499c-d9fd-139bee05e1d1"
      },
      "outputs": [
        {
          "data": {
            "text/html": [
              "<span style=\"None\">Running query in &#x27;sqlite:///Exercicio_Clientes.sqlite&#x27;</span>"
            ],
            "text/plain": [
              "Running query in 'sqlite:///Exercicio_Clientes.sqlite'"
            ]
          },
          "metadata": {},
          "output_type": "display_data"
        },
        {
          "data": {
            "text/html": [
              "<span style=\"color: green\">2 rows affected.</span>"
            ],
            "text/plain": [
              "2 rows affected."
            ]
          },
          "metadata": {},
          "output_type": "display_data"
        },
        {
          "data": {
            "text/html": [
              "<table>\n",
              "    <thead>\n",
              "        <tr>\n",
              "        </tr>\n",
              "    </thead>\n",
              "    <tbody>\n",
              "    </tbody>\n",
              "</table>"
            ],
            "text/plain": [
              "++\n",
              "||\n",
              "++\n",
              "++"
            ]
          },
          "execution_count": 12,
          "metadata": {},
          "output_type": "execute_result"
        }
      ],
      "source": [
        "%%sql\n",
        "UPDATE clientes SET cidade='Lisboa', pais='Portugal' \n",
        "WHERE cidade = 'Madrid';"
      ]
    },
    {
      "cell_type": "code",
      "execution_count": 13,
      "metadata": {},
      "outputs": [
        {
          "data": {
            "text/html": [
              "<span style=\"None\">Running query in &#x27;sqlite:///Exercicio_Clientes.sqlite&#x27;</span>"
            ],
            "text/plain": [
              "Running query in 'sqlite:///Exercicio_Clientes.sqlite'"
            ]
          },
          "metadata": {},
          "output_type": "display_data"
        },
        {
          "data": {
            "text/html": [
              "<table>\n",
              "    <thead>\n",
              "        <tr>\n",
              "            <th>id</th>\n",
              "            <th>nome</th>\n",
              "            <th>email</th>\n",
              "            <th>telefone</th>\n",
              "            <th>morada</th>\n",
              "            <th>cidade</th>\n",
              "            <th>codigo_postal</th>\n",
              "            <th>pais</th>\n",
              "            <th>data_registo</th>\n",
              "        </tr>\n",
              "    </thead>\n",
              "    <tbody>\n",
              "        <tr>\n",
              "            <td>1</td>\n",
              "            <td>Ana Silva</td>\n",
              "            <td>ana.silva@email.com</td>\n",
              "            <td>912345678</td>\n",
              "            <td>Rua das Flores, 123</td>\n",
              "            <td>Lisboa</td>\n",
              "            <td>1000-001</td>\n",
              "            <td>Portugal</td>\n",
              "            <td>2025-06-30</td>\n",
              "        </tr>\n",
              "        <tr>\n",
              "            <td>9</td>\n",
              "            <td>Inês Ribeiro</td>\n",
              "            <td>ines.ribeiro@email.com</td>\n",
              "            <td>911234567</td>\n",
              "            <td>Alameda dos Oceanos, 101</td>\n",
              "            <td>Lisboa</td>\n",
              "            <td>1990-123</td>\n",
              "            <td>Portugal</td>\n",
              "            <td>2025-06-30</td>\n",
              "        </tr>\n",
              "    </tbody>\n",
              "</table>"
            ],
            "text/plain": [
              "+----+--------------+------------------------+-----------+--------------------------+--------+---------------+----------+--------------+\n",
              "| id |     nome     |         email          |  telefone |          morada          | cidade | codigo_postal |   pais   | data_registo |\n",
              "+----+--------------+------------------------+-----------+--------------------------+--------+---------------+----------+--------------+\n",
              "| 1  |  Ana Silva   |  ana.silva@email.com   | 912345678 |   Rua das Flores, 123    | Lisboa |    1000-001   | Portugal |  2025-06-30  |\n",
              "| 9  | Inês Ribeiro | ines.ribeiro@email.com | 911234567 | Alameda dos Oceanos, 101 | Lisboa |    1990-123   | Portugal |  2025-06-30  |\n",
              "+----+--------------+------------------------+-----------+--------------------------+--------+---------------+----------+--------------+"
            ]
          },
          "execution_count": 13,
          "metadata": {},
          "output_type": "execute_result"
        }
      ],
      "source": [
        "%%sql\n",
        "SELECT * FROM clientes WHERE id in (1, 9);"
      ]
    },
    {
      "cell_type": "markdown",
      "metadata": {
        "id": "bMWXjY4SKPDc"
      },
      "source": [
        "e) Eliminar os registos apresentam o valor \"Barcelona\" no campo cidade ou não têm qualquer valor no campo cidade"
      ]
    },
    {
      "cell_type": "code",
      "execution_count": 14,
      "metadata": {},
      "outputs": [
        {
          "data": {
            "text/html": [
              "<span style=\"None\">Running query in &#x27;sqlite:///Exercicio_Clientes.sqlite&#x27;</span>"
            ],
            "text/plain": [
              "Running query in 'sqlite:///Exercicio_Clientes.sqlite'"
            ]
          },
          "metadata": {},
          "output_type": "display_data"
        },
        {
          "data": {
            "text/html": [
              "<table>\n",
              "    <thead>\n",
              "        <tr>\n",
              "            <th>nome</th>\n",
              "            <th>cidade</th>\n",
              "        </tr>\n",
              "    </thead>\n",
              "    <tbody>\n",
              "        <tr>\n",
              "            <td>Diego Marquez</td>\n",
              "            <td>Barcelona</td>\n",
              "        </tr>\n",
              "        <tr>\n",
              "            <td>Helena Duarte</td>\n",
              "            <td>None</td>\n",
              "        </tr>\n",
              "        <tr>\n",
              "            <td>André Lopes</td>\n",
              "            <td>None</td>\n",
              "        </tr>\n",
              "        <tr>\n",
              "            <td>Cláudia Nunes</td>\n",
              "            <td>None</td>\n",
              "        </tr>\n",
              "    </tbody>\n",
              "</table>"
            ],
            "text/plain": [
              "+---------------+-----------+\n",
              "|      nome     |   cidade  |\n",
              "+---------------+-----------+\n",
              "| Diego Marquez | Barcelona |\n",
              "| Helena Duarte |    None   |\n",
              "|  André Lopes  |    None   |\n",
              "| Cláudia Nunes |    None   |\n",
              "+---------------+-----------+"
            ]
          },
          "execution_count": 14,
          "metadata": {},
          "output_type": "execute_result"
        }
      ],
      "source": [
        "%%sql\n",
        "-- Verificar quantos registo serão eliminados\n",
        "SELECT nome, cidade FROM clientes \n",
        "WHERE \n",
        "    cidade = 'Barcelona' OR\n",
        "    cidade IS NULL"
      ]
    },
    {
      "cell_type": "code",
      "execution_count": 15,
      "metadata": {
        "id": "XMMQRPpCLCFH"
      },
      "outputs": [
        {
          "data": {
            "text/html": [
              "<span style=\"None\">Running query in &#x27;sqlite:///Exercicio_Clientes.sqlite&#x27;</span>"
            ],
            "text/plain": [
              "Running query in 'sqlite:///Exercicio_Clientes.sqlite'"
            ]
          },
          "metadata": {},
          "output_type": "display_data"
        },
        {
          "data": {
            "text/html": [
              "<span style=\"color: green\">4 rows affected.</span>"
            ],
            "text/plain": [
              "4 rows affected."
            ]
          },
          "metadata": {},
          "output_type": "display_data"
        },
        {
          "data": {
            "text/html": [
              "<table>\n",
              "    <thead>\n",
              "        <tr>\n",
              "        </tr>\n",
              "    </thead>\n",
              "    <tbody>\n",
              "    </tbody>\n",
              "</table>"
            ],
            "text/plain": [
              "++\n",
              "||\n",
              "++\n",
              "++"
            ]
          },
          "execution_count": 15,
          "metadata": {},
          "output_type": "execute_result"
        }
      ],
      "source": [
        "%%sql\n",
        "DELETE FROM clientes \n",
        "WHERE \n",
        "    cidade = 'Barcelona' OR\n",
        "    cidade IS NULL"
      ]
    },
    {
      "cell_type": "markdown",
      "metadata": {},
      "source": [
        "---"
      ]
    },
    {
      "cell_type": "code",
      "execution_count": 16,
      "metadata": {
        "id": "eLCofOstl7TL"
      },
      "outputs": [
        {
          "data": {
            "text/html": [
              "<span style=\"None\">Running query in &#x27;sqlite:///Exercicio_Clientes.sqlite&#x27;</span>"
            ],
            "text/plain": [
              "Running query in 'sqlite:///Exercicio_Clientes.sqlite'"
            ]
          },
          "metadata": {},
          "output_type": "display_data"
        },
        {
          "data": {
            "text/html": [
              "<span style=\"color: green\">1 rows affected.</span>"
            ],
            "text/plain": [
              "1 rows affected."
            ]
          },
          "metadata": {},
          "output_type": "display_data"
        },
        {
          "data": {
            "text/html": [
              "<span style=\"color: green\">1 rows affected.</span>"
            ],
            "text/plain": [
              "1 rows affected."
            ]
          },
          "metadata": {},
          "output_type": "display_data"
        },
        {
          "data": {
            "text/html": [
              "<span style=\"color: green\">1 rows affected.</span>"
            ],
            "text/plain": [
              "1 rows affected."
            ]
          },
          "metadata": {},
          "output_type": "display_data"
        },
        {
          "data": {
            "text/html": [
              "<span style=\"color: green\">1 rows affected.</span>"
            ],
            "text/plain": [
              "1 rows affected."
            ]
          },
          "metadata": {},
          "output_type": "display_data"
        },
        {
          "data": {
            "text/html": [
              "<table>\n",
              "    <thead>\n",
              "        <tr>\n",
              "        </tr>\n",
              "    </thead>\n",
              "    <tbody>\n",
              "    </tbody>\n",
              "</table>"
            ],
            "text/plain": [
              "++\n",
              "||\n",
              "++\n",
              "++"
            ]
          },
          "execution_count": 16,
          "metadata": {},
          "output_type": "execute_result"
        }
      ],
      "source": [
        "%%sql\n",
        "-- Adicionar novos clientes\n",
        "INSERT INTO clientes (nome, email, telefone, morada, cidade, codigo_postal, pais)\n",
        "VALUES ('Diego Marquez', 'diego21.marque<@email.com', '974567890', 'Calle XXV, 77', 'Barcelona', '989-768', 'Espanha');\n",
        "\n",
        "INSERT INTO clientes (nome, email, telefone, morada, cidade, codigo_postal, pais)\n",
        "VALUES ('Helena Duarte', 'helena.duarte@email.com', '915112233', 'Rua do Limoeiro, 8', null, '2750-642', 'Portugal');\n",
        "\n",
        "INSERT INTO clientes (nome, email, telefone, morada, codigo_postal, pais) VALUES\n",
        "('André Lopes', 'andre.lopes@email.com', '916223344', 'Rua da Escola, 34', '7800-123', 'Portugal');\n",
        "\n",
        "INSERT INTO clientes (nome, email, telefone, morada, cidade, codigo_postal, pais)\n",
        "VALUES ('Cláudia Nunes', 'claudia.nunes@email.com', '917334455', 'Av. dos Descobrimentos, 56', null, '9000-100', 'Portugal');"
      ]
    },
    {
      "cell_type": "markdown",
      "metadata": {
        "id": "nPoppzrWLl0h"
      },
      "source": [
        "f) Listar o identificador e nome dos clientes que residem em Leiria"
      ]
    },
    {
      "cell_type": "code",
      "execution_count": 17,
      "metadata": {
        "id": "JYl-kJhgL1OP"
      },
      "outputs": [
        {
          "data": {
            "text/html": [
              "<span style=\"None\">Running query in &#x27;sqlite:///Exercicio_Clientes.sqlite&#x27;</span>"
            ],
            "text/plain": [
              "Running query in 'sqlite:///Exercicio_Clientes.sqlite'"
            ]
          },
          "metadata": {},
          "output_type": "display_data"
        },
        {
          "data": {
            "text/html": [
              "<table>\n",
              "    <thead>\n",
              "        <tr>\n",
              "            <th>id</th>\n",
              "            <th>nome</th>\n",
              "        </tr>\n",
              "    </thead>\n",
              "    <tbody>\n",
              "        <tr>\n",
              "            <td>10</td>\n",
              "            <td>Pedro Santos</td>\n",
              "        </tr>\n",
              "    </tbody>\n",
              "</table>"
            ],
            "text/plain": [
              "+----+--------------+\n",
              "| id |     nome     |\n",
              "+----+--------------+\n",
              "| 10 | Pedro Santos |\n",
              "+----+--------------+"
            ]
          },
          "execution_count": 17,
          "metadata": {},
          "output_type": "execute_result"
        }
      ],
      "source": [
        "%%sql\n",
        "SELECT id, nome FROM clientes\n",
        "WHERE\n",
        "    cidade = 'Leiria'"
      ]
    },
    {
      "cell_type": "markdown",
      "metadata": {
        "id": "ETF-TxReNDUC"
      },
      "source": [
        "g) Listar o nome dos clientes que não têm email ou telefone definidos"
      ]
    },
    {
      "cell_type": "code",
      "execution_count": 18,
      "metadata": {
        "id": "Oa7TkER5NLpq"
      },
      "outputs": [
        {
          "data": {
            "text/html": [
              "<span style=\"None\">Running query in &#x27;sqlite:///Exercicio_Clientes.sqlite&#x27;</span>"
            ],
            "text/plain": [
              "Running query in 'sqlite:///Exercicio_Clientes.sqlite'"
            ]
          },
          "metadata": {},
          "output_type": "display_data"
        },
        {
          "data": {
            "text/html": [
              "<table>\n",
              "    <thead>\n",
              "        <tr>\n",
              "            <th>nome</th>\n",
              "            <th>email</th>\n",
              "            <th>telefone</th>\n",
              "        </tr>\n",
              "    </thead>\n",
              "    <tbody>\n",
              "        <tr>\n",
              "            <td>Sofia Matos</td>\n",
              "            <td>sofia.matos@email.com</td>\n",
              "            <td>None</td>\n",
              "        </tr>\n",
              "        <tr>\n",
              "            <td>Pedro Santos</td>\n",
              "            <td>None</td>\n",
              "            <td>912345678</td>\n",
              "        </tr>\n",
              "    </tbody>\n",
              "</table>"
            ],
            "text/plain": [
              "+--------------+-----------------------+-----------+\n",
              "|     nome     |         email         |  telefone |\n",
              "+--------------+-----------------------+-----------+\n",
              "| Sofia Matos  | sofia.matos@email.com |    None   |\n",
              "| Pedro Santos |          None         | 912345678 |\n",
              "+--------------+-----------------------+-----------+"
            ]
          },
          "execution_count": 18,
          "metadata": {},
          "output_type": "execute_result"
        }
      ],
      "source": [
        "%%sql\n",
        "SELECT nome, email, telefone FROM clientes\n",
        "WHERE\n",
        "    email IS NULL OR\n",
        "    telefone IS NULL"
      ]
    },
    {
      "cell_type": "markdown",
      "metadata": {
        "id": "3kB4PIh5NRar"
      },
      "source": [
        "h) Listar o numero, nome e cidades dos clientes que têm apelido \"Silva\"  "
      ]
    },
    {
      "cell_type": "code",
      "execution_count": 19,
      "metadata": {
        "id": "GuImWuQEwMQ1"
      },
      "outputs": [
        {
          "data": {
            "text/html": [
              "<span style=\"None\">Running query in &#x27;sqlite:///Exercicio_Clientes.sqlite&#x27;</span>"
            ],
            "text/plain": [
              "Running query in 'sqlite:///Exercicio_Clientes.sqlite'"
            ]
          },
          "metadata": {},
          "output_type": "display_data"
        },
        {
          "data": {
            "text/html": [
              "<table>\n",
              "    <thead>\n",
              "        <tr>\n",
              "            <th>nome</th>\n",
              "            <th>telefone</th>\n",
              "        </tr>\n",
              "    </thead>\n",
              "    <tbody>\n",
              "        <tr>\n",
              "            <td>Ana Silva</td>\n",
              "            <td>912345678</td>\n",
              "        </tr>\n",
              "    </tbody>\n",
              "</table>"
            ],
            "text/plain": [
              "+-----------+-----------+\n",
              "|    nome   |  telefone |\n",
              "+-----------+-----------+\n",
              "| Ana Silva | 912345678 |\n",
              "+-----------+-----------+"
            ]
          },
          "execution_count": 19,
          "metadata": {},
          "output_type": "execute_result"
        }
      ],
      "source": [
        "%%sql\n",
        "SELECT nome, telefone FROM clientes\n",
        "WHERE\n",
        "    nome LIKE '%Silva'"
      ]
    },
    {
      "cell_type": "code",
      "execution_count": 20,
      "metadata": {},
      "outputs": [
        {
          "data": {
            "text/html": [
              "<span style=\"None\">Running query in &#x27;sqlite:///Exercicio_Clientes.sqlite&#x27;</span>"
            ],
            "text/plain": [
              "Running query in 'sqlite:///Exercicio_Clientes.sqlite'"
            ]
          },
          "metadata": {},
          "output_type": "display_data"
        },
        {
          "data": {
            "text/html": [
              "<table>\n",
              "    <thead>\n",
              "        <tr>\n",
              "            <th>nome</th>\n",
              "            <th>telefone</th>\n",
              "        </tr>\n",
              "    </thead>\n",
              "    <tbody>\n",
              "        <tr>\n",
              "            <td>Ana Silva</td>\n",
              "            <td>912345678</td>\n",
              "        </tr>\n",
              "    </tbody>\n",
              "</table>"
            ],
            "text/plain": [
              "+-----------+-----------+\n",
              "|    nome   |  telefone |\n",
              "+-----------+-----------+\n",
              "| Ana Silva | 912345678 |\n",
              "+-----------+-----------+"
            ]
          },
          "execution_count": 20,
          "metadata": {},
          "output_type": "execute_result"
        }
      ],
      "source": [
        "%%sql\n",
        "-- forma mais robusta\n",
        "SELECT nome, telefone FROM clientes\n",
        "WHERE\n",
        "    UPPER(TRIM(nome)) LIKE '%SILVA'"
      ]
    },
    {
      "cell_type": "markdown",
      "metadata": {
        "id": "ChztS2K25mi7"
      },
      "source": [
        "g) Calcular a quantidade de clientes que residem em Madrid » Lisboa"
      ]
    },
    {
      "cell_type": "code",
      "execution_count": 21,
      "metadata": {
        "id": "UhKCyJsw57KK"
      },
      "outputs": [
        {
          "data": {
            "text/html": [
              "<span style=\"None\">Running query in &#x27;sqlite:///Exercicio_Clientes.sqlite&#x27;</span>"
            ],
            "text/plain": [
              "Running query in 'sqlite:///Exercicio_Clientes.sqlite'"
            ]
          },
          "metadata": {},
          "output_type": "display_data"
        },
        {
          "data": {
            "text/html": [
              "<table>\n",
              "    <thead>\n",
              "        <tr>\n",
              "            <th>Residentes em Madrid</th>\n",
              "        </tr>\n",
              "    </thead>\n",
              "    <tbody>\n",
              "        <tr>\n",
              "            <td>2</td>\n",
              "        </tr>\n",
              "    </tbody>\n",
              "</table>"
            ],
            "text/plain": [
              "+----------------------+\n",
              "| Residentes em Madrid |\n",
              "+----------------------+\n",
              "|          2           |\n",
              "+----------------------+"
            ]
          },
          "execution_count": 21,
          "metadata": {},
          "output_type": "execute_result"
        }
      ],
      "source": [
        "%%sql\n",
        "SELECT COUNT(id) as \"Residentes em Madrid\" FROM clientes\n",
        "WHERE\n",
        "    cidade = 'Lisboa'"
      ]
    },
    {
      "cell_type": "markdown",
      "metadata": {
        "id": "MVLU8R2T57V7"
      },
      "source": [
        "h) Calcular a quantidade de clientes de Portugal"
      ]
    },
    {
      "cell_type": "code",
      "execution_count": 22,
      "metadata": {
        "id": "9ls0trm46Es5"
      },
      "outputs": [
        {
          "data": {
            "text/html": [
              "<span style=\"None\">Running query in &#x27;sqlite:///Exercicio_Clientes.sqlite&#x27;</span>"
            ],
            "text/plain": [
              "Running query in 'sqlite:///Exercicio_Clientes.sqlite'"
            ]
          },
          "metadata": {},
          "output_type": "display_data"
        },
        {
          "data": {
            "text/html": [
              "<table>\n",
              "    <thead>\n",
              "        <tr>\n",
              "            <th>Residentes em Madrid</th>\n",
              "        </tr>\n",
              "    </thead>\n",
              "    <tbody>\n",
              "        <tr>\n",
              "            <td>14</td>\n",
              "        </tr>\n",
              "    </tbody>\n",
              "</table>"
            ],
            "text/plain": [
              "+----------------------+\n",
              "| Residentes em Madrid |\n",
              "+----------------------+\n",
              "|          14          |\n",
              "+----------------------+"
            ]
          },
          "execution_count": 22,
          "metadata": {},
          "output_type": "execute_result"
        }
      ],
      "source": [
        "%%sql\n",
        "SELECT COUNT(id) as \"Residentes em Madrid\" FROM clientes\n",
        "WHERE\n",
        "    pais = 'Portugal'"
      ]
    },
    {
      "cell_type": "markdown",
      "metadata": {
        "id": "zkOC23C66E3J"
      },
      "source": [
        "i) Calcular a quantidade de clientes cujo código postal começa por `9`"
      ]
    },
    {
      "cell_type": "code",
      "execution_count": 23,
      "metadata": {
        "id": "JZxhrt6e6NcV"
      },
      "outputs": [
        {
          "data": {
            "text/html": [
              "<span style=\"None\">Running query in &#x27;sqlite:///Exercicio_Clientes.sqlite&#x27;</span>"
            ],
            "text/plain": [
              "Running query in 'sqlite:///Exercicio_Clientes.sqlite'"
            ]
          },
          "metadata": {},
          "output_type": "display_data"
        },
        {
          "data": {
            "text/html": [
              "<table>\n",
              "    <thead>\n",
              "        <tr>\n",
              "            <th>nome</th>\n",
              "            <th>codigo_postal</th>\n",
              "        </tr>\n",
              "    </thead>\n",
              "    <tbody>\n",
              "        <tr>\n",
              "            <td>Diego Marquez</td>\n",
              "            <td>989-768</td>\n",
              "        </tr>\n",
              "        <tr>\n",
              "            <td>Cláudia Nunes</td>\n",
              "            <td>9000-100</td>\n",
              "        </tr>\n",
              "    </tbody>\n",
              "</table>"
            ],
            "text/plain": [
              "+---------------+---------------+\n",
              "|      nome     | codigo_postal |\n",
              "+---------------+---------------+\n",
              "| Diego Marquez |    989-768    |\n",
              "| Cláudia Nunes |    9000-100   |\n",
              "+---------------+---------------+"
            ]
          },
          "execution_count": 23,
          "metadata": {},
          "output_type": "execute_result"
        }
      ],
      "source": [
        "%%sql\n",
        "SELECT nome, codigo_postal FROM clientes\n",
        "WHERE\n",
        "    codigo_postal LIKE '9%'"
      ]
    },
    {
      "cell_type": "markdown",
      "metadata": {
        "id": "g4JH38u1lQSL"
      },
      "source": [
        "j) Inserir o seguinte registo na tabela `clientes`.\n",
        "\n",
        "```sql\n",
        "INSERT INTO clientes (nome, email, telefone, morada, cidade, codigo_postal, pais)\n",
        "VALUES ('Roberto Abreu', 'ro.ab@email.com', '921234567', 'Av. Principal, 101B', null, '5400-100', 'Portugal');\n",
        "```\n"
      ]
    },
    {
      "cell_type": "code",
      "execution_count": 24,
      "metadata": {
        "id": "gCB4sFWZl0sT"
      },
      "outputs": [
        {
          "data": {
            "text/html": [
              "<span style=\"None\">Running query in &#x27;sqlite:///Exercicio_Clientes.sqlite&#x27;</span>"
            ],
            "text/plain": [
              "Running query in 'sqlite:///Exercicio_Clientes.sqlite'"
            ]
          },
          "metadata": {},
          "output_type": "display_data"
        },
        {
          "data": {
            "text/html": [
              "<span style=\"color: green\">1 rows affected.</span>"
            ],
            "text/plain": [
              "1 rows affected."
            ]
          },
          "metadata": {},
          "output_type": "display_data"
        },
        {
          "data": {
            "text/html": [
              "<table>\n",
              "    <thead>\n",
              "        <tr>\n",
              "        </tr>\n",
              "    </thead>\n",
              "    <tbody>\n",
              "    </tbody>\n",
              "</table>"
            ],
            "text/plain": [
              "++\n",
              "||\n",
              "++\n",
              "++"
            ]
          },
          "execution_count": 24,
          "metadata": {},
          "output_type": "execute_result"
        }
      ],
      "source": [
        "%%sql\n",
        "INSERT INTO clientes (nome, email, telefone, morada, cidade, codigo_postal, pais)\n",
        "VALUES ('Roberto Abreu', 'ro.ab@email.com', '921234567', 'Av. Principal, 101B', null, '5400-100', 'Portugal');"
      ]
    },
    {
      "cell_type": "markdown",
      "metadata": {
        "id": "7Ikchxmjl087"
      },
      "source": [
        "k) Alterar a cidade no registo anterior para `chaves`"
      ]
    },
    {
      "cell_type": "code",
      "execution_count": 25,
      "metadata": {},
      "outputs": [
        {
          "data": {
            "text/html": [
              "<span style=\"None\">Running query in &#x27;sqlite:///Exercicio_Clientes.sqlite&#x27;</span>"
            ],
            "text/plain": [
              "Running query in 'sqlite:///Exercicio_Clientes.sqlite'"
            ]
          },
          "metadata": {},
          "output_type": "display_data"
        },
        {
          "data": {
            "text/html": [
              "<table>\n",
              "    <thead>\n",
              "        <tr>\n",
              "            <th>Último registo</th>\n",
              "        </tr>\n",
              "    </thead>\n",
              "    <tbody>\n",
              "        <tr>\n",
              "            <td>20</td>\n",
              "        </tr>\n",
              "    </tbody>\n",
              "</table>"
            ],
            "text/plain": [
              "+----------------+\n",
              "| Último registo |\n",
              "+----------------+\n",
              "|       20       |\n",
              "+----------------+"
            ]
          },
          "execution_count": 25,
          "metadata": {},
          "output_type": "execute_result"
        }
      ],
      "source": [
        "%%sql\n",
        "-- Verificar o último ID inserido\n",
        "SELECT MAX(id) AS \"Último registo\" FROM clientes;"
      ]
    },
    {
      "cell_type": "code",
      "execution_count": 26,
      "metadata": {
        "id": "XEhF8iRTl6p5"
      },
      "outputs": [
        {
          "data": {
            "text/html": [
              "<span style=\"None\">Running query in &#x27;sqlite:///Exercicio_Clientes.sqlite&#x27;</span>"
            ],
            "text/plain": [
              "Running query in 'sqlite:///Exercicio_Clientes.sqlite'"
            ]
          },
          "metadata": {},
          "output_type": "display_data"
        },
        {
          "data": {
            "text/html": [
              "<table>\n",
              "    <thead>\n",
              "        <tr>\n",
              "            <th>nome</th>\n",
              "            <th>email</th>\n",
              "            <th>telefone</th>\n",
              "        </tr>\n",
              "    </thead>\n",
              "    <tbody>\n",
              "        <tr>\n",
              "            <td>Roberto Abreu</td>\n",
              "            <td>ro.ab@email.com</td>\n",
              "            <td>921234567</td>\n",
              "        </tr>\n",
              "    </tbody>\n",
              "</table>"
            ],
            "text/plain": [
              "+---------------+-----------------+-----------+\n",
              "|      nome     |      email      |  telefone |\n",
              "+---------------+-----------------+-----------+\n",
              "| Roberto Abreu | ro.ab@email.com | 921234567 |\n",
              "+---------------+-----------------+-----------+"
            ]
          },
          "execution_count": 26,
          "metadata": {},
          "output_type": "execute_result"
        }
      ],
      "source": [
        "%%sql\n",
        "-- Para confirmar que o último ID é o correto \n",
        "SELECT nome, email, telefone FROM clientes\n",
        "WHERE \n",
        "id = (SELECT id FROM clientes WHERE email = 'ro.ab@email.com');"
      ]
    },
    {
      "cell_type": "code",
      "execution_count": 27,
      "metadata": {},
      "outputs": [
        {
          "data": {
            "text/html": [
              "<span style=\"None\">Running query in &#x27;sqlite:///Exercicio_Clientes.sqlite&#x27;</span>"
            ],
            "text/plain": [
              "Running query in 'sqlite:///Exercicio_Clientes.sqlite'"
            ]
          },
          "metadata": {},
          "output_type": "display_data"
        },
        {
          "data": {
            "text/html": [
              "<span style=\"color: green\">1 rows affected.</span>"
            ],
            "text/plain": [
              "1 rows affected."
            ]
          },
          "metadata": {},
          "output_type": "display_data"
        },
        {
          "data": {
            "text/html": [
              "<table>\n",
              "    <thead>\n",
              "        <tr>\n",
              "        </tr>\n",
              "    </thead>\n",
              "    <tbody>\n",
              "    </tbody>\n",
              "</table>"
            ],
            "text/plain": [
              "++\n",
              "||\n",
              "++\n",
              "++"
            ]
          },
          "execution_count": 27,
          "metadata": {},
          "output_type": "execute_result"
        }
      ],
      "source": [
        "%%sql\n",
        "UPDATE clientes\n",
        "SET cidade = 'Chaves'\n",
        "WHERE id = (SELECT id FROM clientes WHERE email = 'ro.ab@email.com');"
      ]
    },
    {
      "cell_type": "code",
      "execution_count": 28,
      "metadata": {},
      "outputs": [
        {
          "data": {
            "text/html": [
              "<span style=\"None\">Running query in &#x27;sqlite:///Exercicio_Clientes.sqlite&#x27;</span>"
            ],
            "text/plain": [
              "Running query in 'sqlite:///Exercicio_Clientes.sqlite'"
            ]
          },
          "metadata": {},
          "output_type": "display_data"
        },
        {
          "data": {
            "text/html": [
              "<table>\n",
              "    <thead>\n",
              "        <tr>\n",
              "            <th>nome</th>\n",
              "            <th>email</th>\n",
              "            <th>telefone</th>\n",
              "            <th>cidade</th>\n",
              "        </tr>\n",
              "    </thead>\n",
              "    <tbody>\n",
              "        <tr>\n",
              "            <td>Roberto Abreu</td>\n",
              "            <td>ro.ab@email.com</td>\n",
              "            <td>921234567</td>\n",
              "            <td>Chaves</td>\n",
              "        </tr>\n",
              "    </tbody>\n",
              "</table>"
            ],
            "text/plain": [
              "+---------------+-----------------+-----------+--------+\n",
              "|      nome     |      email      |  telefone | cidade |\n",
              "+---------------+-----------------+-----------+--------+\n",
              "| Roberto Abreu | ro.ab@email.com | 921234567 | Chaves |\n",
              "+---------------+-----------------+-----------+--------+"
            ]
          },
          "execution_count": 28,
          "metadata": {},
          "output_type": "execute_result"
        }
      ],
      "source": [
        "%%sql\n",
        "SELECT nome, email, telefone, cidade FROM clientes\n",
        "WHERE \n",
        "id = (SELECT id FROM clientes WHERE email = 'ro.ab@email.com');"
      ]
    },
    {
      "cell_type": "markdown",
      "metadata": {
        "id": "tPsSqwPdl609"
      },
      "source": [
        "l) Eliminar todos os registos da tabela `clientes` com a cidade `chaves`"
      ]
    },
    {
      "cell_type": "code",
      "execution_count": 29,
      "metadata": {},
      "outputs": [
        {
          "data": {
            "text/html": [
              "<span style=\"None\">Running query in &#x27;sqlite:///Exercicio_Clientes.sqlite&#x27;</span>"
            ],
            "text/plain": [
              "Running query in 'sqlite:///Exercicio_Clientes.sqlite'"
            ]
          },
          "metadata": {},
          "output_type": "display_data"
        },
        {
          "data": {
            "text/html": [
              "<table>\n",
              "    <thead>\n",
              "        <tr>\n",
              "            <th>COUNT(*)</th>\n",
              "        </tr>\n",
              "    </thead>\n",
              "    <tbody>\n",
              "        <tr>\n",
              "            <td>1</td>\n",
              "        </tr>\n",
              "    </tbody>\n",
              "</table>"
            ],
            "text/plain": [
              "+----------+\n",
              "| COUNT(*) |\n",
              "+----------+\n",
              "|    1     |\n",
              "+----------+"
            ]
          },
          "execution_count": 29,
          "metadata": {},
          "output_type": "execute_result"
        }
      ],
      "source": [
        "%%sql\n",
        "-- verificar quantos registo vão ser afetados\n",
        "SELECT COUNT(*) FROM clientes\n",
        "WHERE cidade = 'Chaves';"
      ]
    },
    {
      "cell_type": "code",
      "execution_count": 30,
      "metadata": {
        "id": "NrIsCh-kmL-8"
      },
      "outputs": [
        {
          "data": {
            "text/html": [
              "<span style=\"None\">Running query in &#x27;sqlite:///Exercicio_Clientes.sqlite&#x27;</span>"
            ],
            "text/plain": [
              "Running query in 'sqlite:///Exercicio_Clientes.sqlite'"
            ]
          },
          "metadata": {},
          "output_type": "display_data"
        },
        {
          "data": {
            "text/html": [
              "<span style=\"color: green\">1 rows affected.</span>"
            ],
            "text/plain": [
              "1 rows affected."
            ]
          },
          "metadata": {},
          "output_type": "display_data"
        },
        {
          "data": {
            "text/html": [
              "<table>\n",
              "    <thead>\n",
              "        <tr>\n",
              "        </tr>\n",
              "    </thead>\n",
              "    <tbody>\n",
              "    </tbody>\n",
              "</table>"
            ],
            "text/plain": [
              "++\n",
              "||\n",
              "++\n",
              "++"
            ]
          },
          "execution_count": 30,
          "metadata": {},
          "output_type": "execute_result"
        }
      ],
      "source": [
        "%%sql\n",
        "DELETE FROM clientes\n",
        "WHERE\n",
        "    cidade = 'Chaves'"
      ]
    },
    {
      "cell_type": "markdown",
      "metadata": {
        "id": "JU23BxoJeTGu"
      },
      "source": [
        "m) Determinar a quantidade de clientes de cada país"
      ]
    },
    {
      "cell_type": "code",
      "execution_count": 31,
      "metadata": {},
      "outputs": [
        {
          "data": {
            "text/html": [
              "<span style=\"None\">Running query in &#x27;sqlite:///Exercicio_Clientes.sqlite&#x27;</span>"
            ],
            "text/plain": [
              "Running query in 'sqlite:///Exercicio_Clientes.sqlite'"
            ]
          },
          "metadata": {},
          "output_type": "display_data"
        },
        {
          "data": {
            "text/html": [
              "<table>\n",
              "    <thead>\n",
              "        <tr>\n",
              "            <th>Países Distintos</th>\n",
              "        </tr>\n",
              "    </thead>\n",
              "    <tbody>\n",
              "        <tr>\n",
              "            <td>Portugal</td>\n",
              "        </tr>\n",
              "        <tr>\n",
              "            <td>Espanha</td>\n",
              "        </tr>\n",
              "    </tbody>\n",
              "</table>"
            ],
            "text/plain": [
              "+------------------+\n",
              "| Países Distintos |\n",
              "+------------------+\n",
              "|     Portugal     |\n",
              "|     Espanha      |\n",
              "+------------------+"
            ]
          },
          "execution_count": 31,
          "metadata": {},
          "output_type": "execute_result"
        }
      ],
      "source": [
        "%%sql\n",
        "-- lista os paises distintos\n",
        "SELECT DISTINCT pais AS \"Países Distintos\" FROM clientes;"
      ]
    },
    {
      "cell_type": "code",
      "execution_count": 32,
      "metadata": {},
      "outputs": [
        {
          "data": {
            "text/html": [
              "<span style=\"None\">Running query in &#x27;sqlite:///Exercicio_Clientes.sqlite&#x27;</span>"
            ],
            "text/plain": [
              "Running query in 'sqlite:///Exercicio_Clientes.sqlite'"
            ]
          },
          "metadata": {},
          "output_type": "display_data"
        },
        {
          "data": {
            "text/html": [
              "<table>\n",
              "    <thead>\n",
              "        <tr>\n",
              "            <th>Número de Países Distintos</th>\n",
              "        </tr>\n",
              "    </thead>\n",
              "    <tbody>\n",
              "        <tr>\n",
              "            <td>2</td>\n",
              "        </tr>\n",
              "    </tbody>\n",
              "</table>"
            ],
            "text/plain": [
              "+----------------------------+\n",
              "| Número de Países Distintos |\n",
              "+----------------------------+\n",
              "|             2              |\n",
              "+----------------------------+"
            ]
          },
          "execution_count": 32,
          "metadata": {},
          "output_type": "execute_result"
        }
      ],
      "source": [
        "%%sql\n",
        "-- Conta quantos paises diferentes existem\n",
        "SELECT COUNT(DISTINCT pais) AS \"Número de Países Distintos\" FROM clientes;"
      ]
    },
    {
      "cell_type": "code",
      "execution_count": 33,
      "metadata": {
        "id": "CYx6TQkRenUB"
      },
      "outputs": [
        {
          "data": {
            "text/html": [
              "<span style=\"None\">Running query in &#x27;sqlite:///Exercicio_Clientes.sqlite&#x27;</span>"
            ],
            "text/plain": [
              "Running query in 'sqlite:///Exercicio_Clientes.sqlite'"
            ]
          },
          "metadata": {},
          "output_type": "display_data"
        },
        {
          "data": {
            "text/html": [
              "<table>\n",
              "    <thead>\n",
              "        <tr>\n",
              "            <th>pais</th>\n",
              "            <th>Número de Clientes</th>\n",
              "        </tr>\n",
              "    </thead>\n",
              "    <tbody>\n",
              "        <tr>\n",
              "            <td>Portugal</td>\n",
              "            <td>14</td>\n",
              "        </tr>\n",
              "        <tr>\n",
              "            <td>Espanha</td>\n",
              "            <td>1</td>\n",
              "        </tr>\n",
              "    </tbody>\n",
              "</table>"
            ],
            "text/plain": [
              "+----------+--------------------+\n",
              "|   pais   | Número de Clientes |\n",
              "+----------+--------------------+\n",
              "| Portugal |         14         |\n",
              "| Espanha  |         1          |\n",
              "+----------+--------------------+"
            ]
          },
          "execution_count": 33,
          "metadata": {},
          "output_type": "execute_result"
        }
      ],
      "source": [
        "%%sql\n",
        "-- Conta quantos clientes existem por país\n",
        "SELECT pais, COUNT(id) as \"Número de Clientes\"\n",
        "FROM clientes\n",
        "GROUP BY pais\n",
        "ORDER BY \"Número de Clientes\" DESC;"
      ]
    },
    {
      "cell_type": "markdown",
      "metadata": {
        "id": "5E8B_Hv4entz"
      },
      "source": [
        "n) Determinar a quantidade de clientes de cada cidade e ordenar pela contagem efetuada (colocando as cidades com mais clientes no inicio dos resultados)"
      ]
    },
    {
      "cell_type": "code",
      "execution_count": 34,
      "metadata": {
        "id": "4uUqBcaufcPn"
      },
      "outputs": [
        {
          "data": {
            "text/html": [
              "<span style=\"None\">Running query in &#x27;sqlite:///Exercicio_Clientes.sqlite&#x27;</span>"
            ],
            "text/plain": [
              "Running query in 'sqlite:///Exercicio_Clientes.sqlite'"
            ]
          },
          "metadata": {},
          "output_type": "display_data"
        },
        {
          "data": {
            "text/html": [
              "<table>\n",
              "    <thead>\n",
              "        <tr>\n",
              "            <th>cidade</th>\n",
              "            <th>Número de Clientes</th>\n",
              "        </tr>\n",
              "    </thead>\n",
              "    <tbody>\n",
              "        <tr>\n",
              "            <td>Lisboa</td>\n",
              "            <td>2</td>\n",
              "        </tr>\n",
              "        <tr>\n",
              "            <td>Viseu</td>\n",
              "            <td>1</td>\n",
              "        </tr>\n",
              "        <tr>\n",
              "            <td>Setúbal</td>\n",
              "            <td>1</td>\n",
              "        </tr>\n",
              "        <tr>\n",
              "            <td>Porto</td>\n",
              "            <td>1</td>\n",
              "        </tr>\n",
              "        <tr>\n",
              "            <td>Leiria</td>\n",
              "            <td>1</td>\n",
              "        </tr>\n",
              "        <tr>\n",
              "            <td>Guimarães</td>\n",
              "            <td>1</td>\n",
              "        </tr>\n",
              "        <tr>\n",
              "            <td>Faro</td>\n",
              "            <td>1</td>\n",
              "        </tr>\n",
              "        <tr>\n",
              "            <td>Coimbra</td>\n",
              "            <td>1</td>\n",
              "        </tr>\n",
              "        <tr>\n",
              "            <td>Braga</td>\n",
              "            <td>1</td>\n",
              "        </tr>\n",
              "        <tr>\n",
              "            <td>Barcelona</td>\n",
              "            <td>1</td>\n",
              "        </tr>\n",
              "        <tr>\n",
              "            <td>Aveiro</td>\n",
              "            <td>1</td>\n",
              "        </tr>\n",
              "    </tbody>\n",
              "</table>"
            ],
            "text/plain": [
              "+-----------+--------------------+\n",
              "|   cidade  | Número de Clientes |\n",
              "+-----------+--------------------+\n",
              "|   Lisboa  |         2          |\n",
              "|   Viseu   |         1          |\n",
              "|  Setúbal  |         1          |\n",
              "|   Porto   |         1          |\n",
              "|   Leiria  |         1          |\n",
              "| Guimarães |         1          |\n",
              "|    Faro   |         1          |\n",
              "|  Coimbra  |         1          |\n",
              "|   Braga   |         1          |\n",
              "| Barcelona |         1          |\n",
              "|   Aveiro  |         1          |\n",
              "+-----------+--------------------+"
            ]
          },
          "execution_count": 34,
          "metadata": {},
          "output_type": "execute_result"
        }
      ],
      "source": [
        "%%sql\n",
        "SELECT cidade, COUNT(id) AS \"Número de Clientes\"\n",
        "FROM clientes\n",
        "WHERE cidade IS NOT NULL\n",
        "GROUP BY cidade\n",
        "ORDER BY \"Número de Clientes\" DESC"
      ]
    },
    {
      "cell_type": "code",
      "execution_count": 35,
      "metadata": {},
      "outputs": [
        {
          "data": {
            "text/html": [
              "<span style=\"None\">Running query in &#x27;sqlite:///Exercicio_Clientes.sqlite&#x27;</span>"
            ],
            "text/plain": [
              "Running query in 'sqlite:///Exercicio_Clientes.sqlite'"
            ]
          },
          "metadata": {},
          "output_type": "display_data"
        },
        {
          "data": {
            "text/html": [
              "<table>\n",
              "    <thead>\n",
              "        <tr>\n",
              "            <th>cidade</th>\n",
              "            <th>Número de Clientes</th>\n",
              "        </tr>\n",
              "    </thead>\n",
              "    <tbody>\n",
              "        <tr>\n",
              "            <td>Lisboa</td>\n",
              "            <td>2</td>\n",
              "        </tr>\n",
              "        <tr>\n",
              "            <td>Viseu</td>\n",
              "            <td>1</td>\n",
              "        </tr>\n",
              "        <tr>\n",
              "            <td>Setúbal</td>\n",
              "            <td>1</td>\n",
              "        </tr>\n",
              "        <tr>\n",
              "            <td>Porto</td>\n",
              "            <td>1</td>\n",
              "        </tr>\n",
              "        <tr>\n",
              "            <td>Leiria</td>\n",
              "            <td>1</td>\n",
              "        </tr>\n",
              "    </tbody>\n",
              "</table>"
            ],
            "text/plain": [
              "+---------+--------------------+\n",
              "|  cidade | Número de Clientes |\n",
              "+---------+--------------------+\n",
              "|  Lisboa |         2          |\n",
              "|  Viseu  |         1          |\n",
              "| Setúbal |         1          |\n",
              "|  Porto  |         1          |\n",
              "|  Leiria |         1          |\n",
              "+---------+--------------------+"
            ]
          },
          "execution_count": 35,
          "metadata": {},
          "output_type": "execute_result"
        }
      ],
      "source": [
        "%%sql\n",
        "SELECT cidade, COUNT(id) AS \"Número de Clientes\"\n",
        "FROM clientes\n",
        "WHERE cidade IS NOT NULL\n",
        "GROUP BY cidade\n",
        "ORDER BY \"Número de Clientes\" DESC, cidade DESC\n",
        "LIMIT 5;"
      ]
    },
    {
      "cell_type": "markdown",
      "metadata": {},
      "source": [
        "---"
      ]
    },
    {
      "cell_type": "markdown",
      "metadata": {},
      "source": [
        "## Tabela *Categorias*"
      ]
    },
    {
      "cell_type": "markdown",
      "metadata": {},
      "source": [
        "a) Definir a tabela `categorias`\n",
        "```sql\n",
        "DROP TABLE IF EXISTS categorias;\n",
        "CREATE TABLE categorias (\n",
        "    id_categoria INTEGER PRIMARY KEY AUTOINCREMENT,\n",
        "    nome TEXT NOT NULL\n",
        ");\n",
        "```"
      ]
    },
    {
      "cell_type": "code",
      "execution_count": 36,
      "metadata": {},
      "outputs": [
        {
          "data": {
            "text/html": [
              "<span style=\"None\">Running query in &#x27;sqlite:///Exercicio_Clientes.sqlite&#x27;</span>"
            ],
            "text/plain": [
              "Running query in 'sqlite:///Exercicio_Clientes.sqlite'"
            ]
          },
          "metadata": {},
          "output_type": "display_data"
        },
        {
          "data": {
            "text/html": [
              "<table>\n",
              "    <thead>\n",
              "        <tr>\n",
              "        </tr>\n",
              "    </thead>\n",
              "    <tbody>\n",
              "    </tbody>\n",
              "</table>"
            ],
            "text/plain": [
              "++\n",
              "||\n",
              "++\n",
              "++"
            ]
          },
          "execution_count": 36,
          "metadata": {},
          "output_type": "execute_result"
        }
      ],
      "source": [
        "%%sql\n",
        "DROP TABLE IF EXISTS categorias;\n",
        "CREATE TABLE categorias (\n",
        "    id_categoria INTEGER PRIMARY KEY AUTOINCREMENT,\n",
        "    nome TEXT NOT NULL\n",
        ");"
      ]
    },
    {
      "cell_type": "markdown",
      "metadata": {},
      "source": [
        "b) Popular a tabela `categorias`\n",
        "```sql\n",
        "INSERT INTO categorias (nome) VALUES ('Eletrónica');\n",
        "INSERT INTO categorias (nome) VALUES ('Roupa');\n",
        "INSERT INTO categorias (nome) VALUES ('Calçado');\n",
        "INSERT INTO categorias (nome) VALUES ('Móveis');\n",
        "```"
      ]
    },
    {
      "cell_type": "code",
      "execution_count": 37,
      "metadata": {},
      "outputs": [
        {
          "data": {
            "text/html": [
              "<span style=\"None\">Running query in &#x27;sqlite:///Exercicio_Clientes.sqlite&#x27;</span>"
            ],
            "text/plain": [
              "Running query in 'sqlite:///Exercicio_Clientes.sqlite'"
            ]
          },
          "metadata": {},
          "output_type": "display_data"
        },
        {
          "data": {
            "text/html": [
              "<span style=\"color: green\">1 rows affected.</span>"
            ],
            "text/plain": [
              "1 rows affected."
            ]
          },
          "metadata": {},
          "output_type": "display_data"
        },
        {
          "data": {
            "text/html": [
              "<span style=\"color: green\">1 rows affected.</span>"
            ],
            "text/plain": [
              "1 rows affected."
            ]
          },
          "metadata": {},
          "output_type": "display_data"
        },
        {
          "data": {
            "text/html": [
              "<span style=\"color: green\">1 rows affected.</span>"
            ],
            "text/plain": [
              "1 rows affected."
            ]
          },
          "metadata": {},
          "output_type": "display_data"
        },
        {
          "data": {
            "text/html": [
              "<span style=\"color: green\">1 rows affected.</span>"
            ],
            "text/plain": [
              "1 rows affected."
            ]
          },
          "metadata": {},
          "output_type": "display_data"
        },
        {
          "data": {
            "text/html": [
              "<table>\n",
              "    <thead>\n",
              "        <tr>\n",
              "        </tr>\n",
              "    </thead>\n",
              "    <tbody>\n",
              "    </tbody>\n",
              "</table>"
            ],
            "text/plain": [
              "++\n",
              "||\n",
              "++\n",
              "++"
            ]
          },
          "execution_count": 37,
          "metadata": {},
          "output_type": "execute_result"
        }
      ],
      "source": [
        "%%sql\n",
        "INSERT INTO categorias (nome) VALUES ('Eletrónica');\n",
        "INSERT INTO categorias (nome) VALUES ('Roupa');\n",
        "INSERT INTO categorias (nome) VALUES ('Calçado');\n",
        "INSERT INTO categorias (nome) VALUES ('Móveis');"
      ]
    },
    {
      "cell_type": "markdown",
      "metadata": {},
      "source": [
        "---"
      ]
    },
    {
      "cell_type": "markdown",
      "metadata": {},
      "source": [
        "# Tabela fornecedores"
      ]
    },
    {
      "cell_type": "markdown",
      "metadata": {},
      "source": [
        "a) Definir a tabela `fornecedores`  \n",
        "```sql\n",
        "DROP TABLE IF EXISTS fornecedores;\n",
        "\n",
        "CREATE TABLE fornecedores (  \n",
        "    id_fornecedor INTEGER PRIMARY KEY AUTOINCREMENT,  \n",
        "    nome VARCHAR(50) NOT NULL,   \n",
        "    endereco VARCHAR(128),  \n",
        "    cidade VARCHAR(20),  \n",
        "    pais   VARCHAR(30),  \n",
        "    telefone VARCHAR(16),  \n",
        "    email VARCHAR(30)  \n",
        ");\n",
        "```"
      ]
    },
    {
      "cell_type": "code",
      "execution_count": 38,
      "metadata": {},
      "outputs": [
        {
          "data": {
            "text/html": [
              "<span style=\"None\">Running query in &#x27;sqlite:///Exercicio_Clientes.sqlite&#x27;</span>"
            ],
            "text/plain": [
              "Running query in 'sqlite:///Exercicio_Clientes.sqlite'"
            ]
          },
          "metadata": {},
          "output_type": "display_data"
        },
        {
          "data": {
            "text/html": [
              "<table>\n",
              "    <thead>\n",
              "        <tr>\n",
              "        </tr>\n",
              "    </thead>\n",
              "    <tbody>\n",
              "    </tbody>\n",
              "</table>"
            ],
            "text/plain": [
              "++\n",
              "||\n",
              "++\n",
              "++"
            ]
          },
          "execution_count": 38,
          "metadata": {},
          "output_type": "execute_result"
        }
      ],
      "source": [
        "%%sql\n",
        "DROP TABLE IF EXISTS fornecedores;\n",
        "\n",
        "CREATE TABLE fornecedores (  \n",
        "    id_fornecedor INTEGER PRIMARY KEY AUTOINCREMENT,  \n",
        "    nome VARCHAR(50) NOT NULL,   \n",
        "    endereco VARCHAR(128),  \n",
        "    cidade VARCHAR(20),  \n",
        "    pais   VARCHAR(30),  \n",
        "    telefone VARCHAR(16),  \n",
        "    email VARCHAR(30)  \n",
        ");"
      ]
    },
    {
      "cell_type": "markdown",
      "metadata": {},
      "source": [
        "b) Popular a tabela `fornecedores` \n",
        "\n",
        "```sql\n",
        "INSERT INTO fornecedores (nome, endereco, cidade, pais, telefone, email)\n",
        "VALUES ('Tech Solutions', 'Av. Paulista, 1000', 'São Paulo', 'Brasil', '+55 11 98765-4321', 'contato@techsolutions.com');\n",
        "\n",
        "INSERT INTO fornecedores (nome, endereco, cidade, pais, telefone, email)\n",
        "VALUES ('Global Supplies', '123 Main St', 'New York', 'EUA', '+1 212-555-7890',   'sales@globalsupplies.com');\n",
        "\n",
        "INSERT INTO fornecedores (nome, endereco, cidade, pais, telefone, email)\n",
        "VALUES ('ElectroParts', 'Calle Mayor, 45', 'Madrid', 'Espanha', '+34 91 123 4567', 'info@electroparts.es');\n",
        "\n",
        "INSERT INTO fornecedores (nome, endereco, cidade, pais, telefone, email)\n",
        "VALUES ('MegaCom', 'Rua das Flores, 500', 'Lisboa', 'Portugal', '+351 21 456 7890', 'support@megacom.pt');\n",
        "\n",
        "INSERT INTO fornecedores (nome, endereco, cidade, pais, telefone, email)\n",
        "VALUES ('Fast Logistics', 'Jalan Sudirman, 12', 'Jacarta', 'Indonésia', '+62 21 8765 4321', 'contact@fastlogistics.co.id');\n",
        "```"
      ]
    },
    {
      "cell_type": "code",
      "execution_count": 39,
      "metadata": {},
      "outputs": [
        {
          "data": {
            "text/html": [
              "<span style=\"None\">Running query in &#x27;sqlite:///Exercicio_Clientes.sqlite&#x27;</span>"
            ],
            "text/plain": [
              "Running query in 'sqlite:///Exercicio_Clientes.sqlite'"
            ]
          },
          "metadata": {},
          "output_type": "display_data"
        },
        {
          "data": {
            "text/html": [
              "<span style=\"color: green\">1 rows affected.</span>"
            ],
            "text/plain": [
              "1 rows affected."
            ]
          },
          "metadata": {},
          "output_type": "display_data"
        },
        {
          "data": {
            "text/html": [
              "<span style=\"color: green\">1 rows affected.</span>"
            ],
            "text/plain": [
              "1 rows affected."
            ]
          },
          "metadata": {},
          "output_type": "display_data"
        },
        {
          "data": {
            "text/html": [
              "<span style=\"color: green\">1 rows affected.</span>"
            ],
            "text/plain": [
              "1 rows affected."
            ]
          },
          "metadata": {},
          "output_type": "display_data"
        },
        {
          "data": {
            "text/html": [
              "<span style=\"color: green\">1 rows affected.</span>"
            ],
            "text/plain": [
              "1 rows affected."
            ]
          },
          "metadata": {},
          "output_type": "display_data"
        },
        {
          "data": {
            "text/html": [
              "<span style=\"color: green\">1 rows affected.</span>"
            ],
            "text/plain": [
              "1 rows affected."
            ]
          },
          "metadata": {},
          "output_type": "display_data"
        },
        {
          "data": {
            "text/html": [
              "<table>\n",
              "    <thead>\n",
              "        <tr>\n",
              "        </tr>\n",
              "    </thead>\n",
              "    <tbody>\n",
              "    </tbody>\n",
              "</table>"
            ],
            "text/plain": [
              "++\n",
              "||\n",
              "++\n",
              "++"
            ]
          },
          "execution_count": 39,
          "metadata": {},
          "output_type": "execute_result"
        }
      ],
      "source": [
        "%%sql\n",
        "INSERT INTO fornecedores (nome, endereco, cidade, pais, telefone, email)\n",
        "VALUES ('Tech Solutions', 'Av. Paulista, 1000', 'São Paulo', 'Brasil', '+55 11   98765-4321', 'contato@techsolutions.com');\n",
        "\n",
        "INSERT INTO fornecedores (nome, endereco, cidade, pais, telefone, email)   \n",
        "VALUES ('Global Supplies', '123 Main St', 'New York', 'EUA', '+1 212-555-7890',   'sales@globalsupplies.com');\n",
        "\n",
        "INSERT INTO fornecedores (nome, endereco, cidade, pais, telefone, email)   \n",
        "VALUES ('ElectroParts', 'Calle Mayor, 45', 'Madrid', 'Espanha', '+34 91 123   4567', 'info@electroparts.es');\n",
        "\n",
        "INSERT INTO fornecedores (nome, endereco, cidade, pais, telefone, email)   \n",
        "VALUES ('MegaCom', 'Rua das Flores, 500', 'Lisboa', 'Portugal', '+351 21 456   7890', 'support@megacom.pt');\n",
        "\n",
        "INSERT INTO fornecedores (nome, endereco, cidade, pais, telefone, email)\n",
        "VALUES ('Fast Logistics', 'Jalan Sudirman, 12', 'Jacarta', 'Indonésia', '+62 21   8765 4321', 'contact@fastlogistics.co.id');"
      ]
    },
    {
      "cell_type": "markdown",
      "metadata": {},
      "source": [
        "---"
      ]
    },
    {
      "cell_type": "markdown",
      "metadata": {},
      "source": [
        "# Tabela produtos"
      ]
    },
    {
      "cell_type": "markdown",
      "metadata": {
        "id": "aIHmAlef0DrC"
      },
      "source": [
        "```sql\n",
        "DROP TABLE IF EXISTS produtos;\n",
        "\n",
        "CREATE TABLE IF NOT EXISTS produtos (  \n",
        "    id INTEGER PRIMARY KEY,\n",
        "    nome TEXT,\n",
        "    preco REAL,\n",
        "    unidades INTEGER,\n",
        "    id_categoria INTEGER NOT NULL, \n",
        "    id_fornecedor INTEGER NOT NULL,\n",
        "    FOREIGN KEY (id_categoria) REFERENCES categorias(id_categoria),\n",
        "    FOREIGN KEY (id_fornecedor) REFERENCES Fornecedores(id_fornecedor)\n",
        ");\n",
        "```"
      ]
    },
    {
      "cell_type": "code",
      "execution_count": 40,
      "metadata": {},
      "outputs": [
        {
          "data": {
            "text/html": [
              "<span style=\"None\">Running query in &#x27;sqlite:///Exercicio_Clientes.sqlite&#x27;</span>"
            ],
            "text/plain": [
              "Running query in 'sqlite:///Exercicio_Clientes.sqlite'"
            ]
          },
          "metadata": {},
          "output_type": "display_data"
        },
        {
          "data": {
            "text/html": [
              "<table>\n",
              "    <thead>\n",
              "        <tr>\n",
              "        </tr>\n",
              "    </thead>\n",
              "    <tbody>\n",
              "    </tbody>\n",
              "</table>"
            ],
            "text/plain": [
              "++\n",
              "||\n",
              "++\n",
              "++"
            ]
          },
          "execution_count": 40,
          "metadata": {},
          "output_type": "execute_result"
        }
      ],
      "source": [
        "%%sql\n",
        "DROP TABLE IF EXISTS produtos;\n",
        "\n",
        "CREATE TABLE IF NOT EXISTS produtos (  \n",
        "    id INTEGER PRIMARY KEY,\n",
        "    nome TEXT,\n",
        "    preco REAL,\n",
        "    unidades INTEGER,\n",
        "    id_categoria INTEGER NOT NULL, \n",
        "    id_fornecedor INTEGER NOT NULL,\n",
        "    FOREIGN KEY (id_categoria) REFERENCES categorias(id_categoria),\n",
        "    FOREIGN KEY (id_fornecedor) REFERENCES Fornecedores(id_fornecedor)\n",
        ");"
      ]
    },
    {
      "cell_type": "code",
      "execution_count": 41,
      "metadata": {},
      "outputs": [
        {
          "data": {
            "text/html": [
              "<span style=\"None\">Running query in &#x27;sqlite:///Exercicio_Clientes.sqlite&#x27;</span>"
            ],
            "text/plain": [
              "Running query in 'sqlite:///Exercicio_Clientes.sqlite'"
            ]
          },
          "metadata": {},
          "output_type": "display_data"
        },
        {
          "data": {
            "text/html": [
              "<table>\n",
              "    <thead>\n",
              "        <tr>\n",
              "            <th>id_categoria</th>\n",
              "            <th>nome</th>\n",
              "        </tr>\n",
              "    </thead>\n",
              "    <tbody>\n",
              "        <tr>\n",
              "            <td>1</td>\n",
              "            <td>Eletrónica</td>\n",
              "        </tr>\n",
              "        <tr>\n",
              "            <td>2</td>\n",
              "            <td>Roupa</td>\n",
              "        </tr>\n",
              "        <tr>\n",
              "            <td>3</td>\n",
              "            <td>Calçado</td>\n",
              "        </tr>\n",
              "        <tr>\n",
              "            <td>4</td>\n",
              "            <td>Móveis</td>\n",
              "        </tr>\n",
              "    </tbody>\n",
              "</table>"
            ],
            "text/plain": [
              "+--------------+------------+\n",
              "| id_categoria |    nome    |\n",
              "+--------------+------------+\n",
              "|      1       | Eletrónica |\n",
              "|      2       |   Roupa    |\n",
              "|      3       |  Calçado   |\n",
              "|      4       |   Móveis   |\n",
              "+--------------+------------+"
            ]
          },
          "execution_count": 41,
          "metadata": {},
          "output_type": "execute_result"
        }
      ],
      "source": [
        "%%sql\n",
        "SELECT * FROM categorias;"
      ]
    },
    {
      "cell_type": "markdown",
      "metadata": {},
      "source": [
        "```sql\n",
        "INSERT INTO produtos (nome, preco, unidades, id_categoria,id_fornecedor) VALUES ('Sandálias Verão',       39.90,  50, 3, 2);\n",
        "INSERT INTO produtos (nome, preco, unidades, id_categoria,id_fornecedor) VALUES ('T-Shirt básica',        14.99, 100, 2, 3);\n",
        "INSERT INTO produtos (nome, preco, unidades, id_categoria,id_fornecedor) VALUES ('Calças Jeans',          49.90,  40, 2, 3);\n",
        "INSERT INTO produtos (nome, preco, unidades, id_categoria,id_fornecedor) VALUES ('Casaco de Inverno',     89.00,  25, 2, 4);\n",
        "INSERT INTO produtos (nome, preco, unidades, id_categoria,id_fornecedor) VALUES ('Televisão 50\"',        499.99,  10, 1, 4);\n",
        "INSERT INTO produtos (nome, preco, unidades, id_categoria,id_fornecedor) VALUES ('Sistema de Som',       259.00,  20, 1, 4);\n",
        "INSERT INTO produtos (nome, preco, unidades, id_categoria,id_fornecedor) VALUES ('Coluna Bluetooth',      69.90,  35, 1, 4);\n",
        "INSERT INTO produtos (nome, preco, unidades, id_categoria,id_fornecedor) VALUES ('Portátil Dell',        899.00,  12, 1, 1);\n",
        "INSERT INTO produtos (nome, preco, unidades, id_categoria,id_fornecedor) VALUES ('Rato Sem Fios',         24.50,  60, 1, 2);\n",
        "INSERT INTO produtos (nome, preco, unidades, id_categoria,id_fornecedor) VALUES ('Monitor 27\"',          199.90,  18, 1, 5);\n",
        "INSERT INTO produtos (nome, preco, unidades, id_categoria,id_fornecedor) VALUES ('iPhone 14',           1149.00,   8, 1, 1);\n",
        "INSERT INTO produtos (nome, preco, unidades, id_categoria,id_fornecedor) VALUES ('Samsung Galaxy S23',   999.00,  10, 1, 1);\n",
        "INSERT INTO produtos (nome, preco, unidades, id_categoria,id_fornecedor) VALUES ('Xiaomi Redmi Note 12', 249.90,  25, 1, 4);\n",
        "```"
      ]
    },
    {
      "cell_type": "code",
      "execution_count": 42,
      "metadata": {
        "id": "Sx3SzEYx0kYn"
      },
      "outputs": [
        {
          "data": {
            "text/html": [
              "<span style=\"None\">Running query in &#x27;sqlite:///Exercicio_Clientes.sqlite&#x27;</span>"
            ],
            "text/plain": [
              "Running query in 'sqlite:///Exercicio_Clientes.sqlite'"
            ]
          },
          "metadata": {},
          "output_type": "display_data"
        },
        {
          "data": {
            "text/html": [
              "<span style=\"color: green\">1 rows affected.</span>"
            ],
            "text/plain": [
              "1 rows affected."
            ]
          },
          "metadata": {},
          "output_type": "display_data"
        },
        {
          "data": {
            "text/html": [
              "<span style=\"color: green\">1 rows affected.</span>"
            ],
            "text/plain": [
              "1 rows affected."
            ]
          },
          "metadata": {},
          "output_type": "display_data"
        },
        {
          "data": {
            "text/html": [
              "<span style=\"color: green\">1 rows affected.</span>"
            ],
            "text/plain": [
              "1 rows affected."
            ]
          },
          "metadata": {},
          "output_type": "display_data"
        },
        {
          "data": {
            "text/html": [
              "<span style=\"color: green\">1 rows affected.</span>"
            ],
            "text/plain": [
              "1 rows affected."
            ]
          },
          "metadata": {},
          "output_type": "display_data"
        },
        {
          "data": {
            "text/html": [
              "<span style=\"color: green\">1 rows affected.</span>"
            ],
            "text/plain": [
              "1 rows affected."
            ]
          },
          "metadata": {},
          "output_type": "display_data"
        },
        {
          "data": {
            "text/html": [
              "<span style=\"color: green\">1 rows affected.</span>"
            ],
            "text/plain": [
              "1 rows affected."
            ]
          },
          "metadata": {},
          "output_type": "display_data"
        },
        {
          "data": {
            "text/html": [
              "<span style=\"color: green\">1 rows affected.</span>"
            ],
            "text/plain": [
              "1 rows affected."
            ]
          },
          "metadata": {},
          "output_type": "display_data"
        },
        {
          "data": {
            "text/html": [
              "<span style=\"color: green\">1 rows affected.</span>"
            ],
            "text/plain": [
              "1 rows affected."
            ]
          },
          "metadata": {},
          "output_type": "display_data"
        },
        {
          "data": {
            "text/html": [
              "<span style=\"color: green\">1 rows affected.</span>"
            ],
            "text/plain": [
              "1 rows affected."
            ]
          },
          "metadata": {},
          "output_type": "display_data"
        },
        {
          "data": {
            "text/html": [
              "<span style=\"color: green\">1 rows affected.</span>"
            ],
            "text/plain": [
              "1 rows affected."
            ]
          },
          "metadata": {},
          "output_type": "display_data"
        },
        {
          "data": {
            "text/html": [
              "<span style=\"color: green\">1 rows affected.</span>"
            ],
            "text/plain": [
              "1 rows affected."
            ]
          },
          "metadata": {},
          "output_type": "display_data"
        },
        {
          "data": {
            "text/html": [
              "<span style=\"color: green\">1 rows affected.</span>"
            ],
            "text/plain": [
              "1 rows affected."
            ]
          },
          "metadata": {},
          "output_type": "display_data"
        },
        {
          "data": {
            "text/html": [
              "<span style=\"color: green\">1 rows affected.</span>"
            ],
            "text/plain": [
              "1 rows affected."
            ]
          },
          "metadata": {},
          "output_type": "display_data"
        },
        {
          "data": {
            "text/html": [
              "<table>\n",
              "    <thead>\n",
              "        <tr>\n",
              "        </tr>\n",
              "    </thead>\n",
              "    <tbody>\n",
              "    </tbody>\n",
              "</table>"
            ],
            "text/plain": [
              "++\n",
              "||\n",
              "++\n",
              "++"
            ]
          },
          "execution_count": 42,
          "metadata": {},
          "output_type": "execute_result"
        }
      ],
      "source": [
        "%%sql\n",
        "INSERT INTO produtos (nome, preco, unidades, id_categoria,id_fornecedor) VALUES ('Sandálias Verão',       39.90,  50, 3, 2);\n",
        "INSERT INTO produtos (nome, preco, unidades, id_categoria,id_fornecedor) VALUES ('T-Shirt básica',        14.99, 100, 2, 3);\n",
        "INSERT INTO produtos (nome, preco, unidades, id_categoria,id_fornecedor) VALUES ('Calças Jeans',          49.90,  40, 2, 3);\n",
        "INSERT INTO produtos (nome, preco, unidades, id_categoria,id_fornecedor) VALUES ('Casaco de Inverno',     89.00,  25, 2, 4);\n",
        "INSERT INTO produtos (nome, preco, unidades, id_categoria,id_fornecedor) VALUES ('Televisão 50\"',        499.99,  10, 1, 4);\n",
        "INSERT INTO produtos (nome, preco, unidades, id_categoria,id_fornecedor) VALUES ('Sistema de Som',       259.00,  20, 1, 4);\n",
        "INSERT INTO produtos (nome, preco, unidades, id_categoria,id_fornecedor) VALUES ('Coluna Bluetooth',      69.90,  35, 1, 4);\n",
        "INSERT INTO produtos (nome, preco, unidades, id_categoria,id_fornecedor) VALUES ('Portátil Dell',        899.00,  12, 1, 1);\n",
        "INSERT INTO produtos (nome, preco, unidades, id_categoria,id_fornecedor) VALUES ('Rato Sem Fios',         24.50,  60, 1, 2);\n",
        "INSERT INTO produtos (nome, preco, unidades, id_categoria,id_fornecedor) VALUES ('Monitor 27\"',          199.90,  18, 1, 5);\n",
        "INSERT INTO produtos (nome, preco, unidades, id_categoria,id_fornecedor) VALUES ('iPhone 14',           1149.00,   8, 1, 1);\n",
        "INSERT INTO produtos (nome, preco, unidades, id_categoria,id_fornecedor) VALUES ('Samsung Galaxy S23',   999.00,  10, 1, 1);\n",
        "INSERT INTO produtos (nome, preco, unidades, id_categoria,id_fornecedor) VALUES ('Xiaomi Redmi Note 12', 249.90,  25, 1, 4);"
      ]
    },
    {
      "cell_type": "markdown",
      "metadata": {},
      "source": [
        "---"
      ]
    },
    {
      "cell_type": "markdown",
      "metadata": {},
      "source": [
        "## Tabela `Vendas`"
      ]
    },
    {
      "cell_type": "markdown",
      "metadata": {},
      "source": [
        "a) Definição da tabela \"Vendas\"  \n",
        "  \n",
        "    >Ativar a opção das chaves estrangeiras:\n",
        "```sql\n",
        "PRAGMA foreign_keys = ON;\n",
        "```\n",
        "    > Criar a tabela \"Produtos\" caso ainda não exista\n",
        "\n",
        "    > \n",
        "    \n",
        "```sql\n",
        "DROP TABLE IF EXISTS vendas;\n",
        "\n",
        "CREATE TABLE vendas (\n",
        "    id INTEGER PRIMARY KEY AUTOINCREMENT,\n",
        "    cliente_id INTEGER,\n",
        "    produto_id INTEGER,\n",
        "    quantidade INTEGER NOT NULL,\n",
        "    data_venda DATE DEFAULT CURRENT_DATE,\n",
        "    FOREIGN KEY (cliente_id) REFERENCES clientes(id)\n",
        ");\n",
        "  ```  "
      ]
    },
    {
      "cell_type": "code",
      "execution_count": 43,
      "metadata": {},
      "outputs": [
        {
          "data": {
            "text/html": [
              "<span style=\"None\">Running query in &#x27;sqlite:///Exercicio_Clientes.sqlite&#x27;</span>"
            ],
            "text/plain": [
              "Running query in 'sqlite:///Exercicio_Clientes.sqlite'"
            ]
          },
          "metadata": {},
          "output_type": "display_data"
        },
        {
          "data": {
            "text/html": [
              "<table>\n",
              "    <thead>\n",
              "        <tr>\n",
              "        </tr>\n",
              "    </thead>\n",
              "    <tbody>\n",
              "    </tbody>\n",
              "</table>"
            ],
            "text/plain": [
              "++\n",
              "||\n",
              "++\n",
              "++"
            ]
          },
          "execution_count": 43,
          "metadata": {},
          "output_type": "execute_result"
        }
      ],
      "source": [
        "%%sql\n",
        "DROP TABLE IF EXISTS vendas;\n",
        "\n",
        "CREATE TABLE vendas (\n",
        "    id INTEGER PRIMARY KEY AUTOINCREMENT,\n",
        "    cliente_id INTEGER,\n",
        "    produto_id INTEGER,\n",
        "    quantidade INTEGER NOT NULL,\n",
        "    data_venda DATE DEFAULT CURRENT_DATE,\n",
        "    FOREIGN KEY (cliente_id) REFERENCES clientes(id)\n",
        ");"
      ]
    },
    {
      "cell_type": "markdown",
      "metadata": {},
      "source": [
        "b) Inserir a informação abaixo na tabela \"Vendas\"  \n",
        "```sql\n",
        "INSERT INTO vendas (cliente_id, produto_id, quantidade) VALUES  \n",
        "    (1, 1, 2),\n",
        "    (2, 3, 1),\n",
        "    (3, 5, 3),\n",
        "    (4, 7, 1),\n",
        "    (5, 8, 2),\n",
        "    (6, 9, 1),\n",
        "    (6, 1, 1),\n",
        "    (7, 10, 5),\n",
        "    (8, 12, 4),\n",
        "    (9, 13, 3),\n",
        "    (10, 2, 2),\n",
        "    (10, 1, 5);\n",
        "```"
      ]
    },
    {
      "cell_type": "code",
      "execution_count": 44,
      "metadata": {},
      "outputs": [
        {
          "data": {
            "text/html": [
              "<span style=\"None\">Running query in &#x27;sqlite:///Exercicio_Clientes.sqlite&#x27;</span>"
            ],
            "text/plain": [
              "Running query in 'sqlite:///Exercicio_Clientes.sqlite'"
            ]
          },
          "metadata": {},
          "output_type": "display_data"
        },
        {
          "data": {
            "text/html": [
              "<span style=\"color: green\">12 rows affected.</span>"
            ],
            "text/plain": [
              "12 rows affected."
            ]
          },
          "metadata": {},
          "output_type": "display_data"
        },
        {
          "data": {
            "text/html": [
              "<table>\n",
              "    <thead>\n",
              "        <tr>\n",
              "        </tr>\n",
              "    </thead>\n",
              "    <tbody>\n",
              "    </tbody>\n",
              "</table>"
            ],
            "text/plain": [
              "++\n",
              "||\n",
              "++\n",
              "++"
            ]
          },
          "execution_count": 44,
          "metadata": {},
          "output_type": "execute_result"
        }
      ],
      "source": [
        "%%sql\n",
        "INSERT INTO vendas (cliente_id, produto_id, quantidade) VALUES  \n",
        "    (1, 1, 2),\n",
        "    (2, 3, 1),\n",
        "    (3, 5, 3),\n",
        "    (4, 7, 1),\n",
        "    (5, 8, 2),\n",
        "    (6, 9, 1),\n",
        "    (6, 1, 1),\n",
        "    (7, 10, 5),\n",
        "    (8, 12, 4),\n",
        "    (9, 13, 3),\n",
        "    (10, 2, 2),\n",
        "    (10, 1, 5);"
      ]
    },
    {
      "cell_type": "markdown",
      "metadata": {
        "id": "iXe7hYDg0u8f"
      },
      "source": [
        "c) Calcular quantas vendas efetuou o cliente nº1"
      ]
    },
    {
      "cell_type": "code",
      "execution_count": 60,
      "metadata": {},
      "outputs": [
        {
          "data": {
            "text/html": [
              "<span style=\"None\">Running query in &#x27;sqlite:///Exercicio_Clientes.sqlite&#x27;</span>"
            ],
            "text/plain": [
              "Running query in 'sqlite:///Exercicio_Clientes.sqlite'"
            ]
          },
          "metadata": {},
          "output_type": "display_data"
        },
        {
          "data": {
            "text/html": [
              "<table>\n",
              "    <thead>\n",
              "        <tr>\n",
              "            <th>id</th>\n",
              "            <th>nome</th>\n",
              "            <th>email</th>\n",
              "            <th>telefone</th>\n",
              "            <th>morada</th>\n",
              "            <th>cidade</th>\n",
              "            <th>codigo_postal</th>\n",
              "            <th>pais</th>\n",
              "            <th>data_registo</th>\n",
              "        </tr>\n",
              "    </thead>\n",
              "    <tbody>\n",
              "        <tr>\n",
              "            <td>1</td>\n",
              "            <td>Ana Silva</td>\n",
              "            <td>ana.silva@email.com</td>\n",
              "            <td>912345678</td>\n",
              "            <td>Rua das Flores, 123</td>\n",
              "            <td>Lisboa</td>\n",
              "            <td>1000-001</td>\n",
              "            <td>Portugal</td>\n",
              "            <td>2025-06-30</td>\n",
              "        </tr>\n",
              "    </tbody>\n",
              "</table>"
            ],
            "text/plain": [
              "+----+-----------+---------------------+-----------+---------------------+--------+---------------+----------+--------------+\n",
              "| id |    nome   |        email        |  telefone |        morada       | cidade | codigo_postal |   pais   | data_registo |\n",
              "+----+-----------+---------------------+-----------+---------------------+--------+---------------+----------+--------------+\n",
              "| 1  | Ana Silva | ana.silva@email.com | 912345678 | Rua das Flores, 123 | Lisboa |    1000-001   | Portugal |  2025-06-30  |\n",
              "+----+-----------+---------------------+-----------+---------------------+--------+---------------+----------+--------------+"
            ]
          },
          "execution_count": 60,
          "metadata": {},
          "output_type": "execute_result"
        }
      ],
      "source": [
        "%%sql\n",
        "-- O que sabemos do cliente com id = 1?\n",
        "SELECT * FROM clientes WHERE id = 1;"
      ]
    },
    {
      "cell_type": "code",
      "execution_count": 61,
      "metadata": {
        "id": "tzh92mSx03YD"
      },
      "outputs": [
        {
          "data": {
            "text/html": [
              "<span style=\"None\">Running query in &#x27;sqlite:///Exercicio_Clientes.sqlite&#x27;</span>"
            ],
            "text/plain": [
              "Running query in 'sqlite:///Exercicio_Clientes.sqlite'"
            ]
          },
          "metadata": {},
          "output_type": "display_data"
        },
        {
          "data": {
            "text/html": [
              "<table>\n",
              "    <thead>\n",
              "        <tr>\n",
              "            <th>nome</th>\n",
              "        </tr>\n",
              "    </thead>\n",
              "    <tbody>\n",
              "        <tr>\n",
              "            <td>Sandálias Verão</td>\n",
              "        </tr>\n",
              "    </tbody>\n",
              "</table>"
            ],
            "text/plain": [
              "+-----------------+\n",
              "|       nome      |\n",
              "+-----------------+\n",
              "| Sandálias Verão |\n",
              "+-----------------+"
            ]
          },
          "execution_count": 61,
          "metadata": {},
          "output_type": "execute_result"
        }
      ],
      "source": [
        "%%sql\n",
        "-- Resposta com recurso a SUBQUERIES\n",
        "SELECT nome\n",
        "FROM produtos\n",
        "WHERE id in (\n",
        "    SELECT produto_id FROM vendas WHERE cliente_id = (\n",
        "        SELECT id FROM clientes WHERE nome = 'Ana Silva'\n",
        "    )\n",
        ");"
      ]
    },
    {
      "cell_type": "markdown",
      "metadata": {},
      "source": [
        "c.extra) Calcular quantas vendas efetuou o cliente nº10"
      ]
    },
    {
      "cell_type": "code",
      "execution_count": 62,
      "metadata": {},
      "outputs": [
        {
          "data": {
            "text/html": [
              "<span style=\"None\">Running query in &#x27;sqlite:///Exercicio_Clientes.sqlite&#x27;</span>"
            ],
            "text/plain": [
              "Running query in 'sqlite:///Exercicio_Clientes.sqlite'"
            ]
          },
          "metadata": {},
          "output_type": "display_data"
        },
        {
          "data": {
            "text/html": [
              "<table>\n",
              "    <thead>\n",
              "        <tr>\n",
              "            <th>Número de Vendas</th>\n",
              "        </tr>\n",
              "    </thead>\n",
              "    <tbody>\n",
              "        <tr>\n",
              "            <td>2</td>\n",
              "        </tr>\n",
              "    </tbody>\n",
              "</table>"
            ],
            "text/plain": [
              "+------------------+\n",
              "| Número de Vendas |\n",
              "+------------------+\n",
              "|        2         |\n",
              "+------------------+"
            ]
          },
          "execution_count": 62,
          "metadata": {},
          "output_type": "execute_result"
        }
      ],
      "source": [
        "%%sql\n",
        "-- Calcular quantas vendas efetuou o cliente nº10\n",
        "SELECT COUNT(*) AS \"Número de Vendas\"\n",
        "FROM vendas\n",
        "WHERE cliente_id = 10;"
      ]
    },
    {
      "cell_type": "markdown",
      "metadata": {
        "id": "vRr4N_Lm03f2"
      },
      "source": [
        "d) Determinar os nomes dos clientes que compraram o produto com o id \"1\""
      ]
    },
    {
      "cell_type": "code",
      "execution_count": 65,
      "metadata": {},
      "outputs": [
        {
          "data": {
            "text/html": [
              "<span style=\"None\">Running query in &#x27;sqlite:///Exercicio_Clientes.sqlite&#x27;</span>"
            ],
            "text/plain": [
              "Running query in 'sqlite:///Exercicio_Clientes.sqlite'"
            ]
          },
          "metadata": {},
          "output_type": "display_data"
        },
        {
          "data": {
            "text/html": [
              "<table>\n",
              "    <thead>\n",
              "        <tr>\n",
              "            <th>id</th>\n",
              "            <th>nome</th>\n",
              "            <th>preco</th>\n",
              "            <th>unidades</th>\n",
              "            <th>id_categoria</th>\n",
              "            <th>id_fornecedor</th>\n",
              "        </tr>\n",
              "    </thead>\n",
              "    <tbody>\n",
              "        <tr>\n",
              "            <td>1</td>\n",
              "            <td>Sandálias Verão</td>\n",
              "            <td>39.9</td>\n",
              "            <td>50</td>\n",
              "            <td>3</td>\n",
              "            <td>2</td>\n",
              "        </tr>\n",
              "    </tbody>\n",
              "</table>"
            ],
            "text/plain": [
              "+----+-----------------+-------+----------+--------------+---------------+\n",
              "| id |       nome      | preco | unidades | id_categoria | id_fornecedor |\n",
              "+----+-----------------+-------+----------+--------------+---------------+\n",
              "| 1  | Sandálias Verão |  39.9 |    50    |      3       |       2       |\n",
              "+----+-----------------+-------+----------+--------------+---------------+"
            ]
          },
          "execution_count": 65,
          "metadata": {},
          "output_type": "execute_result"
        }
      ],
      "source": [
        "%%sql\n",
        "-- Verificação prévia: O que sabemos do produto com id = 1\n",
        "SELECT * FROM produtos WHERE id = 1;"
      ]
    },
    {
      "cell_type": "code",
      "execution_count": 68,
      "metadata": {},
      "outputs": [
        {
          "data": {
            "text/html": [
              "<span style=\"None\">Running query in &#x27;sqlite:///Exercicio_Clientes.sqlite&#x27;</span>"
            ],
            "text/plain": [
              "Running query in 'sqlite:///Exercicio_Clientes.sqlite'"
            ]
          },
          "metadata": {},
          "output_type": "display_data"
        },
        {
          "data": {
            "text/html": [
              "<table>\n",
              "    <thead>\n",
              "        <tr>\n",
              "            <th>id</th>\n",
              "            <th>nome</th>\n",
              "            <th>email</th>\n",
              "            <th>telefone</th>\n",
              "            <th>morada</th>\n",
              "            <th>cidade</th>\n",
              "            <th>codigo_postal</th>\n",
              "            <th>pais</th>\n",
              "            <th>data_registo</th>\n",
              "        </tr>\n",
              "    </thead>\n",
              "    <tbody>\n",
              "    </tbody>\n",
              "</table>"
            ],
            "text/plain": [
              "+----+------+-------+----------+--------+--------+---------------+------+--------------+\n",
              "| id | nome | email | telefone | morada | cidade | codigo_postal | pais | data_registo |\n",
              "+----+------+-------+----------+--------+--------+---------------+------+--------------+\n",
              "+----+------+-------+----------+--------+--------+---------------+------+--------------+"
            ]
          },
          "execution_count": 68,
          "metadata": {},
          "output_type": "execute_result"
        }
      ],
      "source": [
        "%%sql\n",
        "-- Verificação prévia: O que sabemos da tabela de clientes\n",
        "SELECT * FROM clientes LIMIT 0;"
      ]
    },
    {
      "cell_type": "code",
      "execution_count": 69,
      "metadata": {},
      "outputs": [
        {
          "data": {
            "text/html": [
              "<span style=\"None\">Running query in &#x27;sqlite:///Exercicio_Clientes.sqlite&#x27;</span>"
            ],
            "text/plain": [
              "Running query in 'sqlite:///Exercicio_Clientes.sqlite'"
            ]
          },
          "metadata": {},
          "output_type": "display_data"
        },
        {
          "data": {
            "text/html": [
              "<table>\n",
              "    <thead>\n",
              "        <tr>\n",
              "            <th>id</th>\n",
              "            <th>cliente_id</th>\n",
              "            <th>produto_id</th>\n",
              "            <th>quantidade</th>\n",
              "            <th>data_venda</th>\n",
              "        </tr>\n",
              "    </thead>\n",
              "    <tbody>\n",
              "        <tr>\n",
              "            <td>1</td>\n",
              "            <td>1</td>\n",
              "            <td>1</td>\n",
              "            <td>2</td>\n",
              "            <td>2025-06-30</td>\n",
              "        </tr>\n",
              "    </tbody>\n",
              "</table>"
            ],
            "text/plain": [
              "+----+------------+------------+------------+------------+\n",
              "| id | cliente_id | produto_id | quantidade | data_venda |\n",
              "+----+------------+------------+------------+------------+\n",
              "| 1  |     1      |     1      |     2      | 2025-06-30 |\n",
              "+----+------------+------------+------------+------------+"
            ]
          },
          "execution_count": 69,
          "metadata": {},
          "output_type": "execute_result"
        }
      ],
      "source": [
        "%%sql\n",
        "-- Verificação prévia: O que sabemos da tabela vendas\n",
        "SELECT * FROM vendas WHERE id = 1;"
      ]
    },
    {
      "cell_type": "code",
      "execution_count": 67,
      "metadata": {},
      "outputs": [
        {
          "data": {
            "text/html": [
              "<span style=\"None\">Running query in &#x27;sqlite:///Exercicio_Clientes.sqlite&#x27;</span>"
            ],
            "text/plain": [
              "Running query in 'sqlite:///Exercicio_Clientes.sqlite'"
            ]
          },
          "metadata": {},
          "output_type": "display_data"
        },
        {
          "data": {
            "text/html": [
              "<table>\n",
              "    <thead>\n",
              "        <tr>\n",
              "            <th>id</th>\n",
              "            <th>nome</th>\n",
              "            <th>preco</th>\n",
              "            <th>unidades</th>\n",
              "            <th>id_categoria</th>\n",
              "            <th>id_fornecedor</th>\n",
              "        </tr>\n",
              "    </thead>\n",
              "    <tbody>\n",
              "    </tbody>\n",
              "</table>"
            ],
            "text/plain": [
              "+----+------+-------+----------+--------------+---------------+\n",
              "| id | nome | preco | unidades | id_categoria | id_fornecedor |\n",
              "+----+------+-------+----------+--------------+---------------+\n",
              "+----+------+-------+----------+--------------+---------------+"
            ]
          },
          "execution_count": 67,
          "metadata": {},
          "output_type": "execute_result"
        }
      ],
      "source": [
        "%%sql\n",
        "-- Verificação prévia: O que sabemos da tabela de produtos\n",
        "SELECT * FROM produtos LIMIT 0;"
      ]
    },
    {
      "cell_type": "code",
      "execution_count": 70,
      "metadata": {
        "id": "EHcn5gxY1XC2"
      },
      "outputs": [
        {
          "data": {
            "text/html": [
              "<span style=\"None\">Running query in &#x27;sqlite:///Exercicio_Clientes.sqlite&#x27;</span>"
            ],
            "text/plain": [
              "Running query in 'sqlite:///Exercicio_Clientes.sqlite'"
            ]
          },
          "metadata": {},
          "output_type": "display_data"
        },
        {
          "data": {
            "text/html": [
              "<table>\n",
              "    <thead>\n",
              "        <tr>\n",
              "            <th>nome</th>\n",
              "        </tr>\n",
              "    </thead>\n",
              "    <tbody>\n",
              "        <tr>\n",
              "            <td>Ana Silva</td>\n",
              "        </tr>\n",
              "        <tr>\n",
              "            <td>Ricardo Fonseca</td>\n",
              "        </tr>\n",
              "        <tr>\n",
              "            <td>Pedro Santos</td>\n",
              "        </tr>\n",
              "    </tbody>\n",
              "</table>"
            ],
            "text/plain": [
              "+-----------------+\n",
              "|       nome      |\n",
              "+-----------------+\n",
              "|    Ana Silva    |\n",
              "| Ricardo Fonseca |\n",
              "|   Pedro Santos  |\n",
              "+-----------------+"
            ]
          },
          "execution_count": 70,
          "metadata": {},
          "output_type": "execute_result"
        }
      ],
      "source": [
        "%%sql\n",
        "-- Determinar os nomes dos clientes que compraram o produto com o id = 1\n",
        "SELECT nome FROM clientes WHERE id IN (\n",
        "    SELECT cliente_id FROM vendas WHERE produto_id = 1\n",
        ");"
      ]
    },
    {
      "cell_type": "markdown",
      "metadata": {
        "id": "FgMKt3Q7m-Ht"
      },
      "source": [
        "e) Determinar os nomes dos produtos comprados pelo cliente com o id \"1\""
      ]
    },
    {
      "cell_type": "code",
      "execution_count": null,
      "metadata": {
        "id": "3vVoGd-pnTeO"
      },
      "outputs": [],
      "source": []
    },
    {
      "cell_type": "markdown",
      "metadata": {
        "id": "xfDhhGOR1WKC"
      },
      "source": [
        "\n",
        "f) Determinar os países  dos clientes que compraram o produto \"Calças Jeans\""
      ]
    },
    {
      "cell_type": "code",
      "execution_count": null,
      "metadata": {
        "id": "60NHpklr1f83"
      },
      "outputs": [],
      "source": []
    },
    {
      "cell_type": "markdown",
      "metadata": {
        "id": "3Zgjwur4njwo"
      },
      "source": [
        "g) Determinar o *id* do produto com mais vendas"
      ]
    },
    {
      "cell_type": "code",
      "execution_count": null,
      "metadata": {
        "id": "lx2Rq_iCn0DY"
      },
      "outputs": [],
      "source": []
    },
    {
      "cell_type": "markdown",
      "metadata": {
        "id": "K2tj_JpwomU-"
      },
      "source": [
        "h) Determinar o *id* do produto com maiores quantidades vendidas"
      ]
    },
    {
      "cell_type": "code",
      "execution_count": null,
      "metadata": {
        "id": "fHC5tkpSpsL4"
      },
      "outputs": [],
      "source": []
    },
    {
      "cell_type": "markdown",
      "metadata": {
        "id": "uwKVGD5_pxWv"
      },
      "source": [
        "i) Calcular o número de compras de cada cliente"
      ]
    },
    {
      "cell_type": "code",
      "execution_count": null,
      "metadata": {
        "id": "FVkotqNIp6wQ"
      },
      "outputs": [],
      "source": []
    },
    {
      "cell_type": "markdown",
      "metadata": {
        "id": "Fc484jGGLiOF"
      },
      "source": [
        "j) Apresentar o número de compras de cada cliente, mas só apresentar os clientes com mais de 2 compras"
      ]
    },
    {
      "cell_type": "code",
      "execution_count": null,
      "metadata": {
        "id": "h2FNiwv1M2oo"
      },
      "outputs": [],
      "source": []
    },
    {
      "cell_type": "markdown",
      "metadata": {
        "id": "EiJs3XOgMY6C"
      },
      "source": [
        "k) Determinar o número de vendas dos produtos vendidos"
      ]
    },
    {
      "cell_type": "code",
      "execution_count": null,
      "metadata": {
        "id": "-EaWRt7lMm7T"
      },
      "outputs": [],
      "source": []
    },
    {
      "cell_type": "markdown",
      "metadata": {
        "id": "tRVxxvSSMnJu"
      },
      "source": [
        "l) Determinar o número de vendas dos produtos vendidos, mas só apresentar os produtos com mais de 4 vendas"
      ]
    },
    {
      "cell_type": "code",
      "execution_count": null,
      "metadata": {
        "id": "sKpY-lVlM4dr"
      },
      "outputs": [],
      "source": []
    }
  ],
  "metadata": {
    "colab": {
      "provenance": [],
      "toc_visible": true
    },
    "kernelspec": {
      "display_name": "Python 3",
      "language": "python",
      "name": "python3"
    },
    "language_info": {
      "codemirror_mode": {
        "name": "ipython",
        "version": 3
      },
      "file_extension": ".py",
      "mimetype": "text/x-python",
      "name": "python",
      "nbconvert_exporter": "python",
      "pygments_lexer": "ipython3",
      "version": "3.13.5"
    }
  },
  "nbformat": 4,
  "nbformat_minor": 0
}
