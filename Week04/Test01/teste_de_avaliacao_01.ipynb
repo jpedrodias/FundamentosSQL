{
 "cells": [
  {
   "cell_type": "markdown",
   "id": "e62ada0f",
   "metadata": {},
   "source": [
    "# Teste de Avaliação\n"
   ]
  },
  {
   "cell_type": "markdown",
   "id": "62bebe31",
   "metadata": {},
   "source": [
    "# Parte I"
   ]
  },
  {
   "cell_type": "markdown",
   "id": "8e20a386",
   "metadata": {},
   "source": [
    "## Questão 1. \n",
    "Qual das seguintes consultas apresenta erro de sintaxe?\n",
    "\n",
    "```sql\n",
    "(A) SELECT * FROM EMPREGADOS WHERE MORADA = NULL ORDER BY NOME\n",
    "(B) SELECT * FROM EMPREGADOS ORDER BY NOME  \n",
    "(C) SELECT * FROM EMPREGADOS WHERE MORADA = Madrid ORDER BY NOME  \n",
    "(D) SELECT * FROM EMPREGADOS WHERE MORADA = 'Madrid' ORDER BY NOME\n",
    "```"
   ]
  },
  {
   "cell_type": "markdown",
   "id": "cdeeb8db",
   "metadata": {},
   "source": [
    "### Resposta: **(C)**\n",
    "\n",
    "Na opção (A), não se pode utilizar a igualdade (`=`) com `NULL`. É preciso usar `IS NULL`. Contudo, não devolve erro de sintaxe.\n",
    "\n",
    "Na opção (C), o texto `Madrid`não está entre aspas. Ou seja, `Madrid` não será reconhecido como comando SQL válido. "
   ]
  },
  {
   "cell_type": "markdown",
   "id": "8d95c4ca",
   "metadata": {},
   "source": [
    "## Questão 2.\n",
    "Identificar nos quadrados assinalados a vermelho e a verde os conceitos que estão a ser utilizados, respetivamente:\n",
    "\n",
    "![teste_de_avaliacao_01_Q02.png](teste_de_avaliacao_01_Q02.png)\n",
    "\n",
    "```\n",
    "(A) Chave estrangeira e chave primária\n",
    "(B) Chave primária e chave estrangeira\n",
    "(C) Campo obrigatório e chave estrangeira\n",
    "(D) Nenhuma das respostas anteriores\n",
    "``` "
   ]
  },
  {
   "cell_type": "markdown",
   "id": "cebd3f7d",
   "metadata": {},
   "source": [
    "### Resposta: **(A)**"
   ]
  },
  {
   "cell_type": "markdown",
   "id": "ae3d366c",
   "metadata": {},
   "source": [
    "## Questão 3.\n",
    "Qual das seguintes instruções apresenta uma sintaxe correta para a cláusula `WHERE`?\n",
    "\n",
    "```\n",
    "(A) WHERE idade=18 AND altura > 76, peso > 72  \n",
    "(B) WHERE idade=18 AND peso AND altura > 76  \n",
    "(C) WHERE idade=18 AND peso > 76 AND altura > 76  \n",
    "(D) WHERE idade=18 AND peso, altura > 76\n",
    "```"
   ]
  },
  {
   "cell_type": "markdown",
   "id": "022be0ec",
   "metadata": {},
   "source": [
    "### Resposta: **(C)**"
   ]
  },
  {
   "cell_type": "markdown",
   "id": "54ef9c2f",
   "metadata": {},
   "source": [
    "## Questão 4.\n",
    "\n",
    "Considere a tabela abaixo, designada por `student` (num base de dados relacional), em que a chave primária é a coluna `rollNum`.\n",
    "\n",
    "|roolNum|name|gender|amrks|\n",
    "|-------|----|------|-----|\n",
    "|1|Naman|M|62|\n",
    "|2|Aliya|F|70|\n",
    "|3|Aliya|F|80|\n",
    "|4|James|M|82|\n",
    "|5|Swati|F|65|\n",
    "\n",
    "\n",
    "Após a execução da consulta SQL abaixo:\n",
    "```sql\n",
    "SELECT *\n",
    "FROM student\n",
    "WHERE gender <> 'M'\n",
    "  AND marks   > 65\n",
    "  AND name IS NOT NULL\n",
    "```\n",
    "\n",
    "Qual o número de registos retornados pela consulta:\n",
    "```\n",
    "(A) 2\n",
    "(B) 0\n",
    "(C) 1\n",
    "(D) Nenhuma das respostas anteriores\n",
    "```"
   ]
  },
  {
   "cell_type": "markdown",
   "id": "38b738d1",
   "metadata": {},
   "source": [
    "### Resposta: **A** « ***(corrigido)***"
   ]
  },
  {
   "cell_type": "markdown",
   "id": "9a46c8be",
   "metadata": {},
   "source": [
    "## Questão 5. \n",
    "Qual das instruções abaixo permite alterar o campo `Name` para `Interviewbit` sempre que apresentar o valor `Scaler`?\n",
    "\n",
    "```\n",
    "(A) UPDATE users SET name='Interviewbit', name='Scaler'\n",
    "(B) UPDATE users SET name='Interviewbit' WHERE name='Scaler'\n",
    "(C) UPDATE users SET name='Interviewbit' name='Scaler'\n",
    "(D) UPDATE users SET name='Interviewbit' WHERE name <> 'Scaler'\n",
    "(E) Nenhuma das respostas anteriores\n",
    "```"
   ]
  },
  {
   "cell_type": "markdown",
   "id": "8bd4e2e3",
   "metadata": {},
   "source": [
    "### Resposta: **B**"
   ]
  },
  {
   "cell_type": "markdown",
   "id": "cc876618",
   "metadata": {},
   "source": [
    "## Questão 6.\n",
    "Qual das consultas abaixo permite obter a quantidade total de produtos em `stock` (`ItemsInStock`)?\n",
    "\n",
    "**products**\n",
    "| ProductID | ProductName               | Cost | Price | ItemsInStock |\n",
    "|-----------|---------------------------|------|--------|--------------|\n",
    "| E1        | Electro Smart TV          | 800  | 1200   | 50           |\n",
    "| E2        | EcoWash Washing Machine   | 400  | 600    | 30           |\n",
    "| E3        | Fresco Refrigerator       | 700  | 1000   | 20           |\n",
    "| E4        | Electro Microwave Oven    | 100  | 200    | 100          |\n",
    "| E5        | Comfort Air Conditioner   | 1000 | 1500   | 15           |\n",
    "\n",
    "```\n",
    "(A) SELECT COUNT(ItemsInStock) FROM products\n",
    "(B) SELECT SUM(ItemsInStock) FROM products\n",
    "(C) SELECT SUM(ItemsInStock) FROM products GROUP BY ProductID\n",
    "(D) SELECT COUNT(ItemsInStock) FROM products GROUP BY ProductID\n",
    "(E) Nenhuma das respostas anteriores\n",
    "```"
   ]
  },
  {
   "cell_type": "markdown",
   "id": "1dd7efba",
   "metadata": {},
   "source": [
    "### Resposta: **B**"
   ]
  },
  {
   "cell_type": "markdown",
   "id": "f5176bfe",
   "metadata": {},
   "source": [
    "## Questão 7. \n",
    "Qual das consultas abaixo permite ordenar os dados pelo nome de estudante,\n",
    "excluindo os registos que não têm este campo preenchido e apresentando as primeiras\n",
    "letras do alfabeto no topo dos dados retornados?\n",
    "\n",
    "```~\n",
    "(A) SELECT * FROM students WHERE NAME IS NOT NULL ORDER BY name\n",
    "(B) SELECT * FROM students ORDER BY name DESC\n",
    "(C) SELECT * FROM students WHERE nome IS NOT NULL ORDER BY ASC name\n",
    "(D) SELECT * FROM students WHERE NAME <> NULL ORDER BY name ASC\n",
    "(E) Nenhuma das respostas anteriores\n",
    "```"
   ]
  },
  {
   "cell_type": "markdown",
   "id": "47c21a89",
   "metadata": {},
   "source": [
    "### Resposta: **A**"
   ]
  },
  {
   "cell_type": "markdown",
   "id": "81f25536",
   "metadata": {},
   "source": [
    "## Questão 8.\n",
    "Qual das consultas abaixo permite obter o `amount total` de vendas por\n",
    "`vendedor` (`salesperson_id`) apenas para o `status` \"shipped\"?\n",
    "\n",
    "**orders**\n",
    "| order_number | order_date  | salesperson_id | product_id | amount | status   |\n",
    "|--------------|-------------|----------------|------------|--------|----------|\n",
    "| 1            | 2024-09-01  | 101            | P001       | 3715   | shipped  |\n",
    "| 2            | 2024-09-02  | 102            | P001       | 1430   | shipped  |\n",
    "| 3            | 2024-09-03  | 103            | P003       | 2017   | pending  |\n",
    "| 4            | 2024-09-04  | 104            | P002       | 4264   | shipped  |\n",
    "| 5            | 2024-10-05  | 102            | P003       | 5035   | pending  |\n",
    "| 6            | 2024-10-06  | 103            | P002       | 1056   | pending  |\n",
    "| 7            | 2024-10-07  | 104            | P002       | 528    | shipped  |\n",
    "| 8            | 2024-10-08  | 104            | P001       | 2145   | pending  |\n",
    "| 9            | 2024-10-09  | 103            | P002       | 750    | pending  |\n",
    "| 10           | 2024-10-10  | 104            | P002       | 5792   | pending  |"
   ]
  },
  {
   "cell_type": "markdown",
   "id": "8470bf45",
   "metadata": {},
   "source": [
    "<table>\n",
    "<tr>\n",
    "<td>\n",
    "(A)<br>\n",
    "<code>\n",
    "SELECT salesperson_id, SUM(amount)<br>\n",
    "FROM orders<br>\n",
    "GROUP BY salesperson_id<br>\n",
    "HAVING staus='shipped'<br>\n",
    "</code>\n",
    "<td>\n",
    "(B)<br>\n",
    "<code>\n",
    "SELECT salesperson_id, SUM(amount)<br>\n",
    "FROM orders<br>\n",
    "GROUP BY salesperson_id<br>\n",
    "</code>\n",
    "<tr>\n",
    "<td>\n",
    "(C)<br>\n",
    "<code>\n",
    "SELECT salesperson_id, SUM(amount)<br>\n",
    "FROM orders<br>\n",
    "WHERE staus='shipped'<br>\n",
    "GROUP BY amount<br>\n",
    "HAVING staus='shipped'<br>\n",
    "</code>\n",
    "<td>\n",
    "(D)<br>\n",
    "<code>\n",
    "SELECT salesperson_id, SUM(amount) AS<br>\n",
    "total_sales<br>\n",
    "FROM orders<br>\n",
    "WHERE staus='shipped'<br>\n",
    "GROUP BY salesperson_id;<br>\n",
    "</code>\n",
    "</table>\n"
   ]
  },
  {
   "cell_type": "markdown",
   "id": "e672a121",
   "metadata": {},
   "source": [
    "### Resposta. **D**"
   ]
  },
  {
   "cell_type": "markdown",
   "id": "e2e82db0",
   "metadata": {},
   "source": [
    "## Questão 9.\n",
    "Qual das consultas abaixo apresenta o número de cliente cujas compras totalizam\n",
    "um amount superior a 500?\n",
    "\n",
    "**orders**\n",
    "| OrderID | ClientID | ProductID | Quantity | Amount | Date       |\n",
    "|---------|----------|-----------|----------|--------|------------|\n",
    "| 1       | C1       | E1        | 2        | 2400   | 2023-10-01 |\n",
    "| 2       | C2       | E2        | 1        | 600    | 2023-10-05 |\n",
    "| 3       | C3       | E3        | 3        | 3000   | 2023-10-03 |\n",
    "| 4       | C4       | E4        | 4        | 800    | 2023-10-07 |\n",
    "| 5       | C3       | E3        | 2        | 2000   | 2023-10-08 |\n"
   ]
  },
  {
   "cell_type": "markdown",
   "id": "b785685b",
   "metadata": {},
   "source": [
    "<table>\n",
    "<tr>\n",
    "<td>\n",
    "(A)<br>\n",
    "<code>\n",
    "SELECT ClienteID<br>\n",
    "FROM orders<br>\n",
    "WHERE amount > 500<br>\n",
    "GROUP BY ClienteID<br>\n",
    "HAVING SUM(amount) > 500<br>\n",
    "</code>\n",
    "<td>\n",
    "(B)<br>\n",
    "<code>\n",
    "SELECT ClienteID<br>\n",
    "FROM orders<br>\n",
    "GROUP BY ClienteID<br>\n",
    "HAVING COUNT(*) > 500<br>\n",
    "</code>\n",
    "<tr>\n",
    "<td>\n",
    "(C)<br>\n",
    "<code>\n",
    "SELECT ClienteID<br>\n",
    "FROM orders<br>\n",
    "GROUP BY ClienteID<br>\n",
    "HAVING SUM(amount) > 500<br>\n",
    "</code>\n",
    "<td>\n",
    "(D)<br>\n",
    "<code>\n",
    "SELECT ClienteID,<br>\n",
    "FROM orders<br>\n",
    "WHERE ClienteID IN (<br>\n",
    "&nbsp;&nbsp;&nbsp;&nbsp;SELECT ClienteID<br>\n",
    "&nbsp;&nbsp;&nbsp;&nbsp;&nbsp;&nbsp;&nbsp;&nbsp;FROM orders<br>\n",
    "&nbsp;&nbsp;&nbsp;&nbsp;&nbsp;&nbsp;&nbsp;&nbsp;WHERE amount > 500<br>\n",
    ")<br>\n",
    "</code>\n",
    "</table>\n"
   ]
  },
  {
   "cell_type": "markdown",
   "id": "985973a6",
   "metadata": {},
   "source": [
    "### Resposta: **C**"
   ]
  },
  {
   "cell_type": "markdown",
   "id": "8cf8ed20",
   "metadata": {},
   "source": [
    "## Questão 10.\n",
    "Qual das seguintes consultas retorna os dois maiores salários distintos da tabela funcionarios?\n",
    "\n",
    "```\n",
    "(A) SELECT DISTINCT salario FROM funcionarios LIMIT 2\n",
    "(B) SELECT salario FROM funcionarios ORDER BY salario DESC LIMIT 2\n",
    "(C) SELECT salario FROM funcionarios GROUP BY salario LIMIT 2\n",
    "(D) SELECT MAX(2), DISTINCT salario FROM funcionarios\n",
    "(E) Nenhuma das respostas anteriores\n",
    "```"
   ]
  },
  {
   "cell_type": "markdown",
   "id": "71815c82",
   "metadata": {},
   "source": [
    "### Resposta: **E**\n",
    "\n",
    "A query certa seria:\n",
    "```sql\n",
    "SELECT DISTINCT salario          -- \"...salários distintos...\"\n",
    "    FROM funcionarios\n",
    "    ORDER BY salario DESC        -- orden descendente para que os maiores fiquem primeiro\n",
    "    LIMIT 2;                     -- lista apenas 2 (maiores)\n",
    "```"
   ]
  },
  {
   "cell_type": "markdown",
   "id": "1c7a20d4",
   "metadata": {},
   "source": [
    "---"
   ]
  },
  {
   "cell_type": "markdown",
   "id": "21878621",
   "metadata": {},
   "source": [
    "# Parte II"
   ]
  },
  {
   "cell_type": "markdown",
   "id": "53707dc9",
   "metadata": {},
   "source": [
    "Passo 0: preparação do sistema para correr em Jupyter Notebook"
   ]
  },
  {
   "cell_type": "code",
   "execution_count": 1,
   "id": "3e8b4eab",
   "metadata": {},
   "outputs": [
    {
     "name": "stdout",
     "output_type": "stream",
     "text": [
      "Note: you may need to restart the kernel to use updated packages.\n"
     ]
    },
    {
     "data": {
      "text/html": [
       "<span style=\"None\">Connecting to &#x27;sqlite:///teste_de_avaliacao_01.sqlite&#x27;</span>"
      ],
      "text/plain": [
       "Connecting to 'sqlite:///teste_de_avaliacao_01.sqlite'"
      ]
     },
     "metadata": {},
     "output_type": "display_data"
    },
    {
     "data": {
      "text/html": [
       "<span style=\"None\">Running query in &#x27;sqlite:///teste_de_avaliacao_01.sqlite&#x27;</span>"
      ],
      "text/plain": [
       "Running query in 'sqlite:///teste_de_avaliacao_01.sqlite'"
      ]
     },
     "metadata": {},
     "output_type": "display_data"
    },
    {
     "data": {
      "text/html": [
       "<table>\n",
       "    <thead>\n",
       "        <tr>\n",
       "            <th>Name</th>\n",
       "        </tr>\n",
       "    </thead>\n",
       "    <tbody>\n",
       "        <tr>\n",
       "            <td>clientes</td>\n",
       "        </tr>\n",
       "        <tr>\n",
       "            <td>menu</td>\n",
       "        </tr>\n",
       "        <tr>\n",
       "            <td>pedidos</td>\n",
       "        </tr>\n",
       "        <tr>\n",
       "            <td>restaurantes</td>\n",
       "        </tr>\n",
       "    </tbody>\n",
       "</table>"
      ],
      "text/plain": [
       "+--------------+\n",
       "|     Name     |\n",
       "+--------------+\n",
       "|   clientes   |\n",
       "|     menu     |\n",
       "|   pedidos    |\n",
       "| restaurantes |\n",
       "+--------------+"
      ]
     },
     "execution_count": 1,
     "metadata": {},
     "output_type": "execute_result"
    }
   ],
   "source": [
    "%pip install jupysql --upgrade --quiet\n",
    "\n",
    "# Load the jupysql extension\n",
    "# This allows us to use SQL magic commands in Jupyter notebooks\n",
    "%load_ext sql\n",
    "\n",
    "# Connect to the SQLite database\n",
    "%sql sqlite:///teste_de_avaliacao_01.sqlite\n",
    "\n",
    "# Set the display limit for SQL queries\n",
    "# This controls how many rows are displayed in the output of SQL queries\n",
    "%config SqlMagic.displaylimit = 0\n",
    "\n",
    "# Enable foreign key constraints in SQLite\n",
    "# This ensures that foreign key relationships are enforced in the database\n",
    "%sql PRAGMA foreign_keys = ON\n",
    "\n",
    "# Display the list of tables in the database\n",
    "# This command lists all the tables in the connected SQLite database\n",
    "%sqlcmd tables"
   ]
  },
  {
   "cell_type": "markdown",
   "id": "368e3b60",
   "metadata": {},
   "source": [
    "## Questão 1.\n",
    "Para o modelo de dados abaixo, implementar as consultas solicitadas:\n",
    "![teste_de_avaliacao_01_Q21.png](teste_de_avaliacao_01_Q21.png)"
   ]
  },
  {
   "cell_type": "code",
   "execution_count": 6,
   "id": "d5432f16",
   "metadata": {},
   "outputs": [
    {
     "data": {
      "text/html": [
       "<span style=\"None\">Running query in &#x27;sqlite:///teste_de_avaliacao_01.sqlite&#x27;</span>"
      ],
      "text/plain": [
       "Running query in 'sqlite:///teste_de_avaliacao_01.sqlite'"
      ]
     },
     "metadata": {},
     "output_type": "display_data"
    },
    {
     "data": {
      "text/html": [
       "<table>\n",
       "    <thead>\n",
       "        <tr>\n",
       "        </tr>\n",
       "    </thead>\n",
       "    <tbody>\n",
       "    </tbody>\n",
       "</table>"
      ],
      "text/plain": [
       "++\n",
       "||\n",
       "++\n",
       "++"
      ]
     },
     "execution_count": 6,
     "metadata": {},
     "output_type": "execute_result"
    }
   ],
   "source": [
    "%%sql\n",
    "-- Eliminar todas as tabelas se já existirem\n",
    "DROP TABLE IF EXISTS pedidos;\n",
    "DROP TABLE IF EXISTS menu;\n",
    "DROP TABLE IF EXISTS restaurantes;\n",
    "DROP TABLE IF EXISTS clientes;"
   ]
  },
  {
   "cell_type": "markdown",
   "id": "1f745478",
   "metadata": {},
   "source": [
    "### Tabela clientes"
   ]
  },
  {
   "cell_type": "code",
   "execution_count": 7,
   "id": "4e6a59c8",
   "metadata": {},
   "outputs": [
    {
     "data": {
      "text/html": [
       "<span style=\"None\">Running query in &#x27;sqlite:///teste_de_avaliacao_01.sqlite&#x27;</span>"
      ],
      "text/plain": [
       "Running query in 'sqlite:///teste_de_avaliacao_01.sqlite'"
      ]
     },
     "metadata": {},
     "output_type": "display_data"
    },
    {
     "data": {
      "text/html": [
       "<table>\n",
       "    <thead>\n",
       "        <tr>\n",
       "        </tr>\n",
       "    </thead>\n",
       "    <tbody>\n",
       "    </tbody>\n",
       "</table>"
      ],
      "text/plain": [
       "++\n",
       "||\n",
       "++\n",
       "++"
      ]
     },
     "execution_count": 7,
     "metadata": {},
     "output_type": "execute_result"
    }
   ],
   "source": [
    "%%sql\n",
    "-- Tabela: Clientes\n",
    "DROP TABLE IF EXISTS clientes;\n",
    "\n",
    "CREATE TABLE IF NOT EXISTS clientes (\n",
    "    cliente_id INTEGER PRIMARY KEY AUTOINCREMENT,  -- PK, auto-incremento\n",
    "    nome       VARCHAR NOT NULL,                   -- nome do cliente\n",
    "    email      VARCHAR,                            -- e-mail\n",
    "    telefone   VARCHAR,                            -- contacto telefónico\n",
    "    endereco   VARCHAR                             -- morada\n",
    ");"
   ]
  },
  {
   "cell_type": "code",
   "execution_count": 8,
   "id": "35119084",
   "metadata": {},
   "outputs": [
    {
     "data": {
      "text/html": [
       "<span style=\"None\">Running query in &#x27;sqlite:///teste_de_avaliacao_01.sqlite&#x27;</span>"
      ],
      "text/plain": [
       "Running query in 'sqlite:///teste_de_avaliacao_01.sqlite'"
      ]
     },
     "metadata": {},
     "output_type": "display_data"
    },
    {
     "data": {
      "text/html": [
       "<span style=\"color: green\">10 rows affected.</span>"
      ],
      "text/plain": [
       "10 rows affected."
      ]
     },
     "metadata": {},
     "output_type": "display_data"
    },
    {
     "data": {
      "text/html": [
       "<table>\n",
       "    <thead>\n",
       "        <tr>\n",
       "        </tr>\n",
       "    </thead>\n",
       "    <tbody>\n",
       "    </tbody>\n",
       "</table>"
      ],
      "text/plain": [
       "++\n",
       "||\n",
       "++\n",
       "++"
      ]
     },
     "execution_count": 8,
     "metadata": {},
     "output_type": "execute_result"
    }
   ],
   "source": [
    "%%sql\n",
    "INSERT INTO clientes (nome, email, telefone, endereco) VALUES\n",
    "    ('Joana Silva',        'joana.silva@email.com',      '912345678', 'Rua das Flores 12, Lisboa'),\n",
    "    ('Miguel Ferreira',    'miguel.ferreira@email.com',  '913456789', 'Av. República 45, Porto'),\n",
    "    ('Rita Costa',         'rita.costa@email.com',       '914567890', 'Praça do Comércio 3, Lisboa'),\n",
    "    ('Tiago Santos',       'tiago.santos@email.com',     '915678901', 'Rua Direita 100, Braga'),\n",
    "    ('Carla Marques',      'carla.marques@email.com',    '916789012', 'Estrada da Luz 34, Coimbra'),\n",
    "    ('André Oliveira',     'andre.oliveira@email.com',   '917890123', 'Rua Central 18, Faro'),\n",
    "    ('Beatriz Almeida',    'beatriz.almeida@email.com',  '918901234', 'Rua do Sol 77, Aveiro'),\n",
    "    ('Pedro Rocha',        'pedro.rocha@email.com',      '919012345', 'Rua Nova 25, Guimarães'),\n",
    "    ('Inês Matos',         'ines.matos@email.com',       '911234567', 'Rua da Escola 5, Setúbal'),\n",
    "    ('Hugo Martins',       'hugo.martins@email.com',     '910123456', 'Av. dos Aliados 1, Porto');"
   ]
  },
  {
   "cell_type": "markdown",
   "id": "8cad441f",
   "metadata": {},
   "source": [
    "Clientes extra sem pedidos "
   ]
  },
  {
   "cell_type": "code",
   "execution_count": 9,
   "id": "509d5c3c",
   "metadata": {},
   "outputs": [
    {
     "data": {
      "text/html": [
       "<span style=\"None\">Running query in &#x27;sqlite:///teste_de_avaliacao_01.sqlite&#x27;</span>"
      ],
      "text/plain": [
       "Running query in 'sqlite:///teste_de_avaliacao_01.sqlite'"
      ]
     },
     "metadata": {},
     "output_type": "display_data"
    },
    {
     "data": {
      "text/html": [
       "<span style=\"color: green\">3 rows affected.</span>"
      ],
      "text/plain": [
       "3 rows affected."
      ]
     },
     "metadata": {},
     "output_type": "display_data"
    },
    {
     "data": {
      "text/html": [
       "<table>\n",
       "    <thead>\n",
       "        <tr>\n",
       "        </tr>\n",
       "    </thead>\n",
       "    <tbody>\n",
       "    </tbody>\n",
       "</table>"
      ],
      "text/plain": [
       "++\n",
       "||\n",
       "++\n",
       "++"
      ]
     },
     "execution_count": 9,
     "metadata": {},
     "output_type": "execute_result"
    }
   ],
   "source": [
    "%%sql\n",
    "INSERT INTO clientes (nome, email, telefone, endereco) VALUES\n",
    "    -- Clientes fictícios que não têm pedidos\n",
    "    ('Zeus Olimpo',     'zeus@olimpo.gr',     '921111111', 'Monte Olimpo, Grécia'),\n",
    "    ('Atenas Parthenos','athena@parthenon.gr','922222222', 'Acrópole, Atenas, Grécia'),\n",
    "    ('Poseidon Maris',  'poseidon@oceanos.gr','933333333', 'Cabo Sunião, Grécia');\n"
   ]
  },
  {
   "cell_type": "markdown",
   "id": "476c92d9",
   "metadata": {},
   "source": [
    "### Tabela: Restaurantes "
   ]
  },
  {
   "cell_type": "code",
   "execution_count": 10,
   "id": "f89d06eb",
   "metadata": {},
   "outputs": [
    {
     "data": {
      "text/html": [
       "<span style=\"None\">Running query in &#x27;sqlite:///teste_de_avaliacao_01.sqlite&#x27;</span>"
      ],
      "text/plain": [
       "Running query in 'sqlite:///teste_de_avaliacao_01.sqlite'"
      ]
     },
     "metadata": {},
     "output_type": "display_data"
    },
    {
     "data": {
      "text/html": [
       "<table>\n",
       "    <thead>\n",
       "        <tr>\n",
       "        </tr>\n",
       "    </thead>\n",
       "    <tbody>\n",
       "    </tbody>\n",
       "</table>"
      ],
      "text/plain": [
       "++\n",
       "||\n",
       "++\n",
       "++"
      ]
     },
     "execution_count": 10,
     "metadata": {},
     "output_type": "execute_result"
    }
   ],
   "source": [
    "%%sql\n",
    "-- Tabela: Restaurantes\n",
    "DROP TABLE IF EXISTS restaurantes;\n",
    "\n",
    "CREATE TABLE IF NOT EXISTS restaurantes (\n",
    "    restaurante_id INTEGER PRIMARY KEY AUTOINCREMENT,  -- PK\n",
    "    nome           VARCHAR NOT NULL,                   -- nome do restaurante\n",
    "    tipo_cozinha   VARCHAR,                            -- ex: Asian, Italian…\n",
    "    endereco       VARCHAR,                            -- morada\n",
    "    telefone       VARCHAR                             -- contacto\n",
    ");"
   ]
  },
  {
   "cell_type": "code",
   "execution_count": 11,
   "id": "df3129af",
   "metadata": {},
   "outputs": [
    {
     "data": {
      "text/html": [
       "<span style=\"None\">Running query in &#x27;sqlite:///teste_de_avaliacao_01.sqlite&#x27;</span>"
      ],
      "text/plain": [
       "Running query in 'sqlite:///teste_de_avaliacao_01.sqlite'"
      ]
     },
     "metadata": {},
     "output_type": "display_data"
    },
    {
     "data": {
      "text/html": [
       "<span style=\"color: green\">10 rows affected.</span>"
      ],
      "text/plain": [
       "10 rows affected."
      ]
     },
     "metadata": {},
     "output_type": "display_data"
    },
    {
     "data": {
      "text/html": [
       "<table>\n",
       "    <thead>\n",
       "        <tr>\n",
       "        </tr>\n",
       "    </thead>\n",
       "    <tbody>\n",
       "    </tbody>\n",
       "</table>"
      ],
      "text/plain": [
       "++\n",
       "||\n",
       "++\n",
       "++"
      ]
     },
     "execution_count": 11,
     "metadata": {},
     "output_type": "execute_result"
    }
   ],
   "source": [
    "%%sql\n",
    "INSERT INTO restaurantes (nome, tipo_cozinha, endereco, telefone) VALUES\n",
    "    ('Bairaktaris Central', 'Greek',       'Monastiraki Square, Athens 10555, Greece',           '+30 21 0321 3036'),\n",
    "    ('O Thanasis',          'Greek',       'Mitropoleos 69, Athens 10555, Greece',               '+30 21 0324 4705'),\n",
    "    ('Nolan',               'Asian',       'Voulis 31-33, Athens 10557, Greece',                 '+30 21 0324 3545'),\n",
    "    ('Trattoria Italia',    'Italian',     'Skoufou 29, Athens 10557, Greece',                   '+30 21 0323 5050'),\n",
    "    ('Spondi',              'French',      'Pirronos 5, Athens 11636, Greece',                   '+30 21 0756 4021'),\n",
    "    ('Varoulko Seaside',    'Seafood',     'Akti Koumoundourou 54, Piraeus 18533, Greece',       '+30 21 0522 8400'),\n",
    "    ('Hytra',               'Modern Greek','Leof. Andrea Syngrou 107-109, Athens 11745, Greece', '+30 21 0331 6767'),\n",
    "    ('CTC Urban Gastronomy','Modern',      'Plateon 15, Athens 10435, Greece',                   '+30 21 0822 4760'),\n",
    "    ('Lefteris o Politis',  'Greek',       'Satovriandou 20, Omonia, Athens 10432, Greece',      '+30 21 0522 5676'),\n",
    "    ('Falafellas', 'Middle Eastern',       'Aiolou 51, Athens 10551, Greece',                    '+30 21 0323 9809');"
   ]
  },
  {
   "cell_type": "markdown",
   "id": "806574b2",
   "metadata": {},
   "source": [
    "### Tabela: Menu"
   ]
  },
  {
   "cell_type": "code",
   "execution_count": 12,
   "id": "68912b03",
   "metadata": {},
   "outputs": [
    {
     "data": {
      "text/html": [
       "<span style=\"None\">Running query in &#x27;sqlite:///teste_de_avaliacao_01.sqlite&#x27;</span>"
      ],
      "text/plain": [
       "Running query in 'sqlite:///teste_de_avaliacao_01.sqlite'"
      ]
     },
     "metadata": {},
     "output_type": "display_data"
    },
    {
     "data": {
      "text/html": [
       "<table>\n",
       "    <thead>\n",
       "        <tr>\n",
       "        </tr>\n",
       "    </thead>\n",
       "    <tbody>\n",
       "    </tbody>\n",
       "</table>"
      ],
      "text/plain": [
       "++\n",
       "||\n",
       "++\n",
       "++"
      ]
     },
     "execution_count": 12,
     "metadata": {},
     "output_type": "execute_result"
    }
   ],
   "source": [
    "%%sql\n",
    "-- Tabela: Menu\n",
    "DROP TABLE IF EXISTS menu;\n",
    "\n",
    "CREATE TABLE IF NOT EXISTS menu (\n",
    "    menu_id    INTEGER PRIMARY KEY AUTOINCREMENT,  -- PK\n",
    "    descricao  TEXT NOT NULL,                      -- descrição do prato/menu\n",
    "    preco      DECIMAL                             -- preço (SQLite: armazena como NUMERIC/REAL)\n",
    ");"
   ]
  },
  {
   "cell_type": "code",
   "execution_count": 13,
   "id": "a2007a4d",
   "metadata": {},
   "outputs": [
    {
     "data": {
      "text/html": [
       "<span style=\"None\">Running query in &#x27;sqlite:///teste_de_avaliacao_01.sqlite&#x27;</span>"
      ],
      "text/plain": [
       "Running query in 'sqlite:///teste_de_avaliacao_01.sqlite'"
      ]
     },
     "metadata": {},
     "output_type": "display_data"
    },
    {
     "data": {
      "text/html": [
       "<span style=\"color: green\">20 rows affected.</span>"
      ],
      "text/plain": [
       "20 rows affected."
      ]
     },
     "metadata": {},
     "output_type": "display_data"
    },
    {
     "data": {
      "text/html": [
       "<table>\n",
       "    <thead>\n",
       "        <tr>\n",
       "        </tr>\n",
       "    </thead>\n",
       "    <tbody>\n",
       "    </tbody>\n",
       "</table>"
      ],
      "text/plain": [
       "++\n",
       "||\n",
       "++\n",
       "++"
      ]
     },
     "execution_count": 13,
     "metadata": {},
     "output_type": "execute_result"
    }
   ],
   "source": [
    "%%sql\n",
    "INSERT INTO menu (descricao, preco) VALUES\n",
    "    -- Pratos Gregos tradicionais\n",
    "    ('Souvlaki de porco no pão pita',                   6.00),\n",
    "    ('Gyros de frango com batatas fritas',              6.50),\n",
    "    ('Kebab picado com especiarias',                    7.00),\n",
    "    ('Moussaka grega tradicional',                      8.00),\n",
    "    ('Salada grega com queijo feta e azeitonas',        5.00),\n",
    "\n",
    "    -- Cozinha do Médio Oriente (Falafellas)\n",
    "    ('Falafel no pão pita com molho tahini',            5.50),\n",
    "    ('Prato vegetariano com húmus e tabbouleh',         6.50),\n",
    "\n",
    "    -- Cozinha asiática (Nolan)\n",
    "    ('Ramen com barriga de porco e ovo marinado',      11.00),\n",
    "    ('Tataki de atum com arroz de jasmim',             13.50),\n",
    "\n",
    "    -- Cozinha italiana (Trattoria Italia)\n",
    "    ('Spaghetti alla Carbonara',                        9.50),\n",
    "    ('Penne all’Arrabbiata',                            8.50),\n",
    "    ('Pizza Margherita com manjericão fresco',          7.00),\n",
    "\n",
    "    -- Cozinha francesa (Spondi)\n",
    "    ('Magret de pato com redução de vinho tinto',      17.00),\n",
    "    ('Foie gras com figo caramelizado',                19.50),\n",
    "\n",
    "    -- Cozinha de mar (Varoulko Seaside)\n",
    "    ('Polvo grelhado com azeite e orégãos',            15.00),\n",
    "    ('Risoto de camarão com tinta de choco',           14.50),\n",
    "\n",
    "    -- Modern Greek (Hytra, CTC)\n",
    "    ('Cordeiro confitado com puré de fava',            16.00),\n",
    "    ('Salada de beterraba com queijo manouri',         9.00),\n",
    "    ('Degustação de peixe branco com creme cítrico',   18.00),\n",
    "\n",
    "    -- Sobremesa\n",
    "    ('Baklava com mel e nozes',                         4.00);\n"
   ]
  },
  {
   "cell_type": "markdown",
   "id": "cca152e9",
   "metadata": {},
   "source": [
    "### Tabela: `Pedidos`"
   ]
  },
  {
   "cell_type": "code",
   "execution_count": 14,
   "id": "b13f5b17",
   "metadata": {},
   "outputs": [
    {
     "data": {
      "text/html": [
       "<span style=\"None\">Running query in &#x27;sqlite:///teste_de_avaliacao_01.sqlite&#x27;</span>"
      ],
      "text/plain": [
       "Running query in 'sqlite:///teste_de_avaliacao_01.sqlite'"
      ]
     },
     "metadata": {},
     "output_type": "display_data"
    },
    {
     "data": {
      "text/html": [
       "<table>\n",
       "    <thead>\n",
       "        <tr>\n",
       "        </tr>\n",
       "    </thead>\n",
       "    <tbody>\n",
       "    </tbody>\n",
       "</table>"
      ],
      "text/plain": [
       "++\n",
       "||\n",
       "++\n",
       "++"
      ]
     },
     "execution_count": 14,
     "metadata": {},
     "output_type": "execute_result"
    }
   ],
   "source": [
    "%%sql\n",
    "-- Tabela: Pedidos\n",
    "DROP TABLE IF EXISTS pedidos;\n",
    "\n",
    "CREATE TABLE IF NOT EXISTS pedidos (\n",
    "    pedido_id            INTEGER PRIMARY KEY AUTOINCREMENT,        -- PK\n",
    "    cliente_id           INTEGER NOT NULL,                         -- FK → clientes\n",
    "    restaurante_id       INTEGER NOT NULL,                         -- FK → restaurantes\n",
    "    menu_id              INTEGER NOT NULL,                         -- FK → menu\n",
    "    data_pedido          DATE NOT NULL,                            -- data do pedido\n",
    "    valor_total          DECIMAL,                                  -- total em €\n",
    "    hora_entrega         TIME,                                     -- hora prevista/real de entrega\n",
    "    avaliacao_entrega    INTEGER,                                  -- rating da entrega\n",
    "    avaliacao_restaurante INTEGER,                                 -- rating do restaurante\n",
    "\n",
    "    -- Chaves estrangeiras:\n",
    "    FOREIGN KEY (cliente_id)     REFERENCES clientes(cliente_id),\n",
    "    FOREIGN KEY (restaurante_id) REFERENCES restaurantes(restaurante_id),\n",
    "    FOREIGN KEY (menu_id)        REFERENCES menu(menu_id)\n",
    ");"
   ]
  },
  {
   "cell_type": "markdown",
   "id": "a28bd55f",
   "metadata": {},
   "source": [
    "gerado pelo ChatGPT:\n",
    "1. Equilíbrio de dados:\n",
    "    * Cada cliente_id aparece 4 × (40 pedidos ÷ 10 clientes).\n",
    "    * Cada restaurante_id e menu_id surgem várias vezes, garantindo diversidade.\n",
    "2. Coerência de datas\n",
    "    * Intervalo de 2025-06-30 a 2025-07-09 para simular um período de 10 dias de atividade.\n",
    "3. Avaliações (1-5)\n",
    "    * Distribuídas realisticamente (mais 4-5 do que 1-2).\n",
    "4. Integridade referencial\n",
    "    * IDs correspondem aos valores de clientes, restaurantes e menu já inseridos.\n"
   ]
  },
  {
   "cell_type": "code",
   "execution_count": 15,
   "id": "bfd6b3ef",
   "metadata": {},
   "outputs": [
    {
     "data": {
      "text/html": [
       "<span style=\"None\">Running query in &#x27;sqlite:///teste_de_avaliacao_01.sqlite&#x27;</span>"
      ],
      "text/plain": [
       "Running query in 'sqlite:///teste_de_avaliacao_01.sqlite'"
      ]
     },
     "metadata": {},
     "output_type": "display_data"
    },
    {
     "data": {
      "text/html": [
       "<span style=\"color: green\">40 rows affected.</span>"
      ],
      "text/plain": [
       "40 rows affected."
      ]
     },
     "metadata": {},
     "output_type": "display_data"
    },
    {
     "data": {
      "text/html": [
       "<table>\n",
       "    <thead>\n",
       "        <tr>\n",
       "        </tr>\n",
       "    </thead>\n",
       "    <tbody>\n",
       "    </tbody>\n",
       "</table>"
      ],
      "text/plain": [
       "++\n",
       "||\n",
       "++\n",
       "++"
      ]
     },
     "execution_count": 15,
     "metadata": {},
     "output_type": "execute_result"
    }
   ],
   "source": [
    "%%sql\n",
    "INSERT INTO pedidos\n",
    "      (cliente_id, restaurante_id, menu_id, data_pedido,\n",
    "       valor_total, hora_entrega, avaliacao_entrega, avaliacao_restaurante)\n",
    "VALUES\n",
    "      -- 2025-06-30\n",
    "      (1, 1, 1,  '2025-06-30',  6.00, '12:45', 5, 4),\n",
    "      (2, 2, 3,  '2025-06-30',  7.00, '13:10', 4, 5),\n",
    "      (3, 3, 8,  '2025-06-30', 11.00, '19:30', 5, 5),\n",
    "      (4, 4, 10, '2025-06-30',  9.50, '20:05', 3, 4),\n",
    "\n",
    "      -- 2025-07-01\n",
    "      (5, 5, 13, '2025-07-01', 17.00, '21:00', 4, 5),\n",
    "      (6, 6, 15, '2025-07-01', 15.00, '13:20', 4, 4),\n",
    "      (7, 7, 17, '2025-07-01', 16.00, '20:40', 5, 5),\n",
    "      (8, 8, 19, '2025-07-01', 18.00, '21:10', 4, 5),\n",
    "\n",
    "      -- 2025-07-02\n",
    "      (9, 9, 17, '2025-07-02', 16.00, '12:50', 5, 4),\n",
    "      (10,10,19,'2025-07-02', 18.00, '13:15', 4, 4),\n",
    "      (1, 2, 4,  '2025-07-02',  8.00, '19:05', 3, 4),\n",
    "      (2, 1, 2,  '2025-07-02',  6.50, '19:30', 4, 5),\n",
    "\n",
    "      -- 2025-07-03\n",
    "      (3, 3, 9,  '2025-07-03', 13.50, '20:20', 4, 5),\n",
    "      (4, 4, 11, '2025-07-03',  8.50, '21:00', 5, 4),\n",
    "      (5, 5, 14, '2025-07-03', 19.50, '13:00', 5, 5),\n",
    "      (6, 6, 16, '2025-07-03', 14.50, '13:40', 4, 4),\n",
    "\n",
    "      -- 2025-07-04\n",
    "      (7, 7, 18, '2025-07-04',  9.00, '12:35', 5, 4),\n",
    "      (8, 8, 20, '2025-07-04',  4.00, '19:10', 4, 5),\n",
    "      (9, 9, 1,  '2025-07-04',  6.00, '19:45', 5, 4),\n",
    "      (10,10,6, '2025-07-04',  5.50, '20:00', 3, 4),\n",
    "\n",
    "      -- 2025-07-05\n",
    "      (1, 3, 8,  '2025-07-05', 11.00, '13:25', 5, 5),\n",
    "      (2, 4, 12, '2025-07-05',  7.00, '13:55', 4, 4),\n",
    "      (3, 5, 14, '2025-07-05', 19.50, '20:15', 5, 5),\n",
    "      (4, 6, 15, '2025-07-05', 15.00, '20:40', 4, 5),\n",
    "\n",
    "      -- 2025-07-06\n",
    "      (5, 7, 17, '2025-07-06', 16.00, '12:30', 5, 5),\n",
    "      (6, 8, 19, '2025-07-06', 18.00, '12:55', 4, 4),\n",
    "      (7, 9, 3,  '2025-07-06',  7.00, '19:10', 5, 4),\n",
    "      (8,10, 6,  '2025-07-06',  5.50, '19:35', 3, 4),\n",
    "\n",
    "      -- 2025-07-07\n",
    "      (9, 1, 2,  '2025-07-07',  6.50, '20:05', 4, 5),\n",
    "      (10,2, 4,  '2025-07-07',  8.00, '20:20', 4, 4),\n",
    "      (1, 5, 13, '2025-07-07', 17.00, '13:10', 5, 5),\n",
    "      (2, 6, 16, '2025-07-07', 14.50, '13:40', 4, 4),\n",
    "\n",
    "      -- 2025-07-08\n",
    "      (3, 7, 18, '2025-07-08',  9.00, '12:45', 5, 4),\n",
    "      (4, 8, 20, '2025-07-08',  4.00, '19:00', 4, 5),\n",
    "      (5, 9, 17, '2025-07-08', 16.00, '19:25', 5, 5),\n",
    "      (6,10, 6,  '2025-07-08',  5.50, '19:50', 4, 4),\n",
    "\n",
    "      -- 2025-07-09\n",
    "      (7, 3, 9,  '2025-07-09', 13.50, '20:10', 5, 5),\n",
    "      (8, 4, 11, '2025-07-09',  8.50, '20:30', 4, 4),\n",
    "      (9, 5, 14, '2025-07-09', 19.50, '13:05', 5, 5),\n",
    "      (10,6, 15, '2025-07-09', 15.00, '13:30', 4, 4);\n"
   ]
  },
  {
   "cell_type": "markdown",
   "id": "6986194f",
   "metadata": {},
   "source": [
    "### Questão 1 (a).\n",
    "Listar o nome dos clientes que nunca fizeram um pedido (ordenar os registos com as primeiras letras do alfabeto no início dos dados retornados)."
   ]
  },
  {
   "cell_type": "code",
   "execution_count": 17,
   "id": "8365c2ea",
   "metadata": {},
   "outputs": [
    {
     "data": {
      "text/html": [
       "<span style=\"None\">Running query in &#x27;sqlite:///teste_de_avaliacao_01.sqlite&#x27;</span>"
      ],
      "text/plain": [
       "Running query in 'sqlite:///teste_de_avaliacao_01.sqlite'"
      ]
     },
     "metadata": {},
     "output_type": "display_data"
    },
    {
     "data": {
      "text/html": [
       "<table>\n",
       "    <thead>\n",
       "        <tr>\n",
       "            <th>nome</th>\n",
       "        </tr>\n",
       "    </thead>\n",
       "    <tbody>\n",
       "        <tr>\n",
       "            <td>Atenas Parthenos</td>\n",
       "        </tr>\n",
       "        <tr>\n",
       "            <td>Poseidon Maris</td>\n",
       "        </tr>\n",
       "        <tr>\n",
       "            <td>Zeus Olimpo</td>\n",
       "        </tr>\n",
       "    </tbody>\n",
       "</table>"
      ],
      "text/plain": [
       "+------------------+\n",
       "|       nome       |\n",
       "+------------------+\n",
       "| Atenas Parthenos |\n",
       "|  Poseidon Maris  |\n",
       "|   Zeus Olimpo    |\n",
       "+------------------+"
      ]
     },
     "execution_count": 17,
     "metadata": {},
     "output_type": "execute_result"
    }
   ],
   "source": [
    "%%sql\n",
    "SELECT nome\n",
    "FROM clientes\n",
    "WHERE cliente_id NOT IN (\n",
    "    SELECT cliente_id FROM pedidos\n",
    ")\n",
    "ORDER BY nome;\n"
   ]
  },
  {
   "cell_type": "markdown",
   "id": "96fc2778",
   "metadata": {},
   "source": [
    "### Questão 1 (b)\n",
    "Apresentar os descritivos do menús em que o restaurante do pedido não tem o\n",
    "campo tipo_cozinha definido ou o tipo de cozinha não é Asian."
   ]
  },
  {
   "cell_type": "code",
   "execution_count": 19,
   "id": "8f45972d",
   "metadata": {},
   "outputs": [
    {
     "data": {
      "text/html": [
       "<span style=\"None\">Running query in &#x27;sqlite:///teste_de_avaliacao_01.sqlite&#x27;</span>"
      ],
      "text/plain": [
       "Running query in 'sqlite:///teste_de_avaliacao_01.sqlite'"
      ]
     },
     "metadata": {},
     "output_type": "display_data"
    },
    {
     "data": {
      "text/html": [
       "<table>\n",
       "    <thead>\n",
       "        <tr>\n",
       "            <th>Descrição do Menu não Asian</th>\n",
       "        </tr>\n",
       "    </thead>\n",
       "    <tbody>\n",
       "        <tr>\n",
       "            <td>Souvlaki de porco no pão pita</td>\n",
       "        </tr>\n",
       "        <tr>\n",
       "            <td>Kebab picado com especiarias</td>\n",
       "        </tr>\n",
       "        <tr>\n",
       "            <td>Spaghetti alla Carbonara</td>\n",
       "        </tr>\n",
       "        <tr>\n",
       "            <td>Magret de pato com redução de vinho tinto</td>\n",
       "        </tr>\n",
       "        <tr>\n",
       "            <td>Polvo grelhado com azeite e orégãos</td>\n",
       "        </tr>\n",
       "        <tr>\n",
       "            <td>Cordeiro confitado com puré de fava</td>\n",
       "        </tr>\n",
       "        <tr>\n",
       "            <td>Degustação de peixe branco com creme cítrico</td>\n",
       "        </tr>\n",
       "        <tr>\n",
       "            <td>Cordeiro confitado com puré de fava</td>\n",
       "        </tr>\n",
       "        <tr>\n",
       "            <td>Degustação de peixe branco com creme cítrico</td>\n",
       "        </tr>\n",
       "        <tr>\n",
       "            <td>Moussaka grega tradicional</td>\n",
       "        </tr>\n",
       "        <tr>\n",
       "            <td>Gyros de frango com batatas fritas</td>\n",
       "        </tr>\n",
       "        <tr>\n",
       "            <td>Penne all’Arrabbiata</td>\n",
       "        </tr>\n",
       "        <tr>\n",
       "            <td>Foie gras com figo caramelizado</td>\n",
       "        </tr>\n",
       "        <tr>\n",
       "            <td>Risoto de camarão com tinta de choco</td>\n",
       "        </tr>\n",
       "        <tr>\n",
       "            <td>Salada de beterraba com queijo manouri</td>\n",
       "        </tr>\n",
       "        <tr>\n",
       "            <td>Baklava com mel e nozes</td>\n",
       "        </tr>\n",
       "        <tr>\n",
       "            <td>Souvlaki de porco no pão pita</td>\n",
       "        </tr>\n",
       "        <tr>\n",
       "            <td>Falafel no pão pita com molho tahini</td>\n",
       "        </tr>\n",
       "        <tr>\n",
       "            <td>Pizza Margherita com manjericão fresco</td>\n",
       "        </tr>\n",
       "        <tr>\n",
       "            <td>Foie gras com figo caramelizado</td>\n",
       "        </tr>\n",
       "        <tr>\n",
       "            <td>Polvo grelhado com azeite e orégãos</td>\n",
       "        </tr>\n",
       "        <tr>\n",
       "            <td>Cordeiro confitado com puré de fava</td>\n",
       "        </tr>\n",
       "        <tr>\n",
       "            <td>Degustação de peixe branco com creme cítrico</td>\n",
       "        </tr>\n",
       "        <tr>\n",
       "            <td>Kebab picado com especiarias</td>\n",
       "        </tr>\n",
       "        <tr>\n",
       "            <td>Falafel no pão pita com molho tahini</td>\n",
       "        </tr>\n",
       "        <tr>\n",
       "            <td>Gyros de frango com batatas fritas</td>\n",
       "        </tr>\n",
       "        <tr>\n",
       "            <td>Moussaka grega tradicional</td>\n",
       "        </tr>\n",
       "        <tr>\n",
       "            <td>Magret de pato com redução de vinho tinto</td>\n",
       "        </tr>\n",
       "        <tr>\n",
       "            <td>Risoto de camarão com tinta de choco</td>\n",
       "        </tr>\n",
       "        <tr>\n",
       "            <td>Salada de beterraba com queijo manouri</td>\n",
       "        </tr>\n",
       "        <tr>\n",
       "            <td>Baklava com mel e nozes</td>\n",
       "        </tr>\n",
       "        <tr>\n",
       "            <td>Cordeiro confitado com puré de fava</td>\n",
       "        </tr>\n",
       "        <tr>\n",
       "            <td>Falafel no pão pita com molho tahini</td>\n",
       "        </tr>\n",
       "        <tr>\n",
       "            <td>Penne all’Arrabbiata</td>\n",
       "        </tr>\n",
       "        <tr>\n",
       "            <td>Foie gras com figo caramelizado</td>\n",
       "        </tr>\n",
       "        <tr>\n",
       "            <td>Polvo grelhado com azeite e orégãos</td>\n",
       "        </tr>\n",
       "    </tbody>\n",
       "</table>"
      ],
      "text/plain": [
       "+----------------------------------------------+\n",
       "|         Descrição do Menu não Asian          |\n",
       "+----------------------------------------------+\n",
       "|        Souvlaki de porco no pão pita         |\n",
       "|         Kebab picado com especiarias         |\n",
       "|           Spaghetti alla Carbonara           |\n",
       "|  Magret de pato com redução de vinho tinto   |\n",
       "|     Polvo grelhado com azeite e orégãos      |\n",
       "|     Cordeiro confitado com puré de fava      |\n",
       "| Degustação de peixe branco com creme cítrico |\n",
       "|     Cordeiro confitado com puré de fava      |\n",
       "| Degustação de peixe branco com creme cítrico |\n",
       "|          Moussaka grega tradicional          |\n",
       "|      Gyros de frango com batatas fritas      |\n",
       "|             Penne all’Arrabbiata             |\n",
       "|       Foie gras com figo caramelizado        |\n",
       "|     Risoto de camarão com tinta de choco     |\n",
       "|    Salada de beterraba com queijo manouri    |\n",
       "|           Baklava com mel e nozes            |\n",
       "|        Souvlaki de porco no pão pita         |\n",
       "|     Falafel no pão pita com molho tahini     |\n",
       "|    Pizza Margherita com manjericão fresco    |\n",
       "|       Foie gras com figo caramelizado        |\n",
       "|     Polvo grelhado com azeite e orégãos      |\n",
       "|     Cordeiro confitado com puré de fava      |\n",
       "| Degustação de peixe branco com creme cítrico |\n",
       "|         Kebab picado com especiarias         |\n",
       "|     Falafel no pão pita com molho tahini     |\n",
       "|      Gyros de frango com batatas fritas      |\n",
       "|          Moussaka grega tradicional          |\n",
       "|  Magret de pato com redução de vinho tinto   |\n",
       "|     Risoto de camarão com tinta de choco     |\n",
       "|    Salada de beterraba com queijo manouri    |\n",
       "|           Baklava com mel e nozes            |\n",
       "|     Cordeiro confitado com puré de fava      |\n",
       "|     Falafel no pão pita com molho tahini     |\n",
       "|             Penne all’Arrabbiata             |\n",
       "|       Foie gras com figo caramelizado        |\n",
       "|     Polvo grelhado com azeite e orégãos      |\n",
       "+----------------------------------------------+"
      ]
     },
     "execution_count": 19,
     "metadata": {},
     "output_type": "execute_result"
    }
   ],
   "source": [
    "%%sql\n",
    "SELECT m.descricao   AS \"Descrição do Menu não Asian\"\n",
    "FROM pedidos p\n",
    "JOIN restaurantes r  ON p.restaurante_id = r.restaurante_id\n",
    "JOIN menu m          ON p.menu_id = m.menu_id\n",
    "WHERE r.tipo_cozinha IS NULL OR LOWER(r.tipo_cozinha) != 'asian';\n"
   ]
  },
  {
   "cell_type": "markdown",
   "id": "f435dcea",
   "metadata": {},
   "source": [
    "## Questão 1(c)\n",
    "Qual o valor médio dos pedidos de cada cliente?"
   ]
  },
  {
   "cell_type": "code",
   "execution_count": 21,
   "id": "945318aa",
   "metadata": {},
   "outputs": [
    {
     "data": {
      "text/html": [
       "<span style=\"None\">Running query in &#x27;sqlite:///teste_de_avaliacao_01.sqlite&#x27;</span>"
      ],
      "text/plain": [
       "Running query in 'sqlite:///teste_de_avaliacao_01.sqlite'"
      ]
     },
     "metadata": {},
     "output_type": "display_data"
    },
    {
     "data": {
      "text/html": [
       "<table>\n",
       "    <thead>\n",
       "        <tr>\n",
       "            <th>nome</th>\n",
       "            <th>media_pedidos</th>\n",
       "        </tr>\n",
       "    </thead>\n",
       "    <tbody>\n",
       "        <tr>\n",
       "            <td>André Oliveira</td>\n",
       "            <td>13.25</td>\n",
       "        </tr>\n",
       "        <tr>\n",
       "            <td>Beatriz Almeida</td>\n",
       "            <td>11.38</td>\n",
       "        </tr>\n",
       "        <tr>\n",
       "            <td>Carla Marques</td>\n",
       "            <td>17.13</td>\n",
       "        </tr>\n",
       "        <tr>\n",
       "            <td>Hugo Martins</td>\n",
       "            <td>11.63</td>\n",
       "        </tr>\n",
       "        <tr>\n",
       "            <td>Inês Matos</td>\n",
       "            <td>12.0</td>\n",
       "        </tr>\n",
       "        <tr>\n",
       "            <td>Joana Silva</td>\n",
       "            <td>10.5</td>\n",
       "        </tr>\n",
       "        <tr>\n",
       "            <td>Miguel Ferreira</td>\n",
       "            <td>8.75</td>\n",
       "        </tr>\n",
       "        <tr>\n",
       "            <td>Pedro Rocha</td>\n",
       "            <td>9.0</td>\n",
       "        </tr>\n",
       "        <tr>\n",
       "            <td>Rita Costa</td>\n",
       "            <td>13.25</td>\n",
       "        </tr>\n",
       "        <tr>\n",
       "            <td>Tiago Santos</td>\n",
       "            <td>9.25</td>\n",
       "        </tr>\n",
       "    </tbody>\n",
       "</table>"
      ],
      "text/plain": [
       "+-----------------+---------------+\n",
       "|       nome      | media_pedidos |\n",
       "+-----------------+---------------+\n",
       "|  André Oliveira |     13.25     |\n",
       "| Beatriz Almeida |     11.38     |\n",
       "|  Carla Marques  |     17.13     |\n",
       "|   Hugo Martins  |     11.63     |\n",
       "|    Inês Matos   |      12.0     |\n",
       "|   Joana Silva   |      10.5     |\n",
       "| Miguel Ferreira |      8.75     |\n",
       "|   Pedro Rocha   |      9.0      |\n",
       "|    Rita Costa   |     13.25     |\n",
       "|   Tiago Santos  |      9.25     |\n",
       "+-----------------+---------------+"
      ]
     },
     "execution_count": 21,
     "metadata": {},
     "output_type": "execute_result"
    }
   ],
   "source": [
    "%%sql\n",
    "SELECT \n",
    "    c.nome,\n",
    "    ROUND(AVG(p.valor_total), 2) AS media_pedidos\n",
    "FROM clientes c\n",
    "JOIN pedidos p ON c.cliente_id = p.cliente_id\n",
    "GROUP BY c.cliente_id, c.nome\n",
    "ORDER BY c.nome;"
   ]
  },
  {
   "cell_type": "markdown",
   "id": "d4532277",
   "metadata": {},
   "source": [
    "## Questão 1 (d)\n",
    "Listar o total de receitas gerada por cada restaurante, mas só os restaurantes que\n",
    "faturaram mais de `1000€` e com mais de `20` pedidos?"
   ]
  },
  {
   "cell_type": "code",
   "execution_count": 22,
   "id": "59089067",
   "metadata": {},
   "outputs": [
    {
     "data": {
      "text/html": [
       "<span style=\"None\">Running query in &#x27;sqlite:///teste_de_avaliacao_01.sqlite&#x27;</span>"
      ],
      "text/plain": [
       "Running query in 'sqlite:///teste_de_avaliacao_01.sqlite'"
      ]
     },
     "metadata": {},
     "output_type": "display_data"
    },
    {
     "data": {
      "text/html": [
       "<table>\n",
       "    <thead>\n",
       "        <tr>\n",
       "            <th>restaurante</th>\n",
       "            <th>total_receita</th>\n",
       "            <th>total_pedidos</th>\n",
       "        </tr>\n",
       "    </thead>\n",
       "    <tbody>\n",
       "    </tbody>\n",
       "</table>"
      ],
      "text/plain": [
       "+-------------+---------------+---------------+\n",
       "| restaurante | total_receita | total_pedidos |\n",
       "+-------------+---------------+---------------+\n",
       "+-------------+---------------+---------------+"
      ]
     },
     "execution_count": 22,
     "metadata": {},
     "output_type": "execute_result"
    }
   ],
   "source": [
    "%%sql\n",
    "SELECT\n",
    "    r.nome AS restaurante,\n",
    "    SUM(p.valor_total) AS total_receita,\n",
    "    COUNT(*) AS total_pedidos\n",
    "FROM restaurantes r\n",
    "JOIN pedidos p ON p.restaurante_id = r.restaurante_id\n",
    "GROUP BY r.restaurante_id, r.nome\n",
    "HAVING SUM(p.valor_total) > 1000  -- faturação superior a 1000 €\n",
    "   AND COUNT(*) > 20              -- mais de 20 pedidos\n",
    "ORDER BY total_receita DESC;"
   ]
  },
  {
   "cell_type": "markdown",
   "id": "fa8e538b",
   "metadata": {},
   "source": [
    "Como os valores sugeridos no enunciado são muito elevados, repete-se a query para valores mais pequenos\n",
    "\n",
    "Listar o total de receitas gerada por cada restaurante, mas só os restaurantes que\n",
    "faturaram mais de `40€` e com mais de `2` pedidos?"
   ]
  },
  {
   "cell_type": "code",
   "execution_count": 23,
   "id": "c924ba1b",
   "metadata": {},
   "outputs": [
    {
     "data": {
      "text/html": [
       "<span style=\"None\">Running query in &#x27;sqlite:///teste_de_avaliacao_01.sqlite&#x27;</span>"
      ],
      "text/plain": [
       "Running query in 'sqlite:///teste_de_avaliacao_01.sqlite'"
      ]
     },
     "metadata": {},
     "output_type": "display_data"
    },
    {
     "data": {
      "text/html": [
       "<table>\n",
       "    <thead>\n",
       "        <tr>\n",
       "            <th>restaurante</th>\n",
       "            <th>total_receita</th>\n",
       "            <th>total_pedidos</th>\n",
       "        </tr>\n",
       "    </thead>\n",
       "    <tbody>\n",
       "        <tr>\n",
       "            <td>Spondi</td>\n",
       "            <td>92.5</td>\n",
       "            <td>5</td>\n",
       "        </tr>\n",
       "        <tr>\n",
       "            <td>Varoulko Seaside</td>\n",
       "            <td>74.0</td>\n",
       "            <td>5</td>\n",
       "        </tr>\n",
       "        <tr>\n",
       "            <td>Hytra</td>\n",
       "            <td>50</td>\n",
       "            <td>4</td>\n",
       "        </tr>\n",
       "        <tr>\n",
       "            <td>Nolan</td>\n",
       "            <td>49.0</td>\n",
       "            <td>4</td>\n",
       "        </tr>\n",
       "        <tr>\n",
       "            <td>Lefteris o Politis</td>\n",
       "            <td>45</td>\n",
       "            <td>4</td>\n",
       "        </tr>\n",
       "        <tr>\n",
       "            <td>CTC Urban Gastronomy</td>\n",
       "            <td>44</td>\n",
       "            <td>4</td>\n",
       "        </tr>\n",
       "    </tbody>\n",
       "</table>"
      ],
      "text/plain": [
       "+----------------------+---------------+---------------+\n",
       "|     restaurante      | total_receita | total_pedidos |\n",
       "+----------------------+---------------+---------------+\n",
       "|        Spondi        |      92.5     |       5       |\n",
       "|   Varoulko Seaside   |      74.0     |       5       |\n",
       "|        Hytra         |       50      |       4       |\n",
       "|        Nolan         |      49.0     |       4       |\n",
       "|  Lefteris o Politis  |       45      |       4       |\n",
       "| CTC Urban Gastronomy |       44      |       4       |\n",
       "+----------------------+---------------+---------------+"
      ]
     },
     "execution_count": 23,
     "metadata": {},
     "output_type": "execute_result"
    }
   ],
   "source": [
    "%%sql\n",
    "SELECT\n",
    "    r.nome AS restaurante,\n",
    "    SUM(p.valor_total) AS total_receita,\n",
    "    COUNT(*) AS total_pedidos\n",
    "FROM restaurantes r\n",
    "JOIN pedidos p ON p.restaurante_id = r.restaurante_id\n",
    "GROUP BY r.restaurante_id, r.nome\n",
    "HAVING SUM(p.valor_total) > 40   -- faturação superior a 40 €\n",
    "   AND COUNT(*) > 2              -- mais de 2 pedidos\n",
    "ORDER BY total_receita DESC;"
   ]
  },
  {
   "cell_type": "markdown",
   "id": "99a9ee02",
   "metadata": {},
   "source": [
    "## Questão 1 (e)\n",
    "Determinar a quantidade de clientes que fizeram pedidos e não atribuíram uma\n",
    "avaliação ao restaurante ou a nota da entrega é inferior a 5"
   ]
  },
  {
   "cell_type": "code",
   "execution_count": 24,
   "id": "01aeb8e0",
   "metadata": {},
   "outputs": [
    {
     "data": {
      "text/html": [
       "<span style=\"None\">Running query in &#x27;sqlite:///teste_de_avaliacao_01.sqlite&#x27;</span>"
      ],
      "text/plain": [
       "Running query in 'sqlite:///teste_de_avaliacao_01.sqlite'"
      ]
     },
     "metadata": {},
     "output_type": "display_data"
    },
    {
     "data": {
      "text/html": [
       "<table>\n",
       "    <thead>\n",
       "        <tr>\n",
       "            <th>clientes_afetados</th>\n",
       "        </tr>\n",
       "    </thead>\n",
       "    <tbody>\n",
       "        <tr>\n",
       "            <td>9</td>\n",
       "        </tr>\n",
       "    </tbody>\n",
       "</table>"
      ],
      "text/plain": [
       "+-------------------+\n",
       "| clientes_afetados |\n",
       "+-------------------+\n",
       "|         9         |\n",
       "+-------------------+"
      ]
     },
     "execution_count": 24,
     "metadata": {},
     "output_type": "execute_result"
    }
   ],
   "source": [
    "%%sql\n",
    "SELECT COUNT(DISTINCT p.cliente_id) AS clientes_afetados\n",
    "FROM pedidos p\n",
    "WHERE p.avaliacao_restaurante IS NULL\n",
    "   OR p.avaliacao_entrega < 5;"
   ]
  },
  {
   "cell_type": "markdown",
   "id": "0c3d161a",
   "metadata": {},
   "source": [
    "---\n",
    "end of file"
   ]
  }
 ],
 "metadata": {
  "kernelspec": {
   "display_name": "FundamentosSQL",
   "language": "python",
   "name": "python3"
  },
  "language_info": {
   "codemirror_mode": {
    "name": "ipython",
    "version": 3
   },
   "file_extension": ".py",
   "mimetype": "text/x-python",
   "name": "python",
   "nbconvert_exporter": "python",
   "pygments_lexer": "ipython3",
   "version": "3.13.5"
  }
 },
 "nbformat": 4,
 "nbformat_minor": 5
}
