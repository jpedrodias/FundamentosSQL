{
 "cells": [
  {
   "cell_type": "markdown",
   "id": "2d4bca1f",
   "metadata": {},
   "source": [
    "# Ficha de Trabalho\n"
   ]
  },
  {
   "cell_type": "markdown",
   "id": "268dc7e6",
   "metadata": {},
   "source": [
    "Passo 0: preparação do sistema para correr em Jupyter Notebook"
   ]
  },
  {
   "cell_type": "code",
   "execution_count": 1,
   "id": "1b9b3404",
   "metadata": {},
   "outputs": [
    {
     "name": "stdout",
     "output_type": "stream",
     "text": [
      "Note: you may need to restart the kernel to use updated packages.\n"
     ]
    }
   ],
   "source": [
    "%pip install jupysql --upgrade --quiet"
   ]
  },
  {
   "cell_type": "code",
   "execution_count": 2,
   "id": "82bea57f",
   "metadata": {},
   "outputs": [],
   "source": [
    "# Load the jupysql extension\n",
    "# This allows us to use SQL magic commands in Jupyter notebooks\n",
    "%load_ext sql"
   ]
  },
  {
   "cell_type": "code",
   "execution_count": 3,
   "id": "d9daf5bd",
   "metadata": {},
   "outputs": [
    {
     "data": {
      "text/html": [
       "<span style=\"None\">Connecting to &#x27;sqlite:///ficha_de_trabalho_01.sqlite&#x27;</span>"
      ],
      "text/plain": [
       "Connecting to 'sqlite:///ficha_de_trabalho_01.sqlite'"
      ]
     },
     "metadata": {},
     "output_type": "display_data"
    }
   ],
   "source": [
    "# Connect to the SQLite database\n",
    "%sql sqlite:///ficha_de_trabalho_01.sqlite"
   ]
  },
  {
   "cell_type": "code",
   "execution_count": 4,
   "id": "19f39904",
   "metadata": {},
   "outputs": [
    {
     "data": {
      "text/html": [
       "<span style=\"None\">Running query in &#x27;sqlite:///ficha_de_trabalho_01.sqlite&#x27;</span>"
      ],
      "text/plain": [
       "Running query in 'sqlite:///ficha_de_trabalho_01.sqlite'"
      ]
     },
     "metadata": {},
     "output_type": "display_data"
    },
    {
     "data": {
      "text/html": [
       "<table>\n",
       "    <thead>\n",
       "        <tr>\n",
       "        </tr>\n",
       "    </thead>\n",
       "    <tbody>\n",
       "    </tbody>\n",
       "</table>"
      ],
      "text/plain": [
       "++\n",
       "||\n",
       "++\n",
       "++"
      ]
     },
     "execution_count": 4,
     "metadata": {},
     "output_type": "execute_result"
    }
   ],
   "source": [
    "# Set the display limit for SQL queries\n",
    "# This controls how many rows are displayed in the output of SQL queries\n",
    "%config SqlMagic.displaylimit = 0\n",
    "\n",
    "# Enable foreign key constraints in SQLite\n",
    "# This ensures that foreign key relationships are enforced in the database\n",
    "%sql PRAGMA foreign_keys = ON"
   ]
  },
  {
   "cell_type": "code",
   "execution_count": 5,
   "id": "0ef8e94e",
   "metadata": {},
   "outputs": [
    {
     "data": {
      "text/html": [
       "<table>\n",
       "    <thead>\n",
       "        <tr>\n",
       "            <th>Name</th>\n",
       "        </tr>\n",
       "    </thead>\n",
       "    <tbody>\n",
       "        <tr>\n",
       "            <td>artigo</td>\n",
       "        </tr>\n",
       "        <tr>\n",
       "            <td>artigo_edicao</td>\n",
       "        </tr>\n",
       "        <tr>\n",
       "            <td>categoria</td>\n",
       "        </tr>\n",
       "        <tr>\n",
       "            <td>edicao</td>\n",
       "        </tr>\n",
       "        <tr>\n",
       "            <td>jornalista</td>\n",
       "        </tr>\n",
       "    </tbody>\n",
       "</table>"
      ],
      "text/plain": [
       "+---------------+\n",
       "|      Name     |\n",
       "+---------------+\n",
       "|     artigo    |\n",
       "| artigo_edicao |\n",
       "|   categoria   |\n",
       "|     edicao    |\n",
       "|   jornalista  |\n",
       "+---------------+"
      ]
     },
     "execution_count": 5,
     "metadata": {},
     "output_type": "execute_result"
    }
   ],
   "source": [
    "# Display the list of tables in the database\n",
    "# This command lists all the tables in the connected SQLite database\n",
    "%sqlcmd tables"
   ]
  },
  {
   "cell_type": "markdown",
   "id": "e8f8aadb",
   "metadata": {},
   "source": [
    "----"
   ]
  },
  {
   "cell_type": "markdown",
   "id": "47a592b6",
   "metadata": {
    "vscode": {
     "languageId": "html"
    }
   },
   "source": [
    "<img src=\"ficha_de_trabalho_01.png\" alt=\"Ficha de Trabalho 01\" style=\"width:100%; height:auto;\">"
   ]
  },
  {
   "cell_type": "markdown",
   "id": "454a7c8b",
   "metadata": {},
   "source": [
    "# 📌 Parte 1: Criação das Tabelas"
   ]
  },
  {
   "cell_type": "code",
   "execution_count": 6,
   "id": "00dfee4d",
   "metadata": {},
   "outputs": [
    {
     "data": {
      "text/html": [
       "<span style=\"None\">Running query in &#x27;sqlite:///ficha_de_trabalho_01.sqlite&#x27;</span>"
      ],
      "text/plain": [
       "Running query in 'sqlite:///ficha_de_trabalho_01.sqlite'"
      ]
     },
     "metadata": {},
     "output_type": "display_data"
    },
    {
     "data": {
      "text/html": [
       "<table>\n",
       "    <thead>\n",
       "        <tr>\n",
       "        </tr>\n",
       "    </thead>\n",
       "    <tbody>\n",
       "    </tbody>\n",
       "</table>"
      ],
      "text/plain": [
       "++\n",
       "||\n",
       "++\n",
       "++"
      ]
     },
     "execution_count": 6,
     "metadata": {},
     "output_type": "execute_result"
    }
   ],
   "source": [
    "%%sql\n",
    "-- Eliminar todas as tabelas se já existirem\n",
    "DROP TABLE IF EXISTS artigo_edicao;\n",
    "DROP TABLE IF EXISTS edicao;\n",
    "DROP TABLE IF EXISTS artigo;\n",
    "DROP TABLE IF EXISTS categoria;\n",
    "DROP TABLE IF EXISTS jornalista;"
   ]
  },
  {
   "cell_type": "markdown",
   "id": "eb18ecdd",
   "metadata": {},
   "source": [
    "---"
   ]
  },
  {
   "cell_type": "markdown",
   "id": "ccfc5eb3",
   "metadata": {},
   "source": [
    "## Tabela 1: `jornalista`\n",
    "   - `id_jornalista` (INT, PK)\n",
    "   - `nome` (TEXT)\n",
    "   - `especialidade` (TEXT)"
   ]
  },
  {
   "cell_type": "code",
   "execution_count": 7,
   "id": "33e7f943",
   "metadata": {},
   "outputs": [
    {
     "data": {
      "text/html": [
       "<span style=\"None\">Running query in &#x27;sqlite:///ficha_de_trabalho_01.sqlite&#x27;</span>"
      ],
      "text/plain": [
       "Running query in 'sqlite:///ficha_de_trabalho_01.sqlite'"
      ]
     },
     "metadata": {},
     "output_type": "display_data"
    },
    {
     "data": {
      "text/html": [
       "<table>\n",
       "    <thead>\n",
       "        <tr>\n",
       "        </tr>\n",
       "    </thead>\n",
       "    <tbody>\n",
       "    </tbody>\n",
       "</table>"
      ],
      "text/plain": [
       "++\n",
       "||\n",
       "++\n",
       "++"
      ]
     },
     "execution_count": 7,
     "metadata": {},
     "output_type": "execute_result"
    }
   ],
   "source": [
    "%%sql\n",
    "-- Tabela: jornalista\n",
    "DROP TABLE IF EXISTS jornalista;\n",
    "\n",
    "CREATE TABLE IF NOT EXISTS jornalista (\n",
    "    id_jornalista INTEGER PRIMARY KEY AUTOINCREMENT, -- chave primária, auto-incremento\n",
    "    nome TEXT NOT NULL,                              -- nome do jornalista\n",
    "    especialidade TEXT NOT NULL                      -- especialidade do jornalista (pode ser Política, Cultura, Desporto, etc.)\n",
    ");"
   ]
  },
  {
   "cell_type": "markdown",
   "id": "5e57841d",
   "metadata": {},
   "source": [
    "* `DROP TABLE IF EXISTS jornalista;`: Garante que qualquer tabela com o mesmo nome seja eliminada antes da criação — útil durante testes ou desenvolvimento.\n",
    "* `CREATE TABLE IF NOT EXISTS`: Evita erro caso a tabela já exista.\n",
    "* `id_jornalista INTEGER PRIMARY KEY`: Define a chave primária como um inteiro, o que está de acordo com o enunciado.\n",
    "* `nome TEXT NOT NULL` e `especialidade TEXT NOT NULL`: As colunas estão corretamente tipadas e não permitem valores nulos, o que é geralmente desejável neste contexto."
   ]
  },
  {
   "cell_type": "markdown",
   "id": "e69d9770",
   "metadata": {},
   "source": [
    "**Observação**:\n",
    "* O tipo `INTEGER PRIMARY KEY` no SQLite gera automaticamente valores únicos e sequenciais se não forem especificados ao inserir dados (é um alias para AUTOINCREMENT implícito).\n",
    "* No MySQL, para comportamento semelhante, seria necessário usar `AUTO_INCREMENT`.\n",
    "\n",
    "Apesar de não ser obrigatório em SQLite, considero que é sempre melhor deixar a instrução explicita do que implícita."
   ]
  },
  {
   "cell_type": "markdown",
   "id": "0ecf9834",
   "metadata": {},
   "source": [
    "### Inserção de dados na tabela `jornalista`"
   ]
  },
  {
   "cell_type": "code",
   "execution_count": 8,
   "id": "bba82ddf",
   "metadata": {},
   "outputs": [
    {
     "data": {
      "text/html": [
       "<span style=\"None\">Running query in &#x27;sqlite:///ficha_de_trabalho_01.sqlite&#x27;</span>"
      ],
      "text/plain": [
       "Running query in 'sqlite:///ficha_de_trabalho_01.sqlite'"
      ]
     },
     "metadata": {},
     "output_type": "display_data"
    },
    {
     "data": {
      "text/html": [
       "<span style=\"color: green\">10 rows affected.</span>"
      ],
      "text/plain": [
       "10 rows affected."
      ]
     },
     "metadata": {},
     "output_type": "display_data"
    },
    {
     "data": {
      "text/html": [
       "<table>\n",
       "    <thead>\n",
       "        <tr>\n",
       "        </tr>\n",
       "    </thead>\n",
       "    <tbody>\n",
       "    </tbody>\n",
       "</table>"
      ],
      "text/plain": [
       "++\n",
       "||\n",
       "++\n",
       "++"
      ]
     },
     "execution_count": 8,
     "metadata": {},
     "output_type": "execute_result"
    }
   ],
   "source": [
    "%%sql\n",
    "-- Inserção de dados na tabela `jornalista`\n",
    "INSERT INTO jornalista (nome, especialidade) VALUES\n",
    "    ('José Rodrigues dos Santos', 'Política'),\n",
    "    ('Clara Ferreira Alves', 'Cultura'),\n",
    "    ('Rui Pedro Braz', 'Desporto'),\n",
    "    ('Ana Lourenço', 'Política'),\n",
    "    ('Ricardo Costa', 'Economia'),\n",
    "    ('Fátima Campos Ferreira', 'Sociedade'),\n",
    "    ('Paulo Dentinho', 'Internacional'),\n",
    "    ('Margarida Marante', 'Entrevistas'),\n",
    "    ('Carlos Daniel', 'Desporto'),\n",
    "    ('Dina Aguiar', 'Cultura')\n",
    ";"
   ]
  },
  {
   "cell_type": "code",
   "execution_count": 9,
   "id": "6f0936ad",
   "metadata": {},
   "outputs": [
    {
     "data": {
      "text/html": [
       "<span style=\"None\">Running query in &#x27;sqlite:///ficha_de_trabalho_01.sqlite&#x27;</span>"
      ],
      "text/plain": [
       "Running query in 'sqlite:///ficha_de_trabalho_01.sqlite'"
      ]
     },
     "metadata": {},
     "output_type": "display_data"
    },
    {
     "data": {
      "text/html": [
       "<table>\n",
       "    <thead>\n",
       "        <tr>\n",
       "            <th>Número de jornalistas</th>\n",
       "        </tr>\n",
       "    </thead>\n",
       "    <tbody>\n",
       "        <tr>\n",
       "            <td>10</td>\n",
       "        </tr>\n",
       "    </tbody>\n",
       "</table>"
      ],
      "text/plain": [
       "+-----------------------+\n",
       "| Número de jornalistas |\n",
       "+-----------------------+\n",
       "|           10          |\n",
       "+-----------------------+"
      ]
     },
     "execution_count": 9,
     "metadata": {},
     "output_type": "execute_result"
    }
   ],
   "source": [
    "%%sql\n",
    "-- Verificação da inserção\n",
    "SELECT COUNT(*) AS \"Número de jornalistas\" FROM jornalista;"
   ]
  },
  {
   "cell_type": "code",
   "execution_count": 10,
   "id": "b37c6835",
   "metadata": {},
   "outputs": [
    {
     "data": {
      "text/html": [
       "<span style=\"None\">Running query in &#x27;sqlite:///ficha_de_trabalho_01.sqlite&#x27;</span>"
      ],
      "text/plain": [
       "Running query in 'sqlite:///ficha_de_trabalho_01.sqlite'"
      ]
     },
     "metadata": {},
     "output_type": "display_data"
    },
    {
     "data": {
      "text/html": [
       "<table>\n",
       "    <thead>\n",
       "        <tr>\n",
       "            <th>id_jornalista</th>\n",
       "            <th>nome</th>\n",
       "            <th>especialidade</th>\n",
       "        </tr>\n",
       "    </thead>\n",
       "    <tbody>\n",
       "        <tr>\n",
       "            <td>1</td>\n",
       "            <td>José Rodrigues dos Santos</td>\n",
       "            <td>Política</td>\n",
       "        </tr>\n",
       "        <tr>\n",
       "            <td>2</td>\n",
       "            <td>Clara Ferreira Alves</td>\n",
       "            <td>Cultura</td>\n",
       "        </tr>\n",
       "        <tr>\n",
       "            <td>3</td>\n",
       "            <td>Rui Pedro Braz</td>\n",
       "            <td>Desporto</td>\n",
       "        </tr>\n",
       "        <tr>\n",
       "            <td>4</td>\n",
       "            <td>Ana Lourenço</td>\n",
       "            <td>Política</td>\n",
       "        </tr>\n",
       "        <tr>\n",
       "            <td>5</td>\n",
       "            <td>Ricardo Costa</td>\n",
       "            <td>Economia</td>\n",
       "        </tr>\n",
       "        <tr>\n",
       "            <td>6</td>\n",
       "            <td>Fátima Campos Ferreira</td>\n",
       "            <td>Sociedade</td>\n",
       "        </tr>\n",
       "        <tr>\n",
       "            <td>7</td>\n",
       "            <td>Paulo Dentinho</td>\n",
       "            <td>Internacional</td>\n",
       "        </tr>\n",
       "        <tr>\n",
       "            <td>8</td>\n",
       "            <td>Margarida Marante</td>\n",
       "            <td>Entrevistas</td>\n",
       "        </tr>\n",
       "        <tr>\n",
       "            <td>9</td>\n",
       "            <td>Carlos Daniel</td>\n",
       "            <td>Desporto</td>\n",
       "        </tr>\n",
       "        <tr>\n",
       "            <td>10</td>\n",
       "            <td>Dina Aguiar</td>\n",
       "            <td>Cultura</td>\n",
       "        </tr>\n",
       "    </tbody>\n",
       "</table>"
      ],
      "text/plain": [
       "+---------------+---------------------------+---------------+\n",
       "| id_jornalista |            nome           | especialidade |\n",
       "+---------------+---------------------------+---------------+\n",
       "|       1       | José Rodrigues dos Santos |    Política   |\n",
       "|       2       |    Clara Ferreira Alves   |    Cultura    |\n",
       "|       3       |       Rui Pedro Braz      |    Desporto   |\n",
       "|       4       |        Ana Lourenço       |    Política   |\n",
       "|       5       |       Ricardo Costa       |    Economia   |\n",
       "|       6       |   Fátima Campos Ferreira  |   Sociedade   |\n",
       "|       7       |       Paulo Dentinho      | Internacional |\n",
       "|       8       |     Margarida Marante     |  Entrevistas  |\n",
       "|       9       |       Carlos Daniel       |    Desporto   |\n",
       "|       10      |        Dina Aguiar        |    Cultura    |\n",
       "+---------------+---------------------------+---------------+"
      ]
     },
     "execution_count": 10,
     "metadata": {},
     "output_type": "execute_result"
    }
   ],
   "source": [
    "%%sql\n",
    "SELECT * FROM jornalista;"
   ]
  },
  {
   "cell_type": "markdown",
   "id": "b826d145",
   "metadata": {},
   "source": [
    "---"
   ]
  },
  {
   "cell_type": "markdown",
   "id": "071d702a",
   "metadata": {},
   "source": [
    "## Tabela 2: `categoria`(s)\n",
    "   - `id_categoria` (INT, PK)\n",
    "   - `nome` (TEXT) — ex: Política, Cultura, Desporto"
   ]
  },
  {
   "cell_type": "code",
   "execution_count": 11,
   "id": "1090ae6b",
   "metadata": {},
   "outputs": [
    {
     "data": {
      "text/html": [
       "<span style=\"None\">Running query in &#x27;sqlite:///ficha_de_trabalho_01.sqlite&#x27;</span>"
      ],
      "text/plain": [
       "Running query in 'sqlite:///ficha_de_trabalho_01.sqlite'"
      ]
     },
     "metadata": {},
     "output_type": "display_data"
    },
    {
     "data": {
      "text/html": [
       "<table>\n",
       "    <thead>\n",
       "        <tr>\n",
       "        </tr>\n",
       "    </thead>\n",
       "    <tbody>\n",
       "    </tbody>\n",
       "</table>"
      ],
      "text/plain": [
       "++\n",
       "||\n",
       "++\n",
       "++"
      ]
     },
     "execution_count": 11,
     "metadata": {},
     "output_type": "execute_result"
    }
   ],
   "source": [
    "%%sql\n",
    "-- Tabela `categoria`\n",
    "DROP TABLE IF EXISTS categoria;\n",
    "\n",
    "CREATE TABLE IF NOT EXISTS categoria (\n",
    "    id_categoria INTEGER PRIMARY KEY AUTOINCREMENT,   -- chave primária, auto-incremento\n",
    "    nome TEXT NOT NULL UNIQUE                         -- garantia de que não há categorias repetidas (ex: Política, Cultura, Desporto, etc.)\n",
    ");"
   ]
  },
  {
   "cell_type": "markdown",
   "id": "bea62e49",
   "metadata": {},
   "source": [
    "### Inserção de dados na tabela `categoria`(s)"
   ]
  },
  {
   "cell_type": "code",
   "execution_count": 12,
   "id": "8382d5ec",
   "metadata": {},
   "outputs": [
    {
     "data": {
      "text/html": [
       "<span style=\"None\">Running query in &#x27;sqlite:///ficha_de_trabalho_01.sqlite&#x27;</span>"
      ],
      "text/plain": [
       "Running query in 'sqlite:///ficha_de_trabalho_01.sqlite'"
      ]
     },
     "metadata": {},
     "output_type": "display_data"
    },
    {
     "data": {
      "text/html": [
       "<span style=\"color: green\">10 rows affected.</span>"
      ],
      "text/plain": [
       "10 rows affected."
      ]
     },
     "metadata": {},
     "output_type": "display_data"
    },
    {
     "data": {
      "text/html": [
       "<table>\n",
       "    <thead>\n",
       "        <tr>\n",
       "        </tr>\n",
       "    </thead>\n",
       "    <tbody>\n",
       "    </tbody>\n",
       "</table>"
      ],
      "text/plain": [
       "++\n",
       "||\n",
       "++\n",
       "++"
      ]
     },
     "execution_count": 12,
     "metadata": {},
     "output_type": "execute_result"
    }
   ],
   "source": [
    "%%sql\n",
    "-- Inserção de dados na tabela `categoria`\n",
    "INSERT INTO categoria (nome) VALUES\n",
    "    ('Política'),\n",
    "    ('Cultura'),\n",
    "    ('Desporto'),\n",
    "    ('Economia'),\n",
    "    ('Sociedade'),\n",
    "    ('Internacional'),\n",
    "    ('Tecnologia'),\n",
    "    ('Saúde'),\n",
    "    ('Ambiente'),\n",
    "    ('Educação')\n",
    ";"
   ]
  },
  {
   "cell_type": "markdown",
   "id": "914723a4",
   "metadata": {},
   "source": [
    "---"
   ]
  },
  {
   "cell_type": "markdown",
   "id": "650f6e27",
   "metadata": {},
   "source": [
    "## Tabela 3: `artigo`(s)\n",
    "   - `id_artigo` (INT, PK)\n",
    "   - `titulo` (TEXT)\n",
    "   - `data_publicacao` (DATE)\n",
    "   - `id_jornalista` (INT, FK → jornalista.id_jornalista)\n",
    "   - `id_categoria` (INT, FK → categoria.id_categoria)"
   ]
  },
  {
   "cell_type": "code",
   "execution_count": 13,
   "id": "f8a8b099",
   "metadata": {},
   "outputs": [
    {
     "data": {
      "text/html": [
       "<span style=\"None\">Running query in &#x27;sqlite:///ficha_de_trabalho_01.sqlite&#x27;</span>"
      ],
      "text/plain": [
       "Running query in 'sqlite:///ficha_de_trabalho_01.sqlite'"
      ]
     },
     "metadata": {},
     "output_type": "display_data"
    },
    {
     "data": {
      "text/html": [
       "<table>\n",
       "    <thead>\n",
       "        <tr>\n",
       "        </tr>\n",
       "    </thead>\n",
       "    <tbody>\n",
       "    </tbody>\n",
       "</table>"
      ],
      "text/plain": [
       "++\n",
       "||\n",
       "++\n",
       "++"
      ]
     },
     "execution_count": 13,
     "metadata": {},
     "output_type": "execute_result"
    }
   ],
   "source": [
    "%%sql\n",
    "-- Tabela `artigo`\n",
    "DROP TABLE IF EXISTS artigo;\n",
    "\n",
    "CREATE TABLE IF NOT EXISTS artigo (\n",
    "    id_artigo         INTEGER PRIMARY KEY AUTOINCREMENT,            -- chave primária, auto-incremento\n",
    "    titulo            TEXT NOT NULL,                                -- título do artigo\n",
    "    data_publicacao   DATE NOT NULL DEFAULT CURRENT_DATE,           -- data de publicação do artigo\n",
    "    id_jornalista     INTEGER NOT NULL,                             -- chave estrangeira referenciando o jornalista\n",
    "    id_categoria      INTEGER NOT NULL,                             -- chave estrangeira referenciando a categoria\n",
    "    FOREIGN KEY (id_jornalista) REFERENCES jornalista(id_jornalista),\n",
    "    FOREIGN KEY (id_categoria) REFERENCES categoria(id_categoria)\n",
    ");"
   ]
  },
  {
   "cell_type": "markdown",
   "id": "c4bd9259",
   "metadata": {},
   "source": [
    "### Inserção de dados na tabela `artigo`(s)"
   ]
  },
  {
   "cell_type": "code",
   "execution_count": 14,
   "id": "77e6582e",
   "metadata": {},
   "outputs": [
    {
     "data": {
      "text/html": [
       "<span style=\"None\">Running query in &#x27;sqlite:///ficha_de_trabalho_01.sqlite&#x27;</span>"
      ],
      "text/plain": [
       "Running query in 'sqlite:///ficha_de_trabalho_01.sqlite'"
      ]
     },
     "metadata": {},
     "output_type": "display_data"
    },
    {
     "data": {
      "text/html": [
       "<span style=\"color: green\">10 rows affected.</span>"
      ],
      "text/plain": [
       "10 rows affected."
      ]
     },
     "metadata": {},
     "output_type": "display_data"
    },
    {
     "data": {
      "text/html": [
       "<table>\n",
       "    <thead>\n",
       "        <tr>\n",
       "        </tr>\n",
       "    </thead>\n",
       "    <tbody>\n",
       "    </tbody>\n",
       "</table>"
      ],
      "text/plain": [
       "++\n",
       "||\n",
       "++\n",
       "++"
      ]
     },
     "execution_count": 14,
     "metadata": {},
     "output_type": "execute_result"
    }
   ],
   "source": [
    "%%sql\n",
    "INSERT INTO artigo (titulo, data_publicacao, id_jornalista, id_categoria) VALUES\n",
    "    ('Orçamento de Estado aprovado na generalidade',         '2025-07-01', 1, 1),  -- Política\n",
    "    ('Festival de Teatro de Almada arranca com casa cheia',  '2025-07-01', 2, 2),  -- Cultura\n",
    "    ('FC Porto contrata avançado brasileiro',                '2025-07-02', 3, 3),  -- Desporto\n",
    "    ('Eleições Europeias: o que está em jogo para Portugal', '2025-07-02', 4, 1), -- Política\n",
    "    ('Inflação abranda para 1,8 % em maio',                  '2025-07-03', 5, 4),  -- Economia\n",
    "    ('Programas sociais reforçam apoio a famílias',          '2025-07-03', 6, 5),  -- Sociedade\n",
    "    ('Cimeira da NATO discute novo modelo de defesa',        '2025-07-04', 7, 6),  -- Internacional\n",
    "    ('Start-ups portuguesas batem recorde de investimento',  '2025-07-04', 1, 7),  -- Tecnologia\n",
    "    ('SNS recebe injecção adicional de 500 M€',              '2025-07-05', 5, 8),  -- Saúde\n",
    "    ('Seca extrema afecta 30 % do território nacional',      '2025-07-05', 2, 9)   -- Ambiente\n",
    ";  "
   ]
  },
  {
   "cell_type": "markdown",
   "id": "0a9e22f1",
   "metadata": {},
   "source": [
    "### Dados extra: mais artigos"
   ]
  },
  {
   "cell_type": "code",
   "execution_count": 15,
   "id": "211a56e6",
   "metadata": {},
   "outputs": [
    {
     "data": {
      "text/html": [
       "<span style=\"None\">Running query in &#x27;sqlite:///ficha_de_trabalho_01.sqlite&#x27;</span>"
      ],
      "text/plain": [
       "Running query in 'sqlite:///ficha_de_trabalho_01.sqlite'"
      ]
     },
     "metadata": {},
     "output_type": "display_data"
    },
    {
     "data": {
      "text/html": [
       "<span style=\"color: green\">3 rows affected.</span>"
      ],
      "text/plain": [
       "3 rows affected."
      ]
     },
     "metadata": {},
     "output_type": "display_data"
    },
    {
     "data": {
      "text/html": [
       "<table>\n",
       "    <thead>\n",
       "        <tr>\n",
       "        </tr>\n",
       "    </thead>\n",
       "    <tbody>\n",
       "    </tbody>\n",
       "</table>"
      ],
      "text/plain": [
       "++\n",
       "||\n",
       "++\n",
       "++"
      ]
     },
     "execution_count": 15,
     "metadata": {},
     "output_type": "execute_result"
    }
   ],
   "source": [
    "%%sql\n",
    "-- dados extra para a tabela `artigo` para a categoria Política\n",
    "INSERT INTO artigo (titulo, data_publicacao, id_jornalista, id_categoria) VALUES\n",
    "    ('Debate parlamentar aquece sobre habitação',          '2025-05-30', 1, 1),\n",
    "    ('Reformas constitucionais em cima da mesa',           '2025-05-31', 4, 1),\n",
    "    ('Presidente da República discursa sobre coesão',      '2025-06-01', 6, 1);"
   ]
  },
  {
   "cell_type": "code",
   "execution_count": 16,
   "id": "c1741f0c",
   "metadata": {},
   "outputs": [
    {
     "data": {
      "text/html": [
       "<span style=\"None\">Running query in &#x27;sqlite:///ficha_de_trabalho_01.sqlite&#x27;</span>"
      ],
      "text/plain": [
       "Running query in 'sqlite:///ficha_de_trabalho_01.sqlite'"
      ]
     },
     "metadata": {},
     "output_type": "display_data"
    },
    {
     "data": {
      "text/html": [
       "<span style=\"color: green\">3 rows affected.</span>"
      ],
      "text/plain": [
       "3 rows affected."
      ]
     },
     "metadata": {},
     "output_type": "display_data"
    },
    {
     "data": {
      "text/html": [
       "<table>\n",
       "    <thead>\n",
       "        <tr>\n",
       "        </tr>\n",
       "    </thead>\n",
       "    <tbody>\n",
       "    </tbody>\n",
       "</table>"
      ],
      "text/plain": [
       "++\n",
       "||\n",
       "++\n",
       "++"
      ]
     },
     "execution_count": 16,
     "metadata": {},
     "output_type": "execute_result"
    }
   ],
   "source": [
    "%%sql\n",
    "-- dados extra da categorua Cultura\n",
    "INSERT INTO artigo (titulo, data_publicacao, id_jornalista, id_categoria) VALUES\n",
    "    ('Bienal de Veneza: artistas portugueses em destaque', '2025-06-01', 2, 2),   -- Clara Ferreira Alves\n",
    "    ('Festa do Livro do Porto apresenta programação',      '2025-06-01', 10, 2),  -- Dina Aguiar\n",
    "    ('Exposição retrospetiva de Paula Rego inaugurada',    '2025-06-01', 2, 2);   -- Clara Ferreira Alves"
   ]
  },
  {
   "cell_type": "code",
   "execution_count": 17,
   "id": "97227fc8",
   "metadata": {},
   "outputs": [
    {
     "data": {
      "text/html": [
       "<span style=\"None\">Running query in &#x27;sqlite:///ficha_de_trabalho_01.sqlite&#x27;</span>"
      ],
      "text/plain": [
       "Running query in 'sqlite:///ficha_de_trabalho_01.sqlite'"
      ]
     },
     "metadata": {},
     "output_type": "display_data"
    },
    {
     "data": {
      "text/html": [
       "<span style=\"color: green\">7 rows affected.</span>"
      ],
      "text/plain": [
       "7 rows affected."
      ]
     },
     "metadata": {},
     "output_type": "display_data"
    },
    {
     "data": {
      "text/html": [
       "<table>\n",
       "    <thead>\n",
       "        <tr>\n",
       "        </tr>\n",
       "    </thead>\n",
       "    <tbody>\n",
       "    </tbody>\n",
       "</table>"
      ],
      "text/plain": [
       "++\n",
       "||\n",
       "++\n",
       "++"
      ]
     },
     "execution_count": 17,
     "metadata": {},
     "output_type": "execute_result"
    }
   ],
   "source": [
    "%%sql\n",
    "-- dados extra da categoria Desporto \n",
    "INSERT INTO artigo (titulo, data_publicacao, id_jornalista, id_categoria) VALUES\n",
    "    -- 4 de julho\n",
    "    ('Fluminense vence Al-Hilal e homenageia Diogo Jota com minuto de silêncio',      '2025-07-04', 3, 3),\n",
    "    ('Adepto português no Euro Feminino presta tributo a Diogo Jota em Berna',        '2025-07-04', 3, 3),\n",
    "    ('Treinos do Mundial de Clubes arrancam com homenagem a Diogo Jota',              '2025-07-04', 9, 3),\n",
    "\n",
    "    -- 5 de julho\n",
    "    ('Rúben Neves carrega o caixão no funeral emotivo de Diogo Jota',                 '2025-07-05', 3, 3),\n",
    "    ('Funeral de Diogo Jota reúne companheiros e dirigentes do futebol mundial',      '2025-07-05', 9, 3),\n",
    "\n",
    "    -- 6 de julho\n",
    "    ('Milhares despedem-se de Diogo Jota e André Silva no Porto',                     '2025-07-06', 3, 3),\n",
    "    ('Hamilton confia em pódio em Silverstone após qualificação com a Ferrari',       '2025-07-06', 9, 3);"
   ]
  },
  {
   "cell_type": "code",
   "execution_count": 18,
   "id": "7cf4e442",
   "metadata": {},
   "outputs": [
    {
     "data": {
      "text/html": [
       "<span style=\"None\">Running query in &#x27;sqlite:///ficha_de_trabalho_01.sqlite&#x27;</span>"
      ],
      "text/plain": [
       "Running query in 'sqlite:///ficha_de_trabalho_01.sqlite'"
      ]
     },
     "metadata": {},
     "output_type": "display_data"
    },
    {
     "data": {
      "text/html": [
       "<table>\n",
       "    <thead>\n",
       "        <tr>\n",
       "            <th>Número de artigos</th>\n",
       "        </tr>\n",
       "    </thead>\n",
       "    <tbody>\n",
       "        <tr>\n",
       "            <td>23</td>\n",
       "        </tr>\n",
       "    </tbody>\n",
       "</table>"
      ],
      "text/plain": [
       "+-------------------+\n",
       "| Número de artigos |\n",
       "+-------------------+\n",
       "|         23        |\n",
       "+-------------------+"
      ]
     },
     "execution_count": 18,
     "metadata": {},
     "output_type": "execute_result"
    }
   ],
   "source": [
    "%%sql\n",
    "-- verificação da inserção\n",
    "SELECT COUNT(*) AS \"Número de artigos\" FROM artigo;"
   ]
  },
  {
   "cell_type": "code",
   "execution_count": 19,
   "id": "81855d6c",
   "metadata": {},
   "outputs": [
    {
     "data": {
      "text/html": [
       "<span style=\"None\">Running query in &#x27;sqlite:///ficha_de_trabalho_01.sqlite&#x27;</span>"
      ],
      "text/plain": [
       "Running query in 'sqlite:///ficha_de_trabalho_01.sqlite'"
      ]
     },
     "metadata": {},
     "output_type": "display_data"
    },
    {
     "data": {
      "text/html": [
       "<table>\n",
       "    <thead>\n",
       "        <tr>\n",
       "            <th>Data</th>\n",
       "            <th>Total de artigos</th>\n",
       "        </tr>\n",
       "    </thead>\n",
       "    <tbody>\n",
       "        <tr>\n",
       "            <td>2025-07-04</td>\n",
       "            <td>5</td>\n",
       "        </tr>\n",
       "        <tr>\n",
       "            <td>2025-06-01</td>\n",
       "            <td>4</td>\n",
       "        </tr>\n",
       "        <tr>\n",
       "            <td>2025-07-05</td>\n",
       "            <td>4</td>\n",
       "        </tr>\n",
       "        <tr>\n",
       "            <td>2025-07-01</td>\n",
       "            <td>2</td>\n",
       "        </tr>\n",
       "    </tbody>\n",
       "</table>"
      ],
      "text/plain": [
       "+------------+------------------+\n",
       "|    Data    | Total de artigos |\n",
       "+------------+------------------+\n",
       "| 2025-07-04 |        5         |\n",
       "| 2025-06-01 |        4         |\n",
       "| 2025-07-05 |        4         |\n",
       "| 2025-07-01 |        2         |\n",
       "+------------+------------------+"
      ]
     },
     "execution_count": 19,
     "metadata": {},
     "output_type": "execute_result"
    }
   ],
   "source": [
    "%%sql\n",
    "SELECT data_publicacao AS \"Data\", COUNT(*) AS \"Total de artigos\"\n",
    "    FROM artigo\n",
    "    GROUP BY data_publicacao\n",
    "    ORDER BY \"Total de artigos\" DESC, data_publicacao\n",
    "    LIMIT 4;"
   ]
  },
  {
   "cell_type": "markdown",
   "id": "0eceb700",
   "metadata": {},
   "source": [
    "---"
   ]
  },
  {
   "cell_type": "markdown",
   "id": "fa1c50bf",
   "metadata": {},
   "source": [
    "## Tabela 4: `edicao`(ões)\n",
    "   - `id_edicao` (INT, PK)\n",
    "   - `data_edicao` (DATE)"
   ]
  },
  {
   "cell_type": "code",
   "execution_count": 20,
   "id": "d2bddccf",
   "metadata": {},
   "outputs": [
    {
     "data": {
      "text/html": [
       "<span style=\"None\">Running query in &#x27;sqlite:///ficha_de_trabalho_01.sqlite&#x27;</span>"
      ],
      "text/plain": [
       "Running query in 'sqlite:///ficha_de_trabalho_01.sqlite'"
      ]
     },
     "metadata": {},
     "output_type": "display_data"
    },
    {
     "data": {
      "text/html": [
       "<table>\n",
       "    <thead>\n",
       "        <tr>\n",
       "        </tr>\n",
       "    </thead>\n",
       "    <tbody>\n",
       "    </tbody>\n",
       "</table>"
      ],
      "text/plain": [
       "++\n",
       "||\n",
       "++\n",
       "++"
      ]
     },
     "execution_count": 20,
     "metadata": {},
     "output_type": "execute_result"
    }
   ],
   "source": [
    "%%sql\n",
    "-- Eliminar a tabela se já existir\n",
    "DROP TABLE IF EXISTS edicao;\n",
    "\n",
    "-- Criar a tabela edicao\n",
    "CREATE TABLE IF NOT EXISTS edicao (\n",
    "    id_edicao   INTEGER PRIMARY KEY AUTOINCREMENT,       -- chave primária, auto-incremento\n",
    "    data_edicao DATE NOT NULL DEFAULT CURRENT_DATE       -- data de publicação do artigo\n",
    ");"
   ]
  },
  {
   "cell_type": "markdown",
   "id": "b2805742",
   "metadata": {},
   "source": [
    "### Inserção de dados na tabela `edicao`(s)\n",
    "\n",
    "\n",
    "A considerar que as edições são semanais e saiem aos domingos."
   ]
  },
  {
   "cell_type": "code",
   "execution_count": 21,
   "id": "8676dfbe",
   "metadata": {},
   "outputs": [
    {
     "data": {
      "text/html": [
       "<span style=\"None\">Running query in &#x27;sqlite:///ficha_de_trabalho_01.sqlite&#x27;</span>"
      ],
      "text/plain": [
       "Running query in 'sqlite:///ficha_de_trabalho_01.sqlite'"
      ]
     },
     "metadata": {},
     "output_type": "display_data"
    },
    {
     "data": {
      "text/html": [
       "<span style=\"color: green\">15 rows affected.</span>"
      ],
      "text/plain": [
       "15 rows affected."
      ]
     },
     "metadata": {},
     "output_type": "display_data"
    },
    {
     "data": {
      "text/html": [
       "<table>\n",
       "    <thead>\n",
       "        <tr>\n",
       "        </tr>\n",
       "    </thead>\n",
       "    <tbody>\n",
       "    </tbody>\n",
       "</table>"
      ],
      "text/plain": [
       "++\n",
       "||\n",
       "++\n",
       "++"
      ]
     },
     "execution_count": 21,
     "metadata": {},
     "output_type": "execute_result"
    }
   ],
   "source": [
    "%%sql\n",
    "-- Inserir dados na tabela `edicao`\n",
    "INSERT INTO edicao (data_edicao) VALUES\n",
    "    ('2025-05-25'),   -- Ediações semanais só aos domingos\n",
    "    ('2025-06-01'),\n",
    "    ('2025-06-08'),\n",
    "    ('2025-06-15'),\n",
    "    ('2025-06-22'),\n",
    "    ('2025-06-29'),\n",
    "    ('2025-07-06'),\n",
    "    ('2025-07-13'),\n",
    "    ('2025-07-20'),\n",
    "    ('2025-07-27'),\n",
    "    ('2025-08-03'),\n",
    "    ('2025-08-10'),\n",
    "    ('2025-08-17'),\n",
    "    ('2025-08-24'),\n",
    "    ('2025-08-31');\n"
   ]
  },
  {
   "cell_type": "markdown",
   "id": "0f6a627f",
   "metadata": {},
   "source": [
    "---"
   ]
  },
  {
   "cell_type": "markdown",
   "id": "5ec3c81f",
   "metadata": {},
   "source": [
    "## Tabela 5. `artigo_edicao`\n",
    "   - `id_artigo` (INT, FK → artigo.id_artigo)\n",
    "   - `id_edicao` (INT, FK → edicao.id_edicao)"
   ]
  },
  {
   "cell_type": "code",
   "execution_count": 22,
   "id": "8cddf02b",
   "metadata": {},
   "outputs": [
    {
     "data": {
      "text/html": [
       "<span style=\"None\">Running query in &#x27;sqlite:///ficha_de_trabalho_01.sqlite&#x27;</span>"
      ],
      "text/plain": [
       "Running query in 'sqlite:///ficha_de_trabalho_01.sqlite'"
      ]
     },
     "metadata": {},
     "output_type": "display_data"
    },
    {
     "data": {
      "text/html": [
       "<table>\n",
       "    <thead>\n",
       "        <tr>\n",
       "        </tr>\n",
       "    </thead>\n",
       "    <tbody>\n",
       "    </tbody>\n",
       "</table>"
      ],
      "text/plain": [
       "++\n",
       "||\n",
       "++\n",
       "++"
      ]
     },
     "execution_count": 22,
     "metadata": {},
     "output_type": "execute_result"
    }
   ],
   "source": [
    "%%sql\n",
    "-- Tabela `artigo_edicao`\n",
    "DROP TABLE IF EXISTS artigo_edicao;\n",
    "\n",
    "CREATE TABLE IF NOT EXISTS artigo_edicao (\n",
    "    id_artigo   INTEGER NOT NULL,                             -- chave estrangeira referenciando o artigo\n",
    "    id_edicao   INTEGER NOT NULL,                             -- chave estrangeira referenciando a edição\n",
    "    FOREIGN KEY (id_artigo) REFERENCES artigo(id_artigo),\n",
    "    FOREIGN KEY (id_edicao) REFERENCES edicao(id_edicao)\n",
    ");"
   ]
  },
  {
   "cell_type": "markdown",
   "id": "4701356c",
   "metadata": {},
   "source": [
    "### Inserção de dados na tabela `artigo_edicao`(ões)\n",
    "\n",
    "Considerando que:\n",
    "* Os artigos estão criados e já têm data.\n",
    "* As edições estão criadas e têm data e são semanais (aos domingos). \n",
    "\n",
    "Então, considerar todos os artigos da semana anterior para a `edicao` do domingo seguinte.\n",
    "Por exemplo, para a edição de `2025-07-06` entrão todos os artigos de `2025-07-05` (-1 dia) a `2025-06-29` (-7 dias)."
   ]
  },
  {
   "cell_type": "code",
   "execution_count": 23,
   "id": "046352bc",
   "metadata": {},
   "outputs": [
    {
     "data": {
      "text/html": [
       "<span style=\"None\">Running query in &#x27;sqlite:///ficha_de_trabalho_01.sqlite&#x27;</span>"
      ],
      "text/plain": [
       "Running query in 'sqlite:///ficha_de_trabalho_01.sqlite'"
      ]
     },
     "metadata": {},
     "output_type": "display_data"
    },
    {
     "data": {
      "text/html": [
       "<table>\n",
       "    <thead>\n",
       "        <tr>\n",
       "            <th>ID da Edição</th>\n",
       "            <th>ID do Artigo</th>\n",
       "            <th>Data da Edição</th>\n",
       "            <th>Título do Artigo</th>\n",
       "            <th>Jornalista</th>\n",
       "            <th>Data de Publicação</th>\n",
       "        </tr>\n",
       "    </thead>\n",
       "    <tbody>\n",
       "        <tr>\n",
       "            <td>2</td>\n",
       "            <td>11</td>\n",
       "            <td>2025-06-01</td>\n",
       "            <td>Debate parlamentar aquece sobre habitação</td>\n",
       "            <td>José Rodrigues dos Santos</td>\n",
       "            <td>2025-05-30</td>\n",
       "        </tr>\n",
       "        <tr>\n",
       "            <td>2</td>\n",
       "            <td>12</td>\n",
       "            <td>2025-06-01</td>\n",
       "            <td>Reformas constitucionais em cima da mesa</td>\n",
       "            <td>Ana Lourenço</td>\n",
       "            <td>2025-05-31</td>\n",
       "        </tr>\n",
       "        <tr>\n",
       "            <td>3</td>\n",
       "            <td>13</td>\n",
       "            <td>2025-06-08</td>\n",
       "            <td>Presidente da República discursa sobre coesão</td>\n",
       "            <td>Fátima Campos Ferreira</td>\n",
       "            <td>2025-06-01</td>\n",
       "        </tr>\n",
       "        <tr>\n",
       "            <td>3</td>\n",
       "            <td>14</td>\n",
       "            <td>2025-06-08</td>\n",
       "            <td>Bienal de Veneza: artistas portugueses em destaque</td>\n",
       "            <td>Clara Ferreira Alves</td>\n",
       "            <td>2025-06-01</td>\n",
       "        </tr>\n",
       "        <tr>\n",
       "            <td>3</td>\n",
       "            <td>15</td>\n",
       "            <td>2025-06-08</td>\n",
       "            <td>Festa do Livro do Porto apresenta programação</td>\n",
       "            <td>Dina Aguiar</td>\n",
       "            <td>2025-06-01</td>\n",
       "        </tr>\n",
       "        <tr>\n",
       "            <td>3</td>\n",
       "            <td>16</td>\n",
       "            <td>2025-06-08</td>\n",
       "            <td>Exposição retrospetiva de Paula Rego inaugurada</td>\n",
       "            <td>Clara Ferreira Alves</td>\n",
       "            <td>2025-06-01</td>\n",
       "        </tr>\n",
       "        <tr>\n",
       "            <td>7</td>\n",
       "            <td>1</td>\n",
       "            <td>2025-07-06</td>\n",
       "            <td>Orçamento de Estado aprovado na generalidade</td>\n",
       "            <td>José Rodrigues dos Santos</td>\n",
       "            <td>2025-07-01</td>\n",
       "        </tr>\n",
       "        <tr>\n",
       "            <td>7</td>\n",
       "            <td>2</td>\n",
       "            <td>2025-07-06</td>\n",
       "            <td>Festival de Teatro de Almada arranca com casa cheia</td>\n",
       "            <td>Clara Ferreira Alves</td>\n",
       "            <td>2025-07-01</td>\n",
       "        </tr>\n",
       "        <tr>\n",
       "            <td>7</td>\n",
       "            <td>3</td>\n",
       "            <td>2025-07-06</td>\n",
       "            <td>FC Porto contrata avançado brasileiro</td>\n",
       "            <td>Rui Pedro Braz</td>\n",
       "            <td>2025-07-02</td>\n",
       "        </tr>\n",
       "        <tr>\n",
       "            <td>7</td>\n",
       "            <td>4</td>\n",
       "            <td>2025-07-06</td>\n",
       "            <td>Eleições Europeias: o que está em jogo para Portugal</td>\n",
       "            <td>Ana Lourenço</td>\n",
       "            <td>2025-07-02</td>\n",
       "        </tr>\n",
       "        <tr>\n",
       "            <td>7</td>\n",
       "            <td>5</td>\n",
       "            <td>2025-07-06</td>\n",
       "            <td>Inflação abranda para 1,8 % em maio</td>\n",
       "            <td>Ricardo Costa</td>\n",
       "            <td>2025-07-03</td>\n",
       "        </tr>\n",
       "        <tr>\n",
       "            <td>7</td>\n",
       "            <td>6</td>\n",
       "            <td>2025-07-06</td>\n",
       "            <td>Programas sociais reforçam apoio a famílias</td>\n",
       "            <td>Fátima Campos Ferreira</td>\n",
       "            <td>2025-07-03</td>\n",
       "        </tr>\n",
       "        <tr>\n",
       "            <td>7</td>\n",
       "            <td>7</td>\n",
       "            <td>2025-07-06</td>\n",
       "            <td>Cimeira da NATO discute novo modelo de defesa</td>\n",
       "            <td>Paulo Dentinho</td>\n",
       "            <td>2025-07-04</td>\n",
       "        </tr>\n",
       "        <tr>\n",
       "            <td>7</td>\n",
       "            <td>8</td>\n",
       "            <td>2025-07-06</td>\n",
       "            <td>Start-ups portuguesas batem recorde de investimento</td>\n",
       "            <td>José Rodrigues dos Santos</td>\n",
       "            <td>2025-07-04</td>\n",
       "        </tr>\n",
       "        <tr>\n",
       "            <td>7</td>\n",
       "            <td>17</td>\n",
       "            <td>2025-07-06</td>\n",
       "            <td>Fluminense vence Al-Hilal e homenageia Diogo Jota com minuto de silêncio</td>\n",
       "            <td>Rui Pedro Braz</td>\n",
       "            <td>2025-07-04</td>\n",
       "        </tr>\n",
       "        <tr>\n",
       "            <td>7</td>\n",
       "            <td>18</td>\n",
       "            <td>2025-07-06</td>\n",
       "            <td>Adepto português no Euro Feminino presta tributo a Diogo Jota em Berna</td>\n",
       "            <td>Rui Pedro Braz</td>\n",
       "            <td>2025-07-04</td>\n",
       "        </tr>\n",
       "        <tr>\n",
       "            <td>7</td>\n",
       "            <td>19</td>\n",
       "            <td>2025-07-06</td>\n",
       "            <td>Treinos do Mundial de Clubes arrancam com homenagem a Diogo Jota</td>\n",
       "            <td>Carlos Daniel</td>\n",
       "            <td>2025-07-04</td>\n",
       "        </tr>\n",
       "        <tr>\n",
       "            <td>7</td>\n",
       "            <td>9</td>\n",
       "            <td>2025-07-06</td>\n",
       "            <td>SNS recebe injecção adicional de 500 M€</td>\n",
       "            <td>Ricardo Costa</td>\n",
       "            <td>2025-07-05</td>\n",
       "        </tr>\n",
       "        <tr>\n",
       "            <td>7</td>\n",
       "            <td>10</td>\n",
       "            <td>2025-07-06</td>\n",
       "            <td>Seca extrema afecta 30 % do território nacional</td>\n",
       "            <td>Clara Ferreira Alves</td>\n",
       "            <td>2025-07-05</td>\n",
       "        </tr>\n",
       "        <tr>\n",
       "            <td>7</td>\n",
       "            <td>20</td>\n",
       "            <td>2025-07-06</td>\n",
       "            <td>Rúben Neves carrega o caixão no funeral emotivo de Diogo Jota</td>\n",
       "            <td>Rui Pedro Braz</td>\n",
       "            <td>2025-07-05</td>\n",
       "        </tr>\n",
       "        <tr>\n",
       "            <td>7</td>\n",
       "            <td>21</td>\n",
       "            <td>2025-07-06</td>\n",
       "            <td>Funeral de Diogo Jota reúne companheiros e dirigentes do futebol mundial</td>\n",
       "            <td>Carlos Daniel</td>\n",
       "            <td>2025-07-05</td>\n",
       "        </tr>\n",
       "        <tr>\n",
       "            <td>8</td>\n",
       "            <td>22</td>\n",
       "            <td>2025-07-13</td>\n",
       "            <td>Milhares despedem-se de Diogo Jota e André Silva no Porto</td>\n",
       "            <td>Rui Pedro Braz</td>\n",
       "            <td>2025-07-06</td>\n",
       "        </tr>\n",
       "        <tr>\n",
       "            <td>8</td>\n",
       "            <td>23</td>\n",
       "            <td>2025-07-13</td>\n",
       "            <td>Hamilton confia em pódio em Silverstone após qualificação com a Ferrari</td>\n",
       "            <td>Carlos Daniel</td>\n",
       "            <td>2025-07-06</td>\n",
       "        </tr>\n",
       "    </tbody>\n",
       "</table>"
      ],
      "text/plain": [
       "+--------------+--------------+----------------+--------------------------------------------------------------------------+---------------------------+--------------------+\n",
       "| ID da Edição | ID do Artigo | Data da Edição |                             Título do Artigo                             |         Jornalista        | Data de Publicação |\n",
       "+--------------+--------------+----------------+--------------------------------------------------------------------------+---------------------------+--------------------+\n",
       "|      2       |      11      |   2025-06-01   |                Debate parlamentar aquece sobre habitação                 | José Rodrigues dos Santos |     2025-05-30     |\n",
       "|      2       |      12      |   2025-06-01   |                 Reformas constitucionais em cima da mesa                 |        Ana Lourenço       |     2025-05-31     |\n",
       "|      3       |      13      |   2025-06-08   |              Presidente da República discursa sobre coesão               |   Fátima Campos Ferreira  |     2025-06-01     |\n",
       "|      3       |      14      |   2025-06-08   |            Bienal de Veneza: artistas portugueses em destaque            |    Clara Ferreira Alves   |     2025-06-01     |\n",
       "|      3       |      15      |   2025-06-08   |              Festa do Livro do Porto apresenta programação               |        Dina Aguiar        |     2025-06-01     |\n",
       "|      3       |      16      |   2025-06-08   |             Exposição retrospetiva de Paula Rego inaugurada              |    Clara Ferreira Alves   |     2025-06-01     |\n",
       "|      7       |      1       |   2025-07-06   |               Orçamento de Estado aprovado na generalidade               | José Rodrigues dos Santos |     2025-07-01     |\n",
       "|      7       |      2       |   2025-07-06   |           Festival de Teatro de Almada arranca com casa cheia            |    Clara Ferreira Alves   |     2025-07-01     |\n",
       "|      7       |      3       |   2025-07-06   |                  FC Porto contrata avançado brasileiro                   |       Rui Pedro Braz      |     2025-07-02     |\n",
       "|      7       |      4       |   2025-07-06   |           Eleições Europeias: o que está em jogo para Portugal           |        Ana Lourenço       |     2025-07-02     |\n",
       "|      7       |      5       |   2025-07-06   |                   Inflação abranda para 1,8 % em maio                    |       Ricardo Costa       |     2025-07-03     |\n",
       "|      7       |      6       |   2025-07-06   |               Programas sociais reforçam apoio a famílias                |   Fátima Campos Ferreira  |     2025-07-03     |\n",
       "|      7       |      7       |   2025-07-06   |              Cimeira da NATO discute novo modelo de defesa               |       Paulo Dentinho      |     2025-07-04     |\n",
       "|      7       |      8       |   2025-07-06   |           Start-ups portuguesas batem recorde de investimento            | José Rodrigues dos Santos |     2025-07-04     |\n",
       "|      7       |      17      |   2025-07-06   | Fluminense vence Al-Hilal e homenageia Diogo Jota com minuto de silêncio |       Rui Pedro Braz      |     2025-07-04     |\n",
       "|      7       |      18      |   2025-07-06   |  Adepto português no Euro Feminino presta tributo a Diogo Jota em Berna  |       Rui Pedro Braz      |     2025-07-04     |\n",
       "|      7       |      19      |   2025-07-06   |     Treinos do Mundial de Clubes arrancam com homenagem a Diogo Jota     |       Carlos Daniel       |     2025-07-04     |\n",
       "|      7       |      9       |   2025-07-06   |                 SNS recebe injecção adicional de 500 M€                  |       Ricardo Costa       |     2025-07-05     |\n",
       "|      7       |      10      |   2025-07-06   |             Seca extrema afecta 30 % do território nacional              |    Clara Ferreira Alves   |     2025-07-05     |\n",
       "|      7       |      20      |   2025-07-06   |      Rúben Neves carrega o caixão no funeral emotivo de Diogo Jota       |       Rui Pedro Braz      |     2025-07-05     |\n",
       "|      7       |      21      |   2025-07-06   | Funeral de Diogo Jota reúne companheiros e dirigentes do futebol mundial |       Carlos Daniel       |     2025-07-05     |\n",
       "|      8       |      22      |   2025-07-13   |        Milhares despedem-se de Diogo Jota e André Silva no Porto         |       Rui Pedro Braz      |     2025-07-06     |\n",
       "|      8       |      23      |   2025-07-13   | Hamilton confia em pódio em Silverstone após qualificação com a Ferrari  |       Carlos Daniel       |     2025-07-06     |\n",
       "+--------------+--------------+----------------+--------------------------------------------------------------------------+---------------------------+--------------------+"
      ]
     },
     "execution_count": 23,
     "metadata": {},
     "output_type": "execute_result"
    }
   ],
   "source": [
    "%%sql\n",
    "-- Consulta prévia antes da inserir os dados na tabela `artigo_edicao`\n",
    "SELECT\n",
    "    e.id_edicao       AS \"ID da Edição\",\n",
    "    a.id_artigo       AS \"ID do Artigo\",\n",
    "    e.data_edicao     AS \"Data da Edição\",\n",
    "    a.titulo          AS \"Título do Artigo\",\n",
    "    j.nome            AS \"Jornalista\",\n",
    "    a.data_publicacao AS \"Data de Publicação\"\n",
    "FROM edicao           AS e\n",
    "JOIN artigo           AS a\n",
    "    ON a.data_publicacao\n",
    "        BETWEEN DATE(e.data_edicao, '-7 days')  -- 7 dias antes (inclusive)\n",
    "            AND DATE(e.data_edicao, '-1 day')   -- 1 dia antes (inclusive)\n",
    "JOIN jornalista j     ON  a.id_jornalista = j.id_jornalista\n",
    "JOIN categoria  c     ON   a.id_categoria = c.id_categoria\n",
    "ORDER BY e.data_edicao, a.data_publicacao;"
   ]
  },
  {
   "cell_type": "code",
   "execution_count": 24,
   "id": "936974ac",
   "metadata": {},
   "outputs": [
    {
     "data": {
      "text/html": [
       "<span style=\"None\">Running query in &#x27;sqlite:///ficha_de_trabalho_01.sqlite&#x27;</span>"
      ],
      "text/plain": [
       "Running query in 'sqlite:///ficha_de_trabalho_01.sqlite'"
      ]
     },
     "metadata": {},
     "output_type": "display_data"
    },
    {
     "data": {
      "text/html": [
       "<span style=\"color: green\">23 rows affected.</span>"
      ],
      "text/plain": [
       "23 rows affected."
      ]
     },
     "metadata": {},
     "output_type": "display_data"
    },
    {
     "data": {
      "text/html": [
       "<table>\n",
       "    <thead>\n",
       "        <tr>\n",
       "        </tr>\n",
       "    </thead>\n",
       "    <tbody>\n",
       "    </tbody>\n",
       "</table>"
      ],
      "text/plain": [
       "++\n",
       "||\n",
       "++\n",
       "++"
      ]
     },
     "execution_count": 24,
     "metadata": {},
     "output_type": "execute_result"
    }
   ],
   "source": [
    "%%sql\n",
    "-- Relação: Many to Many entre `artigo` e `edicao`\n",
    "-- A tabela `artigo_edicao` associa artigos a edições, permitindo que um artigo possa aparecer \n",
    "-- em várias edições e uma edição possa conter vários artigos.\n",
    "\n",
    "-- Esta consulta insere os artigos publicados entre 7 dias antes e 1 dia antes de cada edição\n",
    "-- na tabela `artigo_edicao`, associando-os às edições correspondentes\n",
    "INSERT OR IGNORE INTO artigo_edicao (id_artigo, id_edicao)\n",
    "    SELECT\n",
    "        a.id_artigo,\n",
    "        e.id_edicao\n",
    "    FROM edicao AS e\n",
    "    JOIN artigo AS a\n",
    "    ON a.data_publicacao BETWEEN DATE(e.data_edicao, '-7 days') AND DATE(e.data_edicao, '-1 day');"
   ]
  },
  {
   "cell_type": "code",
   "execution_count": 25,
   "id": "53b6275c",
   "metadata": {},
   "outputs": [
    {
     "data": {
      "text/html": [
       "<span style=\"None\">Running query in &#x27;sqlite:///ficha_de_trabalho_01.sqlite&#x27;</span>"
      ],
      "text/plain": [
       "Running query in 'sqlite:///ficha_de_trabalho_01.sqlite'"
      ]
     },
     "metadata": {},
     "output_type": "display_data"
    },
    {
     "data": {
      "text/html": [
       "<table>\n",
       "    <thead>\n",
       "        <tr>\n",
       "            <th>id_edicao</th>\n",
       "            <th>data_edicao</th>\n",
       "            <th>artigos_atribuidos</th>\n",
       "        </tr>\n",
       "    </thead>\n",
       "    <tbody>\n",
       "        <tr>\n",
       "            <td>1</td>\n",
       "            <td>2025-05-25</td>\n",
       "            <td>0</td>\n",
       "        </tr>\n",
       "        <tr>\n",
       "            <td>2</td>\n",
       "            <td>2025-06-01</td>\n",
       "            <td>2</td>\n",
       "        </tr>\n",
       "        <tr>\n",
       "            <td>3</td>\n",
       "            <td>2025-06-08</td>\n",
       "            <td>4</td>\n",
       "        </tr>\n",
       "        <tr>\n",
       "            <td>4</td>\n",
       "            <td>2025-06-15</td>\n",
       "            <td>0</td>\n",
       "        </tr>\n",
       "        <tr>\n",
       "            <td>5</td>\n",
       "            <td>2025-06-22</td>\n",
       "            <td>0</td>\n",
       "        </tr>\n",
       "        <tr>\n",
       "            <td>6</td>\n",
       "            <td>2025-06-29</td>\n",
       "            <td>0</td>\n",
       "        </tr>\n",
       "        <tr>\n",
       "            <td>7</td>\n",
       "            <td>2025-07-06</td>\n",
       "            <td>15</td>\n",
       "        </tr>\n",
       "        <tr>\n",
       "            <td>8</td>\n",
       "            <td>2025-07-13</td>\n",
       "            <td>2</td>\n",
       "        </tr>\n",
       "        <tr>\n",
       "            <td>9</td>\n",
       "            <td>2025-07-20</td>\n",
       "            <td>0</td>\n",
       "        </tr>\n",
       "        <tr>\n",
       "            <td>10</td>\n",
       "            <td>2025-07-27</td>\n",
       "            <td>0</td>\n",
       "        </tr>\n",
       "        <tr>\n",
       "            <td>11</td>\n",
       "            <td>2025-08-03</td>\n",
       "            <td>0</td>\n",
       "        </tr>\n",
       "        <tr>\n",
       "            <td>12</td>\n",
       "            <td>2025-08-10</td>\n",
       "            <td>0</td>\n",
       "        </tr>\n",
       "        <tr>\n",
       "            <td>13</td>\n",
       "            <td>2025-08-17</td>\n",
       "            <td>0</td>\n",
       "        </tr>\n",
       "        <tr>\n",
       "            <td>14</td>\n",
       "            <td>2025-08-24</td>\n",
       "            <td>0</td>\n",
       "        </tr>\n",
       "        <tr>\n",
       "            <td>15</td>\n",
       "            <td>2025-08-31</td>\n",
       "            <td>0</td>\n",
       "        </tr>\n",
       "    </tbody>\n",
       "</table>"
      ],
      "text/plain": [
       "+-----------+-------------+--------------------+\n",
       "| id_edicao | data_edicao | artigos_atribuidos |\n",
       "+-----------+-------------+--------------------+\n",
       "|     1     |  2025-05-25 |         0          |\n",
       "|     2     |  2025-06-01 |         2          |\n",
       "|     3     |  2025-06-08 |         4          |\n",
       "|     4     |  2025-06-15 |         0          |\n",
       "|     5     |  2025-06-22 |         0          |\n",
       "|     6     |  2025-06-29 |         0          |\n",
       "|     7     |  2025-07-06 |         15         |\n",
       "|     8     |  2025-07-13 |         2          |\n",
       "|     9     |  2025-07-20 |         0          |\n",
       "|     10    |  2025-07-27 |         0          |\n",
       "|     11    |  2025-08-03 |         0          |\n",
       "|     12    |  2025-08-10 |         0          |\n",
       "|     13    |  2025-08-17 |         0          |\n",
       "|     14    |  2025-08-24 |         0          |\n",
       "|     15    |  2025-08-31 |         0          |\n",
       "+-----------+-------------+--------------------+"
      ]
     },
     "execution_count": 25,
     "metadata": {},
     "output_type": "execute_result"
    }
   ],
   "source": [
    "%%sql\n",
    "-- verificação após a inserção dos artigos+edicao na tabela `artigo_edicao`\n",
    "SELECT\n",
    "    e.id_edicao,\n",
    "    e.data_edicao,\n",
    "    COUNT(ae.id_artigo) AS artigos_atribuidos\n",
    "FROM edicao AS e\n",
    "LEFT JOIN artigo_edicao AS ae ON ae.id_edicao = e.id_edicao\n",
    "GROUP BY e.id_edicao, e.data_edicao\n",
    "ORDER BY e.data_edicao;"
   ]
  },
  {
   "cell_type": "markdown",
   "id": "81b70c4b",
   "metadata": {},
   "source": [
    "---\n",
    "---"
   ]
  },
  {
   "cell_type": "markdown",
   "id": "1900fca8",
   "metadata": {},
   "source": [
    "# 🔎 Parte 2: Consultas"
   ]
  },
  {
   "cell_type": "markdown",
   "id": "67d64511",
   "metadata": {},
   "source": [
    "## 1. Listar todos os artigos com nome do `jornalista` e `categoria`"
   ]
  },
  {
   "cell_type": "code",
   "execution_count": 26,
   "id": "8d770145",
   "metadata": {},
   "outputs": [
    {
     "data": {
      "text/html": [
       "<span style=\"None\">Running query in &#x27;sqlite:///ficha_de_trabalho_01.sqlite&#x27;</span>"
      ],
      "text/plain": [
       "Running query in 'sqlite:///ficha_de_trabalho_01.sqlite'"
      ]
     },
     "metadata": {},
     "output_type": "display_data"
    },
    {
     "data": {
      "text/html": [
       "<table>\n",
       "    <thead>\n",
       "        <tr>\n",
       "            <th>ID Artigo</th>\n",
       "            <th>Título</th>\n",
       "            <th>Data Publicação</th>\n",
       "            <th>Jornalista</th>\n",
       "            <th>Categoria</th>\n",
       "        </tr>\n",
       "    </thead>\n",
       "    <tbody>\n",
       "        <tr>\n",
       "            <td>11</td>\n",
       "            <td>Debate parlamentar aquece sobre habitação</td>\n",
       "            <td>2025-05-30</td>\n",
       "            <td>José Rodrigues dos Santos</td>\n",
       "            <td>Política</td>\n",
       "        </tr>\n",
       "        <tr>\n",
       "            <td>12</td>\n",
       "            <td>Reformas constitucionais em cima da mesa</td>\n",
       "            <td>2025-05-31</td>\n",
       "            <td>Ana Lourenço</td>\n",
       "            <td>Política</td>\n",
       "        </tr>\n",
       "        <tr>\n",
       "            <td>14</td>\n",
       "            <td>Bienal de Veneza: artistas portugueses em destaque</td>\n",
       "            <td>2025-06-01</td>\n",
       "            <td>Clara Ferreira Alves</td>\n",
       "            <td>Cultura</td>\n",
       "        </tr>\n",
       "        <tr>\n",
       "            <td>16</td>\n",
       "            <td>Exposição retrospetiva de Paula Rego inaugurada</td>\n",
       "            <td>2025-06-01</td>\n",
       "            <td>Clara Ferreira Alves</td>\n",
       "            <td>Cultura</td>\n",
       "        </tr>\n",
       "        <tr>\n",
       "            <td>15</td>\n",
       "            <td>Festa do Livro do Porto apresenta programação</td>\n",
       "            <td>2025-06-01</td>\n",
       "            <td>Dina Aguiar</td>\n",
       "            <td>Cultura</td>\n",
       "        </tr>\n",
       "        <tr>\n",
       "            <td>13</td>\n",
       "            <td>Presidente da República discursa sobre coesão</td>\n",
       "            <td>2025-06-01</td>\n",
       "            <td>Fátima Campos Ferreira</td>\n",
       "            <td>Política</td>\n",
       "        </tr>\n",
       "        <tr>\n",
       "            <td>2</td>\n",
       "            <td>Festival de Teatro de Almada arranca com casa cheia</td>\n",
       "            <td>2025-07-01</td>\n",
       "            <td>Clara Ferreira Alves</td>\n",
       "            <td>Cultura</td>\n",
       "        </tr>\n",
       "        <tr>\n",
       "            <td>1</td>\n",
       "            <td>Orçamento de Estado aprovado na generalidade</td>\n",
       "            <td>2025-07-01</td>\n",
       "            <td>José Rodrigues dos Santos</td>\n",
       "            <td>Política</td>\n",
       "        </tr>\n",
       "        <tr>\n",
       "            <td>4</td>\n",
       "            <td>Eleições Europeias: o que está em jogo para Portugal</td>\n",
       "            <td>2025-07-02</td>\n",
       "            <td>Ana Lourenço</td>\n",
       "            <td>Política</td>\n",
       "        </tr>\n",
       "        <tr>\n",
       "            <td>3</td>\n",
       "            <td>FC Porto contrata avançado brasileiro</td>\n",
       "            <td>2025-07-02</td>\n",
       "            <td>Rui Pedro Braz</td>\n",
       "            <td>Desporto</td>\n",
       "        </tr>\n",
       "        <tr>\n",
       "            <td>5</td>\n",
       "            <td>Inflação abranda para 1,8 % em maio</td>\n",
       "            <td>2025-07-03</td>\n",
       "            <td>Ricardo Costa</td>\n",
       "            <td>Economia</td>\n",
       "        </tr>\n",
       "        <tr>\n",
       "            <td>6</td>\n",
       "            <td>Programas sociais reforçam apoio a famílias</td>\n",
       "            <td>2025-07-03</td>\n",
       "            <td>Fátima Campos Ferreira</td>\n",
       "            <td>Sociedade</td>\n",
       "        </tr>\n",
       "        <tr>\n",
       "            <td>18</td>\n",
       "            <td>Adepto português no Euro Feminino presta tributo a Diogo Jota em Berna</td>\n",
       "            <td>2025-07-04</td>\n",
       "            <td>Rui Pedro Braz</td>\n",
       "            <td>Desporto</td>\n",
       "        </tr>\n",
       "        <tr>\n",
       "            <td>7</td>\n",
       "            <td>Cimeira da NATO discute novo modelo de defesa</td>\n",
       "            <td>2025-07-04</td>\n",
       "            <td>Paulo Dentinho</td>\n",
       "            <td>Internacional</td>\n",
       "        </tr>\n",
       "        <tr>\n",
       "            <td>17</td>\n",
       "            <td>Fluminense vence Al-Hilal e homenageia Diogo Jota com minuto de silêncio</td>\n",
       "            <td>2025-07-04</td>\n",
       "            <td>Rui Pedro Braz</td>\n",
       "            <td>Desporto</td>\n",
       "        </tr>\n",
       "        <tr>\n",
       "            <td>8</td>\n",
       "            <td>Start-ups portuguesas batem recorde de investimento</td>\n",
       "            <td>2025-07-04</td>\n",
       "            <td>José Rodrigues dos Santos</td>\n",
       "            <td>Tecnologia</td>\n",
       "        </tr>\n",
       "        <tr>\n",
       "            <td>19</td>\n",
       "            <td>Treinos do Mundial de Clubes arrancam com homenagem a Diogo Jota</td>\n",
       "            <td>2025-07-04</td>\n",
       "            <td>Carlos Daniel</td>\n",
       "            <td>Desporto</td>\n",
       "        </tr>\n",
       "        <tr>\n",
       "            <td>21</td>\n",
       "            <td>Funeral de Diogo Jota reúne companheiros e dirigentes do futebol mundial</td>\n",
       "            <td>2025-07-05</td>\n",
       "            <td>Carlos Daniel</td>\n",
       "            <td>Desporto</td>\n",
       "        </tr>\n",
       "        <tr>\n",
       "            <td>20</td>\n",
       "            <td>Rúben Neves carrega o caixão no funeral emotivo de Diogo Jota</td>\n",
       "            <td>2025-07-05</td>\n",
       "            <td>Rui Pedro Braz</td>\n",
       "            <td>Desporto</td>\n",
       "        </tr>\n",
       "        <tr>\n",
       "            <td>9</td>\n",
       "            <td>SNS recebe injecção adicional de 500 M€</td>\n",
       "            <td>2025-07-05</td>\n",
       "            <td>Ricardo Costa</td>\n",
       "            <td>Saúde</td>\n",
       "        </tr>\n",
       "        <tr>\n",
       "            <td>10</td>\n",
       "            <td>Seca extrema afecta 30 % do território nacional</td>\n",
       "            <td>2025-07-05</td>\n",
       "            <td>Clara Ferreira Alves</td>\n",
       "            <td>Ambiente</td>\n",
       "        </tr>\n",
       "        <tr>\n",
       "            <td>23</td>\n",
       "            <td>Hamilton confia em pódio em Silverstone após qualificação com a Ferrari</td>\n",
       "            <td>2025-07-06</td>\n",
       "            <td>Carlos Daniel</td>\n",
       "            <td>Desporto</td>\n",
       "        </tr>\n",
       "        <tr>\n",
       "            <td>22</td>\n",
       "            <td>Milhares despedem-se de Diogo Jota e André Silva no Porto</td>\n",
       "            <td>2025-07-06</td>\n",
       "            <td>Rui Pedro Braz</td>\n",
       "            <td>Desporto</td>\n",
       "        </tr>\n",
       "    </tbody>\n",
       "</table>"
      ],
      "text/plain": [
       "+-----------+--------------------------------------------------------------------------+-----------------+---------------------------+---------------+\n",
       "| ID Artigo |                                  Título                                  | Data Publicação |         Jornalista        |   Categoria   |\n",
       "+-----------+--------------------------------------------------------------------------+-----------------+---------------------------+---------------+\n",
       "|     11    |                Debate parlamentar aquece sobre habitação                 |    2025-05-30   | José Rodrigues dos Santos |    Política   |\n",
       "|     12    |                 Reformas constitucionais em cima da mesa                 |    2025-05-31   |        Ana Lourenço       |    Política   |\n",
       "|     14    |            Bienal de Veneza: artistas portugueses em destaque            |    2025-06-01   |    Clara Ferreira Alves   |    Cultura    |\n",
       "|     16    |             Exposição retrospetiva de Paula Rego inaugurada              |    2025-06-01   |    Clara Ferreira Alves   |    Cultura    |\n",
       "|     15    |              Festa do Livro do Porto apresenta programação               |    2025-06-01   |        Dina Aguiar        |    Cultura    |\n",
       "|     13    |              Presidente da República discursa sobre coesão               |    2025-06-01   |   Fátima Campos Ferreira  |    Política   |\n",
       "|     2     |           Festival de Teatro de Almada arranca com casa cheia            |    2025-07-01   |    Clara Ferreira Alves   |    Cultura    |\n",
       "|     1     |               Orçamento de Estado aprovado na generalidade               |    2025-07-01   | José Rodrigues dos Santos |    Política   |\n",
       "|     4     |           Eleições Europeias: o que está em jogo para Portugal           |    2025-07-02   |        Ana Lourenço       |    Política   |\n",
       "|     3     |                  FC Porto contrata avançado brasileiro                   |    2025-07-02   |       Rui Pedro Braz      |    Desporto   |\n",
       "|     5     |                   Inflação abranda para 1,8 % em maio                    |    2025-07-03   |       Ricardo Costa       |    Economia   |\n",
       "|     6     |               Programas sociais reforçam apoio a famílias                |    2025-07-03   |   Fátima Campos Ferreira  |   Sociedade   |\n",
       "|     18    |  Adepto português no Euro Feminino presta tributo a Diogo Jota em Berna  |    2025-07-04   |       Rui Pedro Braz      |    Desporto   |\n",
       "|     7     |              Cimeira da NATO discute novo modelo de defesa               |    2025-07-04   |       Paulo Dentinho      | Internacional |\n",
       "|     17    | Fluminense vence Al-Hilal e homenageia Diogo Jota com minuto de silêncio |    2025-07-04   |       Rui Pedro Braz      |    Desporto   |\n",
       "|     8     |           Start-ups portuguesas batem recorde de investimento            |    2025-07-04   | José Rodrigues dos Santos |   Tecnologia  |\n",
       "|     19    |     Treinos do Mundial de Clubes arrancam com homenagem a Diogo Jota     |    2025-07-04   |       Carlos Daniel       |    Desporto   |\n",
       "|     21    | Funeral de Diogo Jota reúne companheiros e dirigentes do futebol mundial |    2025-07-05   |       Carlos Daniel       |    Desporto   |\n",
       "|     20    |      Rúben Neves carrega o caixão no funeral emotivo de Diogo Jota       |    2025-07-05   |       Rui Pedro Braz      |    Desporto   |\n",
       "|     9     |                 SNS recebe injecção adicional de 500 M€                  |    2025-07-05   |       Ricardo Costa       |     Saúde     |\n",
       "|     10    |             Seca extrema afecta 30 % do território nacional              |    2025-07-05   |    Clara Ferreira Alves   |    Ambiente   |\n",
       "|     23    | Hamilton confia em pódio em Silverstone após qualificação com a Ferrari  |    2025-07-06   |       Carlos Daniel       |    Desporto   |\n",
       "|     22    |        Milhares despedem-se de Diogo Jota e André Silva no Porto         |    2025-07-06   |       Rui Pedro Braz      |    Desporto   |\n",
       "+-----------+--------------------------------------------------------------------------+-----------------+---------------------------+---------------+"
      ]
     },
     "execution_count": 26,
     "metadata": {},
     "output_type": "execute_result"
    }
   ],
   "source": [
    "%%sql\n",
    "-- Listar todos os artigos com nome do jornalista e categoria\n",
    "-- Legenda:\n",
    "-- a: artigo\n",
    "-- j: jornalista\n",
    "-- c: categoria\n",
    "SELECT\n",
    "    a.id_artigo        AS \"ID Artigo\",\n",
    "    a.titulo           AS \"Título\",\n",
    "    a.data_publicacao  AS \"Data Publicação\",\n",
    "    j.nome             AS \"Jornalista\",\n",
    "    c.nome             AS \"Categoria\"\n",
    "FROM artigo a\n",
    "JOIN jornalista j      ON j.id_jornalista = a.id_jornalista\n",
    "JOIN categoria  c      ON c.id_categoria  = a.id_categoria\n",
    "ORDER BY a.data_publicacao, a.titulo;"
   ]
  },
  {
   "cell_type": "markdown",
   "id": "3cf2f342",
   "metadata": {},
   "source": [
    "---"
   ]
  },
  {
   "cell_type": "markdown",
   "id": "c3a88d50",
   "metadata": {},
   "source": [
    "## 2. Listar os títulos de todos os artigos publicados a **01-Jun-2025**  "
   ]
  },
  {
   "cell_type": "code",
   "execution_count": 27,
   "id": "3051c1be",
   "metadata": {},
   "outputs": [
    {
     "data": {
      "text/html": [
       "<span style=\"None\">Running query in &#x27;sqlite:///ficha_de_trabalho_01.sqlite&#x27;</span>"
      ],
      "text/plain": [
       "Running query in 'sqlite:///ficha_de_trabalho_01.sqlite'"
      ]
     },
     "metadata": {},
     "output_type": "display_data"
    },
    {
     "data": {
      "text/html": [
       "<table>\n",
       "    <thead>\n",
       "        <tr>\n",
       "            <th>Título do artigo</th>\n",
       "        </tr>\n",
       "    </thead>\n",
       "    <tbody>\n",
       "        <tr>\n",
       "            <td>Presidente da República discursa sobre coesão</td>\n",
       "        </tr>\n",
       "        <tr>\n",
       "            <td>Bienal de Veneza: artistas portugueses em destaque</td>\n",
       "        </tr>\n",
       "        <tr>\n",
       "            <td>Festa do Livro do Porto apresenta programação</td>\n",
       "        </tr>\n",
       "        <tr>\n",
       "            <td>Exposição retrospetiva de Paula Rego inaugurada</td>\n",
       "        </tr>\n",
       "    </tbody>\n",
       "</table>"
      ],
      "text/plain": [
       "+----------------------------------------------------+\n",
       "|                  Título do artigo                  |\n",
       "+----------------------------------------------------+\n",
       "|   Presidente da República discursa sobre coesão    |\n",
       "| Bienal de Veneza: artistas portugueses em destaque |\n",
       "|   Festa do Livro do Porto apresenta programação    |\n",
       "|  Exposição retrospetiva de Paula Rego inaugurada   |\n",
       "+----------------------------------------------------+"
      ]
     },
     "execution_count": 27,
     "metadata": {},
     "output_type": "execute_result"
    }
   ],
   "source": [
    "%%sql\n",
    "-- listar os títulos de todos os artigos publicados a 01-Jun-2025\n",
    "SELECT titulo AS \"Título do artigo\"\n",
    "FROM artigo\n",
    "WHERE data_publicacao = '2025-06-01';"
   ]
  },
  {
   "cell_type": "markdown",
   "id": "a6c7e970",
   "metadata": {},
   "source": [
    "**Extra**: Mostrar o título do artigo e o nome do jornalista"
   ]
  },
  {
   "cell_type": "code",
   "execution_count": 28,
   "id": "30a13166",
   "metadata": {},
   "outputs": [
    {
     "data": {
      "text/html": [
       "<span style=\"None\">Running query in &#x27;sqlite:///ficha_de_trabalho_01.sqlite&#x27;</span>"
      ],
      "text/plain": [
       "Running query in 'sqlite:///ficha_de_trabalho_01.sqlite'"
      ]
     },
     "metadata": {},
     "output_type": "display_data"
    },
    {
     "data": {
      "text/html": [
       "<table>\n",
       "    <thead>\n",
       "        <tr>\n",
       "            <th>titulo</th>\n",
       "            <th>jornalista</th>\n",
       "            <th>categoria</th>\n",
       "        </tr>\n",
       "    </thead>\n",
       "    <tbody>\n",
       "        <tr>\n",
       "            <td>Presidente da República discursa sobre coesão</td>\n",
       "            <td>Fátima Campos Ferreira</td>\n",
       "            <td>Política</td>\n",
       "        </tr>\n",
       "        <tr>\n",
       "            <td>Bienal de Veneza: artistas portugueses em destaque</td>\n",
       "            <td>Clara Ferreira Alves</td>\n",
       "            <td>Cultura</td>\n",
       "        </tr>\n",
       "        <tr>\n",
       "            <td>Festa do Livro do Porto apresenta programação</td>\n",
       "            <td>Dina Aguiar</td>\n",
       "            <td>Cultura</td>\n",
       "        </tr>\n",
       "        <tr>\n",
       "            <td>Exposição retrospetiva de Paula Rego inaugurada</td>\n",
       "            <td>Clara Ferreira Alves</td>\n",
       "            <td>Cultura</td>\n",
       "        </tr>\n",
       "    </tbody>\n",
       "</table>"
      ],
      "text/plain": [
       "+----------------------------------------------------+------------------------+-----------+\n",
       "|                       titulo                       |       jornalista       | categoria |\n",
       "+----------------------------------------------------+------------------------+-----------+\n",
       "|   Presidente da República discursa sobre coesão    | Fátima Campos Ferreira |  Política |\n",
       "| Bienal de Veneza: artistas portugueses em destaque |  Clara Ferreira Alves  |  Cultura  |\n",
       "|   Festa do Livro do Porto apresenta programação    |      Dina Aguiar       |  Cultura  |\n",
       "|  Exposição retrospetiva de Paula Rego inaugurada   |  Clara Ferreira Alves  |  Cultura  |\n",
       "+----------------------------------------------------+------------------------+-----------+"
      ]
     },
     "execution_count": 28,
     "metadata": {},
     "output_type": "execute_result"
    }
   ],
   "source": [
    "%%sql\n",
    "SELECT a.titulo, j.nome AS jornalista, c.nome AS categoria\n",
    "FROM artigo a\n",
    "JOIN jornalista j ON j.id_jornalista = a.id_jornalista\n",
    "JOIN categoria  c ON c.id_categoria  = a.id_categoria\n",
    "WHERE a.data_publicacao = '2025-06-01';"
   ]
  },
  {
   "cell_type": "markdown",
   "id": "8126b9c4",
   "metadata": {},
   "source": [
    "---"
   ]
  },
  {
   "cell_type": "markdown",
   "id": "b80185ba",
   "metadata": {},
   "source": [
    "## 3. Mostrar o número total de artigos por categoria"
   ]
  },
  {
   "cell_type": "code",
   "execution_count": 29,
   "id": "93712a9e",
   "metadata": {},
   "outputs": [
    {
     "data": {
      "text/html": [
       "<span style=\"None\">Running query in &#x27;sqlite:///ficha_de_trabalho_01.sqlite&#x27;</span>"
      ],
      "text/plain": [
       "Running query in 'sqlite:///ficha_de_trabalho_01.sqlite'"
      ]
     },
     "metadata": {},
     "output_type": "display_data"
    },
    {
     "data": {
      "text/html": [
       "<table>\n",
       "    <thead>\n",
       "        <tr>\n",
       "            <th>Categoria</th>\n",
       "            <th>Total de artigos</th>\n",
       "        </tr>\n",
       "    </thead>\n",
       "    <tbody>\n",
       "        <tr>\n",
       "            <td>Desporto</td>\n",
       "            <td>8</td>\n",
       "        </tr>\n",
       "        <tr>\n",
       "            <td>Política</td>\n",
       "            <td>5</td>\n",
       "        </tr>\n",
       "        <tr>\n",
       "            <td>Cultura</td>\n",
       "            <td>4</td>\n",
       "        </tr>\n",
       "        <tr>\n",
       "            <td>Tecnologia</td>\n",
       "            <td>1</td>\n",
       "        </tr>\n",
       "        <tr>\n",
       "            <td>Sociedade</td>\n",
       "            <td>1</td>\n",
       "        </tr>\n",
       "        <tr>\n",
       "            <td>Saúde</td>\n",
       "            <td>1</td>\n",
       "        </tr>\n",
       "        <tr>\n",
       "            <td>Internacional</td>\n",
       "            <td>1</td>\n",
       "        </tr>\n",
       "        <tr>\n",
       "            <td>Economia</td>\n",
       "            <td>1</td>\n",
       "        </tr>\n",
       "        <tr>\n",
       "            <td>Ambiente</td>\n",
       "            <td>1</td>\n",
       "        </tr>\n",
       "    </tbody>\n",
       "</table>"
      ],
      "text/plain": [
       "+---------------+------------------+\n",
       "|   Categoria   | Total de artigos |\n",
       "+---------------+------------------+\n",
       "|    Desporto   |        8         |\n",
       "|    Política   |        5         |\n",
       "|    Cultura    |        4         |\n",
       "|   Tecnologia  |        1         |\n",
       "|   Sociedade   |        1         |\n",
       "|     Saúde     |        1         |\n",
       "| Internacional |        1         |\n",
       "|    Economia   |        1         |\n",
       "|    Ambiente   |        1         |\n",
       "+---------------+------------------+"
      ]
     },
     "execution_count": 29,
     "metadata": {},
     "output_type": "execute_result"
    }
   ],
   "source": [
    "%%sql\n",
    "-- mostrar o número total de artigos por categoria\n",
    "SELECT\n",
    "    c.nome       AS \"Categoria\",\n",
    "    COUNT(*)     AS \"Total de artigos\"\n",
    "FROM artigo a\n",
    "JOIN categoria c ON c.id_categoria = a.id_categoria\n",
    "GROUP BY c.nome -- agrupar por categoria e depois contar o número de artigos\n",
    "ORDER BY \"Total de artigos\" DESC;"
   ]
  },
  {
   "cell_type": "markdown",
   "id": "3f9f3023",
   "metadata": {},
   "source": [
    "---"
   ]
  },
  {
   "cell_type": "markdown",
   "id": "77779145",
   "metadata": {},
   "source": [
    "## 4. Mostrar os jornalistas que publicaram mais de 2 artigos mas em meses diferentes  "
   ]
  },
  {
   "cell_type": "code",
   "execution_count": 30,
   "id": "7bc1a52d",
   "metadata": {},
   "outputs": [
    {
     "data": {
      "text/html": [
       "<span style=\"None\">Running query in &#x27;sqlite:///ficha_de_trabalho_01.sqlite&#x27;</span>"
      ],
      "text/plain": [
       "Running query in 'sqlite:///ficha_de_trabalho_01.sqlite'"
      ]
     },
     "metadata": {},
     "output_type": "display_data"
    },
    {
     "data": {
      "text/html": [
       "<table>\n",
       "    <thead>\n",
       "        <tr>\n",
       "            <th>Jornalista</th>\n",
       "            <th>Ano-Mês</th>\n",
       "            <th>Total de artigos</th>\n",
       "        </tr>\n",
       "    </thead>\n",
       "    <tbody>\n",
       "        <tr>\n",
       "            <td>Rui Pedro Braz</td>\n",
       "            <td>2025-07</td>\n",
       "            <td>5</td>\n",
       "        </tr>\n",
       "        <tr>\n",
       "            <td>Carlos Daniel</td>\n",
       "            <td>2025-07</td>\n",
       "            <td>3</td>\n",
       "        </tr>\n",
       "        <tr>\n",
       "            <td>Clara Ferreira Alves</td>\n",
       "            <td>2025-06</td>\n",
       "            <td>2</td>\n",
       "        </tr>\n",
       "        <tr>\n",
       "            <td>Clara Ferreira Alves</td>\n",
       "            <td>2025-07</td>\n",
       "            <td>2</td>\n",
       "        </tr>\n",
       "        <tr>\n",
       "            <td>José Rodrigues dos Santos</td>\n",
       "            <td>2025-07</td>\n",
       "            <td>2</td>\n",
       "        </tr>\n",
       "        <tr>\n",
       "            <td>Ricardo Costa</td>\n",
       "            <td>2025-07</td>\n",
       "            <td>2</td>\n",
       "        </tr>\n",
       "        <tr>\n",
       "            <td>Ana Lourenço</td>\n",
       "            <td>2025-05</td>\n",
       "            <td>1</td>\n",
       "        </tr>\n",
       "        <tr>\n",
       "            <td>Ana Lourenço</td>\n",
       "            <td>2025-07</td>\n",
       "            <td>1</td>\n",
       "        </tr>\n",
       "        <tr>\n",
       "            <td>Dina Aguiar</td>\n",
       "            <td>2025-06</td>\n",
       "            <td>1</td>\n",
       "        </tr>\n",
       "        <tr>\n",
       "            <td>Fátima Campos Ferreira</td>\n",
       "            <td>2025-06</td>\n",
       "            <td>1</td>\n",
       "        </tr>\n",
       "        <tr>\n",
       "            <td>Fátima Campos Ferreira</td>\n",
       "            <td>2025-07</td>\n",
       "            <td>1</td>\n",
       "        </tr>\n",
       "        <tr>\n",
       "            <td>José Rodrigues dos Santos</td>\n",
       "            <td>2025-05</td>\n",
       "            <td>1</td>\n",
       "        </tr>\n",
       "        <tr>\n",
       "            <td>Paulo Dentinho</td>\n",
       "            <td>2025-07</td>\n",
       "            <td>1</td>\n",
       "        </tr>\n",
       "    </tbody>\n",
       "</table>"
      ],
      "text/plain": [
       "+---------------------------+---------+------------------+\n",
       "|         Jornalista        | Ano-Mês | Total de artigos |\n",
       "+---------------------------+---------+------------------+\n",
       "|       Rui Pedro Braz      | 2025-07 |        5         |\n",
       "|       Carlos Daniel       | 2025-07 |        3         |\n",
       "|    Clara Ferreira Alves   | 2025-06 |        2         |\n",
       "|    Clara Ferreira Alves   | 2025-07 |        2         |\n",
       "| José Rodrigues dos Santos | 2025-07 |        2         |\n",
       "|       Ricardo Costa       | 2025-07 |        2         |\n",
       "|        Ana Lourenço       | 2025-05 |        1         |\n",
       "|        Ana Lourenço       | 2025-07 |        1         |\n",
       "|        Dina Aguiar        | 2025-06 |        1         |\n",
       "|   Fátima Campos Ferreira  | 2025-06 |        1         |\n",
       "|   Fátima Campos Ferreira  | 2025-07 |        1         |\n",
       "| José Rodrigues dos Santos | 2025-05 |        1         |\n",
       "|       Paulo Dentinho      | 2025-07 |        1         |\n",
       "+---------------------------+---------+------------------+"
      ]
     },
     "execution_count": 30,
     "metadata": {},
     "output_type": "execute_result"
    }
   ],
   "source": [
    "%%sql\n",
    "-- análise prévia » usando strtime para criar campo temporário de ano e mês\n",
    "SELECT\n",
    "    j.nome AS \"Jornalista\",\n",
    "    strftime('%Y-%m', a.data_publicacao) AS \"Ano-Mês\",\n",
    "    COUNT(*) AS \"Total de artigos\"\n",
    "FROM artigo a\n",
    "JOIN jornalista j ON j.id_jornalista = a.id_jornalista\n",
    "GROUP BY j.nome, \"Ano-Mês\"\n",
    "ORDER BY \"Total de artigos\" DESC, j.nome, \"Ano-Mês\";"
   ]
  },
  {
   "cell_type": "code",
   "execution_count": 31,
   "id": "ad9d09b6",
   "metadata": {},
   "outputs": [
    {
     "data": {
      "text/html": [
       "<span style=\"None\">Running query in &#x27;sqlite:///ficha_de_trabalho_01.sqlite&#x27;</span>"
      ],
      "text/plain": [
       "Running query in 'sqlite:///ficha_de_trabalho_01.sqlite'"
      ]
     },
     "metadata": {},
     "output_type": "display_data"
    },
    {
     "data": {
      "text/html": [
       "<table>\n",
       "    <thead>\n",
       "        <tr>\n",
       "            <th>id</th>\n",
       "            <th>Jornalista</th>\n",
       "            <th>Ano-Mês</th>\n",
       "            <th>Total de artigos</th>\n",
       "        </tr>\n",
       "    </thead>\n",
       "    <tbody>\n",
       "        <tr>\n",
       "            <td>2</td>\n",
       "            <td>Clara Ferreira Alves</td>\n",
       "            <td>2</td>\n",
       "            <td>4</td>\n",
       "        </tr>\n",
       "        <tr>\n",
       "            <td>1</td>\n",
       "            <td>José Rodrigues dos Santos</td>\n",
       "            <td>2</td>\n",
       "            <td>3</td>\n",
       "        </tr>\n",
       "    </tbody>\n",
       "</table>"
      ],
      "text/plain": [
       "+----+---------------------------+---------+------------------+\n",
       "| id |         Jornalista        | Ano-Mês | Total de artigos |\n",
       "+----+---------------------------+---------+------------------+\n",
       "| 2  |    Clara Ferreira Alves   |    2    |        4         |\n",
       "| 1  | José Rodrigues dos Santos |    2    |        3         |\n",
       "+----+---------------------------+---------+------------------+"
      ]
     },
     "execution_count": 31,
     "metadata": {},
     "output_type": "execute_result"
    }
   ],
   "source": [
    "%%sql\n",
    "-- análise prévia » usando strtime para criar campo temporário de ano e mês\n",
    "SELECT\n",
    "    j.id_jornalista AS id, j.nome AS \"Jornalista\",\n",
    "    COUNT(DISTINCT strftime('%Y-%m', a.data_publicacao)) AS \"Ano-Mês\",\n",
    "    COUNT(*) AS \"Total de artigos\"\n",
    "FROM artigo a\n",
    "JOIN jornalista j ON j.id_jornalista = a.id_jornalista\n",
    "GROUP BY j.nome\n",
    "HAVING \"Total de artigos\" > 2 AND \"Ano-Mês\" > 1;"
   ]
  },
  {
   "cell_type": "code",
   "execution_count": 32,
   "id": "9230e3a5",
   "metadata": {},
   "outputs": [
    {
     "data": {
      "text/html": [
       "<span style=\"None\">Running query in &#x27;sqlite:///ficha_de_trabalho_01.sqlite&#x27;</span>"
      ],
      "text/plain": [
       "Running query in 'sqlite:///ficha_de_trabalho_01.sqlite'"
      ]
     },
     "metadata": {},
     "output_type": "display_data"
    },
    {
     "data": {
      "text/html": [
       "<table>\n",
       "    <thead>\n",
       "        <tr>\n",
       "            <th>ID Artigo</th>\n",
       "            <th>Título</th>\n",
       "            <th>Data Publicação</th>\n",
       "            <th>Jornalista</th>\n",
       "            <th>Categoria</th>\n",
       "        </tr>\n",
       "    </thead>\n",
       "    <tbody>\n",
       "        <tr>\n",
       "            <td>2</td>\n",
       "            <td>Festival de Teatro de Almada arranca com casa cheia</td>\n",
       "            <td>2025-07-01</td>\n",
       "            <td>Clara Ferreira Alves</td>\n",
       "            <td>Cultura</td>\n",
       "        </tr>\n",
       "        <tr>\n",
       "            <td>10</td>\n",
       "            <td>Seca extrema afecta 30 % do território nacional</td>\n",
       "            <td>2025-07-05</td>\n",
       "            <td>Clara Ferreira Alves</td>\n",
       "            <td>Ambiente</td>\n",
       "        </tr>\n",
       "        <tr>\n",
       "            <td>14</td>\n",
       "            <td>Bienal de Veneza: artistas portugueses em destaque</td>\n",
       "            <td>2025-06-01</td>\n",
       "            <td>Clara Ferreira Alves</td>\n",
       "            <td>Cultura</td>\n",
       "        </tr>\n",
       "        <tr>\n",
       "            <td>16</td>\n",
       "            <td>Exposição retrospetiva de Paula Rego inaugurada</td>\n",
       "            <td>2025-06-01</td>\n",
       "            <td>Clara Ferreira Alves</td>\n",
       "            <td>Cultura</td>\n",
       "        </tr>\n",
       "    </tbody>\n",
       "</table>"
      ],
      "text/plain": [
       "+-----------+-----------------------------------------------------+-----------------+----------------------+-----------+\n",
       "| ID Artigo |                        Título                       | Data Publicação |      Jornalista      | Categoria |\n",
       "+-----------+-----------------------------------------------------+-----------------+----------------------+-----------+\n",
       "|     2     | Festival de Teatro de Almada arranca com casa cheia |    2025-07-01   | Clara Ferreira Alves |  Cultura  |\n",
       "|     10    |   Seca extrema afecta 30 % do território nacional   |    2025-07-05   | Clara Ferreira Alves |  Ambiente |\n",
       "|     14    |  Bienal de Veneza: artistas portugueses em destaque |    2025-06-01   | Clara Ferreira Alves |  Cultura  |\n",
       "|     16    |   Exposição retrospetiva de Paula Rego inaugurada   |    2025-06-01   | Clara Ferreira Alves |  Cultura  |\n",
       "+-----------+-----------------------------------------------------+-----------------+----------------------+-----------+"
      ]
     },
     "execution_count": 32,
     "metadata": {},
     "output_type": "execute_result"
    }
   ],
   "source": [
    "%%sql\n",
    "-- confirmação que o jornalista id=2 publicou mais de 2 artigos em meses diferentes - listar todos os artigos deste id\n",
    "SELECT\n",
    "    a.id_artigo AS \"ID Artigo\",\n",
    "    a.titulo AS \"Título\",\n",
    "    a.data_publicacao AS \"Data Publicação\",\n",
    "    j.nome AS \"Jornalista\",\n",
    "    c.nome AS \"Categoria\"\n",
    "\n",
    "FROM artigo a\n",
    "JOIN categoria c ON c.id_categoria = a.id_categoria\n",
    "JOIN jornalista j ON j.id_jornalista = a.id_jornalista\n",
    "WHERE j.id_jornalista = 2"
   ]
  },
  {
   "cell_type": "markdown",
   "id": "b7de88c1",
   "metadata": {},
   "source": [
    "---"
   ]
  },
  {
   "cell_type": "markdown",
   "id": "80cfe4ba",
   "metadata": {},
   "source": [
    "## 5. Mostrar os artigos ainda não associados a nenhuma edição"
   ]
  },
  {
   "cell_type": "code",
   "execution_count": 33,
   "id": "5a47d08b",
   "metadata": {},
   "outputs": [
    {
     "data": {
      "text/html": [
       "<span style=\"None\">Running query in &#x27;sqlite:///ficha_de_trabalho_01.sqlite&#x27;</span>"
      ],
      "text/plain": [
       "Running query in 'sqlite:///ficha_de_trabalho_01.sqlite'"
      ]
     },
     "metadata": {},
     "output_type": "display_data"
    },
    {
     "data": {
      "text/html": [
       "<span style=\"color: green\">1 rows affected.</span>"
      ],
      "text/plain": [
       "1 rows affected."
      ]
     },
     "metadata": {},
     "output_type": "display_data"
    },
    {
     "data": {
      "text/html": [
       "<table>\n",
       "    <thead>\n",
       "        <tr>\n",
       "        </tr>\n",
       "    </thead>\n",
       "    <tbody>\n",
       "    </tbody>\n",
       "</table>"
      ],
      "text/plain": [
       "++\n",
       "||\n",
       "++\n",
       "++"
      ]
     },
     "execution_count": 33,
     "metadata": {},
     "output_type": "execute_result"
    }
   ],
   "source": [
    "%%sql\n",
    "-- inserção de artigo adicional para poder testar a consulta\n",
    "INSERT INTO artigo (titulo, data_publicacao, id_jornalista, id_categoria) VALUES    \n",
    "    ('Artigo de teste para consulta', '2025-07-07', 2, 2);"
   ]
  },
  {
   "cell_type": "code",
   "execution_count": 34,
   "id": "39d978ac",
   "metadata": {},
   "outputs": [
    {
     "data": {
      "text/html": [
       "<span style=\"None\">Running query in &#x27;sqlite:///ficha_de_trabalho_01.sqlite&#x27;</span>"
      ],
      "text/plain": [
       "Running query in 'sqlite:///ficha_de_trabalho_01.sqlite'"
      ]
     },
     "metadata": {},
     "output_type": "display_data"
    },
    {
     "data": {
      "text/html": [
       "<table>\n",
       "    <thead>\n",
       "        <tr>\n",
       "            <th>ID Artigo</th>\n",
       "            <th>Título</th>\n",
       "            <th>Data Publicação</th>\n",
       "            <th>Jornalista</th>\n",
       "            <th>Categoria</th>\n",
       "        </tr>\n",
       "    </thead>\n",
       "    <tbody>\n",
       "        <tr>\n",
       "            <td>24</td>\n",
       "            <td>Artigo de teste para consulta</td>\n",
       "            <td>2025-07-07</td>\n",
       "            <td>Clara Ferreira Alves</td>\n",
       "            <td>Cultura</td>\n",
       "        </tr>\n",
       "    </tbody>\n",
       "</table>"
      ],
      "text/plain": [
       "+-----------+-------------------------------+-----------------+----------------------+-----------+\n",
       "| ID Artigo |             Título            | Data Publicação |      Jornalista      | Categoria |\n",
       "+-----------+-------------------------------+-----------------+----------------------+-----------+\n",
       "|     24    | Artigo de teste para consulta |    2025-07-07   | Clara Ferreira Alves |  Cultura  |\n",
       "+-----------+-------------------------------+-----------------+----------------------+-----------+"
      ]
     },
     "execution_count": 34,
     "metadata": {},
     "output_type": "execute_result"
    }
   ],
   "source": [
    "%%sql\n",
    "SELECT\n",
    "    a.id_artigo          AS \"ID Artigo\",\n",
    "    a.titulo             AS \"Título\",\n",
    "    a.data_publicacao    AS \"Data Publicação\",\n",
    "    j.nome               AS \"Jornalista\",\n",
    "    c.nome               AS \"Categoria\"\n",
    "FROM artigo a\n",
    "JOIN jornalista j          ON j.id_jornalista = a.id_jornalista\n",
    "JOIN categoria  c          ON c.id_categoria  = a.id_categoria\n",
    "LEFT JOIN artigo_edicao ae ON ae.id_artigo    = a.id_artigo     -- PS Não funciona sem o LEFT JOIN\n",
    "WHERE ae.id_edicao IS NULL\n",
    "ORDER BY a.data_publicacao;\n"
   ]
  },
  {
   "cell_type": "markdown",
   "id": "845a3a4a",
   "metadata": {},
   "source": [
    "---"
   ]
  },
  {
   "cell_type": "markdown",
   "id": "917637ed",
   "metadata": {},
   "source": [
    "## 6. Listar as categorias com mais de um artigo publicado"
   ]
  },
  {
   "cell_type": "code",
   "execution_count": 35,
   "id": "e768d353",
   "metadata": {},
   "outputs": [
    {
     "data": {
      "text/html": [
       "<span style=\"None\">Running query in &#x27;sqlite:///ficha_de_trabalho_01.sqlite&#x27;</span>"
      ],
      "text/plain": [
       "Running query in 'sqlite:///ficha_de_trabalho_01.sqlite'"
      ]
     },
     "metadata": {},
     "output_type": "display_data"
    },
    {
     "data": {
      "text/html": [
       "<table>\n",
       "    <thead>\n",
       "        <tr>\n",
       "            <th>Categoria</th>\n",
       "            <th>Total de artigos</th>\n",
       "        </tr>\n",
       "    </thead>\n",
       "    <tbody>\n",
       "        <tr>\n",
       "            <td>Desporto</td>\n",
       "            <td>8</td>\n",
       "        </tr>\n",
       "        <tr>\n",
       "            <td>Política</td>\n",
       "            <td>5</td>\n",
       "        </tr>\n",
       "        <tr>\n",
       "            <td>Cultura</td>\n",
       "            <td>5</td>\n",
       "        </tr>\n",
       "    </tbody>\n",
       "</table>"
      ],
      "text/plain": [
       "+-----------+------------------+\n",
       "| Categoria | Total de artigos |\n",
       "+-----------+------------------+\n",
       "|  Desporto |        8         |\n",
       "|  Política |        5         |\n",
       "|  Cultura  |        5         |\n",
       "+-----------+------------------+"
      ]
     },
     "execution_count": 35,
     "metadata": {},
     "output_type": "execute_result"
    }
   ],
   "source": [
    "%%sql\n",
    "-- Listar as categorias com mais de um artigo publicado  \n",
    "SELECT \n",
    "    c.nome             AS \"Categoria\",\n",
    "    COUNT(a.id_artigo) AS \"Total de artigos\"\n",
    "FROM categoria c\n",
    "JOIN artigo a          ON a.id_categoria = c.id_categoria\n",
    "GROUP BY c.nome\n",
    "HAVING COUNT(a.id_artigo) > 1 -- com mais de 1 artigo\n",
    "ORDER BY \"Total de artigos\" DESC"
   ]
  },
  {
   "cell_type": "markdown",
   "id": "b589d492",
   "metadata": {},
   "source": [
    "---"
   ]
  },
  {
   "cell_type": "markdown",
   "id": "716d7e42",
   "metadata": {},
   "source": [
    "## 7. Mostrar a média de artigos por edição"
   ]
  },
  {
   "cell_type": "code",
   "execution_count": 36,
   "id": "626f794a",
   "metadata": {},
   "outputs": [
    {
     "data": {
      "text/html": [
       "<span style=\"None\">Running query in &#x27;sqlite:///ficha_de_trabalho_01.sqlite&#x27;</span>"
      ],
      "text/plain": [
       "Running query in 'sqlite:///ficha_de_trabalho_01.sqlite'"
      ]
     },
     "metadata": {},
     "output_type": "display_data"
    },
    {
     "data": {
      "text/html": [
       "<table>\n",
       "    <thead>\n",
       "        <tr>\n",
       "            <th>id_edicao</th>\n",
       "            <th>total</th>\n",
       "        </tr>\n",
       "    </thead>\n",
       "    <tbody>\n",
       "        <tr>\n",
       "            <td>2</td>\n",
       "            <td>2</td>\n",
       "        </tr>\n",
       "        <tr>\n",
       "            <td>3</td>\n",
       "            <td>4</td>\n",
       "        </tr>\n",
       "        <tr>\n",
       "            <td>7</td>\n",
       "            <td>15</td>\n",
       "        </tr>\n",
       "        <tr>\n",
       "            <td>8</td>\n",
       "            <td>2</td>\n",
       "        </tr>\n",
       "    </tbody>\n",
       "</table>"
      ],
      "text/plain": [
       "+-----------+-------+\n",
       "| id_edicao | total |\n",
       "+-----------+-------+\n",
       "|     2     |   2   |\n",
       "|     3     |   4   |\n",
       "|     7     |   15  |\n",
       "|     8     |   2   |\n",
       "+-----------+-------+"
      ]
     },
     "execution_count": 36,
     "metadata": {},
     "output_type": "execute_result"
    }
   ],
   "source": [
    "%%sql\n",
    "-- Construção da SUBQUERY\n",
    "-- mostra o total de artigos por edição » será a subquery para calcular a média\n",
    " SELECT\n",
    "        id_edicao,\n",
    "        COUNT(id_artigo) AS total\n",
    "    FROM artigo_edicao\n",
    "    GROUP BY id_edicao"
   ]
  },
  {
   "cell_type": "code",
   "execution_count": 37,
   "id": "60c9e3f7",
   "metadata": {},
   "outputs": [
    {
     "data": {
      "text/html": [
       "<span style=\"None\">Running query in &#x27;sqlite:///ficha_de_trabalho_01.sqlite&#x27;</span>"
      ],
      "text/plain": [
       "Running query in 'sqlite:///ficha_de_trabalho_01.sqlite'"
      ]
     },
     "metadata": {},
     "output_type": "display_data"
    },
    {
     "data": {
      "text/html": [
       "<table>\n",
       "    <thead>\n",
       "        <tr>\n",
       "            <th>Média de artigos por edição</th>\n",
       "        </tr>\n",
       "    </thead>\n",
       "    <tbody>\n",
       "        <tr>\n",
       "            <td>5.75</td>\n",
       "        </tr>\n",
       "    </tbody>\n",
       "</table>"
      ],
      "text/plain": [
       "+-----------------------------+\n",
       "| Média de artigos por edição |\n",
       "+-----------------------------+\n",
       "|             5.75            |\n",
       "+-----------------------------+"
      ]
     },
     "execution_count": 37,
     "metadata": {},
     "output_type": "execute_result"
    }
   ],
   "source": [
    "%%sql\n",
    "-- usando subconsulta para calcular a média de artigos por edição\n",
    "-- A subconsulta conta o número de artigos por edição\n",
    "-- A consulta externa calcula a média desses totais\n",
    "SELECT\n",
    "    ROUND(AVG(artigos_por_edicao.total), 2) AS \"Média de artigos por edição\"\n",
    "\n",
    "FROM (\n",
    "\n",
    "    SELECT\n",
    "        id_edicao,\n",
    "        COUNT(id_artigo) AS total\n",
    "    FROM artigo_edicao\n",
    "    GROUP BY id_edicao\n",
    ") \n",
    "    AS artigos_por_edicao;\n"
   ]
  },
  {
   "cell_type": "markdown",
   "id": "78f2d49a",
   "metadata": {},
   "source": [
    "---"
   ]
  },
  {
   "cell_type": "markdown",
   "id": "a36fb5ea",
   "metadata": {},
   "source": [
    "## 8. Atualizar a data de publicação do artigo mais antigo para **01/01/2025**"
   ]
  },
  {
   "cell_type": "code",
   "execution_count": 38,
   "id": "1df92f18",
   "metadata": {},
   "outputs": [
    {
     "data": {
      "text/html": [
       "<span style=\"None\">Running query in &#x27;sqlite:///ficha_de_trabalho_01.sqlite&#x27;</span>"
      ],
      "text/plain": [
       "Running query in 'sqlite:///ficha_de_trabalho_01.sqlite'"
      ]
     },
     "metadata": {},
     "output_type": "display_data"
    },
    {
     "data": {
      "text/html": [
       "<table>\n",
       "    <thead>\n",
       "        <tr>\n",
       "            <th>id_artigo</th>\n",
       "            <th>titulo</th>\n",
       "            <th>Data mais antiga</th>\n",
       "        </tr>\n",
       "    </thead>\n",
       "    <tbody>\n",
       "        <tr>\n",
       "            <td>11</td>\n",
       "            <td>Debate parlamentar aquece sobre habitação</td>\n",
       "            <td>2025-05-30</td>\n",
       "        </tr>\n",
       "    </tbody>\n",
       "</table>"
      ],
      "text/plain": [
       "+-----------+-------------------------------------------+------------------+\n",
       "| id_artigo |                   titulo                  | Data mais antiga |\n",
       "+-----------+-------------------------------------------+------------------+\n",
       "|     11    | Debate parlamentar aquece sobre habitação |    2025-05-30    |\n",
       "+-----------+-------------------------------------------+------------------+"
      ]
     },
     "execution_count": 38,
     "metadata": {},
     "output_type": "execute_result"
    }
   ],
   "source": [
    "%%sql\n",
    "-- (1) procurar o artigo mais antigo » será a subquery para selecionar o artigo mais antigo no update\n",
    "SELECT \n",
    "    id_artigo, \n",
    "    titulo, \n",
    "    MIN(data_publicacao) AS \"Data mais antiga\"\n",
    "FROM artigo;"
   ]
  },
  {
   "cell_type": "code",
   "execution_count": 39,
   "id": "066cca28",
   "metadata": {},
   "outputs": [
    {
     "data": {
      "text/html": [
       "<span style=\"None\">Running query in &#x27;sqlite:///ficha_de_trabalho_01.sqlite&#x27;</span>"
      ],
      "text/plain": [
       "Running query in 'sqlite:///ficha_de_trabalho_01.sqlite'"
      ]
     },
     "metadata": {},
     "output_type": "display_data"
    },
    {
     "data": {
      "text/html": [
       "<span style=\"color: green\">1 rows affected.</span>"
      ],
      "text/plain": [
       "1 rows affected."
      ]
     },
     "metadata": {},
     "output_type": "display_data"
    },
    {
     "data": {
      "text/html": [
       "<table>\n",
       "    <thead>\n",
       "        <tr>\n",
       "        </tr>\n",
       "    </thead>\n",
       "    <tbody>\n",
       "    </tbody>\n",
       "</table>"
      ],
      "text/plain": [
       "++\n",
       "||\n",
       "++\n",
       "++"
      ]
     },
     "execution_count": 39,
     "metadata": {},
     "output_type": "execute_result"
    }
   ],
   "source": [
    "%%sql \n",
    "UPDATE artigo\n",
    "SET data_publicacao = '2025-01-01'\n",
    "WHERE id_artigo = (\n",
    "    SELECT id_artigo\n",
    "    FROM artigo\n",
    "    ORDER BY data_publicacao ASC\n",
    "    LIMIT 1\n",
    "); "
   ]
  },
  {
   "cell_type": "markdown",
   "id": "735d72f7",
   "metadata": {},
   "source": [
    "---"
   ]
  },
  {
   "cell_type": "markdown",
   "id": "b64d2a95",
   "metadata": {},
   "source": [
    "## 9. Remover os jornalistas só com um artigo"
   ]
  },
  {
   "cell_type": "markdown",
   "id": "ad375e49",
   "metadata": {},
   "source": [
    "**Problema**:\n",
    "\n",
    "Os artigos não podem deixar entradas orfas. \n",
    "\n",
    "Antes de remover os jornalistas, é necessário:\n",
    "\n",
    "1. remover as entradas na tabela `artigo_edicao` (Many to Many)\n",
    "2. remover as entradas na tabela `artigo` (One to Many)\n",
    "3. remover as entradas na tabela `jornalista`\n",
    "\n",
    "\n",
    "Neste caso, como existem várias etapas antes da remoção do jornalista, as 3 etapas podem (devem?) ser colocadas numa `TRANSACTION` e em caso de falha, fazer \"undo\" com o comando `ROLLBACK`.\n",
    "\n",
    "A instrução é diferente em SQLite e em MySQL:\n",
    "* `BEGIN;` em SQLite\n",
    "* `BEGIN TRANSACTION;` em MySQL"
   ]
  },
  {
   "cell_type": "code",
   "execution_count": 40,
   "id": "e059f3a8",
   "metadata": {},
   "outputs": [
    {
     "data": {
      "text/html": [
       "<span style=\"None\">Running query in &#x27;sqlite:///ficha_de_trabalho_01.sqlite&#x27;</span>"
      ],
      "text/plain": [
       "Running query in 'sqlite:///ficha_de_trabalho_01.sqlite'"
      ]
     },
     "metadata": {},
     "output_type": "display_data"
    },
    {
     "data": {
      "text/html": [
       "<table>\n",
       "    <thead>\n",
       "        <tr>\n",
       "            <th>id_jornalista</th>\n",
       "            <th>Jornalista</th>\n",
       "            <th>Total de artigos</th>\n",
       "        </tr>\n",
       "    </thead>\n",
       "    <tbody>\n",
       "        <tr>\n",
       "            <td>7</td>\n",
       "            <td>Paulo Dentinho</td>\n",
       "            <td>1</td>\n",
       "        </tr>\n",
       "        <tr>\n",
       "            <td>10</td>\n",
       "            <td>Dina Aguiar</td>\n",
       "            <td>1</td>\n",
       "        </tr>\n",
       "    </tbody>\n",
       "</table>"
      ],
      "text/plain": [
       "+---------------+----------------+------------------+\n",
       "| id_jornalista |   Jornalista   | Total de artigos |\n",
       "+---------------+----------------+------------------+\n",
       "|       7       | Paulo Dentinho |        1         |\n",
       "|       10      |  Dina Aguiar   |        1         |\n",
       "+---------------+----------------+------------------+"
      ]
     },
     "execution_count": 40,
     "metadata": {},
     "output_type": "execute_result"
    }
   ],
   "source": [
    "%%sql\n",
    "-- Consulta prévia: quais são os jornalistas só com um artigo?\n",
    "SELECT \n",
    "    j.id_jornalista, \n",
    "    j.nome AS \"Jornalista\", \n",
    "    COUNT(a.id_artigo) AS \"Total de artigos\"\n",
    "FROM jornalista j\n",
    "JOIN artigo a ON a.id_jornalista = j.id_jornalista\n",
    "GROUP BY j.id_jornalista, j.nome\n",
    "HAVING COUNT(a.id_artigo) < 2;    -- só com um artigo (assumido também os sem artigos)"
   ]
  },
  {
   "cell_type": "code",
   "execution_count": 41,
   "id": "15c141ac",
   "metadata": {},
   "outputs": [
    {
     "data": {
      "text/html": [
       "<span style=\"None\">Running query in &#x27;sqlite:///ficha_de_trabalho_01.sqlite&#x27;</span>"
      ],
      "text/plain": [
       "Running query in 'sqlite:///ficha_de_trabalho_01.sqlite'"
      ]
     },
     "metadata": {},
     "output_type": "display_data"
    },
    {
     "data": {
      "text/html": [
       "<table>\n",
       "    <thead>\n",
       "        <tr>\n",
       "            <th>id_jornalista</th>\n",
       "        </tr>\n",
       "    </thead>\n",
       "    <tbody>\n",
       "        <tr>\n",
       "            <td>7</td>\n",
       "        </tr>\n",
       "        <tr>\n",
       "            <td>10</td>\n",
       "        </tr>\n",
       "    </tbody>\n",
       "</table>"
      ],
      "text/plain": [
       "+---------------+\n",
       "| id_jornalista |\n",
       "+---------------+\n",
       "|       7       |\n",
       "|       10      |\n",
       "+---------------+"
      ]
     },
     "execution_count": 41,
     "metadata": {},
     "output_type": "execute_result"
    }
   ],
   "source": [
    "%%sql\n",
    "SELECT\n",
    "    j.id_jornalista\n",
    "FROM jornalista j\n",
    "JOIN artigo a ON a.id_jornalista = j.id_jornalista\n",
    "GROUP BY j.id_jornalista\n",
    "HAVING COUNT(a.id_artigo) < 2;\n"
   ]
  },
  {
   "cell_type": "code",
   "execution_count": 42,
   "id": "101fa7f9",
   "metadata": {},
   "outputs": [
    {
     "data": {
      "text/html": [
       "<span style=\"None\">Running query in &#x27;sqlite:///ficha_de_trabalho_01.sqlite&#x27;</span>"
      ],
      "text/plain": [
       "Running query in 'sqlite:///ficha_de_trabalho_01.sqlite'"
      ]
     },
     "metadata": {},
     "output_type": "display_data"
    },
    {
     "data": {
      "text/html": [
       "<span style=\"color: green\">2 rows affected.</span>"
      ],
      "text/plain": [
       "2 rows affected."
      ]
     },
     "metadata": {},
     "output_type": "display_data"
    },
    {
     "data": {
      "text/html": [
       "<span style=\"color: green\">2 rows affected.</span>"
      ],
      "text/plain": [
       "2 rows affected."
      ]
     },
     "metadata": {},
     "output_type": "display_data"
    },
    {
     "data": {
      "text/html": [
       "<span style=\"color: green\">3 rows affected.</span>"
      ],
      "text/plain": [
       "3 rows affected."
      ]
     },
     "metadata": {},
     "output_type": "display_data"
    },
    {
     "data": {
      "text/html": [
       "<table>\n",
       "    <thead>\n",
       "        <tr>\n",
       "        </tr>\n",
       "    </thead>\n",
       "    <tbody>\n",
       "    </tbody>\n",
       "</table>"
      ],
      "text/plain": [
       "++\n",
       "||\n",
       "++\n",
       "++"
      ]
     },
     "execution_count": 42,
     "metadata": {},
     "output_type": "execute_result"
    }
   ],
   "source": [
    "%%sql\n",
    "BEGIN; -- BEGIN TRANSACTION em MySQL\n",
    "\n",
    "-- (1) Apagar de artigo_edicao onde jornalista só tem 0 ou 1 artigo\n",
    "DELETE FROM artigo_edicao\n",
    "WHERE id_artigo IN (\n",
    "    SELECT a.id_artigo\n",
    "    FROM artigo a\n",
    "    JOIN (\n",
    "        SELECT id_jornalista\n",
    "        FROM artigo\n",
    "        GROUP BY id_jornalista\n",
    "        HAVING COUNT(*) < 2\n",
    "    ) AS j1 ON a.id_jornalista = j1.id_jornalista\n",
    ");\n",
    "\n",
    "-- (2) Apagar os artigos desses jornalistas\n",
    "DELETE FROM artigo\n",
    "WHERE id_jornalista IN (\n",
    "    SELECT id_jornalista\n",
    "    FROM artigo\n",
    "    GROUP BY id_jornalista\n",
    "    HAVING COUNT(*) < 2\n",
    ");\n",
    "\n",
    "-- (3) Apagar os próprios jornalistas\n",
    "DELETE FROM jornalista\n",
    "WHERE id_jornalista IN (\n",
    "    SELECT id_jornalista\n",
    "    FROM (\n",
    "        SELECT j.id_jornalista\n",
    "        FROM jornalista j\n",
    "        LEFT JOIN artigo a ON j.id_jornalista = a.id_jornalista\n",
    "        GROUP BY j.id_jornalista\n",
    "        HAVING COUNT(a.id_artigo) < 2\n",
    "    )\n",
    ");\n",
    "\n",
    "COMMIT;"
   ]
  },
  {
   "cell_type": "code",
   "execution_count": 43,
   "id": "d681021e",
   "metadata": {},
   "outputs": [],
   "source": [
    "# %%sql\n",
    "# ROLLBACK;"
   ]
  },
  {
   "cell_type": "markdown",
   "id": "99f4cbed",
   "metadata": {},
   "source": [
    "---"
   ]
  },
  {
   "cell_type": "markdown",
   "id": "91db64cd",
   "metadata": {},
   "source": [
    "## 10. Listar o nome dos jornalistas com mais de um artigo em todas as edições  "
   ]
  },
  {
   "cell_type": "code",
   "execution_count": 44,
   "id": "47b5119e",
   "metadata": {},
   "outputs": [
    {
     "data": {
      "text/html": [
       "<span style=\"None\">Running query in &#x27;sqlite:///ficha_de_trabalho_01.sqlite&#x27;</span>"
      ],
      "text/plain": [
       "Running query in 'sqlite:///ficha_de_trabalho_01.sqlite'"
      ]
     },
     "metadata": {},
     "output_type": "display_data"
    },
    {
     "data": {
      "text/html": [
       "<table>\n",
       "    <thead>\n",
       "        <tr>\n",
       "            <th>id_jornalista</th>\n",
       "            <th>Jornalista</th>\n",
       "            <th>Total de artigos</th>\n",
       "        </tr>\n",
       "    </thead>\n",
       "    <tbody>\n",
       "        <tr>\n",
       "            <td>3</td>\n",
       "            <td>Rui Pedro Braz</td>\n",
       "            <td>5</td>\n",
       "        </tr>\n",
       "        <tr>\n",
       "            <td>2</td>\n",
       "            <td>Clara Ferreira Alves</td>\n",
       "            <td>5</td>\n",
       "        </tr>\n",
       "        <tr>\n",
       "            <td>9</td>\n",
       "            <td>Carlos Daniel</td>\n",
       "            <td>3</td>\n",
       "        </tr>\n",
       "        <tr>\n",
       "            <td>1</td>\n",
       "            <td>José Rodrigues dos Santos</td>\n",
       "            <td>3</td>\n",
       "        </tr>\n",
       "        <tr>\n",
       "            <td>6</td>\n",
       "            <td>Fátima Campos Ferreira</td>\n",
       "            <td>2</td>\n",
       "        </tr>\n",
       "        <tr>\n",
       "            <td>5</td>\n",
       "            <td>Ricardo Costa</td>\n",
       "            <td>2</td>\n",
       "        </tr>\n",
       "        <tr>\n",
       "            <td>4</td>\n",
       "            <td>Ana Lourenço</td>\n",
       "            <td>2</td>\n",
       "        </tr>\n",
       "    </tbody>\n",
       "</table>"
      ],
      "text/plain": [
       "+---------------+---------------------------+------------------+\n",
       "| id_jornalista |         Jornalista        | Total de artigos |\n",
       "+---------------+---------------------------+------------------+\n",
       "|       3       |       Rui Pedro Braz      |        5         |\n",
       "|       2       |    Clara Ferreira Alves   |        5         |\n",
       "|       9       |       Carlos Daniel       |        3         |\n",
       "|       1       | José Rodrigues dos Santos |        3         |\n",
       "|       6       |   Fátima Campos Ferreira  |        2         |\n",
       "|       5       |       Ricardo Costa       |        2         |\n",
       "|       4       |        Ana Lourenço       |        2         |\n",
       "+---------------+---------------------------+------------------+"
      ]
     },
     "execution_count": 44,
     "metadata": {},
     "output_type": "execute_result"
    }
   ],
   "source": [
    "%%sql\n",
    "-- Igual à consulta prévia da 9\n",
    "SELECT\n",
    "    j.id_jornalista,\n",
    "    j.nome AS \"Jornalista\", \n",
    "    COUNT(a.id_artigo) AS \"Total de artigos\"\n",
    "FROM jornalista j\n",
    "JOIN artigo a ON a.id_jornalista = j.id_jornalista\n",
    "GROUP BY j.id_jornalista\n",
    "HAVING COUNT(a.id_artigo) >= 2\n",
    "ORDER BY  \"Total de artigos\" DESC;\n"
   ]
  },
  {
   "cell_type": "markdown",
   "id": "2001a8fe",
   "metadata": {},
   "source": [
    "---\n",
    "end of file"
   ]
  }
 ],
 "metadata": {
  "kernelspec": {
   "display_name": "Python 3 (ipykernel)",
   "language": "python",
   "name": "python3"
  },
  "language_info": {
   "codemirror_mode": {
    "name": "ipython",
    "version": 3
   },
   "file_extension": ".py",
   "mimetype": "text/x-python",
   "name": "python",
   "nbconvert_exporter": "python",
   "pygments_lexer": "ipython3",
   "version": "3.13.5"
  }
 },
 "nbformat": 4,
 "nbformat_minor": 5
}
