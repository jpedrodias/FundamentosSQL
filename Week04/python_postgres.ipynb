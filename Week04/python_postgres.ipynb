{
 "cells": [
  {
   "cell_type": "markdown",
   "id": "d37ffeda",
   "metadata": {},
   "source": [
    "# Ligação a PostgresSQL"
   ]
  },
  {
   "cell_type": "code",
   "execution_count": 32,
   "id": "61a71ddf",
   "metadata": {},
   "outputs": [],
   "source": [
    "!pip install pandas sqlalchemy psycopg2-binary --quiet"
   ]
  },
  {
   "cell_type": "markdown",
   "id": "1ab6dd63",
   "metadata": {},
   "source": [
    "---"
   ]
  },
  {
   "cell_type": "code",
   "execution_count": 33,
   "id": "4fb0b307",
   "metadata": {},
   "outputs": [],
   "source": [
    "import pandas as pd\n",
    "from sqlalchemy import create_engine, text"
   ]
  },
  {
   "cell_type": "code",
   "execution_count": 34,
   "id": "32c3bc9c",
   "metadata": {},
   "outputs": [],
   "source": [
    "# Dados de conexão\n",
    "usuario = \"postgres_user\"\n",
    "senha = \"postgres_password\"\n",
    "host = \"localhost\"         # ou IP do servidor PostgreSQL a correr localmente em Docker\n",
    "porta = \"5432\"             # padrão do PostgreSQL\n",
    "banco = \"mydatabase\""
   ]
  },
  {
   "cell_type": "code",
   "execution_count": 35,
   "id": "6bdcb884",
   "metadata": {},
   "outputs": [],
   "source": [
    "# Cria a ligação ao servidor PostgreSQL\n",
    "engine = create_engine(f\"postgresql+psycopg2://{usuario}:{senha}@{host}:{porta}/{banco}\")"
   ]
  },
  {
   "cell_type": "code",
   "execution_count": 36,
   "id": "b02f1652",
   "metadata": {},
   "outputs": [],
   "source": [
    "SQL_CREATE_TABLES = \"\"\"\n",
    "DROP TABLE IF EXISTS menu;\n",
    "\n",
    "CREATE TABLE IF NOT EXISTS menu (\n",
    "    id        SERIAL PRIMARY KEY,           -- auto-incremento em PostgreSQL\n",
    "    nome      TEXT  NOT NULL,               -- descrição do prato/menu\n",
    "    preco     NUMERIC                       -- preço (use NUMERIC(10,2) se quiser 2 casas decimais fixas)\n",
    ");\n",
    "\"\"\"\n",
    "\n",
    "with engine.begin() as conn:                      # begin() abre transação automática\n",
    "    conn.execute(text(SQL_CREATE_TABLES))         # text() garante que o SQL bruto seja aceito"
   ]
  },
  {
   "cell_type": "code",
   "execution_count": 37,
   "id": "2ec3e8ca",
   "metadata": {},
   "outputs": [
    {
     "name": "stdout",
     "output_type": "stream",
     "text": [
      "Prato 1 adicionado: Prato 1 - Preço: 100.0\n",
      "Prato 2 adicionado: Prato 2 - Preço: 100.0\n",
      "Prato 3 adicionado: Prato 3 - Preço: 100.0\n",
      "Prato 4 adicionado: Prato 4 - Preço: 100.0\n",
      "Prato 5 adicionado: Prato 5 - Preço: 100.0\n",
      "Prato 6 adicionado: Prato 6 - Preço: 100.0\n",
      "Prato 7 adicionado: Prato 7 - Preço: 100.0\n",
      "Prato 8 adicionado: Prato 8 - Preço: 100.0\n",
      "Prato 9 adicionado: Prato 9 - Preço: 100.0\n",
      "Prato 10 adicionado: Prato 10 - Preço: 100.0\n"
     ]
    }
   ],
   "source": [
    "with engine.begin() as conn:          # begin() abre transação automática\n",
    "\n",
    "    for i in range(1, 11):\n",
    "        nome = f\"Prato {i}\"\n",
    "        preco = i * 10.0\n",
    "        SQL_INSERT = f\"\"\"\n",
    "        INSERT INTO menu (nome, preco) VALUES\n",
    "            ('{nome}', {preco});\n",
    "        \"\"\"\n",
    "\n",
    "        conn.execute(text(SQL_INSERT))         # text() garante que o SQL bruto seja aceito\n",
    "        print(f\"Prato {i} adicionado: {nome} - Preço: {valor}\")"
   ]
  },
  {
   "cell_type": "markdown",
   "id": "020df1d0",
   "metadata": {},
   "source": [
    "---"
   ]
  },
  {
   "cell_type": "code",
   "execution_count": 38,
   "id": "706f82f7",
   "metadata": {},
   "outputs": [
    {
     "name": "stdout",
     "output_type": "stream",
     "text": [
      "   id      nome  preco\n",
      "0   1   Prato 1   10.0\n",
      "1   2   Prato 2   20.0\n",
      "2   3   Prato 3   30.0\n",
      "3   4   Prato 4   40.0\n",
      "4   5   Prato 5   50.0\n",
      "5   6   Prato 6   60.0\n",
      "6   7   Prato 7   70.0\n",
      "7   8   Prato 8   80.0\n",
      "8   9   Prato 9   90.0\n",
      "9  10  Prato 10  100.0\n"
     ]
    }
   ],
   "source": [
    "# Faz query à base de dados e mostra os dados\n",
    "df = pd.read_sql(\"SELECT * FROM menu\", engine)\n",
    "print(df)"
   ]
  },
  {
   "cell_type": "code",
   "execution_count": 39,
   "id": "df4aaee8",
   "metadata": {},
   "outputs": [
    {
     "name": "stdout",
     "output_type": "stream",
     "text": [
      "Dados salvos em menu.csv\n"
     ]
    }
   ],
   "source": [
    "# Usa a função to_csv para salvar os dados em um arquivo CSV\n",
    "df.to_csv(\"menu.csv\", index=False)\n",
    "\n",
    "print(\"Dados salvos em menu.csv\")"
   ]
  }
 ],
 "metadata": {
  "kernelspec": {
   "display_name": "FundamentosSQL",
   "language": "python",
   "name": "python3"
  },
  "language_info": {
   "codemirror_mode": {
    "name": "ipython",
    "version": 3
   },
   "file_extension": ".py",
   "mimetype": "text/x-python",
   "name": "python",
   "nbconvert_exporter": "python",
   "pygments_lexer": "ipython3",
   "version": "3.13.5"
  }
 },
 "nbformat": 4,
 "nbformat_minor": 5
}
