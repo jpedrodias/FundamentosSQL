{
 "cells": [
  {
   "cell_type": "markdown",
   "id": "d37ffeda",
   "metadata": {},
   "source": [
    "# Ligação a PostgresSQL"
   ]
  },
  {
   "cell_type": "code",
   "execution_count": 1,
   "id": "61a71ddf",
   "metadata": {},
   "outputs": [],
   "source": [
    "!pip install pandas sqlalchemy psycopg2-binary --quiet"
   ]
  },
  {
   "cell_type": "markdown",
   "id": "1ab6dd63",
   "metadata": {},
   "source": [
    "---"
   ]
  },
  {
   "cell_type": "code",
   "execution_count": null,
   "id": "4fb0b307",
   "metadata": {},
   "outputs": [],
   "source": [
    "import pandas as pd\n",
    "from sqlalchemy import create_engine"
   ]
  }
 ],
 "metadata": {
  "kernelspec": {
   "display_name": "FundamentosSQL",
   "language": "python",
   "name": "python3"
  },
  "language_info": {
   "codemirror_mode": {
    "name": "ipython",
    "version": 3
   },
   "file_extension": ".py",
   "mimetype": "text/x-python",
   "name": "python",
   "nbconvert_exporter": "python",
   "pygments_lexer": "ipython3",
   "version": "3.13.5"
  }
 },
 "nbformat": 4,
 "nbformat_minor": 5
}
